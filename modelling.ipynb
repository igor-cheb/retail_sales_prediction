{
 "cells": [
  {
   "cell_type": "markdown",
   "metadata": {},
   "source": [
    "The overall idea is that we will implement linear and tree based models first and try to ansamble them. Further will implement recurrent NN and compare the two models.\n",
    "Data normalisation required for linear or NN models will be done with the help of sklearn pipeline which will include both motel and data transofrmation steps. "
   ]
  },
  {
   "cell_type": "code",
   "execution_count": 5,
   "metadata": {},
   "outputs": [],
   "source": [
    "# TODO: try to train on log of target to smoothen extreme values"
   ]
  },
  {
   "cell_type": "code",
   "execution_count": 1,
   "metadata": {},
   "outputs": [],
   "source": [
    "from sklearn.model_selection import TimeSeriesSplit\n",
    "from sklearn.pipeline import Pipeline\n",
    "from sklearn.preprocessing import StandardScaler\n",
    "from sklearn.linear_model import LinearRegression, ElasticNet, Lasso, Ridge\n",
    "from xgboost import XGBRegressor\n",
    "from sklearn.ensemble import RandomForestRegressor\n",
    "import numpy as np\n",
    "\n",
    "from src.ToyModel import ToyModel\n",
    "from src.utilities import run_cv\n",
    "from src.FeatureGenerator import FeatureGenerator"
   ]
  },
  {
   "cell_type": "markdown",
   "metadata": {},
   "source": [
    "# CV data initiation"
   ]
  },
  {
   "cell_type": "code",
   "execution_count": 2,
   "metadata": {},
   "outputs": [],
   "source": [
    "# initiating data generators\n",
    "feat_generator = FeatureGenerator()\n",
    "\n",
    "# initiating cv splitter\n",
    "tscv = TimeSeriesSplit(test_size = 1, max_train_size=16)\n",
    "\n",
    "# generating all of the data which we will iterate over during CV\n",
    "features_df = feat_generator.generate_features()\n",
    "\n",
    "# creating col lists for training\n",
    "cols_di={\n",
    "    'index': feat_generator.index_cols,\n",
    "    'target': feat_generator.target_col,\n",
    "    'feats': feat_generator.shifted_cols + feat_generator.roll_cols\n",
    "}\n"
   ]
  },
  {
   "cell_type": "markdown",
   "metadata": {},
   "source": [
    "# Baseline"
   ]
  },
  {
   "cell_type": "code",
   "execution_count": 3,
   "metadata": {},
   "outputs": [
    {
     "name": "stdout",
     "output_type": "stream",
     "text": [
      "Fold 0:\n",
      "  Train months: [13 14 15 16 17 18 19 20 21 22 23 24 25 26 27 28], size: 120,494\n",
      "  Test months: [29],   size: 7,039\n",
      "  NRMSE:  1.0\n",
      "  RMSE :  5.1\n",
      "\n",
      "Fold 1:\n",
      "  Train months: [14 15 16 17 18 19 20 21 22 23 24 25 26 27 28 29], size: 119,696\n",
      "  Test months: [30],   size: 6,739\n",
      "  NRMSE:  1.0\n",
      "  RMSE :  4.4\n",
      "\n",
      "Fold 2:\n",
      "  Train months: [15 16 17 18 19 20 21 22 23 24 25 26 27 28 29 30], size: 118,557\n",
      "  Test months: [31],   size: 5,669\n",
      "  NRMSE:  1.0\n",
      "  RMSE :  4.4\n",
      "\n",
      "Fold 3:\n",
      "  Train months: [16 17 18 19 20 21 22 23 24 25 26 27 28 29 30 31], size: 116,851\n",
      "  Test months: [32],   size: 5,439\n",
      "  NRMSE:  1.0\n",
      "  RMSE :  4.9\n",
      "\n",
      "Fold 4:\n",
      "  Train months: [17 18 19 20 21 22 23 24 25 26 27 28 29 30 31 32], size: 114,617\n",
      "  Test months: [33],   size: 5,668\n",
      "  NRMSE:  1.0\n",
      "  RMSE :  3.9\n",
      "\n",
      "\n",
      "------------------------------\n",
      "RMSE mean: 4.6\n",
      "NRMSE mean: 1.0\n"
     ]
    }
   ],
   "source": [
    "# initiating toy model\n",
    "toy_model = ToyModel()\n",
    "\n",
    "# iterating over CV folds\n",
    "toy_cv_res = run_cv(df=features_df, months_cv_split=tscv, model=toy_model, cols_di=cols_di, verbose=2)"
   ]
  },
  {
   "cell_type": "markdown",
   "metadata": {},
   "source": [
    "# Linear model"
   ]
  },
  {
   "cell_type": "code",
   "execution_count": 5,
   "metadata": {},
   "outputs": [
    {
     "name": "stdout",
     "output_type": "stream",
     "text": [
      "Fold 0:\n",
      "  Train months: [13 14 15 16 17 18 19 20 21 22 23 24 25 26 27 28], size: 120,104\n",
      "  Test months: [29],   size: 6,882\n",
      "  NRMSE:  0.51\n",
      "  RMSE :  2.7\n",
      "\n",
      "Fold 1:\n",
      "  Train months: [14 15 16 17 18 19 20 21 22 23 24 25 26 27 28 29], size: 119,130\n",
      "  Test months: [30],   size: 6,840\n",
      "  NRMSE:  0.49\n",
      "  RMSE :  2.2\n",
      "\n",
      "Fold 2:\n",
      "  Train months: [15 16 17 18 19 20 21 22 23 24 25 26 27 28 29 30], size: 118,135\n",
      "  Test months: [31],   size: 5,753\n",
      "  NRMSE:  0.4\n",
      "  RMSE :  1.7\n",
      "\n",
      "Fold 3:\n",
      "  Train months: [16 17 18 19 20 21 22 23 24 25 26 27 28 29 30 31], size: 116,501\n",
      "  Test months: [32],   size: 5,317\n",
      "  NRMSE:  0.69\n",
      "  RMSE :  3.4\n",
      "\n",
      "Fold 4:\n",
      "  Train months: [17 18 19 20 21 22 23 24 25 26 27 28 29 30 31 32], size: 114,256\n",
      "  Test months: [33],   size: 5,605\n",
      "  NRMSE:  0.74\n",
      "  RMSE :  2.9\n",
      "\n",
      "\n",
      "------------------------------\n",
      "RMSE mean: 2.6\n",
      "NRMSE mean: 0.57\n"
     ]
    }
   ],
   "source": [
    "# initiating lin model\n",
    "lin_model =  Pipeline([\n",
    "    (\"scaler\", StandardScaler()),\n",
    "    (\"lin_model\", LinearRegression()) #ElasticNet() Lasso(alpha=.005) , \n",
    "])\n",
    "\n",
    "# iterating over CV folds\n",
    "lin_cv_res = run_cv(df=features_df, months_cv_split=tscv, model=lin_model, cols_di=cols_di, verbose=2)"
   ]
  },
  {
   "cell_type": "markdown",
   "metadata": {},
   "source": [
    "# Tree based"
   ]
  },
  {
   "cell_type": "code",
   "execution_count": 4,
   "metadata": {},
   "outputs": [
    {
     "name": "stdout",
     "output_type": "stream",
     "text": [
      "Fold 0:\n",
      "  Train months: [13 14 15 16 17 18 19 20 21 22 23 24 25 26 27 28], size: 120,631\n",
      "  Test months: [29],   size: 7,059\n",
      "  NRMSE:  0.42\n",
      "  RMSE :  2.1\n",
      "\n",
      "Fold 1:\n",
      "  Train months: [14 15 16 17 18 19 20 21 22 23 24 25 26 27 28 29], size: 119,802\n",
      "  Test months: [30],   size: 6,649\n",
      "  NRMSE:  0.42\n",
      "  RMSE :  1.9\n",
      "\n",
      "Fold 2:\n",
      "  Train months: [15 16 17 18 19 20 21 22 23 24 25 26 27 28 29 30], size: 118,481\n",
      "  Test months: [31],   size: 5,717\n",
      "  NRMSE:  0.39\n",
      "  RMSE :  1.7\n",
      "\n",
      "Fold 3:\n",
      "  Train months: [16 17 18 19 20 21 22 23 24 25 26 27 28 29 30 31], size: 116,797\n",
      "  Test months: [32],   size: 5,316\n",
      "  NRMSE:  0.65\n",
      "  RMSE :  3.2\n",
      "\n",
      "Fold 4:\n",
      "  Train months: [17 18 19 20 21 22 23 24 25 26 27 28 29 30 31 32], size: 114,436\n",
      "  Test months: [33],   size: 5,665\n",
      "  NRMSE:  0.48\n",
      "  RMSE :  1.8\n",
      "\n",
      "\n",
      "------------------------------\n",
      "RMSE mean: 2.2\n",
      "NRMSE mean: 0.47\n"
     ]
    }
   ],
   "source": [
    "# parameters found through 50 rounds of optuna optimisation\n",
    "params = {'max_depth': 7, 'learning_rate': 0.005298559699829036, 'n_estimators': 500, 'gamma': 0.7744615794844047, \n",
    "          'reg_alpha': 4.7427786108127865, 'reg_lambda': 3.9464923699087713, 'colsample_bytree': 0.5556916732637939}\n",
    "\n",
    "tree_model = XGBRegressor(**params)\n",
    "\n",
    "tree_cv_res = run_cv(df=features_df, months_cv_split=tscv, model=tree_model, cols_di=cols_di, verbose=2)"
   ]
  },
  {
   "cell_type": "markdown",
   "metadata": {},
   "source": [
    "# Recurrent NN"
   ]
  }
 ],
 "metadata": {
  "kernelspec": {
   "display_name": "RL_in_ksp--361CVkw",
   "language": "python",
   "name": "python3"
  },
  "language_info": {
   "codemirror_mode": {
    "name": "ipython",
    "version": 3
   },
   "file_extension": ".py",
   "mimetype": "text/x-python",
   "name": "python",
   "nbconvert_exporter": "python",
   "pygments_lexer": "ipython3",
   "version": "3.9.6"
  },
  "orig_nbformat": 4
 },
 "nbformat": 4,
 "nbformat_minor": 2
}
