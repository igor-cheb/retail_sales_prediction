{
 "cells": [
  {
   "cell_type": "markdown",
   "metadata": {},
   "source": [
    "The overall idea is that we will implement linear and tree based models first and try to ensemble them. Further will implement recurrent NN and compare the two models.\n",
    "Data normalisation required for linear or NN models will be done with the help of sklearn pipeline which will include both motel and data transofrmation steps. "
   ]
  },
  {
   "cell_type": "code",
   "execution_count": 37,
   "metadata": {},
   "outputs": [],
   "source": [
    "# TODO: try to train on log of target to smoothen extreme values\n",
    "# TODO: experiment with removing trend in the label"
   ]
  },
  {
   "cell_type": "code",
   "execution_count": 1,
   "metadata": {},
   "outputs": [],
   "source": [
    "from sklearn.linear_model import LinearRegression, ElasticNet, Lasso, Ridge\n",
    "from sklearn.model_selection import train_test_split\n",
    "from sklearn.model_selection import TimeSeriesSplit\n",
    "from sklearn.ensemble import RandomForestRegressor\n",
    "from sklearn.neighbors import KNeighborsRegressor\n",
    "from sklearn.preprocessing import StandardScaler\n",
    "from sklearn.neural_network import MLPRegressor\n",
    "from sklearn.metrics import mean_squared_error\n",
    "from catboost import CatBoostRegressor\n",
    "from sklearn.pipeline import Pipeline\n",
    "from xgboost import XGBRegressor\n",
    "from tqdm.notebook import tqdm\n",
    "from sklearn.svm import SVR\n",
    "from typing import Any\n",
    "\n",
    "import torch\n",
    "import optuna\n",
    "import numpy as np\n",
    "import pandas as pd\n",
    "import matplotlib.pyplot as plt\n",
    "\n",
    "from src.RNNModel import RNNModel\n",
    "from src.MLPModel import MLPModel\n",
    "from src.ToyModel import ToyModel\n",
    "from src.StackModel import StackModel\n",
    "from src.FeatureGenerator import FeatureGenerator\n",
    "from src.settings import SHIFTS, WINS, BATCH_FEATS_PATH\n",
    "from src.utilities import run_cv, read_train, construct_fake_df"
   ]
  },
  {
   "cell_type": "markdown",
   "metadata": {},
   "source": [
    "# CV data initiation"
   ]
  },
  {
   "cell_type": "code",
   "execution_count": 4,
   "metadata": {},
   "outputs": [
    {
     "name": "stdout",
     "output_type": "stream",
     "text": [
      "base feats done\n",
      "2 batches\n",
      "shifts done\n",
      "rolls done\n",
      "batch 1/2 done\n",
      "------------------------------\n",
      "shifts done\n",
      "rolls done\n",
      "batch 2/2 done\n",
      "------------------------------\n",
      "concatenating\n"
     ]
    }
   ],
   "source": [
    "# initiating data generators\n",
    "feat_generator = FeatureGenerator(verbose=True, save_files=True)\n",
    "\n",
    "# initiating cv splitter\n",
    "tscv = TimeSeriesSplit(test_size = 1, max_train_size=16)\n",
    "\n",
    "# generating all of the data which we will iterate over during CV\n",
    "features_df = feat_generator.generate_features()\n",
    "\n",
    "# creating col lists for training\n",
    "cols_di={\n",
    "    'index': feat_generator.index_cols,\n",
    "    'target': feat_generator.target_col,\n",
    "    'feats': feat_generator.shifted_cols + feat_generator.roll_cols\n",
    "}\n"
   ]
  },
  {
   "cell_type": "markdown",
   "metadata": {},
   "source": [
    "# Baseline"
   ]
  },
  {
   "cell_type": "code",
   "execution_count": null,
   "metadata": {},
   "outputs": [],
   "source": [
    "# TODO: add lag based baseline"
   ]
  },
  {
   "cell_type": "code",
   "execution_count": null,
   "metadata": {},
   "outputs": [
    {
     "name": "stdout",
     "output_type": "stream",
     "text": [
      "Fold 0:\n",
      "  Train months: [13 14 15 16 17 18 19 20 21 22 23 24 25 26 27 28], size: 120,494\n",
      "  Test months: [29],   size: 7,039\n",
      "  NRMSE:  1.0\n",
      "  RMSE :  5.1\n",
      "\n",
      "Fold 1:\n",
      "  Train months: [14 15 16 17 18 19 20 21 22 23 24 25 26 27 28 29], size: 119,696\n",
      "  Test months: [30],   size: 6,739\n",
      "  NRMSE:  1.0\n",
      "  RMSE :  4.4\n",
      "\n",
      "Fold 2:\n",
      "  Train months: [15 16 17 18 19 20 21 22 23 24 25 26 27 28 29 30], size: 118,557\n",
      "  Test months: [31],   size: 5,669\n",
      "  NRMSE:  1.0\n",
      "  RMSE :  4.4\n",
      "\n",
      "Fold 3:\n",
      "  Train months: [16 17 18 19 20 21 22 23 24 25 26 27 28 29 30 31], size: 116,851\n",
      "  Test months: [32],   size: 5,439\n",
      "  NRMSE:  1.0\n",
      "  RMSE :  4.9\n",
      "\n",
      "Fold 4:\n",
      "  Train months: [17 18 19 20 21 22 23 24 25 26 27 28 29 30 31 32], size: 114,617\n",
      "  Test months: [33],   size: 5,668\n",
      "  NRMSE:  1.0\n",
      "  RMSE :  3.9\n",
      "\n",
      "\n",
      "------------------------------\n",
      "RMSE mean: 4.6\n",
      "NRMSE mean: 1.0\n"
     ]
    }
   ],
   "source": [
    "# initiating toy model\n",
    "toy_model = ToyModel()\n",
    "\n",
    "# iterating over CV folds\n",
    "toy_cv_res = run_cv(df=features_df, months_cv_split=tscv, model=toy_model, cols_di=cols_di, verbose=2)"
   ]
  },
  {
   "cell_type": "markdown",
   "metadata": {},
   "source": [
    "# Linear model"
   ]
  },
  {
   "cell_type": "code",
   "execution_count": null,
   "metadata": {},
   "outputs": [
    {
     "name": "stdout",
     "output_type": "stream",
     "text": [
      "Fold 0:\n",
      "  Train months: [13 14 15 16 17 18 19 20 21 22 23 24 25 26 27 28], size: 120,788\n",
      "  Test months: [29],   size: 6,792\n",
      "  NRMSE:  0.51\n",
      "  RMSE :  2.7\n",
      "\n",
      "Fold 1:\n",
      "  Train months: [14 15 16 17 18 19 20 21 22 23 24 25 26 27 28 29], size: 119,593\n",
      "  Test months: [30],   size: 6,711\n",
      "  NRMSE:  0.5\n",
      "  RMSE :  2.2\n",
      "\n",
      "Fold 2:\n",
      "  Train months: [15 16 17 18 19 20 21 22 23 24 25 26 27 28 29 30], size: 118,420\n",
      "  Test months: [31],   size: 5,796\n",
      "  NRMSE:  0.41\n",
      "  RMSE :  1.7\n",
      "\n",
      "Fold 3:\n",
      "  Train months: [16 17 18 19 20 21 22 23 24 25 26 27 28 29 30 31], size: 116,815\n",
      "  Test months: [32],   size: 5,293\n",
      "  NRMSE:  0.69\n",
      "  RMSE :  3.4\n",
      "\n",
      "Fold 4:\n",
      "  Train months: [17 18 19 20 21 22 23 24 25 26 27 28 29 30 31 32], size: 114,487\n",
      "  Test months: [33],   size: 5,523\n",
      "  NRMSE:  0.68\n",
      "  RMSE :  2.6\n",
      "\n",
      "\n",
      "------------------------------\n",
      "RMSE mean: 2.5\n",
      "NRMSE mean: 0.56\n"
     ]
    }
   ],
   "source": [
    "# initiating lin model\n",
    "lin_model =  Pipeline([\n",
    "    (\"scaler\", StandardScaler()),\n",
    "    (\"lin_model\", LinearRegression()) #ElasticNet() Lasso(alpha=.005) , \n",
    "])\n",
    "\n",
    "# iterating over CV folds\n",
    "lin_cv_res = run_cv(df=features_df, months_cv_split=tscv, model=LinearRegression(), cols_di=cols_di, verbose=2)"
   ]
  },
  {
   "cell_type": "markdown",
   "metadata": {},
   "source": [
    "# Tree based"
   ]
  },
  {
   "cell_type": "code",
   "execution_count": null,
   "metadata": {},
   "outputs": [
    {
     "name": "stderr",
     "output_type": "stream",
     "text": [
      "\u001b[32m[I 2023-06-21 01:42:41,714]\u001b[0m A new study created in memory with name: regression_2\u001b[0m\n",
      "\u001b[32m[I 2023-06-21 01:47:11,722]\u001b[0m Trial 0 finished with value: 6.9897120910578865 and parameters: {'max_depth': 4, 'learning_rate': 0.41698289836998387, 'n_estimators': 1259, 'gamma': 0.17016902289707253, 'reg_alpha': 5.446519384590239, 'reg_lambda': 1.1783654002455282, 'colsample_bytree': 0.8625074943452362, 'subsample': 0.40646225105372874}. Best is trial 0 with value: 6.9897120910578865.\u001b[0m\n",
      "\u001b[32m[I 2023-06-21 01:54:41,979]\u001b[0m Trial 1 finished with value: 3.7860422211664164 and parameters: {'max_depth': 11, 'learning_rate': 0.16535659271766526, 'n_estimators': 548, 'gamma': 0.14113466455754886, 'reg_alpha': 0.1294677861938847, 'reg_lambda': 4.159133641481722, 'colsample_bytree': 0.9895461814441767, 'subsample': 0.6373680373675246}. Best is trial 1 with value: 3.7860422211664164.\u001b[0m\n",
      "\u001b[32m[I 2023-06-21 01:59:06,531]\u001b[0m Trial 2 finished with value: 3.6563738586582373 and parameters: {'max_depth': 4, 'learning_rate': 0.4168061200937708, 'n_estimators': 1093, 'gamma': 0.6417253130841207, 'reg_alpha': 5.842105725157649, 'reg_lambda': 1.6480110992046708, 'colsample_bytree': 0.6989187810112403, 'subsample': 0.7934077508391044}. Best is trial 2 with value: 3.6563738586582373.\u001b[0m\n",
      "\u001b[32m[I 2023-06-21 02:01:11,558]\u001b[0m Trial 3 finished with value: 4.731920368204413 and parameters: {'max_depth': 8, 'learning_rate': 0.4938889287162738, 'n_estimators': 318, 'gamma': 0.29835813103240133, 'reg_alpha': 2.7765894954854917, 'reg_lambda': 4.900789300275713, 'colsample_bytree': 0.46809390843129733, 'subsample': 0.5194558146488458}. Best is trial 2 with value: 3.6563738586582373.\u001b[0m\n",
      "\u001b[32m[I 2023-06-21 02:11:17,013]\u001b[0m Trial 4 finished with value: 15.908575649782895 and parameters: {'max_depth': 9, 'learning_rate': 0.5931569015353092, 'n_estimators': 1355, 'gamma': 0.4849143979129383, 'reg_alpha': 6.0654026519549245, 'reg_lambda': 2.924901749389416, 'colsample_bytree': 0.4376577012543114, 'subsample': 0.49682700655661}. Best is trial 2 with value: 3.6563738586582373.\u001b[0m\n",
      "\u001b[32m[I 2023-06-21 02:21:06,406]\u001b[0m Trial 5 finished with value: 5.09006603464005 and parameters: {'max_depth': 6, 'learning_rate': 0.40666466103346754, 'n_estimators': 1349, 'gamma': 0.4289982874983563, 'reg_alpha': 4.381920687142353, 'reg_lambda': 6.4486356690454185, 'colsample_bytree': 0.8231712253706209, 'subsample': 0.515849072310881}. Best is trial 2 with value: 3.6563738586582373.\u001b[0m\n",
      "\u001b[32m[I 2023-06-21 02:22:03,112]\u001b[0m Trial 6 finished with value: 2.2931340210521824 and parameters: {'max_depth': 5, 'learning_rate': 0.04247512390975639, 'n_estimators': 231, 'gamma': 0.6804571022726646, 'reg_alpha': 2.2796412733969738, 'reg_lambda': 1.8152979929983486, 'colsample_bytree': 0.4939400538954593, 'subsample': 0.611257067745083}. Best is trial 6 with value: 2.2931340210521824.\u001b[0m\n",
      "\u001b[32m[I 2023-06-21 02:38:44,586]\u001b[0m Trial 7 finished with value: 3.4322349019773677 and parameters: {'max_depth': 13, 'learning_rate': 0.11137743816706727, 'n_estimators': 1148, 'gamma': 0.20936352901909488, 'reg_alpha': 3.5583141379028658, 'reg_lambda': 6.870320363036112, 'colsample_bytree': 0.6914126694574471, 'subsample': 0.644741478770549}. Best is trial 6 with value: 2.2931340210521824.\u001b[0m\n",
      "\u001b[32m[I 2023-06-21 02:43:03,274]\u001b[0m Trial 8 finished with value: 5.253370638981631 and parameters: {'max_depth': 12, 'learning_rate': 0.38816761134735606, 'n_estimators': 390, 'gamma': 0.7746373811622814, 'reg_alpha': 4.15051172935297, 'reg_lambda': 1.8145825545105059, 'colsample_bytree': 0.5442152336109934, 'subsample': 0.6030904182822092}. Best is trial 6 with value: 2.2931340210521824.\u001b[0m\n",
      "\u001b[32m[I 2023-06-21 02:50:25,531]\u001b[0m Trial 9 finished with value: 5.630359818241115 and parameters: {'max_depth': 11, 'learning_rate': 0.41877722777215287, 'n_estimators': 534, 'gamma': 0.3292365981233583, 'reg_alpha': 5.873432608453422, 'reg_lambda': 5.70888334407908, 'colsample_bytree': 0.9232934190175057, 'subsample': 0.4485748620219512}. Best is trial 6 with value: 2.2931340210521824.\u001b[0m\n",
      "\u001b[32m[I 2023-06-21 02:52:14,351]\u001b[0m Trial 10 finished with value: 2.7072724627655766 and parameters: {'max_depth': 15, 'learning_rate': 0.04062381208523405, 'n_estimators': 103, 'gamma': 0.851607765787983, 'reg_alpha': 1.3926581374826554, 'reg_lambda': 0.23967987623595577, 'colsample_bytree': 0.5770385871150694, 'subsample': 0.933239763059833}. Best is trial 6 with value: 2.2931340210521824.\u001b[0m\n",
      "\u001b[32m[I 2023-06-21 02:53:36,383]\u001b[0m Trial 11 finished with value: 2.89331753415611 and parameters: {'max_depth': 15, 'learning_rate': 0.00917132793678379, 'n_estimators': 77, 'gamma': 0.997137501251238, 'reg_alpha': 1.5474270334611864, 'reg_lambda': 0.20272725770132854, 'colsample_bytree': 0.5573724915505492, 'subsample': 0.9670061961806778}. Best is trial 6 with value: 2.2931340210521824.\u001b[0m\n",
      "\u001b[32m[I 2023-06-21 02:53:53,202]\u001b[0m Trial 12 finished with value: 2.3526101513114073 and parameters: {'max_depth': 3, 'learning_rate': 0.2054903188519986, 'n_estimators': 89, 'gamma': 0.8364893661245553, 'reg_alpha': 1.8438598506764377, 'reg_lambda': 0.14789003992046257, 'colsample_bytree': 0.5966157211640543, 'subsample': 0.8024071711723566}. Best is trial 6 with value: 2.2931340210521824.\u001b[0m\n",
      "\u001b[32m[I 2023-06-21 02:56:38,049]\u001b[0m Trial 13 finished with value: 2.598328681911938 and parameters: {'max_depth': 3, 'learning_rate': 0.23862680256036126, 'n_estimators': 873, 'gamma': 0.650190211315923, 'reg_alpha': 2.2857303162208806, 'reg_lambda': 2.788631815858267, 'colsample_bytree': 0.6328864403530956, 'subsample': 0.8056936907963865}. Best is trial 6 with value: 2.2931340210521824.\u001b[0m\n",
      "\u001b[32m[I 2023-06-21 02:57:43,818]\u001b[0m Trial 14 finished with value: 2.8843198938780423 and parameters: {'max_depth': 6, 'learning_rate': 0.2597602567758096, 'n_estimators': 246, 'gamma': 0.6650659056703903, 'reg_alpha': 0.21428572894428388, 'reg_lambda': 0.9353833951565069, 'colsample_bytree': 0.41283816996170486, 'subsample': 0.7567184445126748}. Best is trial 6 with value: 2.2931340210521824.\u001b[0m\n",
      "\u001b[32m[I 2023-06-21 03:01:38,613]\u001b[0m Trial 15 finished with value: 2.579064725640227 and parameters: {'max_depth': 6, 'learning_rate': 0.1412624902187075, 'n_estimators': 756, 'gamma': 0.9774658019722445, 'reg_alpha': 1.398878827221833, 'reg_lambda': 2.257420164018809, 'colsample_bytree': 0.5189494113159049, 'subsample': 0.8753625779746215}. Best is trial 6 with value: 2.2931340210521824.\u001b[0m\n",
      "\u001b[32m[I 2023-06-21 03:01:46,084]\u001b[0m Trial 16 finished with value: 2.285321318691346 and parameters: {'max_depth': 3, 'learning_rate': 0.18887110647887134, 'n_estimators': 30, 'gamma': 0.8157437812583104, 'reg_alpha': 2.5068526465051453, 'reg_lambda': 0.7816704354436562, 'colsample_bytree': 0.7775049371302796, 'subsample': 0.7153248286702185}. Best is trial 16 with value: 2.285321318691346.\u001b[0m\n",
      "\u001b[32m[I 2023-06-21 03:05:51,853]\u001b[0m Trial 17 finished with value: 2.4272812718216814 and parameters: {'max_depth': 7, 'learning_rate': 0.07046465196261484, 'n_estimators': 492, 'gamma': 0.5803135186990993, 'reg_alpha': 3.234547649030969, 'reg_lambda': 3.303583578432451, 'colsample_bytree': 0.8020575171161818, 'subsample': 0.6911411948293787}. Best is trial 16 with value: 2.285321318691346.\u001b[0m\n",
      "\u001b[32m[I 2023-06-21 03:07:12,538]\u001b[0m Trial 18 finished with value: 2.75928393198845 and parameters: {'max_depth': 5, 'learning_rate': 0.32429016626324975, 'n_estimators': 232, 'gamma': 0.8051746994706055, 'reg_alpha': 4.595046205059467, 'reg_lambda': 3.9838047904106197, 'colsample_bytree': 0.7625974326552297, 'subsample': 0.5794147780253762}. Best is trial 16 with value: 2.285321318691346.\u001b[0m\n",
      "\u001b[32m[I 2023-06-21 03:14:41,482]\u001b[0m Trial 19 finished with value: 3.2336651007282384 and parameters: {'max_depth': 9, 'learning_rate': 0.0941027640072959, 'n_estimators': 713, 'gamma': 0.759149845837527, 'reg_alpha': 0.7778706326560476, 'reg_lambda': 1.1331939777876272, 'colsample_bytree': 0.74530888308482, 'subsample': 0.7186062910141999}. Best is trial 16 with value: 2.285321318691346.\u001b[0m\n",
      "\u001b[32m[I 2023-06-21 03:18:26,153]\u001b[0m Trial 20 finished with value: 2.694952124307174 and parameters: {'max_depth': 4, 'learning_rate': 0.1831859030632815, 'n_estimators': 929, 'gamma': 0.5537364112998632, 'reg_alpha': 2.487548282592839, 'reg_lambda': 2.3032490199347366, 'colsample_bytree': 0.6389872839577765, 'subsample': 0.7031127596111462}. Best is trial 16 with value: 2.285321318691346.\u001b[0m\n",
      "\u001b[32m[I 2023-06-21 03:18:34,711]\u001b[0m Trial 21 finished with value: 2.47310760903672 and parameters: {'max_depth': 3, 'learning_rate': 0.21105141696227964, 'n_estimators': 42, 'gamma': 0.9098212480649265, 'reg_alpha': 2.1154641135971133, 'reg_lambda': 0.731892848160313, 'colsample_bytree': 0.627473613349695, 'subsample': 0.8693970632549259}. Best is trial 16 with value: 2.285321318691346.\u001b[0m\n",
      "\u001b[32m[I 2023-06-21 03:18:57,170]\u001b[0m Trial 22 finished with value: 2.4849623999834316 and parameters: {'max_depth': 3, 'learning_rate': 0.30594715028506336, 'n_estimators': 134, 'gamma': 0.7236830751552413, 'reg_alpha': 3.286729937101391, 'reg_lambda': 0.2735584246298365, 'colsample_bytree': 0.5081208758054528, 'subsample': 0.8125548780247206}. Best is trial 16 with value: 2.285321318691346.\u001b[0m\n",
      "\u001b[32m[I 2023-06-21 03:19:47,266]\u001b[0m Trial 23 finished with value: 2.609063662154059 and parameters: {'max_depth': 5, 'learning_rate': 0.1335556546462882, 'n_estimators': 206, 'gamma': 0.8847224872485532, 'reg_alpha': 1.9433732578583183, 'reg_lambda': 1.5921396498412914, 'colsample_bytree': 0.47576405729287125, 'subsample': 0.660640182453722}. Best is trial 16 with value: 2.285321318691346.\u001b[0m\n",
      "\u001b[32m[I 2023-06-21 03:21:42,673]\u001b[0m Trial 24 finished with value: 3.5221356679822655 and parameters: {'max_depth': 5, 'learning_rate': 0.2838694629604322, 'n_estimators': 412, 'gamma': 0.6923043718267837, 'reg_alpha': 0.8681736057990692, 'reg_lambda': 0.7187084384927789, 'colsample_bytree': 0.5867153082930033, 'subsample': 0.7462609082295186}. Best is trial 16 with value: 2.285321318691346.\u001b[0m\n",
      "\u001b[32m[I 2023-06-21 03:21:52,203]\u001b[0m Trial 25 finished with value: 3.3664860622990473 and parameters: {'max_depth': 3, 'learning_rate': 0.008253998982039358, 'n_estimators': 44, 'gamma': 0.8389137794397504, 'reg_alpha': 2.7273461931130942, 'reg_lambda': 2.0788646059556983, 'colsample_bytree': 0.6796671789743434, 'subsample': 0.8560302311775065}. Best is trial 16 with value: 2.285321318691346.\u001b[0m\n",
      "\u001b[32m[I 2023-06-21 03:24:14,229]\u001b[0m Trial 26 finished with value: 3.1156830774010364 and parameters: {'max_depth': 7, 'learning_rate': 0.20859594516964458, 'n_estimators': 305, 'gamma': 0.9151840434022622, 'reg_alpha': 0.8647170056478524, 'reg_lambda': 1.3999547424211614, 'colsample_bytree': 0.7433421143319214, 'subsample': 0.5857709654326015}. Best is trial 16 with value: 2.285321318691346.\u001b[0m\n",
      "\u001b[32m[I 2023-06-21 03:27:26,816]\u001b[0m Trial 27 finished with value: 2.5447828822216345 and parameters: {'max_depth': 4, 'learning_rate': 0.06530480272061742, 'n_estimators': 614, 'gamma': 0.05426807750264262, 'reg_alpha': 6.918020735922992, 'reg_lambda': 0.7066741461369498, 'colsample_bytree': 0.8861831812229519, 'subsample': 0.7616041057713656}. Best is trial 16 with value: 2.285321318691346.\u001b[0m\n",
      "\u001b[32m[I 2023-06-21 03:29:20,088]\u001b[0m Trial 28 finished with value: 3.3123778975549394 and parameters: {'max_depth': 5, 'learning_rate': 0.32510995430799816, 'n_estimators': 391, 'gamma': 0.5840053839461712, 'reg_alpha': 3.7702501968456605, 'reg_lambda': 2.6637442439397434, 'colsample_bytree': 0.6020862780361339, 'subsample': 0.5675094323980672}. Best is trial 16 with value: 2.285321318691346.\u001b[0m\n",
      "\u001b[32m[I 2023-06-21 03:30:10,198]\u001b[0m Trial 29 finished with value: 2.636533231619694 and parameters: {'max_depth': 4, 'learning_rate': 0.18044843315330705, 'n_estimators': 166, 'gamma': 0.7537879691528363, 'reg_alpha': 1.7925060580318886, 'reg_lambda': 1.2228001552116683, 'colsample_bytree': 0.8194936000235981, 'subsample': 0.9115319352704505}. Best is trial 16 with value: 2.285321318691346.\u001b[0m\n",
      "\u001b[32m[I 2023-06-21 03:31:53,774]\u001b[0m Trial 30 finished with value: 4.83373499569795 and parameters: {'max_depth': 7, 'learning_rate': 0.35281029575960293, 'n_estimators': 300, 'gamma': 0.48904028572303376, 'reg_alpha': 2.729959157680458, 'reg_lambda': 0.5220495598976411, 'colsample_bytree': 0.4770511123590622, 'subsample': 0.6749760445692314}. Best is trial 16 with value: 2.285321318691346.\u001b[0m\n",
      "\u001b[32m[I 2023-06-21 03:35:39,945]\u001b[0m Trial 31 finished with value: 2.4373648604877074 and parameters: {'max_depth': 7, 'learning_rate': 0.06612573564302601, 'n_estimators': 453, 'gamma': 0.6046755045580164, 'reg_alpha': 3.09094232207568, 'reg_lambda': 3.3691578868616663, 'colsample_bytree': 0.8046270386150606, 'subsample': 0.7090922222734934}. Best is trial 16 with value: 2.285321318691346.\u001b[0m\n",
      "\u001b[32m[I 2023-06-21 03:37:24,453]\u001b[0m Trial 32 finished with value: 2.3751072162103113 and parameters: {'max_depth': 8, 'learning_rate': 0.08424895339907716, 'n_estimators': 174, 'gamma': 0.6940587872965842, 'reg_alpha': 3.1654713579912723, 'reg_lambda': 4.3571956663110445, 'colsample_bytree': 0.8620532085670177, 'subsample': 0.6200041108094161}. Best is trial 16 with value: 2.285321318691346.\u001b[0m\n",
      "\u001b[32m[I 2023-06-21 03:58:23,067]\u001b[0m Trial 33 finished with value: 4.974135729368848 and parameters: {'max_depth': 10, 'learning_rate': 0.13118891312310796, 'n_estimators': 1485, 'gamma': 0.8192051978285687, 'reg_alpha': 3.7564091045912145, 'reg_lambda': 4.8479692411934785, 'colsample_bytree': 0.9627010213117998, 'subsample': 0.6193710745671936}. Best is trial 16 with value: 2.285321318691346.\u001b[0m\n",
      "\u001b[32m[I 2023-06-21 03:59:00,539]\u001b[0m Trial 34 finished with value: 2.2407705207284487 and parameters: {'max_depth': 3, 'learning_rate': 0.15886762648329952, 'n_estimators': 156, 'gamma': 0.7193884115891637, 'reg_alpha': 2.376902859803723, 'reg_lambda': 4.146645490090325, 'colsample_bytree': 0.8667507938995359, 'subsample': 0.5565325682079647}. Best is trial 34 with value: 2.2407705207284487.\u001b[0m\n",
      "\u001b[32m[I 2023-06-21 03:59:32,820]\u001b[0m Trial 35 finished with value: 2.296043137849513 and parameters: {'max_depth': 3, 'learning_rate': 0.22632626068702016, 'n_estimators': 128, 'gamma': 0.9381741918153068, 'reg_alpha': 2.5133806879744305, 'reg_lambda': 3.807411404655742, 'colsample_bytree': 0.9131343607373434, 'subsample': 0.5517547116626114}. Best is trial 34 with value: 2.2407705207284487.\u001b[0m\n",
      "\u001b[32m[I 2023-06-21 04:01:16,640]\u001b[0m Trial 36 finished with value: 2.5886056148923253 and parameters: {'max_depth': 4, 'learning_rate': 0.24693266836035474, 'n_estimators': 303, 'gamma': 0.9291178275299659, 'reg_alpha': 4.817389181949855, 'reg_lambda': 3.900329486309639, 'colsample_bytree': 0.990515469967205, 'subsample': 0.5469642596119267}. Best is trial 34 with value: 2.2407705207284487.\u001b[0m\n",
      "\u001b[32m[I 2023-06-21 04:01:55,988]\u001b[0m Trial 37 finished with value: 2.1999129368655472 and parameters: {'max_depth': 3, 'learning_rate': 0.1621684698328674, 'n_estimators': 164, 'gamma': 0.9650217952173348, 'reg_alpha': 2.344776710058354, 'reg_lambda': 4.493219021676729, 'colsample_bytree': 0.8878825700057681, 'subsample': 0.4110018283261718}. Best is trial 37 with value: 2.1999129368655472.\u001b[0m\n",
      "\u001b[32m[I 2023-06-21 04:02:06,529]\u001b[0m Trial 38 finished with value: 2.1602110278079825 and parameters: {'max_depth': 4, 'learning_rate': 0.1660938865284935, 'n_estimators': 32, 'gamma': 0.44730628648767295, 'reg_alpha': 1.1757786514550252, 'reg_lambda': 4.514048614337653, 'colsample_bytree': 0.8599920693632156, 'subsample': 0.4797271466260693}. Best is trial 38 with value: 2.1602110278079825.\u001b[0m\n",
      "\u001b[32m[I 2023-06-21 04:05:02,287]\u001b[0m Trial 39 finished with value: 2.5166372734098093 and parameters: {'max_depth': 4, 'learning_rate': 0.16569979213294245, 'n_estimators': 625, 'gamma': 0.415222901026776, 'reg_alpha': 0.371063468649393, 'reg_lambda': 5.51316573040379, 'colsample_bytree': 0.8519876527282342, 'subsample': 0.4270046139988841}. Best is trial 38 with value: 2.1602110278079825.\u001b[0m\n",
      "\u001b[32m[I 2023-06-21 04:05:18,884]\u001b[0m Trial 40 finished with value: 2.675546240042997 and parameters: {'max_depth': 6, 'learning_rate': 0.5758742637655261, 'n_estimators': 33, 'gamma': 0.396199802400867, 'reg_alpha': 1.1472618269523336, 'reg_lambda': 4.9615648685828795, 'colsample_bytree': 0.9456499750196342, 'subsample': 0.48689369906338015}. Best is trial 38 with value: 2.1602110278079825.\u001b[0m\n",
      "\u001b[32m[I 2023-06-21 04:06:40,099]\u001b[0m Trial 41 finished with value: 2.2680757011976147 and parameters: {'max_depth': 5, 'learning_rate': 0.11340370095800531, 'n_estimators': 232, 'gamma': 0.2998394661114478, 'reg_alpha': 2.24728581673758, 'reg_lambda': 5.4377869545370405, 'colsample_bytree': 0.8937706740962008, 'subsample': 0.4066387938351523}. Best is trial 38 with value: 2.1602110278079825.\u001b[0m\n",
      "\u001b[32m[I 2023-06-21 04:07:36,808]\u001b[0m Trial 42 finished with value: 2.1679732444086857 and parameters: {'max_depth': 4, 'learning_rate': 0.14663161235475272, 'n_estimators': 194, 'gamma': 0.27936349157411666, 'reg_alpha': 2.2077808817604776, 'reg_lambda': 4.409861272379013, 'colsample_bytree': 0.844195552281399, 'subsample': 0.46539678134716234}. Best is trial 38 with value: 2.1602110278079825.\u001b[0m\n",
      "\u001b[32m[I 2023-06-21 04:08:47,086]\u001b[0m Trial 43 finished with value: 2.3334895630449877 and parameters: {'max_depth': 4, 'learning_rate': 0.15223269841845138, 'n_estimators': 249, 'gamma': 0.2364373346171938, 'reg_alpha': 1.763779242476248, 'reg_lambda': 4.466456557956986, 'colsample_bytree': 0.8926304677921313, 'subsample': 0.4031246616327915}. Best is trial 38 with value: 2.1602110278079825.\u001b[0m\n",
      "\u001b[32m[I 2023-06-21 04:10:44,681]\u001b[0m Trial 44 finished with value: 2.378030717750503 and parameters: {'max_depth': 5, 'learning_rate': 0.10759231313306672, 'n_estimators': 331, 'gamma': 0.33343161418885114, 'reg_alpha': 1.1987547469804454, 'reg_lambda': 5.856338924760426, 'colsample_bytree': 0.8364401025977075, 'subsample': 0.4648191630845827}. Best is trial 38 with value: 2.1602110278079825.\u001b[0m\n",
      "\u001b[32m[I 2023-06-21 04:11:59,622]\u001b[0m Trial 45 finished with value: 2.3116098969299466 and parameters: {'max_depth': 6, 'learning_rate': 0.11802205290654533, 'n_estimators': 165, 'gamma': 0.15141439342385066, 'reg_alpha': 1.589564964678071, 'reg_lambda': 5.25690347625105, 'colsample_bytree': 0.8844403856231446, 'subsample': 0.43314214757931097}. Best is trial 38 with value: 2.1602110278079825.\u001b[0m\n",
      "\u001b[32m[I 2023-06-21 04:13:24,847]\u001b[0m Trial 46 finished with value: 2.227234262413925 and parameters: {'max_depth': 3, 'learning_rate': 0.04254505478117902, 'n_estimators': 337, 'gamma': 0.23542182656018223, 'reg_alpha': 2.1153208764005282, 'reg_lambda': 6.190226736305167, 'colsample_bytree': 0.9306066716896219, 'subsample': 0.5084924254258886}. Best is trial 38 with value: 2.1602110278079825.\u001b[0m\n",
      "\u001b[32m[I 2023-06-21 04:15:00,113]\u001b[0m Trial 47 finished with value: 2.254718788841479 and parameters: {'max_depth': 3, 'learning_rate': 0.04119055001615432, 'n_estimators': 369, 'gamma': 0.2204319307713142, 'reg_alpha': 0.44184065781354165, 'reg_lambda': 6.215625543429922, 'colsample_bytree': 0.9542138340671209, 'subsample': 0.513324842280687}. Best is trial 38 with value: 2.1602110278079825.\u001b[0m\n",
      "\u001b[32m[I 2023-06-21 04:15:36,058]\u001b[0m Trial 48 finished with value: 2.228651971162042 and parameters: {'max_depth': 4, 'learning_rate': 0.1639446189189116, 'n_estimators': 112, 'gamma': 0.08526920031031054, 'reg_alpha': 2.964570596938727, 'reg_lambda': 4.589425978944183, 'colsample_bytree': 0.9215211252732445, 'subsample': 0.4823912142533516}. Best is trial 38 with value: 2.1602110278079825.\u001b[0m\n",
      "\u001b[32m[I 2023-06-21 04:17:47,462]\u001b[0m Trial 49 finished with value: 2.2758883906663 and parameters: {'max_depth': 14, 'learning_rate': 0.03866456302448508, 'n_estimators': 101, 'gamma': 0.08756774184418259, 'reg_alpha': 2.952888045177727, 'reg_lambda': 6.99695925262607, 'colsample_bytree': 0.923089846590319, 'subsample': 0.4732808679843742}. Best is trial 38 with value: 2.1602110278079825.\u001b[0m\n",
      "\u001b[32m[I 2023-06-21 04:22:50,953]\u001b[0m Trial 50 finished with value: 2.9844950515080253 and parameters: {'max_depth': 4, 'learning_rate': 0.26681799867188405, 'n_estimators': 905, 'gamma': 0.09837799950329852, 'reg_alpha': 3.5137043757369484, 'reg_lambda': 4.601761590848337, 'colsample_bytree': 0.9707814371279635, 'subsample': 0.5131154879171296}. Best is trial 38 with value: 2.1602110278079825.\u001b[0m\n",
      "\u001b[32m[I 2023-06-21 04:23:21,715]\u001b[0m Trial 51 finished with value: 2.200012275223623 and parameters: {'max_depth': 3, 'learning_rate': 0.15493458615019742, 'n_estimators': 127, 'gamma': 0.17532021668915745, 'reg_alpha': 1.9926126291972808, 'reg_lambda': 4.11358625442951, 'colsample_bytree': 0.9403110932887139, 'subsample': 0.4452336323264215}. Best is trial 38 with value: 2.1602110278079825.\u001b[0m\n",
      "\u001b[32m[I 2023-06-21 04:23:52,034]\u001b[0m Trial 52 finished with value: 2.3390528895888996 and parameters: {'max_depth': 4, 'learning_rate': 0.1768211334381686, 'n_estimators': 98, 'gamma': 0.022282526764521693, 'reg_alpha': 2.0095795137090486, 'reg_lambda': 4.7788644632624315, 'colsample_bytree': 0.9318326742430789, 'subsample': 0.45239390931766427}. Best is trial 38 with value: 2.1602110278079825.\u001b[0m\n",
      "\u001b[32m[I 2023-06-21 04:28:35,054]\u001b[0m Trial 53 finished with value: 2.3186449806413676 and parameters: {'max_depth': 3, 'learning_rate': 0.14697258828201068, 'n_estimators': 1110, 'gamma': 0.24348300737000217, 'reg_alpha': 2.858853279593533, 'reg_lambda': 3.5436821325257455, 'colsample_bytree': 0.9860048059729981, 'subsample': 0.4861635309422376}. Best is trial 38 with value: 2.1602110278079825.\u001b[0m\n",
      "\u001b[32m[I 2023-06-21 04:29:57,355]\u001b[0m Trial 54 finished with value: 3.1539630809857497 and parameters: {'max_depth': 4, 'learning_rate': 0.4449999494084338, 'n_estimators': 277, 'gamma': 0.17634362907739265, 'reg_alpha': 1.2711649518255947, 'reg_lambda': 5.10558604722516, 'colsample_bytree': 0.9177309630395909, 'subsample': 0.43184234740129535}. Best is trial 38 with value: 2.1602110278079825.\u001b[0m\n",
      "\u001b[32m[I 2023-06-21 04:33:01,442]\u001b[0m Trial 55 finished with value: 2.3465533395677256 and parameters: {'max_depth': 12, 'learning_rate': 0.09101963919452835, 'n_estimators': 191, 'gamma': 0.365507716142985, 'reg_alpha': 1.7268830037833554, 'reg_lambda': 4.307730390732529, 'colsample_bytree': 0.9037045501398395, 'subsample': 0.5310281032569182}. Best is trial 38 with value: 2.1602110278079825.\u001b[0m\n",
      "\u001b[32m[I 2023-06-21 04:33:21,173]\u001b[0m Trial 56 finished with value: 2.2447848090046745 and parameters: {'max_depth': 3, 'learning_rate': 0.19457133387949935, 'n_estimators': 83, 'gamma': 0.26918817611271195, 'reg_alpha': 2.086764835897078, 'reg_lambda': 6.67536867660505, 'colsample_bytree': 0.8442773507974173, 'subsample': 0.49873863775301014}. Best is trial 38 with value: 2.1602110278079825.\u001b[0m\n",
      "\u001b[32m[I 2023-06-21 04:34:45,343]\u001b[0m Trial 57 finished with value: 2.307186429353073 and parameters: {'max_depth': 5, 'learning_rate': 0.2122101236926296, 'n_estimators': 221, 'gamma': 0.45443053790718074, 'reg_alpha': 1.5369779966687311, 'reg_lambda': 5.9488486981000825, 'colsample_bytree': 0.944203915042657, 'subsample': 0.453748186615025}. Best is trial 38 with value: 2.1602110278079825.\u001b[0m\n",
      "\u001b[32m[I 2023-06-21 04:36:17,124]\u001b[0m Trial 58 finished with value: 2.4529167026017342 and parameters: {'max_depth': 4, 'learning_rate': 0.24099005310661142, 'n_estimators': 350, 'gamma': 0.16220213541091083, 'reg_alpha': 4.1058300559856065, 'reg_lambda': 3.720541129388983, 'colsample_bytree': 0.7958891431666819, 'subsample': 0.4260687863356732}. Best is trial 38 with value: 2.1602110278079825.\u001b[0m\n",
      "\u001b[32m[I 2023-06-21 04:38:01,873]\u001b[0m Trial 59 finished with value: 2.1850931779844514 and parameters: {'max_depth': 3, 'learning_rate': 0.03280415921868585, 'n_estimators': 440, 'gamma': 0.1888917690691989, 'reg_alpha': 2.675810735514196, 'reg_lambda': 3.0624237781241366, 'colsample_bytree': 0.8772605772175783, 'subsample': 0.5270226081763999}. Best is trial 38 with value: 2.1602110278079825.\u001b[0m\n",
      "\u001b[32m[I 2023-06-21 04:40:08,044]\u001b[0m Trial 60 finished with value: 2.2480104675728843 and parameters: {'max_depth': 3, 'learning_rate': 0.02339047433203023, 'n_estimators': 529, 'gamma': 0.18990294775334166, 'reg_alpha': 2.6104605047543865, 'reg_lambda': 3.1773091647343596, 'colsample_bytree': 0.8794469767424984, 'subsample': 0.5293734406861389}. Best is trial 38 with value: 2.1602110278079825.\u001b[0m\n",
      "\u001b[32m[I 2023-06-21 04:40:38,778]\u001b[0m Trial 61 finished with value: 2.210657634784516 and parameters: {'max_depth': 3, 'learning_rate': 0.06251077430677887, 'n_estimators': 135, 'gamma': 0.1055789220355099, 'reg_alpha': 2.2450718531894402, 'reg_lambda': 4.107561054505294, 'colsample_bytree': 0.8239951997031943, 'subsample': 0.48745357434494424}. Best is trial 38 with value: 2.1602110278079825.\u001b[0m\n",
      "\u001b[32m[I 2023-06-21 04:42:14,500]\u001b[0m Trial 62 finished with value: 2.1420193163859267 and parameters: {'max_depth': 3, 'learning_rate': 0.055859295443850585, 'n_estimators': 418, 'gamma': 0.12456767701322569, 'reg_alpha': 2.1958406618340756, 'reg_lambda': 4.176762421619185, 'colsample_bytree': 0.8351440681532842, 'subsample': 0.5036557550240569}. Best is trial 62 with value: 2.1420193163859267.\u001b[0m\n",
      "\u001b[32m[I 2023-06-21 04:43:44,779]\u001b[0m Trial 63 finished with value: 2.1778134668304263 and parameters: {'max_depth': 3, 'learning_rate': 0.0657756790415167, 'n_estimators': 435, 'gamma': 0.12875798874859287, 'reg_alpha': 2.303933696740459, 'reg_lambda': 2.942111738812624, 'colsample_bytree': 0.7694037153598678, 'subsample': 0.4634965138224063}. Best is trial 62 with value: 2.1420193163859267.\u001b[0m\n",
      "\u001b[32m[I 2023-06-21 04:45:15,648]\u001b[0m Trial 64 finished with value: 2.198467326945223 and parameters: {'max_depth': 3, 'learning_rate': 0.019782007506405214, 'n_estimators': 458, 'gamma': 0.12419275618489481, 'reg_alpha': 1.0180196684329081, 'reg_lambda': 3.1096857819642776, 'colsample_bytree': 0.7329825876075731, 'subsample': 0.4559862717753126}. Best is trial 62 with value: 2.1420193163859267.\u001b[0m\n",
      "\u001b[32m[I 2023-06-21 04:47:38,492]\u001b[0m Trial 65 finished with value: 2.178467022830111 and parameters: {'max_depth': 5, 'learning_rate': 0.004926310853373651, 'n_estimators': 446, 'gamma': 0.12354467321619482, 'reg_alpha': 0.04741868274409977, 'reg_lambda': 2.9119140636721785, 'colsample_bytree': 0.7397650175991208, 'subsample': 0.4692164349100919}. Best is trial 62 with value: 2.1420193163859267.\u001b[0m\n",
      "\u001b[32m[I 2023-06-21 04:49:54,180]\u001b[0m Trial 66 finished with value: 3.2702314715002827 and parameters: {'max_depth': 5, 'learning_rate': 0.0011016154584723476, 'n_estimators': 432, 'gamma': 0.12403609063783871, 'reg_alpha': 0.039220383629680056, 'reg_lambda': 3.0344828559950443, 'colsample_bytree': 0.7171455622381433, 'subsample': 0.47234898833096484}. Best is trial 62 with value: 2.1420193163859267.\u001b[0m\n",
      "\u001b[32m[I 2023-06-21 04:52:49,492]\u001b[0m Trial 67 finished with value: 2.272663072942608 and parameters: {'max_depth': 4, 'learning_rate': 0.02521153158650443, 'n_estimators': 628, 'gamma': 0.06677996435933832, 'reg_alpha': 0.7381756470430773, 'reg_lambda': 2.729533294791405, 'colsample_bytree': 0.7656037222130355, 'subsample': 0.5878133126879698}. Best is trial 62 with value: 2.1420193163859267.\u001b[0m\n",
      "\u001b[32m[I 2023-06-21 04:55:53,121]\u001b[0m Trial 68 finished with value: 2.308943062162982 and parameters: {'max_depth': 6, 'learning_rate': 0.024872131000492334, 'n_estimators': 479, 'gamma': 0.030776713078338624, 'reg_alpha': 0.5097086175785748, 'reg_lambda': 2.4695535349366917, 'colsample_bytree': 0.7210450773749894, 'subsample': 0.5275682469413729}. Best is trial 62 with value: 2.1420193163859267.\u001b[0m\n",
      "\u001b[32m[I 2023-06-21 04:58:19,352]\u001b[0m Trial 69 finished with value: 2.3880790203058706 and parameters: {'max_depth': 4, 'learning_rate': 0.07783552653055989, 'n_estimators': 570, 'gamma': 0.12653008738043733, 'reg_alpha': 0.915942343257925, 'reg_lambda': 3.580715119834284, 'colsample_bytree': 0.6824394567576234, 'subsample': 0.5405369281027402}. Best is trial 62 with value: 2.1420193163859267.\u001b[0m\n",
      "\u001b[32m[I 2023-06-21 05:06:00,037]\u001b[0m Trial 70 finished with value: 2.453111035597555 and parameters: {'max_depth': 10, 'learning_rate': 0.05966073290430288, 'n_estimators': 696, 'gamma': 0.20160786220642363, 'reg_alpha': 0.26299374314162005, 'reg_lambda': 2.9860297885477087, 'colsample_bytree': 0.7939538794197317, 'subsample': 0.4577682392283191}. Best is trial 62 with value: 2.1420193163859267.\u001b[0m\n",
      "\u001b[32m[I 2023-06-21 05:07:26,793]\u001b[0m Trial 71 finished with value: 2.2065374974328633 and parameters: {'max_depth': 3, 'learning_rate': 0.10149904291664245, 'n_estimators': 453, 'gamma': 0.1326226307819203, 'reg_alpha': 0.5701526679815656, 'reg_lambda': 3.287535962680034, 'colsample_bytree': 0.7445953064366087, 'subsample': 0.41165454416526986}. Best is trial 62 with value: 2.1420193163859267.\u001b[0m\n",
      "\u001b[32m[I 2023-06-21 05:10:08,780]\u001b[0m Trial 72 finished with value: 2.1581109986031923 and parameters: {'max_depth': 3, 'learning_rate': 0.013532386127491556, 'n_estimators': 822, 'gamma': 0.5409529050958987, 'reg_alpha': 1.4663189830967556, 'reg_lambda': 2.069685904271222, 'colsample_bytree': 0.7777076957173389, 'subsample': 0.4209893950126143}. Best is trial 62 with value: 2.1420193163859267.\u001b[0m\n",
      "\u001b[32m[I 2023-06-21 05:14:09,781]\u001b[0m Trial 73 finished with value: 2.194419657067485 and parameters: {'max_depth': 5, 'learning_rate': 0.014806121652170524, 'n_estimators': 802, 'gamma': 0.5114848327452274, 'reg_alpha': 1.085652792779427, 'reg_lambda': 2.0066803717675024, 'colsample_bytree': 0.7129152446568277, 'subsample': 0.4417634165202822}. Best is trial 62 with value: 2.1420193163859267.\u001b[0m\n",
      "\u001b[32m[I 2023-06-21 05:18:43,224]\u001b[0m Trial 74 finished with value: 2.4232255527950617 and parameters: {'max_depth': 5, 'learning_rate': 0.04818051445747226, 'n_estimators': 984, 'gamma': 0.5371422125584054, 'reg_alpha': 1.5908261493172653, 'reg_lambda': 1.9602726498131153, 'colsample_bytree': 0.6546377641466714, 'subsample': 0.4344279351549124}. Best is trial 62 with value: 2.1420193163859267.\u001b[0m\n",
      "\u001b[32m[I 2023-06-21 05:22:23,849]\u001b[0m Trial 75 finished with value: 2.2547460109298014 and parameters: {'max_depth': 4, 'learning_rate': 0.0022651050647574875, 'n_estimators': 804, 'gamma': 0.45729064293239136, 'reg_alpha': 1.317836205656342, 'reg_lambda': 2.5277866668454596, 'colsample_bytree': 0.781766030569031, 'subsample': 0.4952631166877388}. Best is trial 62 with value: 2.1420193163859267.\u001b[0m\n",
      "\u001b[32m[I 2023-06-21 05:30:06,709]\u001b[0m Trial 76 finished with value: 2.6670713273156608 and parameters: {'max_depth': 8, 'learning_rate': 0.08026284590333037, 'n_estimators': 836, 'gamma': 0.5377411490027103, 'reg_alpha': 1.4589308956595652, 'reg_lambda': 2.1889793760005176, 'colsample_bytree': 0.8171177258597532, 'subsample': 0.4741350968153668}. Best is trial 62 with value: 2.1420193163859267.\u001b[0m\n",
      "\u001b[32m[I 2023-06-21 05:35:34,069]\u001b[0m Trial 77 finished with value: 2.397106524722122 and parameters: {'max_depth': 5, 'learning_rate': 0.04999572512116627, 'n_estimators': 976, 'gamma': 0.5113602322864714, 'reg_alpha': 0.711495158525478, 'reg_lambda': 1.7972530150728399, 'colsample_bytree': 0.7646798439839808, 'subsample': 0.5017869666812863}. Best is trial 62 with value: 2.1420193163859267.\u001b[0m\n",
      "\u001b[32m[I 2023-06-21 05:39:15,987]\u001b[0m Trial 78 finished with value: 2.2836568323209963 and parameters: {'max_depth': 5, 'learning_rate': 0.02880798146563158, 'n_estimators': 761, 'gamma': 0.6213668227370569, 'reg_alpha': 2.623519545953543, 'reg_lambda': 2.8818950829806256, 'colsample_bytree': 0.7026628857661562, 'subsample': 0.44056335780639155}. Best is trial 62 with value: 2.1420193163859267.\u001b[0m\n",
      "\u001b[32m[I 2023-06-21 05:45:02,288]\u001b[0m Trial 79 finished with value: 2.684757526172841 and parameters: {'max_depth': 6, 'learning_rate': 0.12181975215666006, 'n_estimators': 728, 'gamma': 0.29373809158149944, 'reg_alpha': 1.7848234323030994, 'reg_lambda': 1.5271241902016457, 'colsample_bytree': 0.8647097256407597, 'subsample': 0.9962762670691747}. Best is trial 62 with value: 2.1420193163859267.\u001b[0m\n",
      "\u001b[32m[I 2023-06-21 05:47:39,180]\u001b[0m Trial 80 finished with value: 2.224422618863933 and parameters: {'max_depth': 4, 'learning_rate': 0.016444137375916715, 'n_estimators': 667, 'gamma': 0.35936770000661816, 'reg_alpha': 1.0543737150139763, 'reg_lambda': 2.3959838068630113, 'colsample_bytree': 0.6643987600996981, 'subsample': 0.46359706869678796}. Best is trial 62 with value: 2.1420193163859267.\u001b[0m\n",
      "\u001b[32m[I 2023-06-21 05:49:18,562]\u001b[0m Trial 81 finished with value: 2.249175819278605 and parameters: {'max_depth': 3, 'learning_rate': 0.058778914495969586, 'n_estimators': 527, 'gamma': 0.04688386928733412, 'reg_alpha': 1.047159266187999, 'reg_lambda': 3.493772032816167, 'colsample_bytree': 0.721790489859976, 'subsample': 0.41906085118017944}. Best is trial 62 with value: 2.1420193163859267.\u001b[0m\n",
      "\u001b[32m[I 2023-06-21 05:50:55,060]\u001b[0m Trial 82 finished with value: 2.154263634735009 and parameters: {'max_depth': 3, 'learning_rate': 0.011993524340000672, 'n_estimators': 483, 'gamma': 0.5700451579508016, 'reg_alpha': 0.9984453891051165, 'reg_lambda': 2.6487208919825926, 'colsample_bytree': 0.7502051877259728, 'subsample': 0.4503266813440632}. Best is trial 62 with value: 2.1420193163859267.\u001b[0m\n",
      "\u001b[32m[I 2023-06-21 05:52:17,069]\u001b[0m Trial 83 finished with value: 2.174062175583195 and parameters: {'max_depth': 3, 'learning_rate': 0.03454152435361098, 'n_estimators': 400, 'gamma': 0.587705415434687, 'reg_alpha': 1.3849912778338491, 'reg_lambda': 2.0678961107964717, 'colsample_bytree': 0.7804930779084052, 'subsample': 0.44354289720337586}. Best is trial 62 with value: 2.1420193163859267.\u001b[0m\n",
      "\u001b[32m[I 2023-06-21 05:53:47,847]\u001b[0m Trial 84 finished with value: 2.1911346819964392 and parameters: {'max_depth': 3, 'learning_rate': 0.03410674585744896, 'n_estimators': 392, 'gamma': 0.5789007189595105, 'reg_alpha': 1.9011815738288218, 'reg_lambda': 2.6256898997977487, 'colsample_bytree': 0.8303629359045422, 'subsample': 0.5686151630845847}. Best is trial 62 with value: 2.1420193163859267.\u001b[0m\n",
      "\u001b[32m[I 2023-06-21 05:55:31,543]\u001b[0m Trial 85 finished with value: 2.3405937041697538 and parameters: {'max_depth': 3, 'learning_rate': 0.08655891114509351, 'n_estimators': 493, 'gamma': 0.6476870189486815, 'reg_alpha': 1.6307865657655976, 'reg_lambda': 2.3115840166299826, 'colsample_bytree': 0.7831009603902757, 'subsample': 0.4712274452496725}. Best is trial 62 with value: 2.1420193163859267.\u001b[0m\n",
      "\u001b[32m[I 2023-06-21 05:57:53,787]\u001b[0m Trial 86 finished with value: 2.921533872114142 and parameters: {'max_depth': 4, 'learning_rate': 0.0013632130588514743, 'n_estimators': 554, 'gamma': 0.5857537736723053, 'reg_alpha': 1.3785986288110694, 'reg_lambda': 2.800843839800312, 'colsample_bytree': 0.8099813519516844, 'subsample': 0.4025471787307297}. Best is trial 62 with value: 2.1420193163859267.\u001b[0m\n",
      "\u001b[32m[I 2023-06-21 06:00:33,661]\u001b[0m Trial 87 finished with value: 2.3060605140022203 and parameters: {'max_depth': 4, 'learning_rate': 0.07167448846881357, 'n_estimators': 591, 'gamma': 0.6271902884223757, 'reg_alpha': 2.3777821130822936, 'reg_lambda': 3.9683103851700072, 'colsample_bytree': 0.752183375728533, 'subsample': 0.5118077563904457}. Best is trial 62 with value: 2.1420193163859267.\u001b[0m\n",
      "\u001b[32m[I 2023-06-21 06:02:00,541]\u001b[0m Trial 88 finished with value: 2.1407363872279697 and parameters: {'max_depth': 3, 'learning_rate': 0.05030890882196376, 'n_estimators': 411, 'gamma': 0.47486495263601297, 'reg_alpha': 0.16946533944380904, 'reg_lambda': 2.1303607999747767, 'colsample_bytree': 0.8423716623567922, 'subsample': 0.42491949290785863}. Best is trial 88 with value: 2.1407363872279697.\u001b[0m\n",
      "\u001b[32m[I 2023-06-21 06:03:24,973]\u001b[0m Trial 89 finished with value: 2.103285353610965 and parameters: {'max_depth': 3, 'learning_rate': 0.052104894501884144, 'n_estimators': 409, 'gamma': 0.5635686619498134, 'reg_alpha': 0.21879409259541727, 'reg_lambda': 1.8360663844678546, 'colsample_bytree': 0.8422318046775756, 'subsample': 0.4173136260202276}. Best is trial 89 with value: 2.103285353610965.\u001b[0m\n",
      "\u001b[32m[I 2023-06-21 06:04:48,341]\u001b[0m Trial 90 finished with value: 2.216676141769574 and parameters: {'max_depth': 3, 'learning_rate': 0.0980659166195191, 'n_estimators': 398, 'gamma': 0.4716367001847404, 'reg_alpha': 0.5816495347602393, 'reg_lambda': 1.782383627747711, 'colsample_bytree': 0.8467539590133759, 'subsample': 0.4215184979894013}. Best is trial 89 with value: 2.103285353610965.\u001b[0m\n",
      "\u001b[32m[I 2023-06-21 06:06:02,454]\u001b[0m Trial 91 finished with value: 2.1611721229123813 and parameters: {'max_depth': 3, 'learning_rate': 0.054477072694236454, 'n_estimators': 368, 'gamma': 0.5648283760104125, 'reg_alpha': 0.21330696065839372, 'reg_lambda': 1.3175892243979999, 'colsample_bytree': 0.7699371962371369, 'subsample': 0.4436546796010835}. Best is trial 89 with value: 2.103285353610965.\u001b[0m\n",
      "\u001b[32m[I 2023-06-21 06:06:57,673]\u001b[0m Trial 92 finished with value: 2.150712184097816 and parameters: {'max_depth': 3, 'learning_rate': 0.050912096917637505, 'n_estimators': 283, 'gamma': 0.5585911282119435, 'reg_alpha': 0.2933597827788025, 'reg_lambda': 1.5406165028575725, 'colsample_bytree': 0.7922526021147024, 'subsample': 0.4005065517466266}. Best is trial 89 with value: 2.103285353610965.\u001b[0m\n",
      "\u001b[32m[I 2023-06-21 06:08:07,819]\u001b[0m Trial 93 finished with value: 2.1460865055040164 and parameters: {'max_depth': 3, 'learning_rate': 0.052090497167086594, 'n_estimators': 353, 'gamma': 0.5535631456330219, 'reg_alpha': 0.23487990749012366, 'reg_lambda': 1.2666684344869492, 'colsample_bytree': 0.790802903783747, 'subsample': 0.42081128029838116}. Best is trial 89 with value: 2.103285353610965.\u001b[0m\n",
      "\u001b[32m[I 2023-06-21 06:09:17,875]\u001b[0m Trial 94 finished with value: 2.132176857298009 and parameters: {'max_depth': 4, 'learning_rate': 0.05113750894608513, 'n_estimators': 269, 'gamma': 0.5454060554128859, 'reg_alpha': 0.30148136176810647, 'reg_lambda': 1.153849643922031, 'colsample_bytree': 0.8373192488350962, 'subsample': 0.4014189242988321}. Best is trial 89 with value: 2.103285353610965.\u001b[0m\n",
      "\u001b[32m[I 2023-06-21 06:10:30,288]\u001b[0m Trial 95 finished with value: 2.1200149107684276 and parameters: {'max_depth': 3, 'learning_rate': 0.04878686607968371, 'n_estimators': 362, 'gamma': 0.5567001893598084, 'reg_alpha': 0.21008901264486235, 'reg_lambda': 1.1308596613130861, 'colsample_bytree': 0.7965785131451502, 'subsample': 0.4177985780375196}. Best is trial 89 with value: 2.103285353610965.\u001b[0m\n",
      "\u001b[32m[I 2023-06-21 06:11:44,774]\u001b[0m Trial 96 finished with value: 2.1472762418078903 and parameters: {'max_depth': 4, 'learning_rate': 0.046577347493352454, 'n_estimators': 276, 'gamma': 0.5351445386943895, 'reg_alpha': 0.3065441367162496, 'reg_lambda': 1.0118495365233586, 'colsample_bytree': 0.8074938258016721, 'subsample': 0.4141876539996152}. Best is trial 89 with value: 2.103285353610965.\u001b[0m\n",
      "\u001b[32m[I 2023-06-21 06:12:42,512]\u001b[0m Trial 97 finished with value: 2.1758528157143635 and parameters: {'max_depth': 3, 'learning_rate': 0.048853452541948665, 'n_estimators': 279, 'gamma': 0.5377525531888692, 'reg_alpha': 0.3084728906952666, 'reg_lambda': 1.022530921729481, 'colsample_bytree': 0.8024372491592179, 'subsample': 0.4004181255325334}. Best is trial 89 with value: 2.103285353610965.\u001b[0m\n",
      "\u001b[32m[I 2023-06-21 06:13:53,394]\u001b[0m Trial 98 finished with value: 2.3986005894934643 and parameters: {'max_depth': 4, 'learning_rate': 0.082088722914159, 'n_estimators': 264, 'gamma': 0.4814833138852407, 'reg_alpha': 0.17508620447817483, 'reg_lambda': 0.5186347940409043, 'colsample_bytree': 0.835134940217706, 'subsample': 0.4174764431943492}. Best is trial 89 with value: 2.103285353610965.\u001b[0m\n",
      "\u001b[32m[I 2023-06-21 06:14:59,524]\u001b[0m Trial 99 finished with value: 2.2034272353443396 and parameters: {'max_depth': 3, 'learning_rate': 0.07246287659037239, 'n_estimators': 323, 'gamma': 0.5548923503101515, 'reg_alpha': 0.3946466488984177, 'reg_lambda': 0.9242463130666521, 'colsample_bytree': 0.8149175115926799, 'subsample': 0.42293956368312025}. Best is trial 89 with value: 2.103285353610965.\u001b[0m\n",
      "\u001b[32m[I 2023-06-21 06:16:30,653]\u001b[0m Trial 100 finished with value: 2.3311266005755735 and parameters: {'max_depth': 4, 'learning_rate': 0.10566351767675147, 'n_estimators': 360, 'gamma': 0.6073592381909716, 'reg_alpha': 0.6499307153215055, 'reg_lambda': 1.4400560876876307, 'colsample_bytree': 0.7896207751327612, 'subsample': 0.41482690432934644}. Best is trial 89 with value: 2.103285353610965.\u001b[0m\n",
      "\u001b[32m[I 2023-06-21 06:18:39,762]\u001b[0m Trial 101 finished with value: 2.1348010857289847 and parameters: {'max_depth': 4, 'learning_rate': 0.04262598175976544, 'n_estimators': 488, 'gamma': 0.4317903106657325, 'reg_alpha': 0.4272391106187375, 'reg_lambda': 1.1855362426266247, 'colsample_bytree': 0.8650803383852753, 'subsample': 0.40002521329777857}. Best is trial 89 with value: 2.103285353610965.\u001b[0m\n",
      "\u001b[32m[I 2023-06-21 06:19:45,802]\u001b[0m Trial 102 finished with value: 2.1913386819667298 and parameters: {'max_depth': 3, 'learning_rate': 0.04746014567687633, 'n_estimators': 311, 'gamma': 0.4297405724497127, 'reg_alpha': 0.01617387611516774, 'reg_lambda': 1.1526009446639744, 'colsample_bytree': 0.8518818977435809, 'subsample': 0.43166166263630895}. Best is trial 89 with value: 2.103285353610965.\u001b[0m\n",
      "\u001b[32m[I 2023-06-21 06:21:53,364]\u001b[0m Trial 103 finished with value: 2.184876358074016 and parameters: {'max_depth': 4, 'learning_rate': 0.013174551112803967, 'n_estimators': 496, 'gamma': 0.5140118463398178, 'reg_alpha': 0.42152521312127833, 'reg_lambda': 1.6281128422733862, 'colsample_bytree': 0.8282500422716512, 'subsample': 0.40627772942961304}. Best is trial 89 with value: 2.103285353610965.\u001b[0m\n",
      "\u001b[32m[I 2023-06-21 06:22:52,130]\u001b[0m Trial 104 finished with value: 2.160999137477208 and parameters: {'max_depth': 3, 'learning_rate': 0.039424113456501306, 'n_estimators': 300, 'gamma': 0.4961084733914388, 'reg_alpha': 0.9045018009801269, 'reg_lambda': 0.5041118199408813, 'colsample_bytree': 0.802644188479967, 'subsample': 0.4012824510555725}. Best is trial 89 with value: 2.103285353610965.\u001b[0m\n",
      "\u001b[32m[I 2023-06-21 06:26:53,704]\u001b[0m Trial 105 finished with value: 2.509685415319 and parameters: {'max_depth': 3, 'learning_rate': 0.09314289439222265, 'n_estimators': 1248, 'gamma': 0.5231728678194412, 'reg_alpha': 0.1772524396953835, 'reg_lambda': 0.9244007069345613, 'colsample_bytree': 0.7529310973054648, 'subsample': 0.42591824036065623}. Best is trial 89 with value: 2.103285353610965.\u001b[0m\n",
      "\u001b[32m[I 2023-06-21 06:28:06,539]\u001b[0m Trial 106 finished with value: 2.415989612512664 and parameters: {'max_depth': 4, 'learning_rate': 0.12972134803147017, 'n_estimators': 250, 'gamma': 0.566496672151081, 'reg_alpha': 0.5073293735668616, 'reg_lambda': 1.3243481981822567, 'colsample_bytree': 0.8690965981872163, 'subsample': 0.41419873583583566}. Best is trial 89 with value: 2.103285353610965.\u001b[0m\n",
      "\u001b[32m[I 2023-06-21 06:29:36,676]\u001b[0m Trial 107 finished with value: 3.7357756169964276 and parameters: {'max_depth': 3, 'learning_rate': 0.5503059176494931, 'n_estimators': 419, 'gamma': 0.6027393567579185, 'reg_alpha': 0.7794880512971714, 'reg_lambda': 1.0760130640376944, 'colsample_bytree': 0.8380730426848512, 'subsample': 0.4502196136212234}. Best is trial 89 with value: 2.103285353610965.\u001b[0m\n",
      "\u001b[32m[I 2023-06-21 06:31:18,217]\u001b[0m Trial 108 finished with value: 2.2329191120422474 and parameters: {'max_depth': 4, 'learning_rate': 0.05947221684146657, 'n_estimators': 350, 'gamma': 0.6624458088432071, 'reg_alpha': 0.15178967022534373, 'reg_lambda': 1.7114974020681395, 'colsample_bytree': 0.9036139688095265, 'subsample': 0.433945123381868}. Best is trial 89 with value: 2.103285353610965.\u001b[0m\n",
      "\u001b[32m[I 2023-06-21 06:33:05,217]\u001b[0m Trial 109 finished with value: 2.1775734129473143 and parameters: {'max_depth': 3, 'learning_rate': 0.024932412588114572, 'n_estimators': 518, 'gamma': 0.41625398036552297, 'reg_alpha': 0.35670474646881833, 'reg_lambda': 1.24464654148679, 'colsample_bytree': 0.8212226108964065, 'subsample': 0.41165634915820426}. Best is trial 89 with value: 2.103285353610965.\u001b[0m\n",
      "\u001b[32m[I 2023-06-21 06:34:28,453]\u001b[0m Trial 110 finished with value: 2.245223272882046 and parameters: {'max_depth': 4, 'learning_rate': 0.06791741845551269, 'n_estimators': 282, 'gamma': 0.5446601068775541, 'reg_alpha': 0.6373179892882421, 'reg_lambda': 1.9184775583264613, 'colsample_bytree': 0.8539351264336288, 'subsample': 0.45171267645912094}. Best is trial 89 with value: 2.103285353610965.\u001b[0m\n",
      "\u001b[32m[I 2023-06-21 06:35:29,761]\u001b[0m Trial 111 finished with value: 2.1605437449255653 and parameters: {'max_depth': 4, 'learning_rate': 0.039621711574121546, 'n_estimators': 207, 'gamma': 0.4432215714035677, 'reg_alpha': 0.3411747004229372, 'reg_lambda': 1.4726780089045124, 'colsample_bytree': 0.8550969307923556, 'subsample': 0.43294752056320956}. Best is trial 89 with value: 2.103285353610965.\u001b[0m\n",
      "\u001b[32m[I 2023-06-21 06:36:51,643]\u001b[0m Trial 112 finished with value: 2.216730181196148 and parameters: {'max_depth': 3, 'learning_rate': 0.01459871225005479, 'n_estimators': 376, 'gamma': 0.3826413133779979, 'reg_alpha': 0.5254958406313205, 'reg_lambda': 0.8576818831546187, 'colsample_bytree': 0.7933898145706555, 'subsample': 0.42344660130126976}. Best is trial 89 with value: 2.103285353610965.\u001b[0m\n",
      "\u001b[32m[I 2023-06-21 06:38:36,482]\u001b[0m Trial 113 finished with value: 2.1293979404010743 and parameters: {'max_depth': 3, 'learning_rate': 0.04891345585104599, 'n_estimators': 486, 'gamma': 0.490538144633748, 'reg_alpha': 0.8115920336318493, 'reg_lambda': 0.7408132278931985, 'colsample_bytree': 0.814389639179378, 'subsample': 0.40107985164760673}. Best is trial 89 with value: 2.103285353610965.\u001b[0m\n",
      "\u001b[32m[I 2023-06-21 06:40:19,661]\u001b[0m Trial 114 finished with value: 2.197017186492444 and parameters: {'max_depth': 3, 'learning_rate': 0.054188701738496534, 'n_estimators': 478, 'gamma': 0.49295520388271563, 'reg_alpha': 0.7981845058276263, 'reg_lambda': 0.6596378447193988, 'colsample_bytree': 0.8159700152436061, 'subsample': 0.4005110076432442}. Best is trial 89 with value: 2.103285353610965.\u001b[0m\n",
      "\u001b[32m[I 2023-06-21 06:41:33,709]\u001b[0m Trial 115 finished with value: 2.177155650620224 and parameters: {'max_depth': 3, 'learning_rate': 0.02847219497145089, 'n_estimators': 336, 'gamma': 0.5625193454146818, 'reg_alpha': 0.278639604926482, 'reg_lambda': 0.2777855645844287, 'colsample_bytree': 0.8082160812414729, 'subsample': 0.4128330735804392}. Best is trial 89 with value: 2.103285353610965.\u001b[0m\n",
      "\u001b[32m[I 2023-06-21 06:43:24,927]\u001b[0m Trial 116 finished with value: 2.281216499543853 and parameters: {'max_depth': 3, 'learning_rate': 0.08335966932580176, 'n_estimators': 506, 'gamma': 0.4667199588691884, 'reg_alpha': 0.931567705314144, 'reg_lambda': 2.161774884207155, 'colsample_bytree': 0.7564637827407072, 'subsample': 0.4427268194265082}. Best is trial 89 with value: 2.103285353610965.\u001b[0m\n",
      "\u001b[32m[I 2023-06-21 06:45:18,890]\u001b[0m Trial 117 finished with value: 2.249073178196108 and parameters: {'max_depth': 3, 'learning_rate': 0.07358224179936082, 'n_estimators': 468, 'gamma': 0.6350987196299892, 'reg_alpha': 0.09260642145107081, 'reg_lambda': 1.6627947762745623, 'colsample_bytree': 0.7786441816769037, 'subsample': 0.6437101953594473}. Best is trial 89 with value: 2.103285353610965.\u001b[0m\n",
      "\u001b[32m[I 2023-06-21 06:47:23,360]\u001b[0m Trial 118 finished with value: 2.1555376839903397 and parameters: {'max_depth': 4, 'learning_rate': 0.047514850304422145, 'n_estimators': 413, 'gamma': 0.5195386905043458, 'reg_alpha': 0.6660478606147604, 'reg_lambda': 1.0811861747328328, 'colsample_bytree': 0.830713905616086, 'subsample': 0.4260917949282161}. Best is trial 89 with value: 2.103285353610965.\u001b[0m\n",
      "\u001b[32m[I 2023-06-21 06:49:32,917]\u001b[0m Trial 119 finished with value: 2.220159388331536 and parameters: {'max_depth': 4, 'learning_rate': 0.04240863409319134, 'n_estimators': 418, 'gamma': 0.5195068759556045, 'reg_alpha': 0.6393707141853244, 'reg_lambda': 1.0362630431051414, 'colsample_bytree': 0.8737730772491429, 'subsample': 0.43094090489089776}. Best is trial 89 with value: 2.103285353610965.\u001b[0m\n",
      "\u001b[32m[I 2023-06-21 06:52:48,620]\u001b[0m Trial 120 finished with value: 2.552189333203047 and parameters: {'max_depth': 4, 'learning_rate': 0.11380717319190953, 'n_estimators': 587, 'gamma': 0.6838035235587396, 'reg_alpha': 0.013752218082769607, 'reg_lambda': 0.6007320704404088, 'colsample_bytree': 0.841103789150091, 'subsample': 0.4554408312511972}. Best is trial 89 with value: 2.103285353610965.\u001b[0m\n",
      "\u001b[32m[I 2023-06-21 06:54:28,665]\u001b[0m Trial 121 finished with value: 2.175688436700386 and parameters: {'max_depth': 3, 'learning_rate': 0.05906076074860672, 'n_estimators': 382, 'gamma': 0.5283229548024765, 'reg_alpha': 0.4615413991828914, 'reg_lambda': 0.8107822595227661, 'colsample_bytree': 0.8324836118307162, 'subsample': 0.42029340267017085}. Best is trial 89 with value: 2.103285353610965.\u001b[0m\n",
      "\u001b[32m[I 2023-06-21 06:56:38,373]\u001b[0m Trial 122 finished with value: 2.2141959508757587 and parameters: {'max_depth': 4, 'learning_rate': 0.01564415344170226, 'n_estimators': 412, 'gamma': 0.49309386287850665, 'reg_alpha': 5.144483546987457, 'reg_lambda': 1.193373879538424, 'colsample_bytree': 0.7893609718440241, 'subsample': 0.4009556983434589}. Best is trial 89 with value: 2.103285353610965.\u001b[0m\n",
      "\u001b[32m[I 2023-06-21 06:58:07,687]\u001b[0m Trial 123 finished with value: 3.079287964447162 and parameters: {'max_depth': 3, 'learning_rate': 0.38019184812467094, 'n_estimators': 331, 'gamma': 0.6142189347676192, 'reg_alpha': 0.20871594851117223, 'reg_lambda': 0.3629708125117921, 'colsample_bytree': 0.802527666601265, 'subsample': 0.43552555109260455}. Best is trial 89 with value: 2.103285353610965.\u001b[0m\n",
      "\u001b[32m[I 2023-06-21 06:59:10,184]\u001b[0m Trial 124 finished with value: 2.1886953362445376 and parameters: {'max_depth': 3, 'learning_rate': 0.030388345924920568, 'n_estimators': 241, 'gamma': 0.5891623558679197, 'reg_alpha': 0.6845816531836686, 'reg_lambda': 1.384591326135486, 'colsample_bytree': 0.8142744336030759, 'subsample': 0.41592866362298386}. Best is trial 89 with value: 2.103285353610965.\u001b[0m\n",
      "\u001b[32m[I 2023-06-21 07:02:19,393]\u001b[0m Trial 125 finished with value: 2.284103385487531 and parameters: {'max_depth': 4, 'learning_rate': 0.07009548331812616, 'n_estimators': 544, 'gamma': 0.5491732360602507, 'reg_alpha': 0.8607299929606853, 'reg_lambda': 1.4759288940968696, 'colsample_bytree': 0.8264155181060662, 'subsample': 0.44608954097075515}. Best is trial 89 with value: 2.103285353610965.\u001b[0m\n",
      "\u001b[32m[I 2023-06-21 07:20:07,169]\u001b[0m Trial 126 finished with value: 3.094759650500401 and parameters: {'max_depth': 12, 'learning_rate': 0.04670512365705394, 'n_estimators': 874, 'gamma': 0.5036259379636091, 'reg_alpha': 0.4536143331645376, 'reg_lambda': 1.88373146413064, 'colsample_bytree': 0.8640178390537886, 'subsample': 0.7317156625721678}. Best is trial 89 with value: 2.103285353610965.\u001b[0m\n",
      "\u001b[32m[I 2023-06-21 07:21:09,917]\u001b[0m Trial 127 finished with value: 2.257279007236845 and parameters: {'max_depth': 3, 'learning_rate': 0.08794692081778482, 'n_estimators': 286, 'gamma': 0.5733681034851484, 'reg_alpha': 6.166259636677861, 'reg_lambda': 1.5523063448866672, 'colsample_bytree': 0.7718992918595219, 'subsample': 0.4234462313907353}. Best is trial 89 with value: 2.103285353610965.\u001b[0m\n",
      "\u001b[32m[I 2023-06-21 07:26:21,194]\u001b[0m Trial 128 finished with value: 2.488189848662467 and parameters: {'max_depth': 9, 'learning_rate': 0.01166034145905584, 'n_estimators': 449, 'gamma': 0.5967324664263103, 'reg_alpha': 1.2289105102885693, 'reg_lambda': 1.2443562446205862, 'colsample_bytree': 0.730794849803809, 'subsample': 0.8205642757418707}. Best is trial 89 with value: 2.103285353610965.\u001b[0m\n",
      "\u001b[32m[I 2023-06-21 07:32:31,334]\u001b[0m Trial 129 finished with value: 12.912130910913953 and parameters: {'max_depth': 14, 'learning_rate': 0.4597617454618069, 'n_estimators': 357, 'gamma': 0.5325155001338003, 'reg_alpha': 0.3413878614141157, 'reg_lambda': 0.7896694622662288, 'colsample_bytree': 0.7971786346948068, 'subsample': 0.41337592075620877}. Best is trial 89 with value: 2.103285353610965.\u001b[0m\n",
      "\u001b[32m[I 2023-06-21 07:34:07,644]\u001b[0m Trial 130 finished with value: 2.2009274627572326 and parameters: {'max_depth': 4, 'learning_rate': 0.03492531640142241, 'n_estimators': 309, 'gamma': 0.4815661673898592, 'reg_alpha': 0.5481523978631648, 'reg_lambda': 1.0853649076487368, 'colsample_bytree': 0.8424375812694033, 'subsample': 0.4612774102054649}. Best is trial 89 with value: 2.103285353610965.\u001b[0m\n",
      "\u001b[32m[I 2023-06-21 07:36:24,248]\u001b[0m Trial 131 finished with value: 2.2470089183966073 and parameters: {'max_depth': 4, 'learning_rate': 0.05491773123036219, 'n_estimators': 427, 'gamma': 0.4402487774071247, 'reg_alpha': 1.0384397750301235, 'reg_lambda': 1.7255438608706561, 'colsample_bytree': 0.8568083817309085, 'subsample': 0.47827910807239077}. Best is trial 89 with value: 2.103285353610965.\u001b[0m\n",
      "\u001b[32m[I 2023-06-21 07:37:59,618]\u001b[0m Trial 132 finished with value: 2.3350387465002855 and parameters: {'max_depth': 3, 'learning_rate': 0.0466689292589659, 'n_estimators': 387, 'gamma': 0.4744684124656229, 'reg_alpha': 0.24482611110547153, 'reg_lambda': 4.664667594208343, 'colsample_bytree': 0.8855641017668672, 'subsample': 0.43942005341936685}. Best is trial 89 with value: 2.103285353610965.\u001b[0m\n",
      "\u001b[32m[I 2023-06-21 07:40:56,227]\u001b[0m Trial 133 finished with value: 2.217525549198312 and parameters: {'max_depth': 5, 'learning_rate': 0.024657565077202022, 'n_estimators': 469, 'gamma': 0.5566173980584425, 'reg_alpha': 1.177969568836352, 'reg_lambda': 0.9689077997452542, 'colsample_bytree': 0.8987834159699017, 'subsample': 0.42776865592193913}. Best is trial 89 with value: 2.103285353610965.\u001b[0m\n",
      "\u001b[32m[I 2023-06-21 07:41:44,827]\u001b[0m Trial 134 finished with value: 2.1859643293519078 and parameters: {'max_depth': 3, 'learning_rate': 0.09928693095191705, 'n_estimators': 202, 'gamma': 0.413624064058068, 'reg_alpha': 0.7387064205503842, 'reg_lambda': 2.039376999177806, 'colsample_bytree': 0.824275704193503, 'subsample': 0.4885422891843392}. Best is trial 89 with value: 2.103285353610965.\u001b[0m\n",
      "\u001b[32m[I 2023-06-21 07:44:09,684]\u001b[0m Trial 135 finished with value: 2.211534569085226 and parameters: {'max_depth': 4, 'learning_rate': 0.06401695050034667, 'n_estimators': 506, 'gamma': 0.5195707215403012, 'reg_alpha': 0.9519161514090043, 'reg_lambda': 1.2995964158682582, 'colsample_bytree': 0.7851131513118164, 'subsample': 0.44970304798160576}. Best is trial 89 with value: 2.103285353610965.\u001b[0m\n",
      "\u001b[32m[I 2023-06-21 07:47:42,464]\u001b[0m Trial 136 finished with value: 3.604702601127734 and parameters: {'max_depth': 10, 'learning_rate': 0.0010549708884990926, 'n_estimators': 259, 'gamma': 0.5033895809673056, 'reg_alpha': 0.13991703508917847, 'reg_lambda': 1.5923663708932607, 'colsample_bytree': 0.8746905351423723, 'subsample': 0.4013806388811872}. Best is trial 89 with value: 2.103285353610965.\u001b[0m\n",
      "\u001b[32m[I 2023-06-21 07:49:16,092]\u001b[0m Trial 137 finished with value: 2.2917253271869162 and parameters: {'max_depth': 3, 'learning_rate': 0.07786466064305106, 'n_estimators': 650, 'gamma': 0.46067386655555786, 'reg_alpha': 0.6019521951348377, 'reg_lambda': 0.7001780381221342, 'colsample_bytree': 0.40808819783330735, 'subsample': 0.41326295265358276}. Best is trial 89 with value: 2.103285353610965.\u001b[0m\n",
      "\u001b[32m[I 2023-06-21 07:51:00,421]\u001b[0m Trial 138 finished with value: 2.9734113523898484 and parameters: {'max_depth': 4, 'learning_rate': 0.28911921556596903, 'n_estimators': 337, 'gamma': 0.5731073496365743, 'reg_alpha': 0.43454925923118476, 'reg_lambda': 2.2431069684205887, 'colsample_bytree': 0.8464336806479762, 'subsample': 0.4576971524059281}. Best is trial 89 with value: 2.103285353610965.\u001b[0m\n",
      "\u001b[32m[I 2023-06-21 07:52:30,593]\u001b[0m Trial 139 finished with value: 2.294659353103259 and parameters: {'max_depth': 3, 'learning_rate': 0.037591391432556395, 'n_estimators': 401, 'gamma': 0.5452013285127243, 'reg_alpha': 0.836839706563819, 'reg_lambda': 4.979705778753737, 'colsample_bytree': 0.8092069585111591, 'subsample': 0.42841337387282946}. Best is trial 89 with value: 2.103285353610965.\u001b[0m\n",
      "\u001b[32m[I 2023-06-21 07:52:56,630]\u001b[0m Trial 140 finished with value: 2.295636927842545 and parameters: {'max_depth': 5, 'learning_rate': 0.019956490515055773, 'n_estimators': 73, 'gamma': 0.39366388236057037, 'reg_alpha': 0.27015307214634193, 'reg_lambda': 1.3961468855189318, 'colsample_bytree': 0.8251373723694967, 'subsample': 0.40006117658671786}. Best is trial 89 with value: 2.103285353610965.\u001b[0m\n",
      "\u001b[32m[I 2023-06-21 07:53:47,645]\u001b[0m Trial 141 finished with value: 2.176342906361435 and parameters: {'max_depth': 4, 'learning_rate': 0.04149474181332635, 'n_estimators': 165, 'gamma': 0.44284236891091233, 'reg_alpha': 0.3596014084987384, 'reg_lambda': 1.5389229670106257, 'colsample_bytree': 0.8620444611434808, 'subsample': 0.4365961540528501}. Best is trial 89 with value: 2.103285353610965.\u001b[0m\n",
      "\u001b[32m[I 2023-06-21 07:54:51,356]\u001b[0m Trial 142 finished with value: 2.073825143869354 and parameters: {'max_depth': 4, 'learning_rate': 0.056901755640135235, 'n_estimators': 214, 'gamma': 0.44716540258976356, 'reg_alpha': 0.30371993367372513, 'reg_lambda': 1.1152200659246774, 'colsample_bytree': 0.8339111689321749, 'subsample': 0.4358889399097483}. Best is trial 142 with value: 2.073825143869354.\u001b[0m\n",
      "\u001b[32m[I 2023-06-21 07:55:40,832]\u001b[0m Trial 143 finished with value: 2.262317915391687 and parameters: {'max_depth': 3, 'learning_rate': 0.05408260425015952, 'n_estimators': 215, 'gamma': 0.48801134582446726, 'reg_alpha': 0.07846466338723726, 'reg_lambda': 4.228403026525672, 'colsample_bytree': 0.8375772947459947, 'subsample': 0.4145156644784785}. Best is trial 142 with value: 2.073825143869354.\u001b[0m\n",
      "\u001b[32m[I 2023-06-21 07:57:31,985]\u001b[0m Trial 144 finished with value: 2.34214847686197 and parameters: {'max_depth': 4, 'learning_rate': 0.06490423435578344, 'n_estimators': 366, 'gamma': 0.5325331381622687, 'reg_alpha': 0.6994093454253432, 'reg_lambda': 1.1578945642823764, 'colsample_bytree': 0.8105297169859667, 'subsample': 0.4698377214868041}. Best is trial 142 with value: 2.073825143869354.\u001b[0m\n",
      "\u001b[32m[I 2023-06-21 07:59:22,381]\u001b[0m Trial 145 finished with value: 2.232990729964029 and parameters: {'max_depth': 5, 'learning_rate': 0.02601820271407058, 'n_estimators': 310, 'gamma': 0.45596354021641516, 'reg_alpha': 0.5136892914629163, 'reg_lambda': 0.8746349745917366, 'colsample_bytree': 0.7923771572376096, 'subsample': 0.44330947154449646}. Best is trial 142 with value: 2.073825143869354.\u001b[0m\n",
      "\u001b[32m[I 2023-06-21 08:00:26,493]\u001b[0m Trial 146 finished with value: 2.4267467461884906 and parameters: {'max_depth': 3, 'learning_rate': 0.07556900882996428, 'n_estimators': 267, 'gamma': 0.3357702625674399, 'reg_alpha': 0.19364993326471203, 'reg_lambda': 1.0397818223291306, 'colsample_bytree': 0.7735725545734055, 'subsample': 0.681154495552913}. Best is trial 142 with value: 2.073825143869354.\u001b[0m\n",
      "\u001b[32m[I 2023-06-21 08:04:12,818]\u001b[0m Trial 147 finished with value: 2.1825518115716434 and parameters: {'max_depth': 4, 'learning_rate': 0.011738386975737002, 'n_estimators': 810, 'gamma': 0.4227067712806972, 'reg_alpha': 0.46563343527333334, 'reg_lambda': 1.835269713601331, 'colsample_bytree': 0.830021725524015, 'subsample': 0.42042136605759894}. Best is trial 142 with value: 2.073825143869354.\u001b[0m\n",
      "\u001b[32m[I 2023-06-21 08:05:44,035]\u001b[0m Trial 148 finished with value: 2.5144049486649647 and parameters: {'max_depth': 3, 'learning_rate': 0.09370904738634706, 'n_estimators': 452, 'gamma': 0.5536124016002849, 'reg_alpha': 1.1280331278448616, 'reg_lambda': 1.1756440923212794, 'colsample_bytree': 0.7604761601027682, 'subsample': 0.43108989869134345}. Best is trial 142 with value: 2.073825143869354.\u001b[0m\n",
      "\u001b[32m[I 2023-06-21 08:06:48,492]\u001b[0m Trial 149 finished with value: 2.2782929426852156 and parameters: {'max_depth': 4, 'learning_rate': 0.04878579205241955, 'n_estimators': 235, 'gamma': 0.5100131861311287, 'reg_alpha': 0.011263651391311413, 'reg_lambda': 0.44276520862853047, 'colsample_bytree': 0.8487641203113574, 'subsample': 0.4124059391125333}. Best is trial 142 with value: 2.073825143869354.\u001b[0m\n",
      "\u001b[32m[I 2023-06-21 08:07:02,599]\u001b[0m Trial 150 finished with value: 2.2054405569822264 and parameters: {'max_depth': 3, 'learning_rate': 0.032120567541045794, 'n_estimators': 59, 'gamma': 0.6151169806985294, 'reg_alpha': 0.7874331688568967, 'reg_lambda': 1.392259002830929, 'colsample_bytree': 0.8002749583327786, 'subsample': 0.48049239664111437}. Best is trial 142 with value: 2.073825143869354.\u001b[0m\n",
      "\u001b[32m[I 2023-06-21 08:08:07,568]\u001b[0m Trial 151 finished with value: 2.219179124818761 and parameters: {'max_depth': 4, 'learning_rate': 0.037468137930392664, 'n_estimators': 224, 'gamma': 0.44194286365660135, 'reg_alpha': 0.2994302413156369, 'reg_lambda': 1.4326724567597244, 'colsample_bytree': 0.8650533590956716, 'subsample': 0.4315903890939222}. Best is trial 142 with value: 2.073825143869354.\u001b[0m\n",
      "\u001b[32m[I 2023-06-21 08:09:30,390]\u001b[0m Trial 152 finished with value: 2.3758456840315674 and parameters: {'max_depth': 8, 'learning_rate': 0.06042559500634609, 'n_estimators': 148, 'gamma': 0.47611084533788867, 'reg_alpha': 0.2962164635089195, 'reg_lambda': 0.9044482686722818, 'colsample_bytree': 0.858460130140431, 'subsample': 0.45021012864362986}. Best is trial 142 with value: 2.073825143869354.\u001b[0m\n",
      "\u001b[32m[I 2023-06-21 08:10:24,028]\u001b[0m Trial 153 finished with value: 2.162864909844777 and parameters: {'max_depth': 4, 'learning_rate': 0.04230490850673611, 'n_estimators': 192, 'gamma': 0.5855625786983046, 'reg_alpha': 0.4188220470046171, 'reg_lambda': 1.6580803954526893, 'colsample_bytree': 0.8519313571935273, 'subsample': 0.42296812600484385}. Best is trial 142 with value: 2.073825143869354.\u001b[0m\n",
      "\u001b[32m[I 2023-06-21 08:12:06,962]\u001b[0m Trial 154 finished with value: 2.2885362625823036 and parameters: {'max_depth': 5, 'learning_rate': 0.020249674910222455, 'n_estimators': 291, 'gamma': 0.389045932426148, 'reg_alpha': 0.635875973377059, 'reg_lambda': 1.2889391352274469, 'colsample_bytree': 0.8190946071008578, 'subsample': 0.4372054802114468}. Best is trial 142 with value: 2.073825143869354.\u001b[0m\n",
      "\u001b[32m[I 2023-06-21 08:13:40,745]\u001b[0m Trial 155 finished with value: 2.1769113667998155 and parameters: {'max_depth': 3, 'learning_rate': 0.0540543461233068, 'n_estimators': 425, 'gamma': 0.40972284655366353, 'reg_alpha': 0.1498981065706415, 'reg_lambda': 1.1023609091131832, 'colsample_bytree': 0.8331660571843361, 'subsample': 0.40914695405230944}. Best is trial 142 with value: 2.073825143869354.\u001b[0m\n",
      "\u001b[32m[I 2023-06-21 08:15:23,619]\u001b[0m Trial 156 finished with value: 2.334159237276305 and parameters: {'max_depth': 4, 'learning_rate': 0.07048513057006825, 'n_estimators': 342, 'gamma': 0.36396173325293224, 'reg_alpha': 0.3489808407258176, 'reg_lambda': 0.7195092178357015, 'colsample_bytree': 0.8812932629105135, 'subsample': 0.46410765222115674}. Best is trial 142 with value: 2.073825143869354.\u001b[0m\n",
      "\u001b[32m[I 2023-06-21 08:16:14,018]\u001b[0m Trial 157 finished with value: 2.3230882730073805 and parameters: {'max_depth': 3, 'learning_rate': 0.03283450199603589, 'n_estimators': 377, 'gamma': 0.5004077105456952, 'reg_alpha': 0.5221312759942089, 'reg_lambda': 1.9231557103894985, 'colsample_bytree': 0.4447010089543372, 'subsample': 0.4007194460914043}. Best is trial 142 with value: 2.073825143869354.\u001b[0m\n",
      "\u001b[32m[I 2023-06-21 08:18:26,531]\u001b[0m Trial 158 finished with value: 2.3185566887836253 and parameters: {'max_depth': 4, 'learning_rate': 0.08129327599968594, 'n_estimators': 488, 'gamma': 0.4421377199575523, 'reg_alpha': 0.15635237464092933, 'reg_lambda': 1.5195439070790489, 'colsample_bytree': 0.8406912417629923, 'subsample': 0.42534139146895483}. Best is trial 142 with value: 2.073825143869354.\u001b[0m\n",
      "\u001b[32m[I 2023-06-21 08:19:07,528]\u001b[0m Trial 159 finished with value: 2.2993361745440923 and parameters: {'max_depth': 3, 'learning_rate': 0.010494906586462745, 'n_estimators': 189, 'gamma': 0.5678879643261696, 'reg_alpha': 0.9729558269871005, 'reg_lambda': 2.4363741681604485, 'colsample_bytree': 0.8114372171824435, 'subsample': 0.4470330807438737}. Best is trial 142 with value: 2.073825143869354.\u001b[0m\n",
      "\u001b[32m[I 2023-06-21 08:19:32,589]\u001b[0m Trial 160 finished with value: 2.128995791728334 and parameters: {'max_depth': 3, 'learning_rate': 0.04912739776942019, 'n_estimators': 119, 'gamma': 0.5249256049315373, 'reg_alpha': 1.2698673329141719, 'reg_lambda': 0.9857306212870333, 'colsample_bytree': 0.78227920734891, 'subsample': 0.43730773734667044}. Best is trial 142 with value: 2.073825143869354.\u001b[0m\n",
      "\u001b[32m[I 2023-06-21 08:19:54,414]\u001b[0m Trial 161 finished with value: 2.1240490090041257 and parameters: {'max_depth': 3, 'learning_rate': 0.05374657385239369, 'n_estimators': 104, 'gamma': 0.5409038150516214, 'reg_alpha': 1.4483119781574256, 'reg_lambda': 1.0348331171308245, 'colsample_bytree': 0.7820861327793601, 'subsample': 0.43728480757789717}. Best is trial 142 with value: 2.073825143869354.\u001b[0m\n",
      "\u001b[32m[I 2023-06-21 08:20:16,257]\u001b[0m Trial 162 finished with value: 2.0912051743628775 and parameters: {'max_depth': 3, 'learning_rate': 0.056438539673357116, 'n_estimators': 107, 'gamma': 0.5257341287235104, 'reg_alpha': 1.4845677968840822, 'reg_lambda': 0.9741754664038131, 'colsample_bytree': 0.7814508658754382, 'subsample': 0.41173171894008315}. Best is trial 142 with value: 2.073825143869354.\u001b[0m\n",
      "\u001b[32m[I 2023-06-21 08:20:43,719]\u001b[0m Trial 163 finished with value: 2.1199082918553573 and parameters: {'max_depth': 3, 'learning_rate': 0.05883857843320477, 'n_estimators': 136, 'gamma': 0.5284360349794212, 'reg_alpha': 1.5313861883023405, 'reg_lambda': 0.996591488756345, 'colsample_bytree': 0.7809331677811975, 'subsample': 0.41195547039152675}. Best is trial 142 with value: 2.073825143869354.\u001b[0m\n",
      "\u001b[32m[I 2023-06-21 08:21:04,864]\u001b[0m Trial 164 finished with value: 2.142368520271654 and parameters: {'max_depth': 3, 'learning_rate': 0.06283497793430219, 'n_estimators': 104, 'gamma': 0.522902967154494, 'reg_alpha': 1.6534100832933851, 'reg_lambda': 0.9763726266239827, 'colsample_bytree': 0.7818977579254761, 'subsample': 0.4102069168661151}. Best is trial 142 with value: 2.073825143869354.\u001b[0m\n",
      "\u001b[32m[I 2023-06-21 08:21:20,332]\u001b[0m Trial 165 finished with value: 2.1413739615129392 and parameters: {'max_depth': 3, 'learning_rate': 0.06351676630877164, 'n_estimators': 74, 'gamma': 0.5540349602521533, 'reg_alpha': 1.5479592897259855, 'reg_lambda': 0.8006131269019405, 'colsample_bytree': 0.7822426446140047, 'subsample': 0.41348595667464677}. Best is trial 142 with value: 2.073825143869354.\u001b[0m\n",
      "\u001b[32m[I 2023-06-21 08:21:42,287]\u001b[0m Trial 166 finished with value: 2.15031181741899 and parameters: {'max_depth': 3, 'learning_rate': 0.0660105030709783, 'n_estimators': 109, 'gamma': 0.529727904561402, 'reg_alpha': 1.7391931001093648, 'reg_lambda': 0.10317012633607447, 'colsample_bytree': 0.7645723585990212, 'subsample': 0.4130673321737424}. Best is trial 142 with value: 2.073825143869354.\u001b[0m\n",
      "\u001b[32m[I 2023-06-21 08:22:04,291]\u001b[0m Trial 167 finished with value: 2.163805809433449 and parameters: {'max_depth': 3, 'learning_rate': 0.06663331507836831, 'n_estimators': 110, 'gamma': 0.5324317915947371, 'reg_alpha': 1.7688679465069876, 'reg_lambda': 0.6102207212564705, 'colsample_bytree': 0.7641012726211069, 'subsample': 0.41164720324679777}. Best is trial 142 with value: 2.073825143869354.\u001b[0m\n",
      "\u001b[32m[I 2023-06-21 08:22:22,956]\u001b[0m Trial 168 finished with value: 2.2055687738504988 and parameters: {'max_depth': 3, 'learning_rate': 0.08139882634008642, 'n_estimators': 91, 'gamma': 0.5173962457000041, 'reg_alpha': 1.6071980777703652, 'reg_lambda': 0.12741427723285925, 'colsample_bytree': 0.7806019516892072, 'subsample': 0.4107367709001363}. Best is trial 142 with value: 2.073825143869354.\u001b[0m\n",
      "\u001b[32m[I 2023-06-21 08:22:47,281]\u001b[0m Trial 169 finished with value: 2.1534460845902204 and parameters: {'max_depth': 3, 'learning_rate': 0.08843611875209079, 'n_estimators': 120, 'gamma': 0.5467037438386149, 'reg_alpha': 1.8743990699723727, 'reg_lambda': 0.7780579648148493, 'colsample_bytree': 0.7723490081686804, 'subsample': 0.4201485982224883}. Best is trial 142 with value: 2.073825143869354.\u001b[0m\n",
      "\u001b[32m[I 2023-06-21 08:22:54,449]\u001b[0m Trial 170 finished with value: 2.247723289271268 and parameters: {'max_depth': 3, 'learning_rate': 0.10374508564669499, 'n_estimators': 32, 'gamma': 0.494529942361393, 'reg_alpha': 1.4582415503234694, 'reg_lambda': 0.8687101709037208, 'colsample_bytree': 0.7422076884967017, 'subsample': 0.4392876650993606}. Best is trial 142 with value: 2.073825143869354.\u001b[0m\n",
      "\u001b[32m[I 2023-06-21 08:23:23,284]\u001b[0m Trial 171 finished with value: 2.1721794111030093 and parameters: {'max_depth': 3, 'learning_rate': 0.0589367119102901, 'n_estimators': 142, 'gamma': 0.5567517312486849, 'reg_alpha': 1.6312988596874716, 'reg_lambda': 0.948089368807881, 'colsample_bytree': 0.7927535490053119, 'subsample': 0.4058019927811856}. Best is trial 142 with value: 2.073825143869354.\u001b[0m\n",
      "\u001b[32m[I 2023-06-21 08:24:15,109]\u001b[0m Trial 172 finished with value: 2.4419236955362145 and parameters: {'max_depth': 11, 'learning_rate': 0.07076229228656675, 'n_estimators': 73, 'gamma': 0.598794418587729, 'reg_alpha': 1.2819285278223942, 'reg_lambda': 0.5781859824582348, 'colsample_bytree': 0.8000969003309346, 'subsample': 0.4126262227421849}. Best is trial 142 with value: 2.073825143869354.\u001b[0m\n",
      "\u001b[32m[I 2023-06-21 08:24:44,932]\u001b[0m Trial 173 finished with value: 2.1986341915048007 and parameters: {'max_depth': 3, 'learning_rate': 0.055229824018443716, 'n_estimators': 148, 'gamma': 0.5276086029798563, 'reg_alpha': 1.3994235815727953, 'reg_lambda': 1.2098386699036048, 'colsample_bytree': 0.7876507332804066, 'subsample': 0.40190070589977783}. Best is trial 142 with value: 2.073825143869354.\u001b[0m\n",
      "\u001b[32m[I 2023-06-21 08:25:04,797]\u001b[0m Trial 174 finished with value: 2.2278475203205237 and parameters: {'max_depth': 3, 'learning_rate': 0.049429974819034946, 'n_estimators': 96, 'gamma': 0.5786436993173955, 'reg_alpha': 1.9424109181890583, 'reg_lambda': 0.3789738896377162, 'colsample_bytree': 0.7807694066625517, 'subsample': 0.421575737744933}. Best is trial 142 with value: 2.073825143869354.\u001b[0m\n",
      "\u001b[32m[I 2023-06-21 08:25:17,276]\u001b[0m Trial 175 finished with value: 2.226261283207197 and parameters: {'max_depth': 3, 'learning_rate': 0.06528180388685795, 'n_estimators': 57, 'gamma': 0.5442829360397284, 'reg_alpha': 1.6358570510407628, 'reg_lambda': 1.0008557342671722, 'colsample_bytree': 0.7583492002761718, 'subsample': 0.43287756613549244}. Best is trial 142 with value: 2.073825143869354.\u001b[0m\n",
      "\u001b[32m[I 2023-06-21 08:25:41,463]\u001b[0m Trial 176 finished with value: 2.2662287599965465 and parameters: {'max_depth': 3, 'learning_rate': 0.0778901231717715, 'n_estimators': 118, 'gamma': 0.5052062329141863, 'reg_alpha': 2.0702976831720585, 'reg_lambda': 0.9761528281640162, 'colsample_bytree': 0.8007621764371966, 'subsample': 0.40253688850666225}. Best is trial 142 with value: 2.073825143869354.\u001b[0m\n",
      "\u001b[32m[I 2023-06-21 08:26:16,099]\u001b[0m Trial 177 finished with value: 2.1182855848082016 and parameters: {'max_depth': 3, 'learning_rate': 0.04645047666532194, 'n_estimators': 172, 'gamma': 0.8655515628299074, 'reg_alpha': 1.489206163516621, 'reg_lambda': 0.7106815318416841, 'colsample_bytree': 0.7676605196946434, 'subsample': 0.41873864292493823}. Best is trial 142 with value: 2.073825143869354.\u001b[0m\n",
      "\u001b[32m[I 2023-06-21 08:26:52,886]\u001b[0m Trial 178 finished with value: 2.5037635708547437 and parameters: {'max_depth': 3, 'learning_rate': 0.06427067844231191, 'n_estimators': 165, 'gamma': 0.7580262496348791, 'reg_alpha': 1.505659088603243, 'reg_lambda': 0.7417640225606716, 'colsample_bytree': 0.7698064143627456, 'subsample': 0.8998297145477337}. Best is trial 142 with value: 2.073825143869354.\u001b[0m\n",
      "\u001b[32m[I 2023-06-21 08:27:18,780]\u001b[0m Trial 179 finished with value: 2.1982656939125125 and parameters: {'max_depth': 3, 'learning_rate': 0.040701846839529134, 'n_estimators': 131, 'gamma': 0.8432790337409873, 'reg_alpha': 1.7582844149022745, 'reg_lambda': 0.26901766991291665, 'colsample_bytree': 0.7345750487016793, 'subsample': 0.42284754436414634}. Best is trial 142 with value: 2.073825143869354.\u001b[0m\n",
      "\u001b[32m[I 2023-06-21 08:27:37,162]\u001b[0m Trial 180 finished with value: 2.1198459052045275 and parameters: {'max_depth': 3, 'learning_rate': 0.05797401329301461, 'n_estimators': 88, 'gamma': 0.7891722272646668, 'reg_alpha': 1.3437866295002596, 'reg_lambda': 0.6281876076007884, 'colsample_bytree': 0.7535670165596711, 'subsample': 0.4408228424390628}. Best is trial 142 with value: 2.073825143869354.\u001b[0m\n",
      "\u001b[32m[I 2023-06-21 08:27:57,832]\u001b[0m Trial 181 finished with value: 2.150460590672124 and parameters: {'max_depth': 3, 'learning_rate': 0.05684923402852659, 'n_estimators': 100, 'gamma': 0.9589547173782514, 'reg_alpha': 1.339054274580145, 'reg_lambda': 0.5296044202501878, 'colsample_bytree': 0.7486521531363812, 'subsample': 0.4387546229282517}. Best is trial 142 with value: 2.073825143869354.\u001b[0m\n",
      "\u001b[32m[I 2023-06-21 08:28:15,130]\u001b[0m Trial 182 finished with value: 2.168660884823455 and parameters: {'max_depth': 3, 'learning_rate': 0.08911390993462379, 'n_estimators': 84, 'gamma': 0.7248909326590752, 'reg_alpha': 1.5328423084108662, 'reg_lambda': 0.8066417025166116, 'colsample_bytree': 0.7608687403870416, 'subsample': 0.4197716968611009}. Best is trial 142 with value: 2.073825143869354.\u001b[0m\n",
      "\u001b[32m[I 2023-06-21 08:28:27,714]\u001b[0m Trial 183 finished with value: 2.130696553185459 and parameters: {'max_depth': 3, 'learning_rate': 0.04499297136888092, 'n_estimators': 58, 'gamma': 0.8694177908912215, 'reg_alpha': 1.2643984712562224, 'reg_lambda': 1.1304084745525662, 'colsample_bytree': 0.7826381321612577, 'subsample': 0.4344848198629485}. Best is trial 142 with value: 2.073825143869354.\u001b[0m\n",
      "\u001b[32m[I 2023-06-21 08:28:40,364]\u001b[0m Trial 184 finished with value: 2.194780287740708 and parameters: {'max_depth': 3, 'learning_rate': 0.04305569463667543, 'n_estimators': 56, 'gamma': 0.8536224499286181, 'reg_alpha': 1.2163722136177626, 'reg_lambda': 0.6413842543000657, 'colsample_bytree': 0.7834888613159274, 'subsample': 0.4559197930716652}. Best is trial 142 with value: 2.073825143869354.\u001b[0m\n",
      "\u001b[32m[I 2023-06-21 08:29:18,536]\u001b[0m Trial 185 finished with value: 2.12584953791914 and parameters: {'max_depth': 3, 'learning_rate': 0.03369399909672639, 'n_estimators': 176, 'gamma': 0.8835683943697881, 'reg_alpha': 1.3372894529281747, 'reg_lambda': 1.114466559165853, 'colsample_bytree': 0.8200022793007893, 'subsample': 0.44104680460612616}. Best is trial 142 with value: 2.073825143869354.\u001b[0m\n",
      "\u001b[32m[I 2023-06-21 08:29:55,181]\u001b[0m Trial 186 finished with value: 2.1739776736279435 and parameters: {'max_depth': 3, 'learning_rate': 0.0329885310542532, 'n_estimators': 169, 'gamma': 0.8742820769018844, 'reg_alpha': 1.3429152413763534, 'reg_lambda': 1.2392242254481622, 'colsample_bytree': 0.818570538803586, 'subsample': 0.4434452756221708}. Best is trial 142 with value: 2.073825143869354.\u001b[0m\n",
      "\u001b[32m[I 2023-06-21 08:30:25,004]\u001b[0m Trial 187 finished with value: 2.169814928515291 and parameters: {'max_depth': 3, 'learning_rate': 0.027874931346827697, 'n_estimators': 144, 'gamma': 0.8963002197563992, 'reg_alpha': 1.4655142277422954, 'reg_lambda': 1.1010205193593872, 'colsample_bytree': 0.7774436171522808, 'subsample': 0.4342280990408939}. Best is trial 142 with value: 2.073825143869354.\u001b[0m\n",
      "\u001b[32m[I 2023-06-21 08:30:32,801]\u001b[0m Trial 188 finished with value: 2.281304545207181 and parameters: {'max_depth': 3, 'learning_rate': 0.05316162023384053, 'n_estimators': 32, 'gamma': 0.8009005771778368, 'reg_alpha': 1.209035946292307, 'reg_lambda': 0.8537970219648856, 'colsample_bytree': 0.8069238666511285, 'subsample': 0.4599788251635475}. Best is trial 142 with value: 2.073825143869354.\u001b[0m\n",
      "\u001b[32m[I 2023-06-21 08:31:11,119]\u001b[0m Trial 189 finished with value: 2.184347918556905 and parameters: {'max_depth': 3, 'learning_rate': 0.07514543649125162, 'n_estimators': 184, 'gamma': 0.8658267846985364, 'reg_alpha': 1.3150109382608783, 'reg_lambda': 0.6858324704566421, 'colsample_bytree': 0.7907774988097113, 'subsample': 0.4304821617213463}. Best is trial 142 with value: 2.073825143869354.\u001b[0m\n",
      "\u001b[32m[I 2023-06-21 08:31:28,420]\u001b[0m Trial 190 finished with value: 2.15576312968318 and parameters: {'max_depth': 3, 'learning_rate': 0.03935145274955488, 'n_estimators': 77, 'gamma': 0.9159183935455377, 'reg_alpha': 1.6490184079360457, 'reg_lambda': 1.1084825349354301, 'colsample_bytree': 0.821931956897776, 'subsample': 0.4451506127558903}. Best is trial 142 with value: 2.073825143869354.\u001b[0m\n",
      "\u001b[32m[I 2023-06-21 08:31:55,250]\u001b[0m Trial 191 finished with value: 2.1326199130540546 and parameters: {'max_depth': 3, 'learning_rate': 0.047298051412759445, 'n_estimators': 128, 'gamma': 0.8196511524905832, 'reg_alpha': 1.0945874458896396, 'reg_lambda': 0.9525693296838749, 'colsample_bytree': 0.8032816016871511, 'subsample': 0.41726819927640957}. Best is trial 142 with value: 2.073825143869354.\u001b[0m\n",
      "\u001b[32m[I 2023-06-21 08:32:20,672]\u001b[0m Trial 192 finished with value: 3.0872701019232283 and parameters: {'max_depth': 3, 'learning_rate': 0.33044449737273346, 'n_estimators': 118, 'gamma': 0.8206770916709569, 'reg_alpha': 1.1774393039090567, 'reg_lambda': 0.8951246636970205, 'colsample_bytree': 0.798090357621737, 'subsample': 0.42644454453481334}. Best is trial 142 with value: 2.073825143869354.\u001b[0m\n",
      "\u001b[32m[I 2023-06-21 08:32:33,482]\u001b[0m Trial 193 finished with value: 2.1908631627498507 and parameters: {'max_depth': 3, 'learning_rate': 0.057257448980550275, 'n_estimators': 62, 'gamma': 0.8089526703063128, 'reg_alpha': 1.0828007662815784, 'reg_lambda': 0.9979751808806807, 'colsample_bytree': 0.7745282442503187, 'subsample': 0.40026956952583886}. Best is trial 142 with value: 2.073825143869354.\u001b[0m\n",
      "\u001b[32m[I 2023-06-21 08:33:05,457]\u001b[0m Trial 194 finished with value: 2.2198330476383763 and parameters: {'max_depth': 3, 'learning_rate': 0.02945557791945469, 'n_estimators': 135, 'gamma': 0.8875812935993069, 'reg_alpha': 1.4669095033608093, 'reg_lambda': 1.3015150077663806, 'colsample_bytree': 0.817338936167788, 'subsample': 0.6592085364096989}. Best is trial 142 with value: 2.073825143869354.\u001b[0m\n",
      "\u001b[32m[I 2023-06-21 08:33:33,260]\u001b[0m Trial 195 finished with value: 2.2702567010508217 and parameters: {'max_depth': 3, 'learning_rate': 0.048573650708200536, 'n_estimators': 178, 'gamma': 0.7861434415055616, 'reg_alpha': 1.3087190009117713, 'reg_lambda': 0.7709417912809975, 'colsample_bytree': 0.5301730264995321, 'subsample': 0.41881983582972876}. Best is trial 142 with value: 2.073825143869354.\u001b[0m\n",
      "\u001b[32m[I 2023-06-21 08:33:54,740]\u001b[0m Trial 196 finished with value: 2.4004225779224306 and parameters: {'max_depth': 3, 'learning_rate': 0.07064857493329516, 'n_estimators': 92, 'gamma': 0.8595213634698268, 'reg_alpha': 1.5330784115780893, 'reg_lambda': 0.4586963498162657, 'colsample_bytree': 0.7873702932910737, 'subsample': 0.7887248836043774}. Best is trial 142 with value: 2.073825143869354.\u001b[0m\n",
      "\u001b[32m[I 2023-06-21 08:34:27,795]\u001b[0m Trial 197 finished with value: 2.14433822404521 and parameters: {'max_depth': 3, 'learning_rate': 0.042614113428696046, 'n_estimators': 152, 'gamma': 0.9260972530564223, 'reg_alpha': 1.113147343936823, 'reg_lambda': 1.1815559194981644, 'colsample_bytree': 0.8114885815779204, 'subsample': 0.43723481362872935}. Best is trial 142 with value: 2.073825143869354.\u001b[0m\n",
      "\u001b[32m[I 2023-06-21 08:35:01,520]\u001b[0m Trial 198 finished with value: 2.1680827660238684 and parameters: {'max_depth': 3, 'learning_rate': 0.03916118823122212, 'n_estimators': 153, 'gamma': 0.9143660018215285, 'reg_alpha': 1.1299925284865207, 'reg_lambda': 0.9635433677734757, 'colsample_bytree': 0.81078989210732, 'subsample': 0.45307360651306744}. Best is trial 142 with value: 2.073825143869354.\u001b[0m\n",
      "\u001b[32m[I 2023-06-21 08:35:48,499]\u001b[0m Trial 199 finished with value: 2.2121054053921148 and parameters: {'max_depth': 3, 'learning_rate': 0.023016426682074084, 'n_estimators': 216, 'gamma': 0.9374907202650461, 'reg_alpha': 1.29649698283332, 'reg_lambda': 1.1772609616139365, 'colsample_bytree': 0.8334715399602933, 'subsample': 0.43719418690258155}. Best is trial 142 with value: 2.073825143869354.\u001b[0m\n",
      "\u001b[32m[I 2023-06-21 08:36:14,892]\u001b[0m Trial 200 finished with value: 2.0934852748736152 and parameters: {'max_depth': 3, 'learning_rate': 0.06163903572545722, 'n_estimators': 123, 'gamma': 0.9712554929511692, 'reg_alpha': 1.0520743131593546, 'reg_lambda': 0.6557495765313471, 'colsample_bytree': 0.8042380836275659, 'subsample': 0.43019283677337483}. Best is trial 142 with value: 2.073825143869354.\u001b[0m\n",
      "\u001b[32m[I 2023-06-21 08:36:41,146]\u001b[0m Trial 201 finished with value: 2.105621976485959 and parameters: {'max_depth': 3, 'learning_rate': 0.06058333691344884, 'n_estimators': 122, 'gamma': 0.9636103707472307, 'reg_alpha': 0.9703370316264146, 'reg_lambda': 0.6122610838843736, 'colsample_bytree': 0.8015075531489091, 'subsample': 0.4298735259343842}. Best is trial 142 with value: 2.073825143869354.\u001b[0m\n",
      "\u001b[32m[I 2023-06-21 08:37:06,132]\u001b[0m Trial 202 finished with value: 2.1609282425682763 and parameters: {'max_depth': 3, 'learning_rate': 0.05908050906112778, 'n_estimators': 119, 'gamma': 0.9821300732197777, 'reg_alpha': 0.9418122745436591, 'reg_lambda': 0.6718372572952821, 'colsample_bytree': 0.8011552883169586, 'subsample': 0.4128284560528715}. Best is trial 142 with value: 2.073825143869354.\u001b[0m\n",
      "\u001b[32m[I 2023-06-21 08:37:25,202]\u001b[0m Trial 203 finished with value: 2.128210608037354 and parameters: {'max_depth': 3, 'learning_rate': 0.08121513349516439, 'n_estimators': 91, 'gamma': 0.8325499607539444, 'reg_alpha': 1.4026188714712449, 'reg_lambda': 0.48466843578206525, 'colsample_bytree': 0.7741285121594942, 'subsample': 0.4272022433974305}. Best is trial 142 with value: 2.073825143869354.\u001b[0m\n",
      "\u001b[32m[I 2023-06-21 08:37:38,538]\u001b[0m Trial 204 finished with value: 2.1568196384743765 and parameters: {'max_depth': 3, 'learning_rate': 0.08189871338711398, 'n_estimators': 63, 'gamma': 0.9980877691437388, 'reg_alpha': 1.425491486127546, 'reg_lambda': 0.37457688164807146, 'colsample_bytree': 0.7517945357674652, 'subsample': 0.4300470545237859}. Best is trial 142 with value: 2.073825143869354.\u001b[0m\n",
      "\u001b[32m[I 2023-06-21 08:37:58,147]\u001b[0m Trial 205 finished with value: 2.3384008255615916 and parameters: {'max_depth': 3, 'learning_rate': 0.0722074022364134, 'n_estimators': 85, 'gamma': 0.9512007537457277, 'reg_alpha': 1.0713543067914417, 'reg_lambda': 0.5051811811419111, 'colsample_bytree': 0.768286212479985, 'subsample': 0.5982878782410562}. Best is trial 142 with value: 2.073825143869354.\u001b[0m\n",
      "\u001b[32m[I 2023-06-21 08:38:37,146]\u001b[0m Trial 206 finished with value: 2.179671845909387 and parameters: {'max_depth': 3, 'learning_rate': 0.049699631833940335, 'n_estimators': 177, 'gamma': 0.8334738247239366, 'reg_alpha': 1.2619251644177545, 'reg_lambda': 0.7858218144150652, 'colsample_bytree': 0.8295639410487333, 'subsample': 0.44611764280076704}. Best is trial 142 with value: 2.073825143869354.\u001b[0m\n",
      "\u001b[32m[I 2023-06-21 08:39:06,219]\u001b[0m Trial 207 finished with value: 2.190085580260803 and parameters: {'max_depth': 3, 'learning_rate': 0.031186720502689284, 'n_estimators': 133, 'gamma': 0.8232456862170597, 'reg_alpha': 0.8541258858555857, 'reg_lambda': 0.6117137793827802, 'colsample_bytree': 0.8440207864439302, 'subsample': 0.4250059000056699}. Best is trial 142 with value: 2.073825143869354.\u001b[0m\n",
      "\u001b[32m[I 2023-06-21 08:39:19,678]\u001b[0m Trial 208 finished with value: 2.163411208468755 and parameters: {'max_depth': 3, 'learning_rate': 0.06105146170025995, 'n_estimators': 58, 'gamma': 0.9794822886987593, 'reg_alpha': 1.4067315976887462, 'reg_lambda': 0.5474198477169802, 'colsample_bytree': 0.8026863909703554, 'subsample': 0.46406212262230984}. Best is trial 142 with value: 2.073825143869354.\u001b[0m\n",
      "\u001b[32m[I 2023-06-21 08:40:17,551]\u001b[0m Trial 209 finished with value: 2.1280343628473695 and parameters: {'max_depth': 4, 'learning_rate': 0.04664087695255885, 'n_estimators': 207, 'gamma': 0.8931316701654871, 'reg_alpha': 3.3338051610522355, 'reg_lambda': 0.8728035241399825, 'colsample_bytree': 0.8186796131038727, 'subsample': 0.4473089736075842}. Best is trial 142 with value: 2.073825143869354.\u001b[0m\n",
      "\u001b[32m[I 2023-06-21 08:41:13,534]\u001b[0m Trial 210 finished with value: 2.1354217100011246 and parameters: {'max_depth': 4, 'learning_rate': 0.04425657565325419, 'n_estimators': 206, 'gamma': 0.8876866237202502, 'reg_alpha': 3.2429799366388, 'reg_lambda': 0.8156654296333731, 'colsample_bytree': 0.791542645685876, 'subsample': 0.4468277486646033}. Best is trial 142 with value: 2.073825143869354.\u001b[0m\n",
      "\u001b[32m[I 2023-06-21 08:42:08,874]\u001b[0m Trial 211 finished with value: 2.127982437290706 and parameters: {'max_depth': 4, 'learning_rate': 0.043988267799729974, 'n_estimators': 204, 'gamma': 0.8717323685707438, 'reg_alpha': 3.3225949990014683, 'reg_lambda': 0.8153854427361413, 'colsample_bytree': 0.7927063338017539, 'subsample': 0.44623670820497907}. Best is trial 142 with value: 2.073825143869354.\u001b[0m\n",
      "\u001b[32m[I 2023-06-21 08:43:08,972]\u001b[0m Trial 212 finished with value: 2.1306885717016883 and parameters: {'max_depth': 4, 'learning_rate': 0.04103082934112688, 'n_estimators': 220, 'gamma': 0.8752605981417048, 'reg_alpha': 3.3212948103590727, 'reg_lambda': 0.7263800246913081, 'colsample_bytree': 0.795115494009294, 'subsample': 0.4513296567975255}. Best is trial 142 with value: 2.073825143869354.\u001b[0m\n",
      "\u001b[32m[I 2023-06-21 08:44:08,606]\u001b[0m Trial 213 finished with value: 2.1180698527811166 and parameters: {'max_depth': 4, 'learning_rate': 0.03677252938047461, 'n_estimators': 216, 'gamma': 0.8999907025561218, 'reg_alpha': 3.6251884429154826, 'reg_lambda': 0.681988184414438, 'colsample_bytree': 0.7979872627136084, 'subsample': 0.45424375588578453}. Best is trial 142 with value: 2.073825143869354.\u001b[0m\n",
      "\u001b[32m[I 2023-06-21 08:45:11,712]\u001b[0m Trial 214 finished with value: 2.20236237039374 and parameters: {'max_depth': 4, 'learning_rate': 0.028430439781300235, 'n_estimators': 227, 'gamma': 0.908131237814488, 'reg_alpha': 3.3879039916273905, 'reg_lambda': 0.6474273207055424, 'colsample_bytree': 0.798813725665872, 'subsample': 0.46068220132329174}. Best is trial 142 with value: 2.073825143869354.\u001b[0m\n",
      "\u001b[32m[I 2023-06-21 08:46:05,980]\u001b[0m Trial 215 finished with value: 2.2014170740679155 and parameters: {'max_depth': 4, 'learning_rate': 0.022118928780855605, 'n_estimators': 194, 'gamma': 0.8776495983626923, 'reg_alpha': 3.6376575389431034, 'reg_lambda': 0.3729391029853481, 'colsample_bytree': 0.8124547202853153, 'subsample': 0.4538232979044661}. Best is trial 142 with value: 2.073825143869354.\u001b[0m\n",
      "\u001b[32m[I 2023-06-21 08:47:13,668]\u001b[0m Trial 216 finished with value: 2.2400211652914 and parameters: {'max_depth': 4, 'learning_rate': 0.04048597660419616, 'n_estimators': 236, 'gamma': 0.8682396339977465, 'reg_alpha': 4.0336357078393865, 'reg_lambda': 0.8943798136814824, 'colsample_bytree': 0.8200717718428197, 'subsample': 0.47291897364424623}. Best is trial 142 with value: 2.073825143869354.\u001b[0m\n",
      "\u001b[32m[I 2023-06-21 08:47:59,499]\u001b[0m Trial 217 finished with value: 2.1288113362216396 and parameters: {'max_depth': 4, 'learning_rate': 0.035719018151796705, 'n_estimators': 174, 'gamma': 0.8500082316946715, 'reg_alpha': 3.7517591677567723, 'reg_lambda': 0.7010866745016807, 'colsample_bytree': 0.7696647203022454, 'subsample': 0.4376011831520703}. Best is trial 142 with value: 2.073825143869354.\u001b[0m\n",
      "\u001b[32m[I 2023-06-21 08:48:46,160]\u001b[0m Trial 218 finished with value: 2.151810556675684 and parameters: {'max_depth': 4, 'learning_rate': 0.033858340282335926, 'n_estimators': 175, 'gamma': 0.8428212067937786, 'reg_alpha': 3.72519478675763, 'reg_lambda': 0.6412690693495867, 'colsample_bytree': 0.7721736162062598, 'subsample': 0.44264407679134443}. Best is trial 142 with value: 2.073825143869354.\u001b[0m\n",
      "\u001b[32m[I 2023-06-21 08:49:40,825]\u001b[0m Trial 219 finished with value: 2.20617646489775 and parameters: {'max_depth': 4, 'learning_rate': 0.019838858292037707, 'n_estimators': 207, 'gamma': 0.8975205001066722, 'reg_alpha': 3.9379510427899675, 'reg_lambda': 0.48705432799337367, 'colsample_bytree': 0.7601054074738637, 'subsample': 0.4529015541866815}. Best is trial 142 with value: 2.073825143869354.\u001b[0m\n",
      "\u001b[32m[I 2023-06-21 08:50:49,488]\u001b[0m Trial 220 finished with value: 4.034482685651257 and parameters: {'max_depth': 4, 'learning_rate': 0.5239636234339979, 'n_estimators': 244, 'gamma': 0.8560212498866888, 'reg_alpha': 3.366442185489069, 'reg_lambda': 0.7282886096330001, 'colsample_bytree': 0.7890691370148688, 'subsample': 0.4690269673511052}. Best is trial 142 with value: 2.073825143869354.\u001b[0m\n",
      "\u001b[32m[I 2023-06-21 08:51:30,918]\u001b[0m Trial 221 finished with value: 2.1296319109068507 and parameters: {'max_depth': 4, 'learning_rate': 0.049501885583472044, 'n_estimators': 156, 'gamma': 0.8409897075069896, 'reg_alpha': 3.6482505415164366, 'reg_lambda': 1.0594376850516125, 'colsample_bytree': 0.7799963616351479, 'subsample': 0.43348362153694625}. Best is trial 142 with value: 2.073825143869354.\u001b[0m\n",
      "\u001b[32m[I 2023-06-21 08:52:12,794]\u001b[0m Trial 222 finished with value: 2.130495843398567 and parameters: {'max_depth': 4, 'learning_rate': 0.050480593550602276, 'n_estimators': 158, 'gamma': 0.7873014244808574, 'reg_alpha': 3.5621559037322954, 'reg_lambda': 1.0159217465526011, 'colsample_bytree': 0.7759894632311707, 'subsample': 0.43492979168498835}. Best is trial 142 with value: 2.073825143869354.\u001b[0m\n",
      "\u001b[32m[I 2023-06-21 08:52:55,849]\u001b[0m Trial 223 finished with value: 2.113059391080012 and parameters: {'max_depth': 4, 'learning_rate': 0.05647533122889066, 'n_estimators': 164, 'gamma': 0.7913210289867255, 'reg_alpha': 3.496877584478648, 'reg_lambda': 1.0794243657982592, 'colsample_bytree': 0.7743483329589964, 'subsample': 0.4360667138036723}. Best is trial 142 with value: 2.073825143869354.\u001b[0m\n",
      "\u001b[32m[I 2023-06-21 08:53:38,037]\u001b[0m Trial 224 finished with value: 2.1745206186722994 and parameters: {'max_depth': 4, 'learning_rate': 0.06168526477924943, 'n_estimators': 160, 'gamma': 0.7780559453981755, 'reg_alpha': 3.4406394680014922, 'reg_lambda': 1.0570947075073136, 'colsample_bytree': 0.7715362903654908, 'subsample': 0.43911723829622956}. Best is trial 142 with value: 2.073825143869354.\u001b[0m\n",
      "\u001b[32m[I 2023-06-21 08:54:27,167]\u001b[0m Trial 225 finished with value: 2.1222582990799737 and parameters: {'max_depth': 4, 'learning_rate': 0.03597268215579148, 'n_estimators': 184, 'gamma': 0.8382659942700146, 'reg_alpha': 3.5563287616118657, 'reg_lambda': 0.24222646049432867, 'colsample_bytree': 0.7804525375450889, 'subsample': 0.43376573647469213}. Best is trial 142 with value: 2.073825143869354.\u001b[0m\n",
      "\u001b[32m[I 2023-06-21 08:55:23,154]\u001b[0m Trial 226 finished with value: 2.2082205264568975 and parameters: {'max_depth': 5, 'learning_rate': 0.032755820679540706, 'n_estimators': 174, 'gamma': 0.8371109044177474, 'reg_alpha': 3.8718070195583234, 'reg_lambda': 0.2971053140494183, 'colsample_bytree': 0.7488287565197448, 'subsample': 0.4558498072268155}. Best is trial 142 with value: 2.073825143869354.\u001b[0m\n",
      "\u001b[32m[I 2023-06-21 08:56:16,929]\u001b[0m Trial 227 finished with value: 2.2041534662516313 and parameters: {'max_depth': 4, 'learning_rate': 0.05337040171565333, 'n_estimators': 208, 'gamma': 0.8458885201375123, 'reg_alpha': 3.617724307554625, 'reg_lambda': 0.5035479432839801, 'colsample_bytree': 0.7568886320289465, 'subsample': 0.43814395006533347}. Best is trial 142 with value: 2.073825143869354.\u001b[0m\n",
      "\u001b[32m[I 2023-06-21 08:56:56,804]\u001b[0m Trial 228 finished with value: 2.1661192218403515 and parameters: {'max_depth': 4, 'learning_rate': 0.07768648392591021, 'n_estimators': 149, 'gamma': 0.8046363328204493, 'reg_alpha': 2.990078560292734, 'reg_lambda': 0.26371780786880755, 'colsample_bytree': 0.7719461299704709, 'subsample': 0.4484979856102969}. Best is trial 142 with value: 2.073825143869354.\u001b[0m\n",
      "\u001b[32m[I 2023-06-21 08:57:47,265]\u001b[0m Trial 229 finished with value: 2.161951255732297 and parameters: {'max_depth': 4, 'learning_rate': 0.035312749424011386, 'n_estimators': 192, 'gamma': 0.7959101377838712, 'reg_alpha': 3.7466058023158664, 'reg_lambda': 0.7219148502251862, 'colsample_bytree': 0.7831632425766063, 'subsample': 0.4282178949117877}. Best is trial 142 with value: 2.073825143869354.\u001b[0m\n",
      "\u001b[32m[I 2023-06-21 08:58:59,057]\u001b[0m Trial 230 finished with value: 2.323032414096649 and parameters: {'max_depth': 7, 'learning_rate': 0.0672129032520336, 'n_estimators': 160, 'gamma': 0.7492313821339992, 'reg_alpha': 3.484833630388344, 'reg_lambda': 0.4232445675093198, 'colsample_bytree': 0.7650066752662238, 'subsample': 0.4642326568637481}. Best is trial 142 with value: 2.073825143869354.\u001b[0m\n",
      "\u001b[32m[I 2023-06-21 08:59:30,557]\u001b[0m Trial 231 finished with value: 2.1686703452244815 and parameters: {'max_depth': 4, 'learning_rate': 0.04795621420385703, 'n_estimators': 116, 'gamma': 0.8723775420673292, 'reg_alpha': 3.189665538409128, 'reg_lambda': 0.8628258126411875, 'colsample_bytree': 0.7825514905959446, 'subsample': 0.43451338395798567}. Best is trial 142 with value: 2.073825143869354.\u001b[0m\n",
      "\u001b[32m[I 2023-06-21 09:00:08,052]\u001b[0m Trial 232 finished with value: 2.178151374141616 and parameters: {'max_depth': 4, 'learning_rate': 0.05341237225217578, 'n_estimators': 135, 'gamma': 0.8925773462353888, 'reg_alpha': 3.5882481378397237, 'reg_lambda': 0.6159763047535927, 'colsample_bytree': 0.7938520024836058, 'subsample': 0.44352883938962695}. Best is trial 142 with value: 2.073825143869354.\u001b[0m\n",
      "\u001b[32m[I 2023-06-21 09:00:57,081]\u001b[0m Trial 233 finished with value: 2.1357588451796135 and parameters: {'max_depth': 4, 'learning_rate': 0.04008110709573929, 'n_estimators': 185, 'gamma': 0.9496746595716846, 'reg_alpha': 4.473832874605709, 'reg_lambda': 1.0159907643012829, 'colsample_bytree': 0.7796720410872001, 'subsample': 0.43009844868261726}. Best is trial 142 with value: 2.073825143869354.\u001b[0m\n",
      "\u001b[32m[I 2023-06-21 09:01:25,630]\u001b[0m Trial 234 finished with value: 2.231827471552852 and parameters: {'max_depth': 4, 'learning_rate': 0.05703030707126324, 'n_estimators': 104, 'gamma': 0.8604873546283913, 'reg_alpha': 3.0964539335284225, 'reg_lambda': 0.8382168471862413, 'colsample_bytree': 0.7917528066704747, 'subsample': 0.4308221010462666}. Best is trial 142 with value: 2.073825143869354.\u001b[0m\n",
      "\u001b[32m[I 2023-06-21 09:02:41,382]\u001b[0m Trial 235 finished with value: 2.1888263538302626 and parameters: {'max_depth': 5, 'learning_rate': 0.019782112359114992, 'n_estimators': 232, 'gamma': 0.7739906015341699, 'reg_alpha': 4.26053117751411, 'reg_lambda': 1.0878319991225776, 'colsample_bytree': 0.7714288719052665, 'subsample': 0.45032129311522995}. Best is trial 142 with value: 2.073825143869354.\u001b[0m\n",
      "\u001b[32m[I 2023-06-21 09:03:22,974]\u001b[0m Trial 236 finished with value: 2.1727162844148347 and parameters: {'max_depth': 4, 'learning_rate': 0.040210883770820244, 'n_estimators': 158, 'gamma': 0.8360732224685296, 'reg_alpha': 3.4184816688088855, 'reg_lambda': 0.7288863403914695, 'colsample_bytree': 0.7601290817501025, 'subsample': 0.439049132886713}. Best is trial 142 with value: 2.073825143869354.\u001b[0m\n",
      "\u001b[32m[I 2023-06-21 09:03:58,235]\u001b[0m Trial 237 finished with value: 2.2693304888845405 and parameters: {'max_depth': 4, 'learning_rate': 0.06794953775736956, 'n_estimators': 128, 'gamma': 0.8760652681783029, 'reg_alpha': 3.5699102119385606, 'reg_lambda': 0.9211208964419585, 'colsample_bytree': 0.798848089656575, 'subsample': 0.42719411697966336}. Best is trial 142 with value: 2.073825143869354.\u001b[0m\n",
      "\u001b[32m[I 2023-06-21 09:04:52,181]\u001b[0m Trial 238 finished with value: 2.18167157245836 and parameters: {'max_depth': 4, 'learning_rate': 0.04957800832799079, 'n_estimators': 203, 'gamma': 0.9077806216433033, 'reg_alpha': 3.8543143459779396, 'reg_lambda': 0.20778514956451288, 'colsample_bytree': 0.7421483300849737, 'subsample': 0.458526977292825}. Best is trial 142 with value: 2.073825143869354.\u001b[0m\n",
      "\u001b[32m[I 2023-06-21 09:05:39,530]\u001b[0m Trial 239 finished with value: 2.179152866564288 and parameters: {'max_depth': 4, 'learning_rate': 0.03260372401993755, 'n_estimators': 175, 'gamma': 0.9274020290120942, 'reg_alpha': 3.3208615915733817, 'reg_lambda': 0.5714178732081265, 'colsample_bytree': 0.7810255330595363, 'subsample': 0.4456455243097516}. Best is trial 142 with value: 2.073825143869354.\u001b[0m\n",
      "\u001b[32m[I 2023-06-21 09:06:03,635]\u001b[0m Trial 240 finished with value: 2.1592065891900933 and parameters: {'max_depth': 4, 'learning_rate': 0.026018057747887194, 'n_estimators': 87, 'gamma': 0.8206367189097621, 'reg_alpha': 3.7307320910797825, 'reg_lambda': 0.7838269184041186, 'colsample_bytree': 0.7933269077049778, 'subsample': 0.42327768937239546}. Best is trial 142 with value: 2.073825143869354.\u001b[0m\n",
      "\u001b[32m[I 2023-06-21 09:07:08,153]\u001b[0m Trial 241 finished with value: 2.1641630879742033 and parameters: {'max_depth': 4, 'learning_rate': 0.055215114622588775, 'n_estimators': 241, 'gamma': 0.8523140006577979, 'reg_alpha': 3.282353392149111, 'reg_lambda': 1.0774992901220024, 'colsample_bytree': 0.8040839582978443, 'subsample': 0.41832213453382394}. Best is trial 142 with value: 2.073825143869354.\u001b[0m\n",
      "\u001b[32m[I 2023-06-21 09:08:16,920]\u001b[0m Trial 242 finished with value: 2.1872353262608186 and parameters: {'max_depth': 4, 'learning_rate': 0.04720082228294332, 'n_estimators': 253, 'gamma': 0.8795400221191527, 'reg_alpha': 3.5441647665724627, 'reg_lambda': 0.9180551925519815, 'colsample_bytree': 0.7750213408721479, 'subsample': 0.43522882022667686}. Best is trial 142 with value: 2.073825143869354.\u001b[0m\n",
      "\u001b[32m[I 2023-06-21 09:09:18,140]\u001b[0m Trial 243 finished with value: 2.099293031033809 and parameters: {'max_depth': 4, 'learning_rate': 0.06186120828254299, 'n_estimators': 215, 'gamma': 0.9000083800571553, 'reg_alpha': 3.497164784806467, 'reg_lambda': 1.2696265712215324, 'colsample_bytree': 0.812845777058571, 'subsample': 0.42092319826456487}. Best is trial 142 with value: 2.073825143869354.\u001b[0m\n",
      "\u001b[32m[I 2023-06-21 09:09:59,731]\u001b[0m Trial 244 finished with value: 2.1523175408780473 and parameters: {'max_depth': 4, 'learning_rate': 0.06480100449862941, 'n_estimators': 146, 'gamma': 0.8953875118472785, 'reg_alpha': 3.6632097508928587, 'reg_lambda': 1.299026351496046, 'colsample_bytree': 0.8126579344910073, 'subsample': 0.427026770800683}. Best is trial 142 with value: 2.073825143869354.\u001b[0m\n",
      "\u001b[32m[I 2023-06-21 09:11:15,096]\u001b[0m Trial 245 finished with value: 2.328253106091492 and parameters: {'max_depth': 5, 'learning_rate': 0.08163841125988325, 'n_estimators': 209, 'gamma': 0.9386594310336145, 'reg_alpha': 3.4843546166351755, 'reg_lambda': 1.0497424004292113, 'colsample_bytree': 0.7894227839858042, 'subsample': 0.4418887685523799}. Best is trial 142 with value: 2.073825143869354.\u001b[0m\n",
      "\u001b[32m[I 2023-06-21 09:11:41,332]\u001b[0m Trial 246 finished with value: 2.1142594295323973 and parameters: {'max_depth': 3, 'learning_rate': 0.06937489568022567, 'n_estimators': 110, 'gamma': 0.9705539345469117, 'reg_alpha': 3.8321061639160967, 'reg_lambda': 0.7055143085475256, 'colsample_bytree': 0.8087320601332135, 'subsample': 0.42077530653306344}. Best is trial 142 with value: 2.073825143869354.\u001b[0m\n",
      "\u001b[32m[I 2023-06-21 09:12:08,900]\u001b[0m Trial 247 finished with value: 2.2133612299474112 and parameters: {'max_depth': 3, 'learning_rate': 0.07282372678364371, 'n_estimators': 113, 'gamma': 0.9888676625143988, 'reg_alpha': 3.968012384525558, 'reg_lambda': 0.6394105546147192, 'colsample_bytree': 0.8220648678487151, 'subsample': 0.4139617006179969}. Best is trial 142 with value: 2.073825143869354.\u001b[0m\n",
      "\u001b[32m[I 2023-06-21 09:12:49,237]\u001b[0m Trial 248 finished with value: 2.5433769008731053 and parameters: {'max_depth': 3, 'learning_rate': 0.2267575137447656, 'n_estimators': 171, 'gamma': 0.9473166550978385, 'reg_alpha': 3.897478671135671, 'reg_lambda': 0.4696309273061372, 'colsample_bytree': 0.8088639472779526, 'subsample': 0.4232727804217535}. Best is trial 142 with value: 2.073825143869354.\u001b[0m\n",
      "\u001b[32m[I 2023-06-21 09:13:28,727]\u001b[0m Trial 249 finished with value: 2.167137347050192 and parameters: {'max_depth': 4, 'learning_rate': 0.058978398648010515, 'n_estimators': 136, 'gamma': 0.9287891594838826, 'reg_alpha': 3.813960294778017, 'reg_lambda': 0.7893210827316464, 'colsample_bytree': 0.8009914919398109, 'subsample': 0.41490577941802814}. Best is trial 142 with value: 2.073825143869354.\u001b[0m\n",
      "\u001b[32m[I 2023-06-21 09:14:11,954]\u001b[0m Trial 250 finished with value: 2.2629740415247377 and parameters: {'max_depth': 3, 'learning_rate': 0.09147038077635354, 'n_estimators': 179, 'gamma': 0.9131390468633556, 'reg_alpha': 3.5049186562302808, 'reg_lambda': 0.9085243594501291, 'colsample_bytree': 0.8142394262020785, 'subsample': 0.4529929416412636}. Best is trial 142 with value: 2.073825143869354.\u001b[0m\n",
      "\u001b[32m[I 2023-06-21 09:15:11,727]\u001b[0m Trial 251 finished with value: 2.253829888913624 and parameters: {'max_depth': 4, 'learning_rate': 0.0731205730079352, 'n_estimators': 214, 'gamma': 0.9670936199931677, 'reg_alpha': 4.177570980126305, 'reg_lambda': 0.6893477893460258, 'colsample_bytree': 0.6204757752269698, 'subsample': 0.4326224243106103}. Best is trial 142 with value: 2.073825143869354.\u001b[0m\n",
      "\u001b[32m[I 2023-06-21 09:15:57,214]\u001b[0m Trial 252 finished with value: 2.212771489478887 and parameters: {'max_depth': 5, 'learning_rate': 0.056698325671985746, 'n_estimators': 112, 'gamma': 0.974973992396368, 'reg_alpha': 3.6859819179315916, 'reg_lambda': 0.3786263761046916, 'colsample_bytree': 0.7642463326368591, 'subsample': 0.42202807053367136}. Best is trial 142 with value: 2.073825143869354.\u001b[0m\n",
      "\u001b[32m[I 2023-06-21 09:20:36,465]\u001b[0m Trial 253 finished with value: 2.43133901874401 and parameters: {'max_depth': 15, 'learning_rate': 0.03677061548640671, 'n_estimators': 148, 'gamma': 0.7997600334487869, 'reg_alpha': 3.269544298635265, 'reg_lambda': 0.5414314534767828, 'colsample_bytree': 0.8239850890089507, 'subsample': 0.47617911308378774}. Best is trial 142 with value: 2.073825143869354.\u001b[0m\n",
      "\u001b[32m[I 2023-06-21 09:21:13,685]\u001b[0m Trial 254 finished with value: 2.1986755068417962 and parameters: {'max_depth': 3, 'learning_rate': 0.0682625758109757, 'n_estimators': 197, 'gamma': 0.7354379235335842, 'reg_alpha': 3.0727664941680524, 'reg_lambda': 0.8621950213689102, 'colsample_bytree': 0.7924991099894366, 'subsample': 0.444584624541913}. Best is trial 142 with value: 2.073825143869354.\u001b[0m\n",
      "\u001b[32m[I 2023-06-21 09:21:31,697]\u001b[0m Trial 255 finished with value: 2.124353615514264 and parameters: {'max_depth': 3, 'learning_rate': 0.04705354202912693, 'n_estimators': 101, 'gamma': 0.8329124101404014, 'reg_alpha': 3.384647096372662, 'reg_lambda': 1.0113364633740658, 'colsample_bytree': 0.7767463130198919, 'subsample': 0.41155625104712273}. Best is trial 142 with value: 2.073825143869354.\u001b[0m\n",
      "\u001b[32m[I 2023-06-21 09:25:31,050]\u001b[0m Trial 256 finished with value: 2.2768092891732303 and parameters: {'max_depth': 3, 'learning_rate': 0.05931399885282633, 'n_estimators': 1401, 'gamma': 0.8239395739973129, 'reg_alpha': 3.5817281729064088, 'reg_lambda': 1.203186625715138, 'colsample_bytree': 0.7735602520986488, 'subsample': 0.4097149849692865}. Best is trial 142 with value: 2.073825143869354.\u001b[0m\n",
      "\u001b[32m[I 2023-06-21 09:25:47,047]\u001b[0m Trial 257 finished with value: 2.2678044175189247 and parameters: {'max_depth': 3, 'learning_rate': 0.07992660052336419, 'n_estimators': 99, 'gamma': 0.7687206394445788, 'reg_alpha': 5.598636715187327, 'reg_lambda': 1.3575921463874505, 'colsample_bytree': 0.7264665592176649, 'subsample': 0.41163023003669363}. Best is trial 142 with value: 2.073825143869354.\u001b[0m\n",
      "\u001b[32m[I 2023-06-21 09:26:02,195]\u001b[0m Trial 258 finished with value: 2.536039466472399 and parameters: {'max_depth': 3, 'learning_rate': 0.26111894390745516, 'n_estimators': 88, 'gamma': 0.8441570551212928, 'reg_alpha': 3.4467494231728626, 'reg_lambda': 0.9843095544313794, 'colsample_bytree': 0.7599210372899351, 'subsample': 0.4240831026703277}. Best is trial 142 with value: 2.073825143869354.\u001b[0m\n",
      "\u001b[32m[I 2023-06-21 09:26:24,474]\u001b[0m Trial 259 finished with value: 2.2152532620138023 and parameters: {'max_depth': 3, 'learning_rate': 0.04949316009056636, 'n_estimators': 133, 'gamma': 0.9636666310450793, 'reg_alpha': 3.693701854218316, 'reg_lambda': 1.0395482430128813, 'colsample_bytree': 0.7550351309873564, 'subsample': 0.4367342548366704}. Best is trial 142 with value: 2.073825143869354.\u001b[0m\n",
      "\u001b[32m[I 2023-06-21 09:26:52,583]\u001b[0m Trial 260 finished with value: 2.1956065963595854 and parameters: {'max_depth': 3, 'learning_rate': 0.02194741287306762, 'n_estimators': 170, 'gamma': 0.7864819993855837, 'reg_alpha': 3.4687915638231597, 'reg_lambda': 0.9196367332380552, 'colsample_bytree': 0.7834776267718915, 'subsample': 0.4108533170835655}. Best is trial 142 with value: 2.073825143869354.\u001b[0m\n",
      "\u001b[32m[I 2023-06-21 09:27:10,621]\u001b[0m Trial 261 finished with value: 2.203859760883529 and parameters: {'max_depth': 3, 'learning_rate': 0.06834203715059378, 'n_estimators': 104, 'gamma': 0.8107304652256891, 'reg_alpha': 3.7878716646919304, 'reg_lambda': 1.2103234446340418, 'colsample_bytree': 0.8053930304879715, 'subsample': 0.4227068840663238}. Best is trial 142 with value: 2.073825143869354.\u001b[0m\n",
      "\u001b[32m[I 2023-06-21 09:27:34,523]\u001b[0m Trial 262 finished with value: 2.2069308439002344 and parameters: {'max_depth': 3, 'learning_rate': 0.033226745939616276, 'n_estimators': 146, 'gamma': 0.8319296823159902, 'reg_alpha': 4.044738586744961, 'reg_lambda': 0.7985857698380594, 'colsample_bytree': 0.7421622796318468, 'subsample': 0.4328000878812898}. Best is trial 142 with value: 2.073825143869354.\u001b[0m\n",
      "\u001b[32m[I 2023-06-21 09:27:53,013]\u001b[0m Trial 263 finished with value: 2.1538916716651064 and parameters: {'max_depth': 3, 'learning_rate': 0.048706487488848954, 'n_estimators': 112, 'gamma': 0.8623532552217348, 'reg_alpha': 2.874709512899428, 'reg_lambda': 0.584226326150278, 'colsample_bytree': 0.7744426718573753, 'subsample': 0.4103544968272752}. Best is trial 142 with value: 2.073825143869354.\u001b[0m\n",
      "\u001b[32m[I 2023-06-21 09:28:07,004]\u001b[0m Trial 264 finished with value: 2.506146521864649 and parameters: {'max_depth': 3, 'learning_rate': 0.05826217919453122, 'n_estimators': 75, 'gamma': 0.8885990309189646, 'reg_alpha': 3.1853347174497513, 'reg_lambda': 1.0894066602593877, 'colsample_bytree': 0.7849288519335947, 'subsample': 0.9441680565767852}. Best is trial 142 with value: 2.073825143869354.\u001b[0m\n",
      "\u001b[32m[I 2023-06-21 09:28:35,257]\u001b[0m Trial 265 finished with value: 2.2300909620010567 and parameters: {'max_depth': 3, 'learning_rate': 0.08800470225298315, 'n_estimators': 163, 'gamma': 0.848876835797666, 'reg_alpha': 3.5843275302657176, 'reg_lambda': 0.9639307222213516, 'colsample_bytree': 0.8214432246086067, 'subsample': 0.4227041520353375}. Best is trial 142 with value: 2.073825143869354.\u001b[0m\n",
      "\u001b[32m[I 2023-06-21 09:29:05,201]\u001b[0m Trial 266 finished with value: 2.1714965501113674 and parameters: {'max_depth': 4, 'learning_rate': 0.043291082415836124, 'n_estimators': 133, 'gamma': 0.7996900460906186, 'reg_alpha': 3.7557392757970502, 'reg_lambda': 0.3410585503108568, 'colsample_bytree': 0.807084691527063, 'subsample': 0.4406966398113836}. Best is trial 142 with value: 2.073825143869354.\u001b[0m\n",
      "\u001b[32m[I 2023-06-21 09:29:38,944]\u001b[0m Trial 267 finished with value: 2.185366147542758 and parameters: {'max_depth': 3, 'learning_rate': 0.030050008951271672, 'n_estimators': 194, 'gamma': 0.9057243318067713, 'reg_alpha': 3.3627988096907653, 'reg_lambda': 0.6617920569398051, 'colsample_bytree': 0.7733924344985643, 'subsample': 0.46135462849841613}. Best is trial 142 with value: 2.073825143869354.\u001b[0m\n",
      "\u001b[32m[I 2023-06-21 09:30:30,311]\u001b[0m Trial 268 finished with value: 2.1341891071120282 and parameters: {'max_depth': 4, 'learning_rate': 0.0734600852441534, 'n_estimators': 253, 'gamma': 0.9989938683825645, 'reg_alpha': 4.903637143686716, 'reg_lambda': 0.8268022298553902, 'colsample_bytree': 0.7055672695418428, 'subsample': 0.430385842885016}. Best is trial 142 with value: 2.073825143869354.\u001b[0m\n",
      "\u001b[32m[I 2023-06-21 09:30:36,741]\u001b[0m Trial 269 finished with value: 3.2116592205068626 and parameters: {'max_depth': 3, 'learning_rate': 0.014895499364101433, 'n_estimators': 34, 'gamma': 0.8364051160493647, 'reg_alpha': 3.876084052772786, 'reg_lambda': 1.139289852693736, 'colsample_bytree': 0.7940995321691665, 'subsample': 0.4012957525593044}. Best is trial 142 with value: 2.073825143869354.\u001b[0m\n",
      "\u001b[32m[I 2023-06-21 09:30:54,984]\u001b[0m Trial 270 finished with value: 2.2711768120254847 and parameters: {'max_depth': 4, 'learning_rate': 0.06343100085498424, 'n_estimators': 85, 'gamma': 0.9214879253805643, 'reg_alpha': 6.407461346112747, 'reg_lambda': 0.4952972319872969, 'colsample_bytree': 0.7650431430731734, 'subsample': 0.41778538067985377}. Best is trial 142 with value: 2.073825143869354.\u001b[0m\n",
      "\u001b[32m[I 2023-06-21 09:31:22,341]\u001b[0m Trial 271 finished with value: 2.170268949652105 and parameters: {'max_depth': 3, 'learning_rate': 0.05057566649467309, 'n_estimators': 153, 'gamma': 0.9615626030420423, 'reg_alpha': 3.638114350051876, 'reg_lambda': 0.7369348486422151, 'colsample_bytree': 0.8288560618241205, 'subsample': 0.44522587079129805}. Best is trial 142 with value: 2.073825143869354.\u001b[0m\n",
      "\u001b[32m[I 2023-06-21 09:31:42,962]\u001b[0m Trial 272 finished with value: 2.1823377969617335 and parameters: {'max_depth': 3, 'learning_rate': 0.03861981519765268, 'n_estimators': 119, 'gamma': 0.8189907386995326, 'reg_alpha': 1.4095856728107263, 'reg_lambda': 1.247206185067042, 'colsample_bytree': 0.8037599187191204, 'subsample': 0.43287385144284796}. Best is trial 142 with value: 2.073825143869354.\u001b[0m\n",
      "\u001b[32m[I 2023-06-21 09:32:33,849]\u001b[0m Trial 273 finished with value: 2.27026809375784 and parameters: {'max_depth': 4, 'learning_rate': 0.057864390106420215, 'n_estimators': 223, 'gamma': 0.8564259321358808, 'reg_alpha': 3.4129453246353125, 'reg_lambda': 0.20413989685062445, 'colsample_bytree': 0.7522286261603262, 'subsample': 0.624276588223749}. Best is trial 142 with value: 2.073825143869354.\u001b[0m\n",
      "\u001b[32m[I 2023-06-21 09:33:03,982]\u001b[0m Trial 274 finished with value: 2.2681913008496837 and parameters: {'max_depth': 3, 'learning_rate': 0.07823980482449752, 'n_estimators': 180, 'gamma': 0.895864655558717, 'reg_alpha': 3.5494243776465995, 'reg_lambda': 0.9644315789104753, 'colsample_bytree': 0.7829467790406187, 'subsample': 0.41412877527137854}. Best is trial 142 with value: 2.073825143869354.\u001b[0m\n",
      "\u001b[32m[I 2023-06-21 09:33:16,931]\u001b[0m Trial 275 finished with value: 2.144315413381372 and parameters: {'max_depth': 3, 'learning_rate': 0.04497968112124075, 'n_estimators': 68, 'gamma': 0.8709131996536332, 'reg_alpha': 3.2152330423154765, 'reg_lambda': 1.3765865536874915, 'colsample_bytree': 0.8142715728871918, 'subsample': 0.4513829763595116}. Best is trial 142 with value: 2.073825143869354.\u001b[0m\n",
      "\u001b[32m[I 2023-06-21 09:33:45,206]\u001b[0m Trial 276 finished with value: 2.137018546982085 and parameters: {'max_depth': 4, 'learning_rate': 0.029703362780646357, 'n_estimators': 124, 'gamma': 0.8287156953928261, 'reg_alpha': 1.1985378564990814, 'reg_lambda': 0.8696409712774114, 'colsample_bytree': 0.7915458139991567, 'subsample': 0.42614181090142433}. Best is trial 142 with value: 2.073825143869354.\u001b[0m\n",
      "\u001b[32m[I 2023-06-21 09:34:20,752]\u001b[0m Trial 277 finished with value: 2.2875327544542747 and parameters: {'max_depth': 3, 'learning_rate': 0.09579650897086386, 'n_estimators': 192, 'gamma': 0.9415669987162952, 'reg_alpha': 1.5424902981465174, 'reg_lambda': 0.6211484281800244, 'colsample_bytree': 0.7668215199793311, 'subsample': 0.4652790560501844}. Best is trial 142 with value: 2.073825143869354.\u001b[0m\n",
      "\u001b[32m[I 2023-06-21 09:34:58,004]\u001b[0m Trial 278 finished with value: 2.173622908007156 and parameters: {'max_depth': 4, 'learning_rate': 0.06520899070062108, 'n_estimators': 157, 'gamma': 0.890858267667425, 'reg_alpha': 3.7642542239545707, 'reg_lambda': 1.0710743428290674, 'colsample_bytree': 0.7801399731992662, 'subsample': 0.4407503388846308}. Best is trial 142 with value: 2.073825143869354.\u001b[0m\n",
      "\u001b[32m[I 2023-06-21 09:36:09,321]\u001b[0m Trial 279 finished with value: 2.373395766948966 and parameters: {'max_depth': 11, 'learning_rate': 0.013659687470888894, 'n_estimators': 102, 'gamma': 0.7546999861189769, 'reg_alpha': 0.9872032041855076, 'reg_lambda': 0.39866818206294263, 'colsample_bytree': 0.7945295542498039, 'subsample': 0.40689816241024435}. Best is trial 142 with value: 2.073825143869354.\u001b[0m\n",
      "\u001b[32m[I 2023-06-21 09:36:37,202]\u001b[0m Trial 280 finished with value: 2.1705816110499323 and parameters: {'max_depth': 3, 'learning_rate': 0.047960908090385786, 'n_estimators': 143, 'gamma': 0.7880110470392625, 'reg_alpha': 1.3087591593666037, 'reg_lambda': 0.7493077522690257, 'colsample_bytree': 0.8120161581936685, 'subsample': 0.42215976944490097}. Best is trial 142 with value: 2.073825143869354.\u001b[0m\n",
      "\u001b[32m[I 2023-06-21 09:38:02,092]\u001b[0m Trial 281 finished with value: 4.049083902461787 and parameters: {'max_depth': 5, 'learning_rate': 0.3925694293143835, 'n_estimators': 266, 'gamma': 0.8450784110656994, 'reg_alpha': 3.9742511807737984, 'reg_lambda': 0.974423596558355, 'colsample_bytree': 0.8263722532996499, 'subsample': 0.43403164472881706}. Best is trial 142 with value: 2.073825143869354.\u001b[0m\n",
      "\u001b[32m[I 2023-06-21 09:38:45,349]\u001b[0m Trial 282 finished with value: 2.1533070979804765 and parameters: {'max_depth': 4, 'learning_rate': 0.03602422016668173, 'n_estimators': 177, 'gamma': 0.9269300121176968, 'reg_alpha': 3.3915884085396475, 'reg_lambda': 1.178853334672003, 'colsample_bytree': 0.8034435815506658, 'subsample': 0.40005099118021764}. Best is trial 142 with value: 2.073825143869354.\u001b[0m\n",
      "\u001b[32m[I 2023-06-21 09:38:55,416]\u001b[0m Trial 283 finished with value: 2.187341598720724 and parameters: {'max_depth': 3, 'learning_rate': 0.059672363804737796, 'n_estimators': 46, 'gamma': 0.8571282732064062, 'reg_alpha': 1.7105847223853103, 'reg_lambda': 0.829882869705768, 'colsample_bytree': 0.7755248582261289, 'subsample': 0.45661141652564247}. Best is trial 142 with value: 2.073825143869354.\u001b[0m\n",
      "\u001b[32m[I 2023-06-21 09:39:50,947]\u001b[0m Trial 284 finished with value: 2.171323985107614 and parameters: {'max_depth': 4, 'learning_rate': 0.02253767192770586, 'n_estimators': 223, 'gamma': 0.8149436208110785, 'reg_alpha': 1.3305713206577663, 'reg_lambda': 0.5570260047608868, 'colsample_bytree': 0.7489812643691393, 'subsample': 0.4170089006515585}. Best is trial 142 with value: 2.073825143869354.\u001b[0m\n",
      "\u001b[32m[I 2023-06-21 09:40:19,054]\u001b[0m Trial 285 finished with value: 2.20630877742994 and parameters: {'max_depth': 3, 'learning_rate': 0.07758922126130587, 'n_estimators': 125, 'gamma': 0.9728865955439046, 'reg_alpha': 3.6281479867313644, 'reg_lambda': 1.0591458672250058, 'colsample_bytree': 0.8369830482416822, 'subsample': 0.4438826630650403}. Best is trial 142 with value: 2.073825143869354.\u001b[0m\n",
      "\u001b[32m[I 2023-06-21 09:40:59,524]\u001b[0m Trial 286 finished with value: 2.216643849612427 and parameters: {'max_depth': 7, 'learning_rate': 0.052429084008325036, 'n_estimators': 84, 'gamma': 0.7104581846957753, 'reg_alpha': 1.543137588487087, 'reg_lambda': 1.300464616464191, 'colsample_bytree': 0.7867501537642447, 'subsample': 0.43010393602034686}. Best is trial 142 with value: 2.073825143869354.\u001b[0m\n",
      "\u001b[32m[I 2023-06-21 09:41:39,198]\u001b[0m Trial 287 finished with value: 4.041782788513021 and parameters: {'max_depth': 3, 'learning_rate': 0.43597848365570857, 'n_estimators': 194, 'gamma': 0.9055811663239595, 'reg_alpha': 1.133604820004285, 'reg_lambda': 0.7030255440976485, 'colsample_bytree': 0.7662507198096735, 'subsample': 0.41152678266408416}. Best is trial 142 with value: 2.073825143869354.\u001b[0m\n",
      "\u001b[32m[I 2023-06-21 09:43:15,008]\u001b[0m Trial 288 finished with value: 2.315469278808001 and parameters: {'max_depth': 9, 'learning_rate': 0.040079656871562216, 'n_estimators': 151, 'gamma': 0.488414969507344, 'reg_alpha': 3.510231166826503, 'reg_lambda': 0.9055639572997498, 'colsample_bytree': 0.8192600763358215, 'subsample': 0.44950111960948097}. Best is trial 142 with value: 2.073825143869354.\u001b[0m\n",
      "\u001b[32m[I 2023-06-21 09:44:20,017]\u001b[0m Trial 289 finished with value: 2.38613514267797 and parameters: {'max_depth': 10, 'learning_rate': 0.06635448431696216, 'n_estimators': 95, 'gamma': 0.8745218143080077, 'reg_alpha': 3.851073668459132, 'reg_lambda': 0.6068439302719921, 'colsample_bytree': 0.7971434736739764, 'subsample': 0.42433404449005774}. Best is trial 142 with value: 2.073825143869354.\u001b[0m\n",
      "\u001b[32m[I 2023-06-21 09:48:01,670]\u001b[0m Trial 290 finished with value: 2.6448118979261497 and parameters: {'max_depth': 13, 'learning_rate': 0.051695159696970014, 'n_estimators': 241, 'gamma': 0.5160953510707931, 'reg_alpha': 0.9822599555151823, 'reg_lambda': 0.44163772267390045, 'colsample_bytree': 0.7818286730618926, 'subsample': 0.4380957961562495}. Best is trial 142 with value: 2.073825143869354.\u001b[0m\n",
      "\u001b[32m[I 2023-06-21 09:48:51,978]\u001b[0m Trial 291 finished with value: 2.181844425369755 and parameters: {'max_depth': 4, 'learning_rate': 0.0275322412152283, 'n_estimators': 165, 'gamma': 0.7791602115282825, 'reg_alpha': 3.076848664335127, 'reg_lambda': 1.1267838065418054, 'colsample_bytree': 0.8043597051085184, 'subsample': 0.4658259278343593}. Best is trial 142 with value: 2.073825143869354.\u001b[0m\n",
      "\u001b[32m[I 2023-06-21 09:49:20,189]\u001b[0m Trial 292 finished with value: 2.206412604380806 and parameters: {'max_depth': 3, 'learning_rate': 0.089365668465333, 'n_estimators': 132, 'gamma': 0.9540768246215948, 'reg_alpha': 4.136459961309157, 'reg_lambda': 0.8672336249998006, 'colsample_bytree': 0.7358441988795942, 'subsample': 0.41708018790361684}. Best is trial 142 with value: 2.073825143869354.\u001b[0m\n",
      "\u001b[32m[I 2023-06-21 09:50:43,801]\u001b[0m Trial 293 finished with value: 2.3872323370894826 and parameters: {'max_depth': 6, 'learning_rate': 0.07187999460274702, 'n_estimators': 207, 'gamma': 0.8374659703227664, 'reg_alpha': 1.418300292923843, 'reg_lambda': 0.9954252113735157, 'colsample_bytree': 0.7584430709260663, 'subsample': 0.4322326534676827}. Best is trial 142 with value: 2.073825143869354.\u001b[0m\n",
      "\u001b[32m[I 2023-06-21 09:50:57,023]\u001b[0m Trial 294 finished with value: 2.2128981650819712 and parameters: {'max_depth': 3, 'learning_rate': 0.0427181445507337, 'n_estimators': 58, 'gamma': 0.8919464392226412, 'reg_alpha': 3.2787899895008272, 'reg_lambda': 0.11391342517321268, 'colsample_bytree': 0.7744304131603436, 'subsample': 0.4000896586093396}. Best is trial 142 with value: 2.073825143869354.\u001b[0m\n",
      "\u001b[32m[I 2023-06-21 09:51:36,724]\u001b[0m Trial 295 finished with value: 3.2641081988727954 and parameters: {'max_depth': 5, 'learning_rate': 0.004124552375923116, 'n_estimators': 106, 'gamma': 0.8661813794174619, 'reg_alpha': 3.655436510336292, 'reg_lambda': 0.7432458297523591, 'colsample_bytree': 0.8162390202156219, 'subsample': 0.4402603358188641}. Best is trial 142 with value: 2.073825143869354.\u001b[0m\n",
      "\u001b[32m[I 2023-06-21 09:56:29,389]\u001b[0m Trial 296 finished with value: 2.3285676096662136 and parameters: {'max_depth': 3, 'learning_rate': 0.06035067202520902, 'n_estimators': 1219, 'gamma': 0.46365344656970137, 'reg_alpha': 1.184408180044266, 'reg_lambda': 1.373490526948168, 'colsample_bytree': 0.7898787563068896, 'subsample': 0.4533526691734279}. Best is trial 142 with value: 2.073825143869354.\u001b[0m\n",
      "\u001b[32m[I 2023-06-21 09:57:23,689]\u001b[0m Trial 297 finished with value: 2.239582319716657 and parameters: {'max_depth': 4, 'learning_rate': 0.03304156449445383, 'n_estimators': 179, 'gamma': 0.8065360104749629, 'reg_alpha': 3.4907687333659525, 'reg_lambda': 0.32669247428884196, 'colsample_bytree': 0.8001584670140193, 'subsample': 0.42215976103806213}. Best is trial 142 with value: 2.073825143869354.\u001b[0m\n",
      "\u001b[32m[I 2023-06-21 09:58:07,790]\u001b[0m Trial 298 finished with value: 2.1985386812988983 and parameters: {'max_depth': 4, 'learning_rate': 0.056098339563078636, 'n_estimators': 145, 'gamma': 0.9830861293991393, 'reg_alpha': 3.7465243997741133, 'reg_lambda': 0.5891957182948935, 'colsample_bytree': 0.8338286647816153, 'subsample': 0.4126421559913139}. Best is trial 142 with value: 2.073825143869354.\u001b[0m\n",
      "\u001b[32m[I 2023-06-21 09:58:28,700]\u001b[0m Trial 299 finished with value: 2.1659011652023956 and parameters: {'max_depth': 3, 'learning_rate': 0.045322851802124704, 'n_estimators': 84, 'gamma': 0.5050606885276994, 'reg_alpha': 1.8198440686596262, 'reg_lambda': 1.0229253139380634, 'colsample_bytree': 0.7639419495857109, 'subsample': 0.47461185675564277}. Best is trial 142 with value: 2.073825143869354.\u001b[0m\n",
      "\u001b[32m[I 2023-06-21 09:59:27,386]\u001b[0m Trial 300 finished with value: 2.3861905633364255 and parameters: {'max_depth': 3, 'learning_rate': 0.07888349900932642, 'n_estimators': 231, 'gamma': 0.8553028942418551, 'reg_alpha': 0.8140309423319568, 'reg_lambda': 1.2127570431497512, 'colsample_bytree': 0.7855958712400399, 'subsample': 0.6995242037488324}. Best is trial 142 with value: 2.073825143869354.\u001b[0m\n",
      "\u001b[32m[I 2023-06-21 10:04:44,520]\u001b[0m Trial 301 finished with value: 2.2123521517117117 and parameters: {'max_depth': 4, 'learning_rate': 0.021047472313661025, 'n_estimators': 1080, 'gamma': 0.9261952365750461, 'reg_alpha': 1.4859713174958633, 'reg_lambda': 0.8409006689707791, 'colsample_bytree': 0.8076844328754779, 'subsample': 0.4297914045766824}. Best is trial 142 with value: 2.073825143869354.\u001b[0m\n",
      "\u001b[32m[I 2023-06-21 10:05:15,064]\u001b[0m Trial 302 finished with value: 2.2308261051467353 and parameters: {'max_depth': 3, 'learning_rate': 0.06602525121305756, 'n_estimators': 120, 'gamma': 0.8284855346288844, 'reg_alpha': 3.319676553705401, 'reg_lambda': 0.48123696743994393, 'colsample_bytree': 0.8233152435902367, 'subsample': 0.487656734081351}. Best is trial 142 with value: 2.073825143869354.\u001b[0m\n",
      "\u001b[32m[I 2023-06-21 10:06:14,963]\u001b[0m Trial 303 finished with value: 2.1824583974939658 and parameters: {'max_depth': 4, 'learning_rate': 0.03622669745316399, 'n_estimators': 202, 'gamma': 0.8788153247769002, 'reg_alpha': 1.6219615527411861, 'reg_lambda': 0.6971341023923119, 'colsample_bytree': 0.7767422085537258, 'subsample': 0.4445929430239229}. Best is trial 142 with value: 2.073825143869354.\u001b[0m\n",
      "\u001b[32m[I 2023-06-21 10:08:19,050]\u001b[0m Trial 304 finished with value: 2.5698703247331762 and parameters: {'max_depth': 8, 'learning_rate': 0.05039462310132158, 'n_estimators': 279, 'gamma': 0.9056335394986574, 'reg_alpha': 1.392350749432023, 'reg_lambda': 0.9620269432720798, 'colsample_bytree': 0.4989426585013397, 'subsample': 0.759510098770294}. Best is trial 142 with value: 2.073825143869354.\u001b[0m\n",
      "\u001b[32m[I 2023-06-21 10:08:52,164]\u001b[0m Trial 305 finished with value: 2.0986541980115243 and parameters: {'max_depth': 3, 'learning_rate': 0.0689247302849172, 'n_estimators': 159, 'gamma': 0.5364604960993917, 'reg_alpha': 1.2707904056672363, 'reg_lambda': 1.1198727987931234, 'colsample_bytree': 0.6885065220603901, 'subsample': 0.45772829230576445}. Best is trial 142 with value: 2.073825143869354.\u001b[0m\n",
      "\u001b[32m[I 2023-06-21 10:09:16,547]\u001b[0m Trial 306 finished with value: 2.1535511662518787 and parameters: {'max_depth': 3, 'learning_rate': 0.09598245642138678, 'n_estimators': 112, 'gamma': 0.514962856888718, 'reg_alpha': 1.2755041755738632, 'reg_lambda': 1.2982729845551106, 'colsample_bytree': 0.7109133590042283, 'subsample': 0.4538790783704944}. Best is trial 142 with value: 2.073825143869354.\u001b[0m\n",
      "\u001b[32m[I 2023-06-21 10:09:54,204]\u001b[0m Trial 307 finished with value: 2.1974139240092043 and parameters: {'max_depth': 3, 'learning_rate': 0.07817661286203306, 'n_estimators': 187, 'gamma': 0.5369073699457622, 'reg_alpha': 0.9572874270085483, 'reg_lambda': 1.1940514745491, 'colsample_bytree': 0.5684532643793172, 'subsample': 0.46349042898741}. Best is trial 142 with value: 2.073825143869354.\u001b[0m\n",
      "\u001b[32m[I 2023-06-21 10:10:31,033]\u001b[0m Trial 308 finished with value: 2.397620528948427 and parameters: {'max_depth': 3, 'learning_rate': 0.06854694373114249, 'n_estimators': 154, 'gamma': 0.5332169594317189, 'reg_alpha': 1.0525254992233706, 'reg_lambda': 0.7590552877558868, 'colsample_bytree': 0.689231938697522, 'subsample': 0.8563125871303993}. Best is trial 142 with value: 2.073825143869354.\u001b[0m\n",
      "\u001b[32m[I 2023-06-21 10:10:45,141]\u001b[0m Trial 309 finished with value: 2.1446903856442017 and parameters: {'max_depth': 3, 'learning_rate': 0.08714396203154157, 'n_estimators': 68, 'gamma': 0.5594678348400531, 'reg_alpha': 1.2655361054126106, 'reg_lambda': 0.28275237517430624, 'colsample_bytree': 0.6800612490216763, 'subsample': 0.4124660741592079}. Best is trial 142 with value: 2.073825143869354.\u001b[0m\n",
      "\u001b[32m[I 2023-06-21 10:10:54,021]\u001b[0m Trial 310 finished with value: 2.1643318707660173 and parameters: {'max_depth': 3, 'learning_rate': 0.0615968211398556, 'n_estimators': 34, 'gamma': 0.5752044023623452, 'reg_alpha': 1.1406622342452641, 'reg_lambda': 1.0896163790546791, 'colsample_bytree': 0.8393981947586567, 'subsample': 0.4459512999249065}. Best is trial 142 with value: 2.073825143869354.\u001b[0m\n",
      "\u001b[32m[I 2023-06-21 10:11:44,887]\u001b[0m Trial 311 finished with value: 2.2894508298374947 and parameters: {'max_depth': 3, 'learning_rate': 0.11117094265355462, 'n_estimators': 214, 'gamma': 0.8837640380363927, 'reg_alpha': 1.515712681429902, 'reg_lambda': 0.8808282454343427, 'colsample_bytree': 0.7967879562401232, 'subsample': 0.4258230660738636}. Best is trial 142 with value: 2.073825143869354.\u001b[0m\n",
      "\u001b[32m[I 2023-06-21 10:12:40,098]\u001b[0m Trial 312 finished with value: 2.1415577390393077 and parameters: {'max_depth': 3, 'learning_rate': 0.03841980047693871, 'n_estimators': 262, 'gamma': 0.47211862418162504, 'reg_alpha': 1.2347470414531196, 'reg_lambda': 1.4743642680258073, 'colsample_bytree': 0.7010978942329631, 'subsample': 0.40897185057412}. Best is trial 142 with value: 2.073825143869354.\u001b[0m\n",
      "\u001b[32m[I 2023-06-21 10:13:08,318]\u001b[0m Trial 313 finished with value: 2.2076688198721657 and parameters: {'max_depth': 3, 'learning_rate': 0.024558134315765468, 'n_estimators': 132, 'gamma': 0.8558219438366066, 'reg_alpha': 1.362850925959124, 'reg_lambda': 0.5395006864823471, 'colsample_bytree': 0.8490355904327411, 'subsample': 0.4224787046630538}. Best is trial 142 with value: 2.073825143869354.\u001b[0m\n",
      "\u001b[32m[I 2023-06-21 10:13:47,496]\u001b[0m Trial 314 finished with value: 2.7851497128460574 and parameters: {'max_depth': 3, 'learning_rate': 0.3576380098721449, 'n_estimators': 173, 'gamma': 0.49698738056706704, 'reg_alpha': 1.6531420421620004, 'reg_lambda': 0.7158287086335413, 'colsample_bytree': 0.8172155855887399, 'subsample': 0.4770324516546888}. Best is trial 142 with value: 2.073825143869354.\u001b[0m\n",
      "\u001b[32m[I 2023-06-21 10:14:09,592]\u001b[0m Trial 315 finished with value: 2.0987031557881615 and parameters: {'max_depth': 3, 'learning_rate': 0.05934235376265128, 'n_estimators': 115, 'gamma': 0.9511344001105985, 'reg_alpha': 0.866979058629469, 'reg_lambda': 1.145739285194505, 'colsample_bytree': 0.6899975632569942, 'subsample': 0.43755627698663035}. Best is trial 142 with value: 2.073825143869354.\u001b[0m\n",
      "\u001b[32m[I 2023-06-21 10:14:26,647]\u001b[0m Trial 316 finished with value: 2.0761463930554873 and parameters: {'max_depth': 3, 'learning_rate': 0.07149732117709032, 'n_estimators': 89, 'gamma': 0.9436703357712047, 'reg_alpha': 0.9719500983172902, 'reg_lambda': 1.336601906507357, 'colsample_bytree': 0.6845287878740806, 'subsample': 0.45907557408348193}. Best is trial 142 with value: 2.073825143869354.\u001b[0m\n",
      "\u001b[32m[I 2023-06-21 10:14:42,571]\u001b[0m Trial 317 finished with value: 2.166841633407256 and parameters: {'max_depth': 3, 'learning_rate': 0.08458229727211558, 'n_estimators': 83, 'gamma': 0.9593250889038423, 'reg_alpha': 0.9549835437143201, 'reg_lambda': 1.2944630703132742, 'colsample_bytree': 0.6554576153077346, 'subsample': 0.46564248131086716}. Best is trial 142 with value: 2.073825143869354.\u001b[0m\n",
      "\u001b[32m[I 2023-06-21 10:14:53,305]\u001b[0m Trial 318 finished with value: 2.108497454211125 and parameters: {'max_depth': 3, 'learning_rate': 0.099073637120896, 'n_estimators': 52, 'gamma': 0.929844122705458, 'reg_alpha': 0.8558145295304413, 'reg_lambda': 1.501830667134125, 'colsample_bytree': 0.7485358139104439, 'subsample': 0.4581380691494944}. Best is trial 142 with value: 2.073825143869354.\u001b[0m\n",
      "\u001b[32m[I 2023-06-21 10:15:04,045]\u001b[0m Trial 319 finished with value: 2.1653506618600797 and parameters: {'max_depth': 3, 'learning_rate': 0.0988214445270928, 'n_estimators': 55, 'gamma': 0.9563732565962328, 'reg_alpha': 0.9025316072410283, 'reg_lambda': 1.3628146957242047, 'colsample_bytree': 0.6896010206479803, 'subsample': 0.45669925760707886}. Best is trial 142 with value: 2.073825143869354.\u001b[0m\n",
      "\u001b[32m[I 2023-06-21 10:15:12,207]\u001b[0m Trial 320 finished with value: 2.9287076710770457 and parameters: {'max_depth': 3, 'learning_rate': 0.5904512705460212, 'n_estimators': 41, 'gamma': 0.9369145316639673, 'reg_alpha': 0.7087526097387653, 'reg_lambda': 1.5706289075679458, 'colsample_bytree': 0.6798603700602507, 'subsample': 0.4592966145372164}. Best is trial 142 with value: 2.073825143869354.\u001b[0m\n",
      "\u001b[32m[I 2023-06-21 10:15:28,208]\u001b[0m Trial 321 finished with value: 2.242593191237559 and parameters: {'max_depth': 3, 'learning_rate': 0.09853275610591578, 'n_estimators': 83, 'gamma': 0.9149336573169646, 'reg_alpha': 1.096822019508327, 'reg_lambda': 1.5725607834618291, 'colsample_bytree': 0.6768688081597272, 'subsample': 0.49626028992564764}. Best is trial 142 with value: 2.073825143869354.\u001b[0m\n",
      "\u001b[32m[I 2023-06-21 10:15:45,659]\u001b[0m Trial 322 finished with value: 2.203808112532035 and parameters: {'max_depth': 3, 'learning_rate': 0.07690792376719414, 'n_estimators': 94, 'gamma': 0.9384608597872793, 'reg_alpha': 0.7366330369141659, 'reg_lambda': 1.3778319773393588, 'colsample_bytree': 0.6619259234638056, 'subsample': 0.4694754849876933}. Best is trial 142 with value: 2.073825143869354.\u001b[0m\n",
      "\u001b[32m[I 2023-06-21 10:15:57,798]\u001b[0m Trial 323 finished with value: 2.1870735700492925 and parameters: {'max_depth': 3, 'learning_rate': 0.07052096268384743, 'n_estimators': 64, 'gamma': 0.9782415833325757, 'reg_alpha': 1.0699274892027664, 'reg_lambda': 1.4238741905474779, 'colsample_bytree': 0.671865838806875, 'subsample': 0.4497123259274777}. Best is trial 142 with value: 2.073825143869354.\u001b[0m\n",
      "\u001b[32m[I 2023-06-21 10:16:18,200]\u001b[0m Trial 324 finished with value: 2.530093090536756 and parameters: {'max_depth': 3, 'learning_rate': 0.31077619839006554, 'n_estimators': 102, 'gamma': 0.947980068960351, 'reg_alpha': 6.859669295871156, 'reg_lambda': 1.1851305938058867, 'colsample_bytree': 0.696698108910022, 'subsample': 0.47877005785962223}. Best is trial 142 with value: 2.073825143869354.\u001b[0m\n",
      "\u001b[32m[I 2023-06-21 10:16:41,441]\u001b[0m Trial 325 finished with value: 2.165507660256048 and parameters: {'max_depth': 3, 'learning_rate': 0.08424481244005956, 'n_estimators': 124, 'gamma': 0.9980937136794769, 'reg_alpha': 0.9562946583193951, 'reg_lambda': 1.450763863299131, 'colsample_bytree': 0.7111822181559109, 'subsample': 0.441510219364808}. Best is trial 142 with value: 2.073825143869354.\u001b[0m\n",
      "\u001b[32m[I 2023-06-21 10:16:53,941]\u001b[0m Trial 326 finished with value: 2.189072833159133 and parameters: {'max_depth': 3, 'learning_rate': 0.06676864528486944, 'n_estimators': 61, 'gamma': 0.9213872040842708, 'reg_alpha': 0.8560730837777987, 'reg_lambda': 1.7374248783683215, 'colsample_bytree': 0.6951507961574005, 'subsample': 0.458114090067834}. Best is trial 142 with value: 2.073825143869354.\u001b[0m\n",
      "\u001b[32m[I 2023-06-21 10:17:12,494]\u001b[0m Trial 327 finished with value: 2.2205177995614642 and parameters: {'max_depth': 3, 'learning_rate': 0.061321131397195666, 'n_estimators': 98, 'gamma': 0.9597065962175302, 'reg_alpha': 1.4258293832416236, 'reg_lambda': 1.2050532116603578, 'colsample_bytree': 0.6361790411712955, 'subsample': 0.486101904543982}. Best is trial 142 with value: 2.073825143869354.\u001b[0m\n",
      "\u001b[32m[I 2023-06-21 10:17:39,463]\u001b[0m Trial 328 finished with value: 2.1234395293614763 and parameters: {'max_depth': 3, 'learning_rate': 0.08358781436903176, 'n_estimators': 130, 'gamma': 0.9379704852539851, 'reg_alpha': 0.8008866126710011, 'reg_lambda': 1.249298105598979, 'colsample_bytree': 0.7204035217155143, 'subsample': 0.44830741528728746}. Best is trial 142 with value: 2.073825143869354.\u001b[0m\n",
      "\u001b[32m[I 2023-06-21 10:18:05,500]\u001b[0m Trial 329 finished with value: 2.3145440331735125 and parameters: {'max_depth': 3, 'learning_rate': 0.0896169849052843, 'n_estimators': 132, 'gamma': 0.971725110184906, 'reg_alpha': 0.5942991079227985, 'reg_lambda': 1.2538494152891508, 'colsample_bytree': 0.7193832891747532, 'subsample': 0.47222543054409477}. Best is trial 142 with value: 2.073825143869354.\u001b[0m\n",
      "\u001b[32m[I 2023-06-21 10:18:14,311]\u001b[0m Trial 330 finished with value: 2.2601714917387965 and parameters: {'max_depth': 3, 'learning_rate': 0.11290632138834232, 'n_estimators': 42, 'gamma': 0.9344808951686796, 'reg_alpha': 0.8008393381735681, 'reg_lambda': 1.4414213637198967, 'colsample_bytree': 0.731242099677252, 'subsample': 0.4491303798376077}. Best is trial 142 with value: 2.073825143869354.\u001b[0m\n",
      "\u001b[32m[I 2023-06-21 10:18:30,903]\u001b[0m Trial 331 finished with value: 2.553422621204271 and parameters: {'max_depth': 3, 'learning_rate': 0.1949852141246336, 'n_estimators': 80, 'gamma': 0.9125097951561829, 'reg_alpha': 0.6188136334666376, 'reg_lambda': 1.1644388354241333, 'colsample_bytree': 0.7403606879224206, 'subsample': 0.4602662905969273}. Best is trial 142 with value: 2.073825143869354.\u001b[0m\n",
      "\u001b[32m[I 2023-06-21 10:18:53,045]\u001b[0m Trial 332 finished with value: 2.3284295612440813 and parameters: {'max_depth': 3, 'learning_rate': 0.08025102269840377, 'n_estimators': 111, 'gamma': 0.9294971177532669, 'reg_alpha': 1.0376224108008212, 'reg_lambda': 1.1049378781674841, 'colsample_bytree': 0.6733018208548294, 'subsample': 0.5627582731420945}. Best is trial 142 with value: 2.073825143869354.\u001b[0m\n",
      "\u001b[32m[I 2023-06-21 10:19:22,799]\u001b[0m Trial 333 finished with value: 2.3667487423184115 and parameters: {'max_depth': 3, 'learning_rate': 0.1052319290781951, 'n_estimators': 141, 'gamma': 0.9480588024424468, 'reg_alpha': 0.8248075224860383, 'reg_lambda': 1.2970299405835393, 'colsample_bytree': 0.726166858830897, 'subsample': 0.8285599714387865}. Best is trial 142 with value: 2.073825143869354.\u001b[0m\n",
      "\u001b[32m[I 2023-06-21 10:19:38,798]\u001b[0m Trial 334 finished with value: 2.113482298488896 and parameters: {'max_depth': 3, 'learning_rate': 0.0758238710499651, 'n_estimators': 83, 'gamma': 0.9092746904207104, 'reg_alpha': 1.1937146277364126, 'reg_lambda': 1.278843863104633, 'colsample_bytree': 0.6936655592569022, 'subsample': 0.44549956065734075}. Best is trial 142 with value: 2.073825143869354.\u001b[0m\n",
      "\u001b[32m[I 2023-06-21 10:19:45,811]\u001b[0m Trial 335 finished with value: 2.117270975818575 and parameters: {'max_depth': 3, 'learning_rate': 0.07165674785273698, 'n_estimators': 34, 'gamma': 0.910229858698453, 'reg_alpha': 1.1467367452570918, 'reg_lambda': 1.500339692877145, 'colsample_bytree': 0.7012358117478055, 'subsample': 0.4452426359876268}. Best is trial 142 with value: 2.073825143869354.\u001b[0m\n",
      "\u001b[32m[I 2023-06-21 10:19:53,443]\u001b[0m Trial 336 finished with value: 2.162287994883382 and parameters: {'max_depth': 3, 'learning_rate': 0.09093636851294509, 'n_estimators': 38, 'gamma': 0.9109948852462227, 'reg_alpha': 1.1996476088317705, 'reg_lambda': 1.6359052190147467, 'colsample_bytree': 0.6874480500867567, 'subsample': 0.44076786068544066}. Best is trial 142 with value: 2.073825143869354.\u001b[0m\n",
      "\u001b[32m[I 2023-06-21 10:20:06,715]\u001b[0m Trial 337 finished with value: 2.128521508057187 and parameters: {'max_depth': 3, 'learning_rate': 0.07278029465377663, 'n_estimators': 67, 'gamma': 0.93900559174037, 'reg_alpha': 0.9201431267007053, 'reg_lambda': 1.518162701228694, 'colsample_bytree': 0.7000556023129122, 'subsample': 0.45740288464808637}. Best is trial 142 with value: 2.073825143869354.\u001b[0m\n",
      "\u001b[32m[I 2023-06-21 10:20:20,277]\u001b[0m Trial 338 finished with value: 2.3753569567983623 and parameters: {'max_depth': 3, 'learning_rate': 0.1290482432757697, 'n_estimators': 64, 'gamma': 0.9736460053735415, 'reg_alpha': 0.973859739441119, 'reg_lambda': 1.6697412844727881, 'colsample_bytree': 0.7159497633261797, 'subsample': 0.7339733809514655}. Best is trial 142 with value: 2.073825143869354.\u001b[0m\n",
      "\u001b[32m[I 2023-06-21 10:20:39,747]\u001b[0m Trial 339 finished with value: 2.18060742309949 and parameters: {'max_depth': 3, 'learning_rate': 0.07828284393012253, 'n_estimators': 99, 'gamma': 0.9255799370594883, 'reg_alpha': 1.1801638385651128, 'reg_lambda': 1.3565979715713483, 'colsample_bytree': 0.7001918928606489, 'subsample': 0.4673361096349216}. Best is trial 142 with value: 2.073825143869354.\u001b[0m\n",
      "\u001b[32m[I 2023-06-21 10:20:51,407]\u001b[0m Trial 340 finished with value: 2.1598207471992548 and parameters: {'max_depth': 3, 'learning_rate': 0.06736969034563225, 'n_estimators': 58, 'gamma': 0.909667082603165, 'reg_alpha': 0.8647113641915436, 'reg_lambda': 1.4159047909893687, 'colsample_bytree': 0.6890584759739697, 'subsample': 0.448712967997175}. Best is trial 142 with value: 2.073825143869354.\u001b[0m\n",
      "\u001b[32m[I 2023-06-21 10:20:58,336]\u001b[0m Trial 341 finished with value: 2.1557695633547986 and parameters: {'max_depth': 3, 'learning_rate': 0.06009877752458738, 'n_estimators': 34, 'gamma': 0.9493174973120325, 'reg_alpha': 0.01996106651506041, 'reg_lambda': 1.2638689030245316, 'colsample_bytree': 0.6744403479597213, 'subsample': 0.4347295096655792}. Best is trial 142 with value: 2.073825143869354.\u001b[0m\n",
      "\u001b[32m[I 2023-06-21 10:21:17,838]\u001b[0m Trial 342 finished with value: 2.42067391896723 and parameters: {'max_depth': 3, 'learning_rate': 0.1000361816693415, 'n_estimators': 107, 'gamma': 0.9504138337149357, 'reg_alpha': 1.1674928563249505, 'reg_lambda': 1.5407769737743564, 'colsample_bytree': 0.6631685175961467, 'subsample': 0.4218832820132805}. Best is trial 142 with value: 2.073825143869354.\u001b[0m\n",
      "\u001b[32m[I 2023-06-21 10:21:34,504]\u001b[0m Trial 343 finished with value: 2.2369300861236114 and parameters: {'max_depth': 3, 'learning_rate': 0.06861141763246205, 'n_estimators': 81, 'gamma': 0.9798340389469712, 'reg_alpha': 1.0420723186111367, 'reg_lambda': 1.8096370103460804, 'colsample_bytree': 0.711329673838057, 'subsample': 0.4818181824878377}. Best is trial 142 with value: 2.073825143869354.\u001b[0m\n",
      "\u001b[32m[I 2023-06-21 10:21:41,904]\u001b[0m Trial 344 finished with value: 2.439934816365813 and parameters: {'max_depth': 3, 'learning_rate': 0.05760818357005931, 'n_estimators': 33, 'gamma': 0.8981478539693739, 'reg_alpha': 0.6747070046725167, 'reg_lambda': 1.108924009282796, 'colsample_bytree': 0.6902256987332356, 'subsample': 0.7801222815425984}. Best is trial 142 with value: 2.073825143869354.\u001b[0m\n",
      "\u001b[32m[I 2023-06-21 10:22:08,271]\u001b[0m Trial 345 finished with value: 2.209914880217781 and parameters: {'max_depth': 3, 'learning_rate': 0.08797113050185643, 'n_estimators': 134, 'gamma': 0.9220117438820515, 'reg_alpha': 0.7835793735993035, 'reg_lambda': 1.2756452575106019, 'colsample_bytree': 0.7264190330163053, 'subsample': 0.4339221744981217}. Best is trial 142 with value: 2.073825143869354.\u001b[0m\n",
      "\u001b[32m[I 2023-06-21 10:22:37,653]\u001b[0m Trial 346 finished with value: 2.1976976093217333 and parameters: {'max_depth': 3, 'learning_rate': 0.07307039278719243, 'n_estimators': 149, 'gamma': 0.9663137195186915, 'reg_alpha': 0.45373115765695216, 'reg_lambda': 5.57541814458294, 'colsample_bytree': 0.7105657714701681, 'subsample': 0.44602040197964965}. Best is trial 142 with value: 2.073825143869354.\u001b[0m\n",
      "\u001b[32m[I 2023-06-21 10:22:58,363]\u001b[0m Trial 347 finished with value: 2.158253163598111 and parameters: {'max_depth': 3, 'learning_rate': 0.05558682426901175, 'n_estimators': 112, 'gamma': 0.9395651736506466, 'reg_alpha': 1.3242913968321752, 'reg_lambda': 1.4600629354056032, 'colsample_bytree': 0.6833565210450054, 'subsample': 0.42087080310649877}. Best is trial 142 with value: 2.073825143869354.\u001b[0m\n",
      "\u001b[32m[I 2023-06-21 10:23:15,324]\u001b[0m Trial 348 finished with value: 2.1968264016246954 and parameters: {'max_depth': 3, 'learning_rate': 0.08047399022940378, 'n_estimators': 85, 'gamma': 0.6698297238574379, 'reg_alpha': 1.0927809687884618, 'reg_lambda': 1.1696165115146795, 'colsample_bytree': 0.6942300830906738, 'subsample': 0.46755021584412315}. Best is trial 142 with value: 2.073825143869354.\u001b[0m\n",
      "\u001b[32m[I 2023-06-21 10:23:49,629]\u001b[0m Trial 349 finished with value: 2.213628258297965 and parameters: {'max_depth': 3, 'learning_rate': 0.06262467724164354, 'n_estimators': 171, 'gamma': 0.9101587534379991, 'reg_alpha': 5.277762543018077, 'reg_lambda': 1.3324899466645008, 'colsample_bytree': 0.7457478273748892, 'subsample': 0.43051198710628913}. Best is trial 142 with value: 2.073825143869354.\u001b[0m\n",
      "\u001b[32m[I 2023-06-21 10:24:15,488]\u001b[0m Trial 350 finished with value: 2.166487216022078 and parameters: {'max_depth': 3, 'learning_rate': 0.05526962187143412, 'n_estimators': 133, 'gamma': 0.8931364633932256, 'reg_alpha': 1.2609892892784476, 'reg_lambda': 1.0443300787530565, 'colsample_bytree': 0.6683690809893764, 'subsample': 0.448676751569145}. Best is trial 142 with value: 2.073825143869354.\u001b[0m\n",
      "\u001b[32m[I 2023-06-21 10:24:28,679]\u001b[0m Trial 351 finished with value: 2.5772782654204622 and parameters: {'max_depth': 3, 'learning_rate': 0.07256964920565898, 'n_estimators': 62, 'gamma': 0.9973803924431742, 'reg_alpha': 0.1865902104720411, 'reg_lambda': 1.162292817524087, 'colsample_bytree': 0.6498274009658659, 'subsample': 0.9903846805784863}. Best is trial 142 with value: 2.073825143869354.\u001b[0m\n",
      "\u001b[32m[I 2023-06-21 10:25:13,213]\u001b[0m Trial 352 finished with value: 2.239637306268667 and parameters: {'max_depth': 3, 'learning_rate': 0.08854300383993466, 'n_estimators': 236, 'gamma': 0.9573112157521292, 'reg_alpha': 1.9032771280744114, 'reg_lambda': 0.9965696445398193, 'colsample_bytree': 0.7007319734150369, 'subsample': 0.4097473370021312}. Best is trial 142 with value: 2.073825143869354.\u001b[0m\n",
      "\u001b[32m[I 2023-06-21 10:25:50,022]\u001b[0m Trial 353 finished with value: 2.135570814387054 and parameters: {'max_depth': 3, 'learning_rate': 0.0399900136818281, 'n_estimators': 183, 'gamma': 0.9295141909445951, 'reg_alpha': 1.5005181579280915, 'reg_lambda': 1.28771787640167, 'colsample_bytree': 0.723660663137221, 'subsample': 0.439562025811299}. Best is trial 142 with value: 2.073825143869354.\u001b[0m\n",
      "\u001b[32m[I 2023-06-21 10:25:57,532]\u001b[0m Trial 354 finished with value: 2.1783747372550195 and parameters: {'max_depth': 3, 'learning_rate': 0.05595899513467607, 'n_estimators': 32, 'gamma': 0.8895593386155801, 'reg_alpha': 1.0054074696911415, 'reg_lambda': 1.5335767327305116, 'colsample_bytree': 0.7508327843306687, 'subsample': 0.4558511283002491}. Best is trial 142 with value: 2.073825143869354.\u001b[0m\n",
      "\u001b[32m[I 2023-06-21 10:26:21,429]\u001b[0m Trial 355 finished with value: 2.194769029389128 and parameters: {'max_depth': 3, 'learning_rate': 0.07118231346780068, 'n_estimators': 119, 'gamma': 0.5523675269747232, 'reg_alpha': 2.527029044141659, 'reg_lambda': 1.0883508806848967, 'colsample_bytree': 0.7365741379970262, 'subsample': 0.4220603688585672}. Best is trial 142 with value: 2.073825143869354.\u001b[0m\n",
      "\u001b[32m[I 2023-06-21 10:27:01,488]\u001b[0m Trial 356 finished with value: 3.9631567442973177 and parameters: {'max_depth': 4, 'learning_rate': 0.49978965578531276, 'n_estimators': 156, 'gamma': 0.9804199445189405, 'reg_alpha': 4.305889164083451, 'reg_lambda': 0.9587593002664989, 'colsample_bytree': 0.7186126319460975, 'subsample': 0.4320418078374914}. Best is trial 142 with value: 2.073825143869354.\u001b[0m\n",
      "\u001b[32m[I 2023-06-21 10:27:18,600]\u001b[0m Trial 357 finished with value: 2.163803974018349 and parameters: {'max_depth': 3, 'learning_rate': 0.04654406343688597, 'n_estimators': 87, 'gamma': 0.3378149335178682, 'reg_alpha': 1.1399704289373551, 'reg_lambda': 1.4024632170554878, 'colsample_bytree': 0.7100153648072716, 'subsample': 0.4110481807779062}. Best is trial 142 with value: 2.073825143869354.\u001b[0m\n",
      "\u001b[32m[I 2023-06-21 10:30:22,449]\u001b[0m Trial 358 finished with value: 2.2424393823050286 and parameters: {'max_depth': 3, 'learning_rate': 0.06297078847680869, 'n_estimators': 965, 'gamma': 0.9072535758855828, 'reg_alpha': 1.7163465045052022, 'reg_lambda': 1.196446207257732, 'colsample_bytree': 0.6835252208548303, 'subsample': 0.4440805976623407}. Best is trial 142 with value: 2.073825143869354.\u001b[0m\n",
      "\u001b[32m[I 2023-06-21 10:31:04,966]\u001b[0m Trial 359 finished with value: 2.423882448163234 and parameters: {'max_depth': 3, 'learning_rate': 0.10292349734017113, 'n_estimators': 199, 'gamma': 0.8786099303411623, 'reg_alpha': 0.5921463538242986, 'reg_lambda': 0.8875221301586919, 'colsample_bytree': 0.7527371710094398, 'subsample': 0.45881500841181283}. Best is trial 142 with value: 2.073825143869354.\u001b[0m\n",
      "\u001b[32m[I 2023-06-21 10:31:32,438]\u001b[0m Trial 360 finished with value: 2.166123995331837 and parameters: {'max_depth': 4, 'learning_rate': 0.08549092634053285, 'n_estimators': 109, 'gamma': 0.9412372357849605, 'reg_alpha': 1.3211384956807009, 'reg_lambda': 1.1169218384682467, 'colsample_bytree': 0.7020157230015234, 'subsample': 0.42221295005994913}. Best is trial 142 with value: 2.073825143869354.\u001b[0m\n",
      "\u001b[32m[I 2023-06-21 10:31:50,355]\u001b[0m Trial 361 finished with value: 2.1393451108821053 and parameters: {'max_depth': 3, 'learning_rate': 0.04533007279599844, 'n_estimators': 76, 'gamma': 0.957432662869552, 'reg_alpha': 0.8739016688427397, 'reg_lambda': 1.6750598240827825, 'colsample_bytree': 0.7981661722170764, 'subsample': 0.4733721551400764}. Best is trial 142 with value: 2.073825143869354.\u001b[0m\n",
      "\u001b[32m[I 2023-06-21 10:32:20,728]\u001b[0m Trial 362 finished with value: 2.1800339890066507 and parameters: {'max_depth': 3, 'learning_rate': 0.03150578552707837, 'n_estimators': 152, 'gamma': 0.6989795997603856, 'reg_alpha': 0.738757745936691, 'reg_lambda': 1.3039913810753956, 'colsample_bytree': 0.7574300708987702, 'subsample': 0.40015550809713074}. Best is trial 142 with value: 2.073825143869354.\u001b[0m\n",
      "\u001b[32m[I 2023-06-21 10:32:52,878]\u001b[0m Trial 363 finished with value: 2.339149881014284 and parameters: {'max_depth': 4, 'learning_rate': 0.07475486881040667, 'n_estimators': 123, 'gamma': 0.5985889211765643, 'reg_alpha': 1.5965421810585054, 'reg_lambda': 0.9722367351142618, 'colsample_bytree': 0.737325918754003, 'subsample': 0.4347471710589764}. Best is trial 142 with value: 2.073825143869354.\u001b[0m\n",
      "\u001b[32m[I 2023-06-21 10:37:22,388]\u001b[0m Trial 364 finished with value: 3.12732244757688 and parameters: {'max_depth': 13, 'learning_rate': 0.1177665758254714, 'n_estimators': 298, 'gamma': 0.9250338799062342, 'reg_alpha': 4.596728288673641, 'reg_lambda': 1.4718818770806865, 'colsample_bytree': 0.8304256488375052, 'subsample': 0.416742252580975}. Best is trial 142 with value: 2.073825143869354.\u001b[0m\n",
      "\u001b[32m[I 2023-06-21 10:38:12,381]\u001b[0m Trial 365 finished with value: 2.174876601274336 and parameters: {'max_depth': 3, 'learning_rate': 0.01180872207046759, 'n_estimators': 227, 'gamma': 0.566998825810143, 'reg_alpha': 1.4260015455506825, 'reg_lambda': 0.8388452795725374, 'colsample_bytree': 0.8050261010508308, 'subsample': 0.4519072927671667}. Best is trial 142 with value: 2.073825143869354.\u001b[0m\n",
      "\u001b[32m[I 2023-06-21 10:38:47,090]\u001b[0m Trial 366 finished with value: 2.1464889962695897 and parameters: {'max_depth': 3, 'learning_rate': 0.05755032658563671, 'n_estimators': 182, 'gamma': 0.897863487714192, 'reg_alpha': 1.0309196373792784, 'reg_lambda': 1.1808380836109027, 'colsample_bytree': 0.6733388290018195, 'subsample': 0.42931563013078605}. Best is trial 142 with value: 2.073825143869354.\u001b[0m\n",
      "\u001b[32m[I 2023-06-21 10:39:00,877]\u001b[0m Trial 367 finished with value: 2.2129112162173836 and parameters: {'max_depth': 3, 'learning_rate': 0.06715354246855418, 'n_estimators': 62, 'gamma': 0.9675340775163885, 'reg_alpha': 0.3780092181408835, 'reg_lambda': 6.732357044472097, 'colsample_bytree': 0.7616925307209499, 'subsample': 0.44067993322909654}. Best is trial 142 with value: 2.073825143869354.\u001b[0m\n",
      "\u001b[32m[I 2023-06-21 10:39:39,015]\u001b[0m Trial 368 finished with value: 2.1716231588228085 and parameters: {'max_depth': 4, 'learning_rate': 0.04085569268187173, 'n_estimators': 147, 'gamma': 0.872234060279148, 'reg_alpha': 1.1922223345560865, 'reg_lambda': 1.046038857628726, 'colsample_bytree': 0.6959130264683036, 'subsample': 0.49415808784594834}. Best is trial 142 with value: 2.073825143869354.\u001b[0m\n",
      "\u001b[32m[I 2023-06-21 10:39:58,311]\u001b[0m Trial 369 finished with value: 2.21303272593415 and parameters: {'max_depth': 3, 'learning_rate': 0.0536040614698481, 'n_estimators': 97, 'gamma': 0.541881940303197, 'reg_alpha': 1.1229699244656968, 'reg_lambda': 1.317723390937418, 'colsample_bytree': 0.6477154605148365, 'subsample': 0.4625194487408672}. Best is trial 142 with value: 2.073825143869354.\u001b[0m\n",
      "\u001b[32m[I 2023-06-21 10:40:24,942]\u001b[0m Trial 370 finished with value: 2.430670207555115 and parameters: {'max_depth': 3, 'learning_rate': 0.17257666674163785, 'n_estimators': 127, 'gamma': 0.9253577964151056, 'reg_alpha': 0.8939906401483961, 'reg_lambda': 0.8707381392122969, 'colsample_bytree': 0.7918589163712232, 'subsample': 0.41339281790673016}. Best is trial 142 with value: 2.073825143869354.\u001b[0m\n",
      "\u001b[32m[I 2023-06-21 10:42:47,138]\u001b[0m Trial 371 finished with value: 2.1871277786394745 and parameters: {'max_depth': 4, 'learning_rate': 0.02570934255719388, 'n_estimators': 599, 'gamma': 0.6427992752452586, 'reg_alpha': 1.349058527903136, 'reg_lambda': 1.0487591558854525, 'colsample_bytree': 0.6845937444679077, 'subsample': 0.42811040217659563}. Best is trial 142 with value: 2.073825143869354.\u001b[0m\n",
      "\u001b[32m[I 2023-06-21 10:43:54,839]\u001b[0m Trial 372 finished with value: 2.250924901823295 and parameters: {'max_depth': 4, 'learning_rate': 0.08240252109671575, 'n_estimators': 248, 'gamma': 0.9399278692191451, 'reg_alpha': 0.5082578389006689, 'reg_lambda': 1.6245955040516098, 'colsample_bytree': 0.7888179618317541, 'subsample': 0.44010064378491914}. Best is trial 142 with value: 2.073825143869354.\u001b[0m\n",
      "\u001b[32m[I 2023-06-21 10:44:02,619]\u001b[0m Trial 373 finished with value: 2.305817894079593 and parameters: {'max_depth': 3, 'learning_rate': 0.0631259274782344, 'n_estimators': 31, 'gamma': 0.9851402680302944, 'reg_alpha': 0.11026555473889761, 'reg_lambda': 3.37197744855798, 'colsample_bytree': 0.8105224980260279, 'subsample': 0.45215458499383604}. Best is trial 142 with value: 2.073825143869354.\u001b[0m\n",
      "\u001b[32m[I 2023-06-21 10:44:40,975]\u001b[0m Trial 374 finished with value: 2.2796338036501926 and parameters: {'max_depth': 3, 'learning_rate': 0.0964849712466067, 'n_estimators': 171, 'gamma': 0.8810208714751927, 'reg_alpha': 2.759816949905085, 'reg_lambda': 5.984948228716249, 'colsample_bytree': 0.7656702640895743, 'subsample': 0.5814369135847877}. Best is trial 142 with value: 2.073825143869354.\u001b[0m\n",
      "\u001b[32m[I 2023-06-21 10:47:09,411]\u001b[0m Trial 375 finished with value: 2.1601603437434553 and parameters: {'max_depth': 3, 'learning_rate': 0.046594713905808494, 'n_estimators': 692, 'gamma': 0.9089065665036118, 'reg_alpha': 1.4797562382438214, 'reg_lambda': 1.2063186902648035, 'colsample_bytree': 0.8445746705966904, 'subsample': 0.41972311980243665}. Best is trial 142 with value: 2.073825143869354.\u001b[0m\n",
      "\u001b[32m[I 2023-06-21 10:47:47,608]\u001b[0m Trial 376 finished with value: 2.2217523238625945 and parameters: {'max_depth': 3, 'learning_rate': 0.07411547682648216, 'n_estimators': 196, 'gamma': 0.5802519805591431, 'reg_alpha': 0.7230498204046633, 'reg_lambda': 1.4224727683985825, 'colsample_bytree': 0.7207654487376998, 'subsample': 0.41053225550799316}. Best is trial 142 with value: 2.073825143869354.\u001b[0m\n",
      "\u001b[32m[I 2023-06-21 10:48:15,763]\u001b[0m Trial 377 finished with value: 2.165249640855738 and parameters: {'max_depth': 5, 'learning_rate': 0.038853810355529456, 'n_estimators': 86, 'gamma': 0.9631830008517639, 'reg_alpha': 1.2564561642989918, 'reg_lambda': 0.6556931806209152, 'colsample_bytree': 0.7068804380826403, 'subsample': 0.4773525628792228}. Best is trial 142 with value: 2.073825143869354.\u001b[0m\n",
      "\u001b[32m[I 2023-06-21 10:48:38,816]\u001b[0m Trial 378 finished with value: 2.098736174701124 and parameters: {'max_depth': 3, 'learning_rate': 0.0544665902979882, 'n_estimators': 109, 'gamma': 0.5245269586985478, 'reg_alpha': 1.0125737767088843, 'reg_lambda': 0.9212462150253831, 'colsample_bytree': 0.7478917374090919, 'subsample': 0.44249972565537266}. Best is trial 142 with value: 2.073825143869354.\u001b[0m\n",
      "\u001b[32m[I 2023-06-21 10:49:01,529]\u001b[0m Trial 379 finished with value: 2.1867590031199997 and parameters: {'max_depth': 3, 'learning_rate': 0.05582429297644477, 'n_estimators': 109, 'gamma': 0.5272790680026821, 'reg_alpha': 0.978252643073054, 'reg_lambda': 0.988719829919515, 'colsample_bytree': 0.7487880365785865, 'subsample': 0.4276109718202914}. Best is trial 142 with value: 2.073825143869354.\u001b[0m\n",
      "\u001b[32m[I 2023-06-21 10:49:15,548]\u001b[0m Trial 380 finished with value: 2.1675962355297766 and parameters: {'max_depth': 3, 'learning_rate': 0.0676662543709915, 'n_estimators': 65, 'gamma': 0.5491575314629041, 'reg_alpha': 1.1300414217289834, 'reg_lambda': 1.1361769061563252, 'colsample_bytree': 0.7407735888278457, 'subsample': 0.4371351385439116}. Best is trial 142 with value: 2.073825143869354.\u001b[0m\n",
      "\u001b[32m[I 2023-06-21 10:49:42,928]\u001b[0m Trial 381 finished with value: 2.190556706905207 and parameters: {'max_depth': 3, 'learning_rate': 0.08819245508983237, 'n_estimators': 130, 'gamma': 0.5193103177175125, 'reg_alpha': 0.841867893919306, 'reg_lambda': 1.233827954520982, 'colsample_bytree': 0.7338598171667211, 'subsample': 0.4611630551877733}. Best is trial 142 with value: 2.073825143869354.\u001b[0m\n",
      "\u001b[32m[I 2023-06-21 10:50:17,360]\u001b[0m Trial 382 finished with value: 2.2956143609702933 and parameters: {'max_depth': 6, 'learning_rate': 0.07456453318071149, 'n_estimators': 94, 'gamma': 0.2689008917446494, 'reg_alpha': 1.0248502316642307, 'reg_lambda': 0.937782625441902, 'colsample_bytree': 0.7549628590717039, 'subsample': 0.4002657008633326}. Best is trial 142 with value: 2.073825143869354.\u001b[0m\n",
      "\u001b[32m[I 2023-06-21 10:50:47,368]\u001b[0m Trial 383 finished with value: 2.1910915593622233 and parameters: {'max_depth': 3, 'learning_rate': 0.06148741835409242, 'n_estimators': 150, 'gamma': 0.4857952090700215, 'reg_alpha': 1.2416759367535672, 'reg_lambda': 1.3155501728343337, 'colsample_bytree': 0.7257799953689643, 'subsample': 0.4222444606432084}. Best is trial 142 with value: 2.073825143869354.\u001b[0m\n",
      "\u001b[32m[I 2023-06-21 10:51:08,385]\u001b[0m Trial 384 finished with value: 2.159945960198441 and parameters: {'max_depth': 3, 'learning_rate': 0.05467776225392405, 'n_estimators': 99, 'gamma': 0.5333859714323684, 'reg_alpha': 0.6810895443753312, 'reg_lambda': 0.8013109746911578, 'colsample_bytree': 0.7652106748823502, 'subsample': 0.4467838272211356}. Best is trial 142 with value: 2.073825143869354.\u001b[0m\n",
      "\u001b[32m[I 2023-06-21 10:51:21,125]\u001b[0m Trial 385 finished with value: 2.2855222202213468 and parameters: {'max_depth': 3, 'learning_rate': 0.030152304456296256, 'n_estimators': 55, 'gamma': 0.5637053167426472, 'reg_alpha': 1.5791585318550048, 'reg_lambda': 1.8066646705919813, 'colsample_bytree': 0.8267883811411357, 'subsample': 0.4348793406828213}. Best is trial 142 with value: 2.073825143869354.\u001b[0m\n",
      "\u001b[32m[I 2023-06-21 10:51:44,506]\u001b[0m Trial 386 finished with value: 2.1623340735814347 and parameters: {'max_depth': 3, 'learning_rate': 0.08116310798830903, 'n_estimators': 125, 'gamma': 0.5135648847000613, 'reg_alpha': 0.9060946560052112, 'reg_lambda': 1.0632668340806866, 'colsample_bytree': 0.6918312467612923, 'subsample': 0.4114771412768777}. Best is trial 142 with value: 2.073825143869354.\u001b[0m\n",
      "\u001b[32m[I 2023-06-21 10:51:56,477]\u001b[0m Trial 387 finished with value: 2.172854987845839 and parameters: {'max_depth': 3, 'learning_rate': 0.04893832412908309, 'n_estimators': 76, 'gamma': 0.9462441319664613, 'reg_alpha': 1.3700591428508693, 'reg_lambda': 1.484021903518047, 'colsample_bytree': 0.4222872748965713, 'subsample': 0.4668344671792667}. Best is trial 142 with value: 2.073825143869354.\u001b[0m\n",
      "\u001b[32m[I 2023-06-21 10:52:32,524]\u001b[0m Trial 388 finished with value: 2.273567447794478 and parameters: {'max_depth': 3, 'learning_rate': 0.06646467403821556, 'n_estimators': 163, 'gamma': 0.7387976609252395, 'reg_alpha': 0.34568555661227185, 'reg_lambda': 0.9155203437657671, 'colsample_bytree': 0.74300271531124, 'subsample': 0.6591508926473555}. Best is trial 142 with value: 2.073825143869354.\u001b[0m\n",
      "\u001b[32m[I 2023-06-21 10:52:55,252]\u001b[0m Trial 389 finished with value: 2.2398518629528055 and parameters: {'max_depth': 3, 'learning_rate': 0.09900735218707807, 'n_estimators': 120, 'gamma': 0.923286847292543, 'reg_alpha': 1.1505334372646048, 'reg_lambda': 0.40459668426636425, 'colsample_bytree': 0.6654164618831901, 'subsample': 0.42843055665395285}. Best is trial 142 with value: 2.073825143869354.\u001b[0m\n",
      "\u001b[32m[I 2023-06-21 10:53:09,949]\u001b[0m Trial 390 finished with value: 2.47070746895442 and parameters: {'max_depth': 3, 'learning_rate': 0.01700771660878923, 'n_estimators': 67, 'gamma': 0.4967386821486178, 'reg_alpha': 1.0421417680867509, 'reg_lambda': 1.147311282679585, 'colsample_bytree': 0.7723089973635088, 'subsample': 0.44386309198082224}. Best is trial 142 with value: 2.073825143869354.\u001b[0m\n",
      "\u001b[32m[I 2023-06-21 10:53:16,872]\u001b[0m Trial 391 finished with value: 2.4644515845106736 and parameters: {'max_depth': 3, 'learning_rate': 0.03477645062131268, 'n_estimators': 31, 'gamma': 0.9821670371621595, 'reg_alpha': 1.7202184242499823, 'reg_lambda': 0.6259754766164489, 'colsample_bytree': 0.7070889516783171, 'subsample': 0.45371365796644586}. Best is trial 142 with value: 2.073825143869354.\u001b[0m\n",
      "\u001b[32m[I 2023-06-21 10:53:43,705]\u001b[0m Trial 392 finished with value: 2.2144639131091273 and parameters: {'max_depth': 3, 'learning_rate': 0.051693058832747225, 'n_estimators': 131, 'gamma': 0.5500492003177883, 'reg_alpha': 0.793036513694402, 'reg_lambda': 1.3349155326026025, 'colsample_bytree': 0.7525472568648822, 'subsample': 0.4235162757006588}. Best is trial 142 with value: 2.073825143869354.\u001b[0m\n",
      "\u001b[32m[I 2023-06-21 10:54:19,067]\u001b[0m Trial 393 finished with value: 2.6123404375250656 and parameters: {'max_depth': 3, 'learning_rate': 0.2715109754660458, 'n_estimators': 162, 'gamma': 0.9423320233395397, 'reg_alpha': 0.5335264015841439, 'reg_lambda': 0.7550278202266592, 'colsample_bytree': 0.8530748803569557, 'subsample': 0.4099148228642505}. Best is trial 142 with value: 2.073825143869354.\u001b[0m\n",
      "\u001b[32m[I 2023-06-21 10:54:54,419]\u001b[0m Trial 394 finished with value: 2.3934557377090977 and parameters: {'max_depth': 6, 'learning_rate': 0.07783531831293997, 'n_estimators': 90, 'gamma': 0.5865229928571792, 'reg_alpha': 0.2211760925200228, 'reg_lambda': 1.0418250111564025, 'colsample_bytree': 0.7829858710762001, 'subsample': 0.43782645379410406}. Best is trial 142 with value: 2.073825143869354.\u001b[0m\n",
      "\u001b[32m[I 2023-06-21 10:55:48,060]\u001b[0m Trial 395 finished with value: 2.362771894915947 and parameters: {'max_depth': 7, 'learning_rate': 0.06330514232021893, 'n_estimators': 106, 'gamma': 0.901635007436914, 'reg_alpha': 1.436228050873811, 'reg_lambda': 1.1682171317547911, 'colsample_bytree': 0.8092533690056989, 'subsample': 0.506684480207119}. Best is trial 142 with value: 2.073825143869354.\u001b[0m\n",
      "\u001b[32m[I 2023-06-21 10:58:29,909]\u001b[0m Trial 396 finished with value: 2.1873781968487385 and parameters: {'max_depth': 3, 'learning_rate': 0.03965668810307844, 'n_estimators': 754, 'gamma': 0.511931294540804, 'reg_alpha': 1.2447880875921742, 'reg_lambda': 0.9632770202294851, 'colsample_bytree': 0.8351459635902335, 'subsample': 0.41896355336856633}. Best is trial 142 with value: 2.073825143869354.\u001b[0m\n",
      "\u001b[32m[I 2023-06-21 11:00:05,617]\u001b[0m Trial 397 finished with value: 2.293232820714697 and parameters: {'max_depth': 8, 'learning_rate': 0.054309820105835106, 'n_estimators': 175, 'gamma': 0.9716993232168092, 'reg_alpha': 4.007661737920429, 'reg_lambda': 0.24795927256867756, 'colsample_bytree': 0.7632642302784535, 'subsample': 0.45356803562642317}. Best is trial 142 with value: 2.073825143869354.\u001b[0m\n",
      "\u001b[32m[I 2023-06-21 11:00:34,422]\u001b[0m Trial 398 finished with value: 2.2693517034079123 and parameters: {'max_depth': 3, 'learning_rate': 0.09067655157588062, 'n_estimators': 142, 'gamma': 0.99739923532506, 'reg_alpha': 0.9065279613190302, 'reg_lambda': 1.5166620495608285, 'colsample_bytree': 0.6800770153917016, 'subsample': 0.4318573341735583}. Best is trial 142 with value: 2.073825143869354.\u001b[0m\n",
      "\u001b[32m[I 2023-06-21 11:04:52,369]\u001b[0m Trial 399 finished with value: 2.5704717399211843 and parameters: {'max_depth': 4, 'learning_rate': 0.0737641657672419, 'n_estimators': 1054, 'gamma': 0.3760563633394725, 'reg_alpha': 1.1106571828043685, 'reg_lambda': 0.5465444293371547, 'colsample_bytree': 0.7320064472386535, 'subsample': 0.4004334150270233}. Best is trial 142 with value: 2.073825143869354.\u001b[0m\n",
      "\u001b[32m[I 2023-06-21 11:05:08,914]\u001b[0m Trial 400 finished with value: 2.1607817116096015 and parameters: {'max_depth': 3, 'learning_rate': 0.04487892975799629, 'n_estimators': 73, 'gamma': 0.928465039020029, 'reg_alpha': 1.5514671364999106, 'reg_lambda': 1.2820317186395425, 'colsample_bytree': 0.8026523139568839, 'subsample': 0.47121973956747526}. Best is trial 142 with value: 2.073825143869354.\u001b[0m\n",
      "\u001b[32m[I 2023-06-21 11:07:06,893]\u001b[0m Trial 401 finished with value: 2.312706209358639 and parameters: {'max_depth': 9, 'learning_rate': 0.026874814879717414, 'n_estimators': 208, 'gamma': 0.5362914094443505, 'reg_alpha': 1.3459597192275667, 'reg_lambda': 0.8109035755944252, 'colsample_bytree': 0.7844228205554197, 'subsample': 0.4420181435083987}. Best is trial 142 with value: 2.073825143869354.\u001b[0m\n",
      "\u001b[32m[I 2023-06-21 11:07:31,504]\u001b[0m Trial 402 finished with value: 2.2086322211260248 and parameters: {'max_depth': 3, 'learning_rate': 0.06433249657554409, 'n_estimators': 111, 'gamma': 0.9153712583300458, 'reg_alpha': 2.026971384458257, 'reg_lambda': 1.0888331816786168, 'colsample_bytree': 0.771476117474205, 'subsample': 0.48489195776370697}. Best is trial 142 with value: 2.073825143869354.\u001b[0m\n",
      "\u001b[32m[I 2023-06-21 11:07:58,101]\u001b[0m Trial 403 finished with value: 2.2126788288377433 and parameters: {'max_depth': 4, 'learning_rate': 0.0538817570792354, 'n_estimators': 153, 'gamma': 0.95327808129856, 'reg_alpha': 1.825643985029095, 'reg_lambda': 1.3799082572464547, 'colsample_bytree': 0.4598734466367493, 'subsample': 0.41765429825100436}. Best is trial 142 with value: 2.073825143869354.\u001b[0m\n",
      "\u001b[32m[I 2023-06-21 11:08:11,161]\u001b[0m Trial 404 finished with value: 2.1797930194259836 and parameters: {'max_depth': 3, 'learning_rate': 0.08001747077227657, 'n_estimators': 56, 'gamma': 0.8919744727559975, 'reg_alpha': 0.9554980854561566, 'reg_lambda': 1.6645267525074061, 'colsample_bytree': 0.8256380409892226, 'subsample': 0.4578293788288731}. Best is trial 142 with value: 2.073825143869354.\u001b[0m\n",
      "\u001b[32m[I 2023-06-21 11:08:30,912]\u001b[0m Trial 405 finished with value: 2.1495877302815747 and parameters: {'max_depth': 3, 'learning_rate': 0.03775613070282615, 'n_estimators': 90, 'gamma': 0.6105724003289729, 'reg_alpha': 0.6457973719474519, 'reg_lambda': 0.8246340897978334, 'colsample_bytree': 0.8152215960288663, 'subsample': 0.42827199697744717}. Best is trial 142 with value: 2.073825143869354.\u001b[0m\n",
      "\u001b[32m[I 2023-06-21 11:09:51,586]\u001b[0m Trial 406 finished with value: 2.493761886661369 and parameters: {'max_depth': 10, 'learning_rate': 0.10688235175764996, 'n_estimators': 135, 'gamma': 0.5076480685607732, 'reg_alpha': 1.2067640361065293, 'reg_lambda': 0.6481724499858144, 'colsample_bytree': 0.7178989567839964, 'subsample': 0.4447292942996016}. Best is trial 142 with value: 2.073825143869354.\u001b[0m\n",
      "\u001b[32m[I 2023-06-21 11:10:29,008]\u001b[0m Trial 407 finished with value: 2.3848344623106703 and parameters: {'max_depth': 3, 'learning_rate': 0.008275768290656633, 'n_estimators': 183, 'gamma': 0.5689211091875759, 'reg_alpha': 1.066065670109903, 'reg_lambda': 0.9433992572029203, 'colsample_bytree': 0.7931912993351887, 'subsample': 0.41103299270403654}. Best is trial 142 with value: 2.073825143869354.\u001b[0m\n",
      "\u001b[32m[I 2023-06-21 11:11:29,063]\u001b[0m Trial 408 finished with value: 2.54471740571448 and parameters: {'max_depth': 4, 'learning_rate': 0.06700645000274343, 'n_estimators': 216, 'gamma': 0.9411973401937603, 'reg_alpha': 0.7777806868454292, 'reg_lambda': 1.2368314823998614, 'colsample_bytree': 0.6946020202355646, 'subsample': 0.9026631358114677}. Best is trial 142 with value: 2.073825143869354.\u001b[0m\n",
      "\u001b[32m[I 2023-06-21 11:11:53,094]\u001b[0m Trial 409 finished with value: 2.1326250279259384 and parameters: {'max_depth': 3, 'learning_rate': 0.046826183819836775, 'n_estimators': 112, 'gamma': 0.9654029130685013, 'reg_alpha': 0.2660085958173334, 'reg_lambda': 0.40487238284516947, 'colsample_bytree': 0.7766577296597644, 'subsample': 0.4306001049749613}. Best is trial 142 with value: 2.073825143869354.\u001b[0m\n",
      "\u001b[32m[I 2023-06-21 11:12:50,602]\u001b[0m Trial 410 finished with value: 2.252261727486455 and parameters: {'max_depth': 3, 'learning_rate': 0.09041710936277543, 'n_estimators': 255, 'gamma': 0.7607448954291475, 'reg_alpha': 1.3347612311667694, 'reg_lambda': 1.1166270404774772, 'colsample_bytree': 0.7509834663154109, 'subsample': 0.45241235910870636}. Best is trial 142 with value: 2.073825143869354.\u001b[0m\n",
      "\u001b[32m[I 2023-06-21 11:13:06,367]\u001b[0m Trial 411 finished with value: 2.3797817300849156 and parameters: {'max_depth': 3, 'learning_rate': 0.024414664528669354, 'n_estimators': 58, 'gamma': 0.9129947161318912, 'reg_alpha': 0.02205267761085769, 'reg_lambda': 1.4163072015729614, 'colsample_bytree': 0.9964365097522591, 'subsample': 0.4177707608216754}. Best is trial 142 with value: 2.073825143869354.\u001b[0m\n",
      "\u001b[32m[I 2023-06-21 11:15:03,942]\u001b[0m Trial 412 finished with value: 2.445429282116839 and parameters: {'max_depth': 11, 'learning_rate': 0.060233920212298966, 'n_estimators': 156, 'gamma': 0.4118842602048058, 'reg_alpha': 0.4859506199349142, 'reg_lambda': 0.9356394315460534, 'colsample_bytree': 0.7999968340706032, 'subsample': 0.4431834148210852}. Best is trial 142 with value: 2.073825143869354.\u001b[0m\n",
      "\u001b[32m[I 2023-06-21 11:18:37,257]\u001b[0m Trial 413 finished with value: 2.436932894977066 and parameters: {'max_depth': 4, 'learning_rate': 0.07646306398552057, 'n_estimators': 848, 'gamma': 0.8616691018985189, 'reg_alpha': 1.450850285430128, 'reg_lambda': 0.7437406879015567, 'colsample_bytree': 0.7037658965235423, 'subsample': 0.4708564908115695}. Best is trial 142 with value: 2.073825143869354.\u001b[0m\n",
      "\u001b[32m[I 2023-06-21 11:18:55,125]\u001b[0m Trial 414 finished with value: 2.1968934762079284 and parameters: {'max_depth': 3, 'learning_rate': 0.04987803234452669, 'n_estimators': 87, 'gamma': 0.463077580203337, 'reg_alpha': 4.853325682060403, 'reg_lambda': 1.5675318341234659, 'colsample_bytree': 0.7621255363833213, 'subsample': 0.4325060111973681}. Best is trial 142 with value: 2.073825143869354.\u001b[0m\n",
      "\u001b[32m[I 2023-06-21 11:20:44,809]\u001b[0m Trial 415 finished with value: 2.271191264633584 and parameters: {'max_depth': 12, 'learning_rate': 0.03700545387611128, 'n_estimators': 119, 'gamma': 0.5415189601628424, 'reg_alpha': 1.6109762585534069, 'reg_lambda': 1.2502542675763626, 'colsample_bytree': 0.8161071708427526, 'subsample': 0.4616068158529497}. Best is trial 142 with value: 2.073825143869354.\u001b[0m\n",
      "\u001b[32m[I 2023-06-21 11:29:34,567]\u001b[0m Trial 416 finished with value: 2.7560969618903823 and parameters: {'max_depth': 14, 'learning_rate': 0.0616965669920217, 'n_estimators': 544, 'gamma': 0.8985533666817207, 'reg_alpha': 3.883942453535479, 'reg_lambda': 1.0601651234799734, 'colsample_bytree': 0.7867159255422285, 'subsample': 0.420410512751942}. Best is trial 142 with value: 2.073825143869354.\u001b[0m\n",
      "\u001b[32m[I 2023-06-21 11:30:14,933]\u001b[0m Trial 417 finished with value: 2.2603172202312782 and parameters: {'max_depth': 3, 'learning_rate': 0.08437589736940736, 'n_estimators': 190, 'gamma': 0.958755796230283, 'reg_alpha': 1.0077659783031656, 'reg_lambda': 0.571197353927341, 'colsample_bytree': 0.8384362612285612, 'subsample': 0.40680218334513696}. Best is trial 142 with value: 2.073825143869354.\u001b[0m\n",
      "\u001b[32m[I 2023-06-21 11:30:22,897]\u001b[0m Trial 418 finished with value: 2.111580800498225 and parameters: {'max_depth': 4, 'learning_rate': 0.07250100538595111, 'n_estimators': 30, 'gamma': 0.8824170363286509, 'reg_alpha': 1.1473634705587321, 'reg_lambda': 1.9310948558478098, 'colsample_bytree': 0.6798155767474625, 'subsample': 0.43815074739008536}. Best is trial 142 with value: 2.073825143869354.\u001b[0m\n",
      "\u001b[32m[I 2023-06-21 11:30:38,664]\u001b[0m Trial 419 finished with value: 2.306066856627834 and parameters: {'max_depth': 4, 'learning_rate': 0.070478258404119, 'n_estimators': 65, 'gamma': 0.9345131555190389, 'reg_alpha': 0.8798044867961429, 'reg_lambda': 1.8614865508086125, 'colsample_bytree': 0.6734632565246074, 'subsample': 0.43031793894163783}. Best is trial 142 with value: 2.073825143869354.\u001b[0m\n",
      "\u001b[32m[I 2023-06-21 11:30:47,757]\u001b[0m Trial 420 finished with value: 2.180903063425686 and parameters: {'max_depth': 4, 'learning_rate': 0.08914828842885213, 'n_estimators': 36, 'gamma': 0.4798469892520647, 'reg_alpha': 2.400020930955479, 'reg_lambda': 1.6017476871104157, 'colsample_bytree': 0.6587899639271543, 'subsample': 0.44582842494362124}. Best is trial 142 with value: 2.073825143869354.\u001b[0m\n",
      "\u001b[32m[I 2023-06-21 11:30:55,377]\u001b[0m Trial 421 finished with value: 2.23454333426684 and parameters: {'max_depth': 4, 'learning_rate': 0.10875644669038351, 'n_estimators': 30, 'gamma': 0.528605580779794, 'reg_alpha': 1.1465686299297055, 'reg_lambda': 2.596635245451897, 'colsample_bytree': 0.6790288500366807, 'subsample': 0.4181402218163688}. Best is trial 142 with value: 2.073825143869354.\u001b[0m\n",
      "\u001b[32m[I 2023-06-21 11:31:09,701]\u001b[0m Trial 422 finished with value: 2.2756706378930565 and parameters: {'max_depth': 4, 'learning_rate': 0.07192743988216371, 'n_estimators': 62, 'gamma': 0.9987068187268561, 'reg_alpha': 0.7838497347940365, 'reg_lambda': 1.7361617115061128, 'colsample_bytree': 0.6636356470921925, 'subsample': 0.40112547206079113}. Best is trial 142 with value: 2.073825143869354.\u001b[0m\n",
      "\u001b[32m[I 2023-06-21 11:31:29,824]\u001b[0m Trial 423 finished with value: 2.119807374713756 and parameters: {'max_depth': 4, 'learning_rate': 0.058554315744441865, 'n_estimators': 83, 'gamma': 0.8843717607898242, 'reg_alpha': 1.0117450981991822, 'reg_lambda': 0.4673485024087004, 'colsample_bytree': 0.6897902142932532, 'subsample': 0.43520629467478816}. Best is trial 142 with value: 2.073825143869354.\u001b[0m\n",
      "\u001b[32m[I 2023-06-21 11:31:42,761]\u001b[0m Trial 424 finished with value: 2.171643886521435 and parameters: {'max_depth': 4, 'learning_rate': 0.14945063770398473, 'n_estimators': 51, 'gamma': 0.8842431414506672, 'reg_alpha': 1.005338870636268, 'reg_lambda': 2.0863917771941862, 'colsample_bytree': 0.6856912740564782, 'subsample': 0.46008928240562597}. Best is trial 142 with value: 2.073825143869354.\u001b[0m\n",
      "\u001b[32m[I 2023-06-21 11:32:06,270]\u001b[0m Trial 425 finished with value: 2.2250598344900387 and parameters: {'max_depth': 5, 'learning_rate': 0.07804089533520606, 'n_estimators': 79, 'gamma': 0.9138540418388988, 'reg_alpha': 0.9323276576048354, 'reg_lambda': 0.39756290206147415, 'colsample_bytree': 0.7062339720142234, 'subsample': 0.4387018744241533}. Best is trial 142 with value: 2.073825143869354.\u001b[0m\n",
      "\u001b[32m[I 2023-06-21 11:32:17,272]\u001b[0m Trial 426 finished with value: 2.271386596866148 and parameters: {'max_depth': 5, 'learning_rate': 0.09445357512477387, 'n_estimators': 35, 'gamma': 0.30921684004282696, 'reg_alpha': 1.1403851152969997, 'reg_lambda': 0.174353992308523, 'colsample_bytree': 0.690988270100848, 'subsample': 0.45097204625331705}. Best is trial 142 with value: 2.073825143869354.\u001b[0m\n",
      "\u001b[32m[I 2023-06-21 11:32:37,003]\u001b[0m Trial 427 finished with value: 2.1721111469776218 and parameters: {'max_depth': 4, 'learning_rate': 0.06007571552658242, 'n_estimators': 82, 'gamma': 0.9217996423306666, 'reg_alpha': 0.7843505584374233, 'reg_lambda': 2.291552591244132, 'colsample_bytree': 0.6739504870630795, 'subsample': 0.4363072506633084}. Best is trial 142 with value: 2.073825143869354.\u001b[0m\n",
      "\u001b[32m[I 2023-06-21 11:33:02,775]\u001b[0m Trial 428 finished with value: 2.143745117735412 and parameters: {'max_depth': 4, 'learning_rate': 0.07057103234183558, 'n_estimators': 105, 'gamma': 0.8993174103897287, 'reg_alpha': 0.596977129715571, 'reg_lambda': 0.2841627916703835, 'colsample_bytree': 0.6973871010014467, 'subsample': 0.45175656768986105}. Best is trial 142 with value: 2.073825143869354.\u001b[0m\n",
      "\u001b[32m[I 2023-06-21 11:33:42,717]\u001b[0m Trial 429 finished with value: 2.234733421098064 and parameters: {'max_depth': 5, 'learning_rate': 0.08408380320349254, 'n_estimators': 133, 'gamma': 0.8708392943923942, 'reg_alpha': 1.2181139672881018, 'reg_lambda': 0.10758350203938274, 'colsample_bytree': 0.6843932570744584, 'subsample': 0.4689627557340151}. Best is trial 142 with value: 2.073825143869354.\u001b[0m\n",
      "\u001b[32m[I 2023-06-21 11:36:23,559]\u001b[0m Trial 430 finished with value: 2.3319090372956177 and parameters: {'max_depth': 4, 'learning_rate': 0.06181975900001732, 'n_estimators': 646, 'gamma': 0.9493022649312888, 'reg_alpha': 5.896185233962038, 'reg_lambda': 0.5025243640143429, 'colsample_bytree': 0.6523919898663711, 'subsample': 0.6107965418637182}. Best is trial 142 with value: 2.073825143869354.\u001b[0m\n",
      "\u001b[32m[I 2023-06-21 11:42:28,306]\u001b[0m Trial 431 finished with value: 3.5231923754211962 and parameters: {'max_depth': 4, 'learning_rate': 0.13662190203575922, 'n_estimators': 1471, 'gamma': 0.9792428843035303, 'reg_alpha': 0.9145513210989398, 'reg_lambda': 0.2773069224911639, 'colsample_bytree': 0.7273227171752958, 'subsample': 0.42573345747494196}. Best is trial 142 with value: 2.073825143869354.\u001b[0m\n",
      "\u001b[32m[I 2023-06-21 11:42:46,908]\u001b[0m Trial 432 finished with value: 2.1577444286858616 and parameters: {'max_depth': 4, 'learning_rate': 0.05426699516522743, 'n_estimators': 68, 'gamma': 0.9262404479789391, 'reg_alpha': 1.059606999126935, 'reg_lambda': 0.42787757829156947, 'colsample_bytree': 0.7102175421820254, 'subsample': 0.43909534858647337}. Best is trial 142 with value: 2.073825143869354.\u001b[0m\n",
      "\u001b[32m[I 2023-06-21 11:44:10,208]\u001b[0m Trial 433 finished with value: 2.2459179201662365 and parameters: {'max_depth': 4, 'learning_rate': 0.07181403964264277, 'n_estimators': 323, 'gamma': 0.5500124411963607, 'reg_alpha': 1.2709562575555269, 'reg_lambda': 0.5501014999035302, 'colsample_bytree': 0.7163878780616294, 'subsample': 0.42725097178336013}. Best is trial 142 with value: 2.073825143869354.\u001b[0m\n",
      "\u001b[32m[I 2023-06-21 11:49:34,242]\u001b[0m Trial 434 finished with value: 2.482747075556658 and parameters: {'max_depth': 4, 'learning_rate': 0.0994481609398229, 'n_estimators': 1163, 'gamma': 0.8821138981995051, 'reg_alpha': 0.13100332878753135, 'reg_lambda': 0.5740585423492979, 'colsample_bytree': 0.6715075138483719, 'subsample': 0.4845614705577516}. Best is trial 142 with value: 2.073825143869354.\u001b[0m\n",
      "\u001b[32m[I 2023-06-21 11:49:56,214]\u001b[0m Trial 435 finished with value: 2.1749596361160286 and parameters: {'max_depth': 4, 'learning_rate': 0.05606944491386012, 'n_estimators': 89, 'gamma': 0.5796899514521711, 'reg_alpha': 1.0965745562500226, 'reg_lambda': 0.7270417309027369, 'colsample_bytree': 0.6147758208849502, 'subsample': 0.44965102077411695}. Best is trial 142 with value: 2.073825143869354.\u001b[0m\n",
      "\u001b[32m[I 2023-06-21 11:50:05,861]\u001b[0m Trial 436 finished with value: 2.2099317768034377 and parameters: {'max_depth': 4, 'learning_rate': 0.07519929487228995, 'n_estimators': 33, 'gamma': 0.5156005745128532, 'reg_alpha': 0.6764912855292852, 'reg_lambda': 1.7635008958695944, 'colsample_bytree': 0.6883249481723839, 'subsample': 0.524225380649915}. Best is trial 142 with value: 2.073825143869354.\u001b[0m\n",
      "\u001b[32m[I 2023-06-21 11:50:33,245]\u001b[0m Trial 437 finished with value: 2.208724096910588 and parameters: {'max_depth': 3, 'learning_rate': 0.04665493192782647, 'n_estimators': 132, 'gamma': 0.9039278270191953, 'reg_alpha': 0.39976333014193377, 'reg_lambda': 3.7152875048084653, 'colsample_bytree': 0.6950405609981686, 'subsample': 0.46367498984125977}. Best is trial 142 with value: 2.073825143869354.\u001b[0m\n",
      "\u001b[32m[I 2023-06-21 11:56:38,210]\u001b[0m Trial 438 finished with value: 2.4814294516632005 and parameters: {'max_depth': 4, 'learning_rate': 0.08411042206184807, 'n_estimators': 1314, 'gamma': 0.963972611241368, 'reg_alpha': 0.9272062715984828, 'reg_lambda': 1.9972821713701627, 'colsample_bytree': 0.7422487478389328, 'subsample': 0.43795834066525513}. Best is trial 142 with value: 2.073825143869354.\u001b[0m\n",
      "\u001b[32m[I 2023-06-21 11:57:03,636]\u001b[0m Trial 439 finished with value: 2.19309037000476 and parameters: {'max_depth': 3, 'learning_rate': 0.06642238566478208, 'n_estimators': 108, 'gamma': 0.49988614490336275, 'reg_alpha': 1.2684021760338637, 'reg_lambda': 0.39291650255910227, 'colsample_bytree': 0.7002715130209411, 'subsample': 0.42631417123984755}. Best is trial 142 with value: 2.073825143869354.\u001b[0m\n",
      "\u001b[32m[I 2023-06-21 11:57:17,973]\u001b[0m Trial 440 finished with value: 2.676209997619939 and parameters: {'max_depth': 3, 'learning_rate': 0.4754938110519145, 'n_estimators': 59, 'gamma': 0.9459383563669513, 'reg_alpha': 1.4368580686235874, 'reg_lambda': 0.7042923535692005, 'colsample_bytree': 0.6793839992243429, 'subsample': 0.45378101490597106}. Best is trial 142 with value: 2.073825143869354.\u001b[0m\n",
      "\u001b[32m[I 2023-06-21 11:58:04,703]\u001b[0m Trial 441 finished with value: 2.392430539472749 and parameters: {'max_depth': 4, 'learning_rate': 0.12049647812438265, 'n_estimators': 148, 'gamma': 0.8617307021086584, 'reg_alpha': 1.0735718232265254, 'reg_lambda': 1.5157205028598326, 'colsample_bytree': 0.7182575008346066, 'subsample': 0.41970773303097825}. Best is trial 142 with value: 2.073825143869354.\u001b[0m\n",
      "\u001b[32m[I 2023-06-21 11:58:12,496]\u001b[0m Trial 442 finished with value: 2.255092588482921 and parameters: {'max_depth': 3, 'learning_rate': 0.05543004006548194, 'n_estimators': 30, 'gamma': 0.8876435282628902, 'reg_alpha': 0.7546584305451922, 'reg_lambda': 1.3727051282244032, 'colsample_bytree': 0.7347236042456828, 'subsample': 0.44057115644209943}. Best is trial 142 with value: 2.073825143869354.\u001b[0m\n",
      "\u001b[32m[I 2023-06-21 11:58:44,795]\u001b[0m Trial 443 finished with value: 2.2464399485038005 and parameters: {'max_depth': 5, 'learning_rate': 0.06484007331356001, 'n_estimators': 93, 'gamma': 0.9216578652627467, 'reg_alpha': 1.2289489349799452, 'reg_lambda': 0.6344726732842434, 'colsample_bytree': 0.6479853891003918, 'subsample': 0.4323268540265094}. Best is trial 142 with value: 2.073825143869354.\u001b[0m\n",
      "\u001b[32m[I 2023-06-21 11:59:46,784]\u001b[0m Trial 444 finished with value: 2.1966566665665623 and parameters: {'max_depth': 3, 'learning_rate': 0.04254750946510419, 'n_estimators': 289, 'gamma': 0.6233670051859299, 'reg_alpha': 0.9969799087115531, 'reg_lambda': 1.9776146094818432, 'colsample_bytree': 0.6683810524706952, 'subsample': 0.47718258885534437}. Best is trial 142 with value: 2.073825143869354.\u001b[0m\n",
      "\u001b[32m[I 2023-06-21 12:00:29,018]\u001b[0m Trial 445 finished with value: 2.2087853968742612 and parameters: {'max_depth': 3, 'learning_rate': 0.09483320068030786, 'n_estimators': 172, 'gamma': 0.5297723281942146, 'reg_alpha': 0.33023605370065956, 'reg_lambda': 0.8288115277712464, 'colsample_bytree': 0.753187593888404, 'subsample': 0.6334857712308037}. Best is trial 142 with value: 2.073825143869354.\u001b[0m\n",
      "\u001b[32m[I 2023-06-21 12:01:05,050]\u001b[0m Trial 446 finished with value: 2.211082352155945 and parameters: {'max_depth': 4, 'learning_rate': 0.07967353672380043, 'n_estimators': 120, 'gamma': 0.5617864400735932, 'reg_alpha': 0.5165457101200134, 'reg_lambda': 0.45205910353331047, 'colsample_bytree': 0.8013971435791443, 'subsample': 0.4140002247045191}. Best is trial 142 with value: 2.073825143869354.\u001b[0m\n",
      "\u001b[32m[I 2023-06-21 12:01:51,773]\u001b[0m Trial 447 finished with value: 2.1460917400286674 and parameters: {'max_depth': 3, 'learning_rate': 0.04611145442356708, 'n_estimators': 229, 'gamma': 0.9386017781450426, 'reg_alpha': 1.513996881122879, 'reg_lambda': 1.4188987365334285, 'colsample_bytree': 0.6866740437004168, 'subsample': 0.45930183083152515}. Best is trial 142 with value: 2.073825143869354.\u001b[0m\n",
      "\u001b[32m[I 2023-06-21 12:02:05,645]\u001b[0m Trial 448 finished with value: 2.213084889569528 and parameters: {'max_depth': 3, 'learning_rate': 0.05902437813833302, 'n_estimators': 71, 'gamma': 0.9736401825267149, 'reg_alpha': 4.672452729533742, 'reg_lambda': 5.335115761784539, 'colsample_bytree': 0.7023247434389995, 'subsample': 0.4458044456947747}. Best is trial 142 with value: 2.073825143869354.\u001b[0m\n",
      "\u001b[32m[I 2023-06-21 12:02:44,017]\u001b[0m Trial 449 finished with value: 2.135488099014243 and parameters: {'max_depth': 4, 'learning_rate': 0.03142917801086287, 'n_estimators': 152, 'gamma': 0.43280019144939785, 'reg_alpha': 0.8302334996392638, 'reg_lambda': 0.8799175060036091, 'colsample_bytree': 0.7679926224890888, 'subsample': 0.42823577946057306}. Best is trial 142 with value: 2.073825143869354.\u001b[0m\n",
      "\u001b[32m[I 2023-06-21 12:03:04,667]\u001b[0m Trial 450 finished with value: 2.198882220557484 and parameters: {'max_depth': 3, 'learning_rate': 0.06853333099454151, 'n_estimators': 105, 'gamma': 0.8978776251622175, 'reg_alpha': 1.351240843078787, 'reg_lambda': 1.2465111030084728, 'colsample_bytree': 0.7883219896392618, 'subsample': 0.4102763334227553}. Best is trial 142 with value: 2.073825143869354.\u001b[0m\n",
      "\u001b[32m[I 2023-06-21 12:03:17,622]\u001b[0m Trial 451 finished with value: 2.1588264003695072 and parameters: {'max_depth': 3, 'learning_rate': 0.08308088639038526, 'n_estimators': 61, 'gamma': 0.9193624606845794, 'reg_alpha': 1.1526343144722586, 'reg_lambda': 1.8729065335606903, 'colsample_bytree': 0.7427072524740754, 'subsample': 0.44359879347661163}. Best is trial 142 with value: 2.073825143869354.\u001b[0m\n",
      "\u001b[32m[I 2023-06-21 12:03:46,032]\u001b[0m Trial 452 finished with value: 2.1349618309630953 and parameters: {'max_depth': 3, 'learning_rate': 0.05424278376840471, 'n_estimators': 138, 'gamma': 0.9562925502674389, 'reg_alpha': 5.478131033417324, 'reg_lambda': 0.2693167136034531, 'colsample_bytree': 0.7773722429300624, 'subsample': 0.42128010043888425}. Best is trial 142 with value: 2.073825143869354.\u001b[0m\n",
      "\u001b[32m[I 2023-06-21 12:04:39,061]\u001b[0m Trial 453 finished with value: 2.547981181444983 and parameters: {'max_depth': 4, 'learning_rate': 0.24406698501723811, 'n_estimators': 194, 'gamma': 0.8710172987451184, 'reg_alpha': 6.407577228198127, 'reg_lambda': 0.6351299564736776, 'colsample_bytree': 0.7176311817075548, 'subsample': 0.4641247398363376}. Best is trial 142 with value: 2.073825143869354.\u001b[0m\n",
      "\u001b[32m[I 2023-06-21 12:04:58,300]\u001b[0m Trial 454 finished with value: 2.1469306780273474 and parameters: {'max_depth': 3, 'learning_rate': 0.04193882507113428, 'n_estimators': 89, 'gamma': 0.553588373040677, 'reg_alpha': 1.0120401227671818, 'reg_lambda': 0.776445172848159, 'colsample_bytree': 0.7588537156743006, 'subsample': 0.4350150407551779}. Best is trial 142 with value: 2.073825143869354.\u001b[0m\n",
      "\u001b[32m[I 2023-06-21 12:06:00,705]\u001b[0m Trial 455 finished with value: 2.7053190604000403 and parameters: {'max_depth': 3, 'learning_rate': 0.21859943912543864, 'n_estimators': 266, 'gamma': 0.49644492915729227, 'reg_alpha': 1.7059668098211247, 'reg_lambda': 1.1858526408846024, 'colsample_bytree': 0.8094422247673515, 'subsample': 0.44955338709026604}. Best is trial 142 with value: 2.073825143869354.\u001b[0m\n",
      "\u001b[32m[I 2023-06-21 12:06:44,650]\u001b[0m Trial 456 finished with value: 2.258044891973547 and parameters: {'max_depth': 4, 'learning_rate': 0.06096895151332674, 'n_estimators': 162, 'gamma': 0.9306635620713984, 'reg_alpha': 0.16768356581135985, 'reg_lambda': 1.668302146506966, 'colsample_bytree': 0.6648325122533992, 'subsample': 0.4004063750923026}. Best is trial 142 with value: 2.073825143869354.\u001b[0m\n",
      "\u001b[32m[I 2023-06-21 12:07:13,766]\u001b[0m Trial 457 finished with value: 2.1609145989590757 and parameters: {'max_depth': 3, 'learning_rate': 0.09325081024771699, 'n_estimators': 118, 'gamma': 0.98397816320561, 'reg_alpha': 0.6300481354934748, 'reg_lambda': 0.9640543531768114, 'colsample_bytree': 0.7913564232628646, 'subsample': 0.42199433759084626}. Best is trial 142 with value: 2.073825143869354.\u001b[0m\n",
      "\u001b[32m[I 2023-06-21 12:08:00,701]\u001b[0m Trial 458 finished with value: 2.1993415848473052 and parameters: {'max_depth': 3, 'learning_rate': 0.06891990851539047, 'n_estimators': 217, 'gamma': 0.9076049197433527, 'reg_alpha': 0.8585085056060058, 'reg_lambda': 1.521317479991117, 'colsample_bytree': 0.6825976184438607, 'subsample': 0.4350352388719621}. Best is trial 142 with value: 2.073825143869354.\u001b[0m\n",
      "\u001b[32m[I 2023-06-21 12:08:16,446]\u001b[0m Trial 459 finished with value: 2.4687333602929873 and parameters: {'max_depth': 3, 'learning_rate': 0.021739269204810827, 'n_estimators': 64, 'gamma': 0.8563267039152341, 'reg_alpha': 1.287158438839969, 'reg_lambda': 3.1735867268661835, 'colsample_bytree': 0.707533386751192, 'subsample': 0.4557059628060962}. Best is trial 142 with value: 2.073825143869354.\u001b[0m\n",
      "\u001b[32m[I 2023-06-21 12:08:46,921]\u001b[0m Trial 460 finished with value: 3.636346592204594 and parameters: {'max_depth': 4, 'learning_rate': 0.5585480758345085, 'n_estimators': 96, 'gamma': 0.5246748415808244, 'reg_alpha': 2.228036705930058, 'reg_lambda': 1.2747981538537108, 'colsample_bytree': 0.7318105335025943, 'subsample': 0.47636223464485217}. Best is trial 142 with value: 2.073825143869354.\u001b[0m\n",
      "\u001b[32m[I 2023-06-21 12:09:21,056]\u001b[0m Trial 461 finished with value: 2.179880880862767 and parameters: {'max_depth': 3, 'learning_rate': 0.05033497662149416, 'n_estimators': 138, 'gamma': 0.9495380731803684, 'reg_alpha': 1.5260188686481562, 'reg_lambda': 0.8743185082477404, 'colsample_bytree': 0.8541896378540978, 'subsample': 0.4105074176609049}. Best is trial 142 with value: 2.073825143869354.\u001b[0m\n",
      "\u001b[32m[I 2023-06-21 12:10:18,373]\u001b[0m Trial 462 finished with value: 3.468151308095007 and parameters: {'max_depth': 4, 'learning_rate': 0.420537248231723, 'n_estimators': 187, 'gamma': 0.8786738830363697, 'reg_alpha': 4.123013888511693, 'reg_lambda': 0.5404249352076633, 'colsample_bytree': 0.7956960989791865, 'subsample': 0.430703459966657}. Best is trial 142 with value: 2.073825143869354.\u001b[0m\n",
      "\u001b[32m[I 2023-06-21 12:10:40,413]\u001b[0m Trial 463 finished with value: 2.271315803194058 and parameters: {'max_depth': 5, 'learning_rate': 0.07898404098593576, 'n_estimators': 57, 'gamma': 0.3978279873793726, 'reg_alpha': 1.4094863695929543, 'reg_lambda': 1.090809473035416, 'colsample_bytree': 0.7684067625314358, 'subsample': 0.4473418076971658}. Best is trial 142 with value: 2.073825143869354.\u001b[0m\n",
      "\u001b[32m[I 2023-06-21 12:11:15,713]\u001b[0m Trial 464 finished with value: 2.521631905291976 and parameters: {'max_depth': 3, 'learning_rate': 0.333880080719424, 'n_estimators': 111, 'gamma': 0.5872761960941193, 'reg_alpha': 1.1266533582777918, 'reg_lambda': 1.3908455706258274, 'colsample_bytree': 0.8261284100698264, 'subsample': 0.8848641070753138}. Best is trial 142 with value: 2.073825143869354.\u001b[0m\n",
      "\u001b[32m[I 2023-06-21 12:11:59,620]\u001b[0m Trial 465 finished with value: 2.3424588896702425 and parameters: {'max_depth': 3, 'learning_rate': 0.03536659469051913, 'n_estimators': 158, 'gamma': 0.9005201108091037, 'reg_alpha': 3.813589507766483, 'reg_lambda': 0.6576207207088761, 'colsample_bytree': 0.6971136448762771, 'subsample': 0.9384904232268116}. Best is trial 142 with value: 2.073825143869354.\u001b[0m\n",
      "\u001b[32m[I 2023-06-21 12:12:23,435]\u001b[0m Trial 466 finished with value: 2.1709352516264477 and parameters: {'max_depth': 3, 'learning_rate': 0.07125148360498282, 'n_estimators': 83, 'gamma': 0.4762921853822203, 'reg_alpha': 0.9334789219426868, 'reg_lambda': 2.4036730339580084, 'colsample_bytree': 0.7790122716943081, 'subsample': 0.4191229448487112}. Best is trial 142 with value: 2.073825143869354.\u001b[0m\n",
      "\u001b[32m[I 2023-06-21 12:13:10,757]\u001b[0m Trial 467 finished with value: 2.221243688565372 and parameters: {'max_depth': 4, 'learning_rate': 0.10787985901202304, 'n_estimators': 125, 'gamma': 0.45100166804382835, 'reg_alpha': 0.7035184436134823, 'reg_lambda': 2.1497757904728614, 'colsample_bytree': 0.8052850476535082, 'subsample': 0.46661696402398517}. Best is trial 142 with value: 2.073825143869354.\u001b[0m\n",
      "\u001b[32m[I 2023-06-21 12:14:05,763]\u001b[0m Trial 468 finished with value: 2.131032949742491 and parameters: {'max_depth': 3, 'learning_rate': 0.056031067059741264, 'n_estimators': 242, 'gamma': 0.5451947876065458, 'reg_alpha': 0.27014130333527697, 'reg_lambda': 0.3383572399470118, 'colsample_bytree': 0.7511687043439041, 'subsample': 0.44089597273048203}. Best is trial 142 with value: 2.073825143869354.\u001b[0m\n",
      "\u001b[32m[I 2023-06-21 12:14:18,005]\u001b[0m Trial 469 finished with value: 2.2973194206209087 and parameters: {'max_depth': 5, 'learning_rate': 0.04344878198454395, 'n_estimators': 31, 'gamma': 0.9647739861495257, 'reg_alpha': 0.01091188098117224, 'reg_lambda': 0.9896461628671471, 'colsample_bytree': 0.7835774917647873, 'subsample': 0.4275784140570899}. Best is trial 142 with value: 2.073825143869354.\u001b[0m\n",
      "\u001b[32m[I 2023-06-21 12:14:53,937]\u001b[0m Trial 470 finished with value: 2.219566599859852 and parameters: {'max_depth': 3, 'learning_rate': 0.08191995003547241, 'n_estimators': 176, 'gamma': 0.9401538495776199, 'reg_alpha': 1.2054423877512264, 'reg_lambda': 1.179689388471187, 'colsample_bytree': 0.6765359722203119, 'subsample': 0.4108032415071102}. Best is trial 142 with value: 2.073825143869354.\u001b[0m\n",
      "\u001b[32m[I 2023-06-21 12:15:21,739]\u001b[0m Trial 471 finished with value: 2.1970017594780957 and parameters: {'max_depth': 4, 'learning_rate': 0.06349359200390478, 'n_estimators': 84, 'gamma': 0.9139810110380888, 'reg_alpha': 1.047217009583199, 'reg_lambda': 0.7699699045180992, 'colsample_bytree': 0.8187917492415934, 'subsample': 0.49641820211337606}. Best is trial 142 with value: 2.073825143869354.\u001b[0m\n",
      "\u001b[32m[I 2023-06-21 12:15:57,043]\u001b[0m Trial 472 finished with value: 2.1837216633232956 and parameters: {'max_depth': 3, 'learning_rate': 0.030400666767293923, 'n_estimators': 137, 'gamma': 0.5721426648443193, 'reg_alpha': 1.6062103745669094, 'reg_lambda': 0.47138477564542675, 'colsample_bytree': 0.8644889656105157, 'subsample': 0.45688375231435685}. Best is trial 142 with value: 2.073825143869354.\u001b[0m\n",
      "\u001b[32m[I 2023-06-21 12:16:09,491]\u001b[0m Trial 473 finished with value: 2.146259656829139 and parameters: {'max_depth': 3, 'learning_rate': 0.050867970283214554, 'n_estimators': 55, 'gamma': 0.5169429662388562, 'reg_alpha': 3.6433125555082917, 'reg_lambda': 1.3362490374387945, 'colsample_bytree': 0.6934196412330146, 'subsample': 0.4370206869327668}. Best is trial 142 with value: 2.073825143869354.\u001b[0m\n",
      "\u001b[32m[I 2023-06-21 12:18:51,606]\u001b[0m Trial 474 finished with value: 2.2930207870414163 and parameters: {'max_depth': 4, 'learning_rate': 0.07193051885329038, 'n_estimators': 574, 'gamma': 0.9804474226864269, 'reg_alpha': 1.8834016726281475, 'reg_lambda': 2.747434925242321, 'colsample_bytree': 0.7609929626784968, 'subsample': 0.4212116072140243}. Best is trial 142 with value: 2.073825143869354.\u001b[0m\n",
      "\u001b[32m[I 2023-06-21 12:19:17,601]\u001b[0m Trial 475 finished with value: 2.2734250527054742 and parameters: {'max_depth': 3, 'learning_rate': 0.08849587995806926, 'n_estimators': 106, 'gamma': 0.9310882888412133, 'reg_alpha': 0.5022240658702037, 'reg_lambda': 1.0708215906653629, 'colsample_bytree': 0.7957262304917196, 'subsample': 0.44757404290127206}. Best is trial 142 with value: 2.073825143869354.\u001b[0m\n",
      "\u001b[32m[I 2023-06-21 12:20:05,238]\u001b[0m Trial 476 finished with value: 2.144394772005093 and parameters: {'max_depth': 3, 'learning_rate': 0.04161362567079941, 'n_estimators': 213, 'gamma': 0.7233491298133284, 'reg_alpha': 0.8038324259686195, 'reg_lambda': 0.9219840141281234, 'colsample_bytree': 0.722133275624577, 'subsample': 0.43175094496160243}. Best is trial 142 with value: 2.073825143869354.\u001b[0m\n",
      "\u001b[32m[I 2023-06-21 12:20:55,880]\u001b[0m Trial 477 finished with value: 2.2118808556501968 and parameters: {'max_depth': 4, 'learning_rate': 0.060746141222735014, 'n_estimators': 164, 'gamma': 0.8917381324560761, 'reg_alpha': 1.3183522562605823, 'reg_lambda': 0.6896075858839665, 'colsample_bytree': 0.843631762731413, 'subsample': 0.4112025300771552}. Best is trial 142 with value: 2.073825143869354.\u001b[0m\n",
      "\u001b[32m[I 2023-06-21 12:21:15,854]\u001b[0m Trial 478 finished with value: 2.353503142409023 and parameters: {'max_depth': 3, 'learning_rate': 0.016498715291014786, 'n_estimators': 88, 'gamma': 0.8603774499248549, 'reg_alpha': 0.9474178545065373, 'reg_lambda': 1.424045800376709, 'colsample_bytree': 0.6602552253626508, 'subsample': 0.7120976300789283}. Best is trial 142 with value: 2.073825143869354.\u001b[0m\n",
      "\u001b[32m[I 2023-06-21 12:21:49,323]\u001b[0m Trial 479 finished with value: 2.245082221299583 and parameters: {'max_depth': 3, 'learning_rate': 0.07272768827939126, 'n_estimators': 134, 'gamma': 0.9977680927896604, 'reg_alpha': 5.097227450159046, 'reg_lambda': 1.6041577252582133, 'colsample_bytree': 0.8103761064101326, 'subsample': 0.6805474664095108}. Best is trial 142 with value: 2.073825143869354.\u001b[0m\n",
      "\u001b[32m[I 2023-06-21 12:22:34,504]\u001b[0m Trial 480 finished with value: 2.182169599095519 and parameters: {'max_depth': 4, 'learning_rate': 0.052586364576502544, 'n_estimators': 204, 'gamma': 0.5011528482918022, 'reg_alpha': 1.1817574288855366, 'reg_lambda': 1.2046536684250433, 'colsample_bytree': 0.5455865072879035, 'subsample': 0.4594550668539665}. Best is trial 142 with value: 2.073825143869354.\u001b[0m\n",
      "\u001b[32m[I 2023-06-21 12:22:47,147]\u001b[0m Trial 481 finished with value: 2.1954497395342165 and parameters: {'max_depth': 3, 'learning_rate': 0.09647980735924414, 'n_estimators': 56, 'gamma': 0.5403984163057326, 'reg_alpha': 1.3738898430555253, 'reg_lambda': 0.194965266769387, 'colsample_bytree': 0.7443828786977262, 'subsample': 0.43653378371271995}. Best is trial 142 with value: 2.073825143869354.\u001b[0m\n",
      "\u001b[32m[I 2023-06-21 12:23:13,155]\u001b[0m Trial 482 finished with value: 2.1216597222947184 and parameters: {'max_depth': 3, 'learning_rate': 0.03530945082160862, 'n_estimators': 115, 'gamma': 0.9520085476706305, 'reg_alpha': 1.0937303103732232, 'reg_lambda': 0.8378530288373205, 'colsample_bytree': 0.772109930990126, 'subsample': 0.4474737508408338}. Best is trial 142 with value: 2.073825143869354.\u001b[0m\n",
      "\u001b[32m[I 2023-06-21 12:23:52,492]\u001b[0m Trial 483 finished with value: 2.188235355666922 and parameters: {'max_depth': 3, 'learning_rate': 0.029152260288109647, 'n_estimators': 175, 'gamma': 0.958643514802602, 'reg_alpha': 1.0088619605104319, 'reg_lambda': 0.5661875664504868, 'colsample_bytree': 0.7689699939382396, 'subsample': 0.47308627360114813}. Best is trial 142 with value: 2.073825143869354.\u001b[0m\n",
      "\u001b[32m[I 2023-06-21 12:24:01,660]\u001b[0m Trial 484 finished with value: 3.09840568980579 and parameters: {'max_depth': 4, 'learning_rate': 0.016992705195718508, 'n_estimators': 30, 'gamma': 0.9381535824831053, 'reg_alpha': 0.8991063399339662, 'reg_lambda': 0.8258752862251917, 'colsample_bytree': 0.7050651602059339, 'subsample': 0.44926424622473643}. Best is trial 142 with value: 2.073825143869354.\u001b[0m\n",
      "\u001b[32m[I 2023-06-21 12:26:44,856]\u001b[0m Trial 485 finished with value: 4.983332966419405 and parameters: {'max_depth': 15, 'learning_rate': 0.29075004812518424, 'n_estimators': 144, 'gamma': 0.9679647486575846, 'reg_alpha': 1.1039735745835524, 'reg_lambda': 0.6788551152497503, 'colsample_bytree': 0.7532080765544577, 'subsample': 0.4850425635100453}. Best is trial 142 with value: 2.073825143869354.\u001b[0m\n",
      "\u001b[32m[I 2023-06-21 12:27:09,229]\u001b[0m Trial 486 finished with value: 3.5406609866250394 and parameters: {'max_depth': 3, 'learning_rate': 0.0037142341066701973, 'n_estimators': 113, 'gamma': 0.9118108552668476, 'reg_alpha': 0.8207219929575302, 'reg_lambda': 6.426901111833169, 'colsample_bytree': 0.6901561385273721, 'subsample': 0.46409828271562736}. Best is trial 142 with value: 2.073825143869354.\u001b[0m\n",
      "\u001b[32m[I 2023-06-21 12:28:14,273]\u001b[0m Trial 487 finished with value: 2.1527125047750792 and parameters: {'max_depth': 3, 'learning_rate': 0.037042109203596726, 'n_estimators': 302, 'gamma': 0.35069871473355363, 'reg_alpha': 0.3867223167102542, 'reg_lambda': 0.4774979893982628, 'colsample_bytree': 0.72868970903908, 'subsample': 0.4497948711282415}. Best is trial 142 with value: 2.073825143869354.\u001b[0m\n",
      "\u001b[32m[I 2023-06-21 12:28:39,061]\u001b[0m Trial 488 finished with value: 2.215760661774175 and parameters: {'max_depth': 4, 'learning_rate': 0.02813713007455569, 'n_estimators': 78, 'gamma': 0.9451844457195128, 'reg_alpha': 0.6345672490812795, 'reg_lambda': 0.7782436342344904, 'colsample_bytree': 0.7754690686968926, 'subsample': 0.537873160741192}. Best is trial 142 with value: 2.073825143869354.\u001b[0m\n",
      "\u001b[32m[I 2023-06-21 12:29:17,468]\u001b[0m Trial 489 finished with value: 2.132546791321707 and parameters: {'max_depth': 3, 'learning_rate': 0.05183829936790042, 'n_estimators': 192, 'gamma': 0.92088441052321, 'reg_alpha': 1.0517985847097224, 'reg_lambda': 0.9153812765318129, 'colsample_bytree': 0.6780405450328658, 'subsample': 0.42165637442918863}. Best is trial 142 with value: 2.073825143869354.\u001b[0m\n",
      "\u001b[32m[I 2023-06-21 12:30:05,361]\u001b[0m Trial 490 finished with value: 2.2146515814688974 and parameters: {'max_depth': 6, 'learning_rate': 0.04218015701009774, 'n_estimators': 116, 'gamma': 0.9624589848962818, 'reg_alpha': 3.5070001746275272, 'reg_lambda': 5.064403819716924, 'colsample_bytree': 0.8332023500712129, 'subsample': 0.401436069524439}. Best is trial 142 with value: 2.073825143869354.\u001b[0m\n",
      "\u001b[32m[I 2023-06-21 12:30:56,576]\u001b[0m Trial 491 finished with value: 2.2623504616478884 and parameters: {'max_depth': 3, 'learning_rate': 0.0812793258172923, 'n_estimators': 238, 'gamma': 0.8825010026582178, 'reg_alpha': 1.15765303720881, 'reg_lambda': 0.37806157415107944, 'colsample_bytree': 0.7614242625815454, 'subsample': 0.424424578112385}. Best is trial 142 with value: 2.073825143869354.\u001b[0m\n",
      "\u001b[32m[I 2023-06-21 12:31:37,470]\u001b[0m Trial 492 finished with value: 2.2020236038979517 and parameters: {'max_depth': 4, 'learning_rate': 0.06481708964450242, 'n_estimators': 137, 'gamma': 0.9783950475856591, 'reg_alpha': 0.9063490562600975, 'reg_lambda': 1.7750555216604174, 'colsample_bytree': 0.7951335187050873, 'subsample': 0.44261815228599677}. Best is trial 142 with value: 2.073825143869354.\u001b[0m\n",
      "\u001b[32m[I 2023-06-21 12:32:11,528]\u001b[0m Trial 493 finished with value: 2.217389875881609 and parameters: {'max_depth': 3, 'learning_rate': 0.06024253869885945, 'n_estimators': 154, 'gamma': 0.9379378625250001, 'reg_alpha': 1.231240486547056, 'reg_lambda': 0.6213058018453258, 'colsample_bytree': 0.7099529996069394, 'subsample': 0.45748947687652725}. Best is trial 142 with value: 2.073825143869354.\u001b[0m\n",
      "\u001b[32m[I 2023-06-21 12:32:28,994]\u001b[0m Trial 494 finished with value: 2.146844363281551 and parameters: {'max_depth': 3, 'learning_rate': 0.037537622736463966, 'n_estimators': 73, 'gamma': 0.8425407657257536, 'reg_alpha': 0.7336843891746719, 'reg_lambda': 1.0488059871269075, 'colsample_bytree': 0.7769503894996649, 'subsample': 0.432407301484543}. Best is trial 142 with value: 2.073825143869354.\u001b[0m\n",
      "\u001b[32m[I 2023-06-21 12:33:26,464]\u001b[0m Trial 495 finished with value: 2.292374545772476 and parameters: {'max_depth': 3, 'learning_rate': 0.07391152634540676, 'n_estimators': 272, 'gamma': 0.8995760229707661, 'reg_alpha': 0.17810495812474816, 'reg_lambda': 1.5142120288040124, 'colsample_bytree': 0.7391175015800854, 'subsample': 0.41222910724563183}. Best is trial 142 with value: 2.073825143869354.\u001b[0m\n",
      "\u001b[32m[I 2023-06-21 12:34:00,265]\u001b[0m Trial 496 finished with value: 2.722687397335929 and parameters: {'max_depth': 4, 'learning_rate': 0.1050322892499322, 'n_estimators': 103, 'gamma': 0.9275007440065761, 'reg_alpha': 1.0118251539608085, 'reg_lambda': 0.8314986281503298, 'colsample_bytree': 0.8027717997906125, 'subsample': 0.8373387215786099}. Best is trial 142 with value: 2.073825143869354.\u001b[0m\n",
      "\u001b[32m[I 2023-06-21 12:34:44,215]\u001b[0m Trial 497 finished with value: 2.1644895806689277 and parameters: {'max_depth': 3, 'learning_rate': 0.04706382767296806, 'n_estimators': 179, 'gamma': 0.9541171842139927, 'reg_alpha': 3.6769339870493143, 'reg_lambda': 1.3371515021643106, 'colsample_bytree': 0.8205851476021041, 'subsample': 0.46873345705492186}. Best is trial 142 with value: 2.073825143869354.\u001b[0m\n",
      "\u001b[32m[I 2023-06-21 12:35:01,952]\u001b[0m Trial 498 finished with value: 2.3003123147974143 and parameters: {'max_depth': 4, 'learning_rate': 0.024159336518244968, 'n_estimators': 57, 'gamma': 0.8140434587649028, 'reg_alpha': 1.2348900622757408, 'reg_lambda': 1.1753930390702023, 'colsample_bytree': 0.7837298850503187, 'subsample': 0.4433104799930211}. Best is trial 142 with value: 2.073825143869354.\u001b[0m\n",
      "\u001b[32m[I 2023-06-21 12:38:07,743]\u001b[0m Trial 499 finished with value: 2.3962887629981244 and parameters: {'max_depth': 3, 'learning_rate': 0.08834431193509801, 'n_estimators': 918, 'gamma': 0.6747221595318253, 'reg_alpha': 0.5216251259533797, 'reg_lambda': 0.5190450891646229, 'colsample_bytree': 0.693434668936984, 'subsample': 0.4211198138164986}. Best is trial 142 with value: 2.073825143869354.\u001b[0m\n"
     ]
    },
    {
     "name": "stdout",
     "output_type": "stream",
     "text": [
      "Best parameters {'max_depth': 4, 'learning_rate': 0.056901755640135235, 'n_estimators': 214, 'gamma': 0.44716540258976356, 'reg_alpha': 0.30371993367372513, 'reg_lambda': 1.1152200659246774, 'colsample_bytree': 0.8339111689321749, 'subsample': 0.4358889399097483}\n"
     ]
    }
   ],
   "source": [
    "# let's optimise XGB parameters using half of the data for cross validation\n",
    "df_for_optuna = features_df.sample(int(features_df.shape[0]*.5))\n",
    "\n",
    "def objective(trial):\n",
    "    params = {\n",
    "        'max_depth': trial.suggest_int('max_depth', 3, 15),\n",
    "        'learning_rate': trial.suggest_float('learning_rate', 0.001, .6),\n",
    "        'n_estimators': trial.suggest_int('n_estimators', 30, 1500),\n",
    "        'gamma': trial.suggest_float('gamma', 0.01, 1.0),\n",
    "        'reg_alpha': trial.suggest_float('reg_alpha', 0.01, 7.0),\n",
    "        'reg_lambda': trial.suggest_float('reg_lambda', 0.1, 7.0),\n",
    "        'colsample_bytree': trial.suggest_float('colsample_bytree', 0.4, 1.0),\n",
    "        'subsample': trial.suggest_float('subsample', 0.4, 1.0)\n",
    "    }\n",
    "    xgb = XGBRegressor(**params)\n",
    "    tscv = TimeSeriesSplit(test_size = 1, max_train_size=16)\n",
    "    tree_cv_res = run_cv(df=df_for_optuna, months_cv_split=tscv, model=xgb, cols_di=cols_di, verbose=0)\n",
    "    \n",
    "    return np.mean(tree_cv_res['rmse'])\n",
    "\n",
    "study = optuna.create_study(direction='minimize', study_name='regression_2')\n",
    "study.optimize(objective, n_trials=500)\n",
    "print('Best parameters', study.best_params)"
   ]
  },
  {
   "cell_type": "code",
   "execution_count": null,
   "metadata": {},
   "outputs": [
    {
     "name": "stdout",
     "output_type": "stream",
     "text": [
      "Fold 0:\n",
      "  Train months: [13 14 15 16 17 18 19 20 21 22 23 24 25 26 27 28], size: 120,596\n",
      "  Test months: [29],   size: 6,879\n",
      "  NRMSE:  0.46\n",
      "  RMSE :  2.4\n",
      "\n",
      "Fold 1:\n",
      "  Train months: [14 15 16 17 18 19 20 21 22 23 24 25 26 27 28 29], size: 119,541\n",
      "  Test months: [30],   size: 6,774\n",
      "  NRMSE:  0.46\n",
      "  RMSE :  2.0\n",
      "\n",
      "Fold 2:\n",
      "  Train months: [15 16 17 18 19 20 21 22 23 24 25 26 27 28 29 30], size: 118,373\n",
      "  Test months: [31],   size: 5,725\n",
      "  NRMSE:  0.48\n",
      "  RMSE :  2.1\n",
      "\n",
      "Fold 3:\n",
      "  Train months: [16 17 18 19 20 21 22 23 24 25 26 27 28 29 30 31], size: 116,779\n",
      "  Test months: [32],   size: 5,342\n",
      "  NRMSE:  0.65\n",
      "  RMSE :  3.2\n",
      "\n",
      "Fold 4:\n",
      "  Train months: [17 18 19 20 21 22 23 24 25 26 27 28 29 30 31 32], size: 114,430\n",
      "  Test months: [33],   size: 5,598\n",
      "  NRMSE:  0.58\n",
      "  RMSE :  2.2\n",
      "\n",
      "\n",
      "------------------------------\n",
      "RMSE mean: 2.4\n",
      "NRMSE mean: 0.53\n"
     ]
    }
   ],
   "source": [
    "# parameters found through 500 steps of optuna optimisation\n",
    "params = {'max_depth': 4, 'learning_rate': 0.056901755640135235, 'n_estimators': 214, 'gamma': 0.44716540258976356, \n",
    "          'reg_alpha': 0.30371993367372513, 'reg_lambda': 1.1152200659246774, 'colsample_bytree': 0.8339111689321749, \n",
    "          'subsample': 0.4358889399097483}\n",
    "\n",
    "tree_model = XGBRegressor(**params)\n",
    "\n",
    "tree_cv_res = run_cv(df=features_df, months_cv_split=tscv, model=tree_model, cols_di=cols_di, verbose=2)"
   ]
  },
  {
   "cell_type": "markdown",
   "metadata": {},
   "source": [
    "We see that in general both linear and XGB models do considerably better than baseline while optimised XGB achieves slightly better result in crossvalidation on this subset of data."
   ]
  },
  {
   "cell_type": "markdown",
   "metadata": {},
   "source": [
    "# Stacking"
   ]
  },
  {
   "cell_type": "markdown",
   "metadata": {},
   "source": [
    "Let's now try to stack several simple models:\n",
    "- Several MLPs\n",
    "- Several tree based models trained with different parameters\n",
    "- Several Ridge/ Lasso regressors \n",
    "\n",
    "In total about 6-8 models trained on subsets of columns/ rows. Prediction results from 1st level will be merged in a dataset and used as train for 2nd level models (KNN or linear). 2nd level models prediction will be either averaged if several models are passed or returned as final prediction if only 1 is passed. This way to train current level models we need to predict using prev. level models too. \n",
    "\n",
    "At each level of training data will be separated into train and test as done before, using rolling window with last month as test and all previous months as train. \n",
    "\n",
    "For the 1st level modelss, once training and prediction through rolling window is done (train data for 2nd lvl is produced), same models will be trained on all data available so that later these trained models could be used for final prediction.\n",
    "\n",
    "2nd level models will be trained on all data produced for them right away since there is no 3rd level models, so rolling window CV is not required.\n",
    "\n",
    "Let's implement this logic in code."
   ]
  },
  {
   "cell_type": "markdown",
   "metadata": {},
   "source": [
    "## Single models"
   ]
  },
  {
   "cell_type": "markdown",
   "metadata": {},
   "source": [
    "Let's limit the test months to last 3 and try various single models on 3 fold cross validation to compare the scores to performance of a stacked model"
   ]
  },
  {
   "cell_type": "code",
   "execution_count": null,
   "metadata": {},
   "outputs": [],
   "source": [
    "# TODO: add classifiers that predict categorised target\n",
    "# TODO: try adding categorical feature transformation as a first pipeline step to each model\n",
    "# TODO: experiemnt with one-hot -> augmentation encoding of categorical\n",
    "\n",
    "lin_pipe = Pipeline([\n",
    "    (\"scaler\", StandardScaler()),\n",
    "    (\"lin_model\", ElasticNet(alpha=.05, tol=1e-2))\n",
    "])\n",
    "\n",
    "params_1 = {'max_depth': 4, 'learning_rate': 0.056901755640135235, 'n_estimators': 214, 'gamma': 0.44716540258976356, \n",
    "          'reg_alpha': 0.30371993367372513, 'reg_lambda': 1.1152200659246774, 'colsample_bytree': 0.8339111689321749, \n",
    "          'subsample': 0.4358889399097483}\n",
    "params_2 = {'max_depth': 3, 'learning_rate': 0.05934235376265128, 'n_estimators': 115, 'gamma': 0.9511344001105985, \n",
    "            'reg_alpha': 0.866979058629469, 'reg_lambda': 1.145739285194505, 'colsample_bytree': 0.6899975632569942, \n",
    "            'subsample': 0.43755627698663035}\n",
    "params_3 = {'max_depth': 3, 'learning_rate': 0.0689247302849172, 'n_estimators': 159, 'gamma': 0.5364604960993917, \n",
    "            'reg_alpha': 1.2707904056672363, 'reg_lambda': 1.1198727987931234, 'colsample_bytree': 0.6885065220603901, \n",
    "            'subsample': 0.45772829230576445}\n",
    "\n",
    "nn_pipe_sklearn = Pipeline([\n",
    "    (\"scaler\", StandardScaler()),\n",
    "    ('nn_model', MLPRegressor(hidden_layer_sizes=32, max_iter=500, activation='relu', batch_size=512, early_stopping=True))\n",
    "])\n",
    "\n",
    "nn_pipe_torch = Pipeline([\n",
    "    (\"scaler\", StandardScaler()),\n",
    "    (\"nn_model\", MLPModel(input_size=len(cols_di['feats'])))\n",
    "])\n",
    "\n",
    "svr_pipe = Pipeline([\n",
    "    (\"scaler\", StandardScaler()),\n",
    "    # (\"svr\", SVR(kernel='linear'))\n",
    "    (\"svr\", SVR(kernel='rbf'))\n",
    "])"
   ]
  },
  {
   "cell_type": "code",
   "execution_count": null,
   "metadata": {},
   "outputs": [],
   "source": [
    "single_models = [\n",
    "    lin_pipe,\n",
    "    nn_pipe_sklearn, \n",
    "    nn_pipe_torch,\n",
    "    XGBRegressor(**params_1), XGBRegressor(**params_2), XGBRegressor(**params_3),\n",
    "    RandomForestRegressor(n_jobs=-1), \n",
    "    CatBoostRegressor(allow_writing_files=False, silent=True),\n",
    "]\n",
    "\n",
    "model_names = [\n",
    "    'linear',\n",
    "    'nn_sklearn',\n",
    "    'nn_torch',\n",
    "    'xgb_1',\n",
    "    'xgb_2',\n",
    "    'xgb_3',\n",
    "    'random_forest',\n",
    "    'catboost'\n",
    "]"
   ]
  },
  {
   "cell_type": "code",
   "execution_count": null,
   "metadata": {},
   "outputs": [
    {
     "name": "stdout",
     "output_type": "stream",
     "text": [
      "####### linear #######\n",
      "Fold 0:\n",
      "  Train months: [12 13 14 15 16 17 18 19 20 21 22 23 24 25 26 27 28 29 30], size: 142,266\n",
      "  Test months: [31],   size: 5,778\n",
      "  NRMSE:  0.38\n",
      "  RMSE :  1.6\n",
      "\n",
      "Fold 1:\n",
      "  Train months: [13 14 15 16 17 18 19 20 21 22 23 24 25 26 27 28 29 30 31], size: 139,710\n",
      "  Test months: [32],   size: 5,457\n",
      "  NRMSE:  0.69\n",
      "  RMSE :  3.4\n",
      "\n",
      "Fold 2:\n",
      "  Train months: [14 15 16 17 18 19 20 21 22 23 24 25 26 27 28 29 30 31 32], size: 137,266\n",
      "  Test months: [33],   size: 5,716\n",
      "  NRMSE:  0.5\n",
      "  RMSE :  1.9\n",
      "\n",
      "\n",
      "------------------------------\n",
      "RMSE mean: 2.3\n",
      "NRMSE mean: 0.53\n",
      "============================================================\n",
      "####### nn_sklearn #######\n",
      "Fold 0:\n",
      "  Train months: [12 13 14 15 16 17 18 19 20 21 22 23 24 25 26 27 28 29 30], size: 142,266\n",
      "  Test months: [31],   size: 5,778\n",
      "  NRMSE:  0.42\n",
      "  RMSE :  1.8\n",
      "\n",
      "Fold 1:\n",
      "  Train months: [13 14 15 16 17 18 19 20 21 22 23 24 25 26 27 28 29 30 31], size: 139,710\n",
      "  Test months: [32],   size: 5,457\n",
      "  NRMSE:  0.73\n",
      "  RMSE :  3.6\n",
      "\n",
      "Fold 2:\n",
      "  Train months: [14 15 16 17 18 19 20 21 22 23 24 25 26 27 28 29 30 31 32], size: 137,266\n",
      "  Test months: [33],   size: 5,716\n",
      "  NRMSE:  0.65\n",
      "  RMSE :  2.5\n",
      "\n",
      "\n",
      "------------------------------\n",
      "RMSE mean: 2.6\n",
      "NRMSE mean: 0.6\n",
      "============================================================\n",
      "####### nn_torch #######\n",
      "Fold 0:\n",
      "  Train months: [12 13 14 15 16 17 18 19 20 21 22 23 24 25 26 27 28 29 30], size: 142,266\n",
      "  Test months: [31],   size: 5,778\n",
      "  NRMSE:  0.39\n",
      "  RMSE :  1.7\n",
      "\n",
      "Fold 1:\n",
      "  Train months: [13 14 15 16 17 18 19 20 21 22 23 24 25 26 27 28 29 30 31], size: 139,710\n",
      "  Test months: [32],   size: 5,457\n",
      "  NRMSE:  0.72\n",
      "  RMSE :  3.5\n",
      "\n",
      "Fold 2:\n",
      "  Train months: [14 15 16 17 18 19 20 21 22 23 24 25 26 27 28 29 30 31 32], size: 137,266\n",
      "  Test months: [33],   size: 5,716\n",
      "  NRMSE:  0.55\n",
      "  RMSE :  2.1\n",
      "\n",
      "\n",
      "------------------------------\n",
      "RMSE mean: 2.4\n",
      "NRMSE mean: 0.55\n",
      "============================================================\n",
      "####### xgb_1 #######\n",
      "Fold 0:\n",
      "  Train months: [12 13 14 15 16 17 18 19 20 21 22 23 24 25 26 27 28 29 30], size: 142,266\n",
      "  Test months: [31],   size: 5,778\n",
      "  NRMSE:  0.35\n",
      "  RMSE :  1.5\n",
      "\n",
      "Fold 1:\n",
      "  Train months: [13 14 15 16 17 18 19 20 21 22 23 24 25 26 27 28 29 30 31], size: 139,710\n",
      "  Test months: [32],   size: 5,457\n",
      "  NRMSE:  0.63\n",
      "  RMSE :  3.1\n",
      "\n",
      "Fold 2:\n",
      "  Train months: [14 15 16 17 18 19 20 21 22 23 24 25 26 27 28 29 30 31 32], size: 137,266\n",
      "  Test months: [33],   size: 5,716\n",
      "  NRMSE:  0.47\n",
      "  RMSE :  1.8\n",
      "\n",
      "\n",
      "------------------------------\n",
      "RMSE mean: 2.1\n",
      "NRMSE mean: 0.48\n",
      "============================================================\n",
      "####### xgb_2 #######\n",
      "Fold 0:\n",
      "  Train months: [12 13 14 15 16 17 18 19 20 21 22 23 24 25 26 27 28 29 30], size: 142,266\n",
      "  Test months: [31],   size: 5,778\n",
      "  NRMSE:  0.35\n",
      "  RMSE :  1.5\n",
      "\n",
      "Fold 1:\n",
      "  Train months: [13 14 15 16 17 18 19 20 21 22 23 24 25 26 27 28 29 30 31], size: 139,710\n",
      "  Test months: [32],   size: 5,457\n",
      "  NRMSE:  0.67\n",
      "  RMSE :  3.3\n",
      "\n",
      "Fold 2:\n",
      "  Train months: [14 15 16 17 18 19 20 21 22 23 24 25 26 27 28 29 30 31 32], size: 137,266\n",
      "  Test months: [33],   size: 5,716\n",
      "  NRMSE:  0.48\n",
      "  RMSE :  1.8\n",
      "\n",
      "\n",
      "------------------------------\n",
      "RMSE mean: 2.2\n",
      "NRMSE mean: 0.5\n",
      "============================================================\n",
      "####### xgb_3 #######\n",
      "Fold 0:\n",
      "  Train months: [12 13 14 15 16 17 18 19 20 21 22 23 24 25 26 27 28 29 30], size: 142,266\n",
      "  Test months: [31],   size: 5,778\n",
      "  NRMSE:  0.35\n",
      "  RMSE :  1.5\n",
      "\n",
      "Fold 1:\n",
      "  Train months: [13 14 15 16 17 18 19 20 21 22 23 24 25 26 27 28 29 30 31], size: 139,710\n",
      "  Test months: [32],   size: 5,457\n",
      "  NRMSE:  0.67\n",
      "  RMSE :  3.3\n",
      "\n",
      "Fold 2:\n",
      "  Train months: [14 15 16 17 18 19 20 21 22 23 24 25 26 27 28 29 30 31 32], size: 137,266\n",
      "  Test months: [33],   size: 5,716\n",
      "  NRMSE:  0.51\n",
      "  RMSE :  1.9\n",
      "\n",
      "\n",
      "------------------------------\n",
      "RMSE mean: 2.2\n",
      "NRMSE mean: 0.51\n",
      "============================================================\n",
      "####### random_forest #######\n",
      "Fold 0:\n",
      "  Train months: [12 13 14 15 16 17 18 19 20 21 22 23 24 25 26 27 28 29 30], size: 142,266\n",
      "  Test months: [31],   size: 5,778\n",
      "  NRMSE:  0.41\n",
      "  RMSE :  1.7\n",
      "\n",
      "Fold 1:\n",
      "  Train months: [13 14 15 16 17 18 19 20 21 22 23 24 25 26 27 28 29 30 31], size: 139,710\n",
      "  Test months: [32],   size: 5,457\n",
      "  NRMSE:  0.63\n",
      "  RMSE :  3.1\n",
      "\n",
      "Fold 2:\n",
      "  Train months: [14 15 16 17 18 19 20 21 22 23 24 25 26 27 28 29 30 31 32], size: 137,266\n",
      "  Test months: [33],   size: 5,716\n",
      "  NRMSE:  0.59\n",
      "  RMSE :  2.3\n",
      "\n",
      "\n",
      "------------------------------\n",
      "RMSE mean: 2.4\n",
      "NRMSE mean: 0.54\n",
      "============================================================\n",
      "####### catboost #######\n",
      "Fold 0:\n",
      "  Train months: [12 13 14 15 16 17 18 19 20 21 22 23 24 25 26 27 28 29 30], size: 142,266\n",
      "  Test months: [31],   size: 5,778\n",
      "  NRMSE:  0.35\n",
      "  RMSE :  1.5\n",
      "\n",
      "Fold 1:\n",
      "  Train months: [13 14 15 16 17 18 19 20 21 22 23 24 25 26 27 28 29 30 31], size: 139,710\n",
      "  Test months: [32],   size: 5,457\n",
      "  NRMSE:  0.59\n",
      "  RMSE :  2.9\n",
      "\n",
      "Fold 2:\n",
      "  Train months: [14 15 16 17 18 19 20 21 22 23 24 25 26 27 28 29 30 31 32], size: 137,266\n",
      "  Test months: [33],   size: 5,716\n",
      "  NRMSE:  0.47\n",
      "  RMSE :  1.8\n",
      "\n",
      "\n",
      "------------------------------\n",
      "RMSE mean: 2.1\n",
      "NRMSE mean: 0.47\n",
      "============================================================\n"
     ]
    }
   ],
   "source": [
    "control_tscv = TimeSeriesSplit(test_size = 1, max_train_size=19, n_splits=3)\n",
    "\n",
    "singular_results = []\n",
    "for name, model in zip(model_names, single_models):\n",
    "    print(f'####### {name} #######')\n",
    "    singular_results.append(run_cv(df=features_df, months_cv_split=control_tscv, \n",
    "                                   model=model, cols_di=cols_di, verbose=2))\n",
    "    print('='*60)"
   ]
  },
  {
   "cell_type": "code",
   "execution_count": null,
   "metadata": {},
   "outputs": [
    {
     "data": {
      "text/html": [
       "<div>\n",
       "<style scoped>\n",
       "    .dataframe tbody tr th:only-of-type {\n",
       "        vertical-align: middle;\n",
       "    }\n",
       "\n",
       "    .dataframe tbody tr th {\n",
       "        vertical-align: top;\n",
       "    }\n",
       "\n",
       "    .dataframe thead th {\n",
       "        text-align: right;\n",
       "    }\n",
       "</style>\n",
       "<table border=\"1\" class=\"dataframe\">\n",
       "  <thead>\n",
       "    <tr style=\"text-align: right;\">\n",
       "      <th></th>\n",
       "      <th>nrmse</th>\n",
       "      <th>rmse</th>\n",
       "      <th>model_names</th>\n",
       "    </tr>\n",
       "  </thead>\n",
       "  <tbody>\n",
       "    <tr>\n",
       "      <th>7</th>\n",
       "      <td>0.471268</td>\n",
       "      <td>2.069945</td>\n",
       "      <td>catboost</td>\n",
       "    </tr>\n",
       "    <tr>\n",
       "      <th>3</th>\n",
       "      <td>0.484604</td>\n",
       "      <td>2.133791</td>\n",
       "      <td>xgb_1</td>\n",
       "    </tr>\n",
       "    <tr>\n",
       "      <th>4</th>\n",
       "      <td>0.500319</td>\n",
       "      <td>2.208529</td>\n",
       "      <td>xgb_2</td>\n",
       "    </tr>\n",
       "    <tr>\n",
       "      <th>5</th>\n",
       "      <td>0.508814</td>\n",
       "      <td>2.240230</td>\n",
       "      <td>xgb_3</td>\n",
       "    </tr>\n",
       "    <tr>\n",
       "      <th>0</th>\n",
       "      <td>0.525454</td>\n",
       "      <td>2.317589</td>\n",
       "      <td>linear</td>\n",
       "    </tr>\n",
       "    <tr>\n",
       "      <th>6</th>\n",
       "      <td>0.544340</td>\n",
       "      <td>2.372030</td>\n",
       "      <td>random_forest</td>\n",
       "    </tr>\n",
       "    <tr>\n",
       "      <th>2</th>\n",
       "      <td>0.553781</td>\n",
       "      <td>2.436808</td>\n",
       "      <td>nn_torch</td>\n",
       "    </tr>\n",
       "    <tr>\n",
       "      <th>1</th>\n",
       "      <td>0.599686</td>\n",
       "      <td>2.621395</td>\n",
       "      <td>nn_sklearn</td>\n",
       "    </tr>\n",
       "  </tbody>\n",
       "</table>\n",
       "</div>"
      ],
      "text/plain": [
       "      nrmse      rmse    model_names\n",
       "7  0.471268  2.069945       catboost\n",
       "3  0.484604  2.133791          xgb_1\n",
       "4  0.500319  2.208529          xgb_2\n",
       "5  0.508814  2.240230          xgb_3\n",
       "0  0.525454  2.317589         linear\n",
       "6  0.544340  2.372030  random_forest\n",
       "2  0.553781  2.436808       nn_torch\n",
       "1  0.599686  2.621395     nn_sklearn"
      ]
     },
     "execution_count": 37,
     "metadata": {},
     "output_type": "execute_result"
    }
   ],
   "source": [
    "scores_df = pd.DataFrame([(np.mean(el['nrmse']), np.mean(el['rmse'])) for el in singular_results], \n",
    "             columns=['nrmse', 'rmse'])\n",
    "scores_df['model_names'] = model_names\n",
    "scores_df.sort_values('nrmse')"
   ]
  },
  {
   "cell_type": "markdown",
   "metadata": {},
   "source": [
    "## Stacked model"
   ]
  },
  {
   "cell_type": "markdown",
   "metadata": {},
   "source": [
    "StackModel class have been implemented and moved to src.StackModel. Below we show an example how to use it as input to our ad hoc cross validation funciton. It's been confirmed that the score matches the singular model example given above if the list of models for level 1 consist of just one model used in the same example and level 2 models list is empty."
   ]
  },
  {
   "cell_type": "code",
   "execution_count": null,
   "metadata": {},
   "outputs": [
    {
     "name": "stdout",
     "output_type": "stream",
     "text": [
      "Fold 0:\n",
      "  Train months: [12 13 14 15 16 17 18 19 20 21 22 23 24 25 26 27 28 29 30], size: 142,266\n",
      "  Test months: [31],   size: 5,778\n",
      "  NRMSE:  0.39\n",
      "  RMSE :  1.7\n",
      "\n",
      "Fold 1:\n",
      "  Train months: [13 14 15 16 17 18 19 20 21 22 23 24 25 26 27 28 29 30 31], size: 139,710\n",
      "  Test months: [32],   size: 5,457\n",
      "  NRMSE:  0.65\n",
      "  RMSE :  3.2\n",
      "\n",
      "Fold 2:\n",
      "  Train months: [14 15 16 17 18 19 20 21 22 23 24 25 26 27 28 29 30 31 32], size: 137,266\n",
      "  Test months: [33],   size: 5,716\n",
      "  NRMSE:  0.46\n",
      "  RMSE :  1.8\n",
      "\n",
      "\n",
      "------------------------------\n",
      "RMSE mean: 2.2\n",
      "NRMSE mean: 0.5\n"
     ]
    }
   ],
   "source": [
    "control_tscv = TimeSeriesSplit(test_size = 1, max_train_size=19, n_splits=3)\n",
    "level_1_models = [\n",
    "    lin_pipe,\n",
    "    nn_pipe_sklearn, \n",
    "    nn_pipe_torch,\n",
    "    XGBRegressor(**params_1), XGBRegressor(**params_2), XGBRegressor(**params_3),\n",
    "    RandomForestRegressor(n_jobs=-1), \n",
    "    CatBoostRegressor(allow_writing_files=False, silent=True),\n",
    "]\n",
    "level_2_model = [LinearRegression()] # svr_pipe\n",
    "\n",
    "st_model = StackModel(lvl_1_models = level_1_models, lvl_2_models=level_2_model, month_col='date_block_num', \n",
    "                      lvl_1_feats=cols_di['feats'], target_col='target', train_ratio=.8)\n",
    "\n",
    "tree_cv_res = run_cv(df=features_df, months_cv_split=control_tscv, model=st_model, cols_di=cols_di, verbose=2)"
   ]
  },
  {
   "cell_type": "markdown",
   "metadata": {},
   "source": [
    "## Simple averaging"
   ]
  },
  {
   "cell_type": "code",
   "execution_count": null,
   "metadata": {},
   "outputs": [
    {
     "name": "stdout",
     "output_type": "stream",
     "text": [
      "Fold 0:\n",
      "  Train months: [12 13 14 15 16 17 18 19 20 21 22 23 24 25 26 27 28 29 30], size: 142,266\n",
      "  Test months: [31],   size: 5,778\n",
      "  NRMSE:  0.34\n",
      "  RMSE :  1.5\n",
      "\n",
      "Fold 1:\n",
      "  Train months: [13 14 15 16 17 18 19 20 21 22 23 24 25 26 27 28 29 30 31], size: 139,710\n",
      "  Test months: [32],   size: 5,457\n",
      "  NRMSE:  0.65\n",
      "  RMSE :  3.2\n",
      "\n",
      "Fold 2:\n",
      "  Train months: [14 15 16 17 18 19 20 21 22 23 24 25 26 27 28 29 30 31 32], size: 137,266\n",
      "  Test months: [33],   size: 5,716\n",
      "  NRMSE:  0.45\n",
      "  RMSE :  1.7\n",
      "\n",
      "\n",
      "------------------------------\n",
      "RMSE mean: 2.1\n",
      "NRMSE mean: 0.48\n"
     ]
    }
   ],
   "source": [
    "control_tscv = TimeSeriesSplit(test_size = 1, max_train_size=19, n_splits=3)\n",
    "level_1_models = [\n",
    "    lin_pipe,\n",
    "    nn_pipe_sklearn, \n",
    "    nn_pipe_torch,\n",
    "    XGBRegressor(**params_1), XGBRegressor(**params_2), XGBRegressor(**params_3),\n",
    "    RandomForestRegressor(n_jobs=-1), \n",
    "    CatBoostRegressor(allow_writing_files=False, silent=True),\n",
    "]\n",
    "level_2_model = []\n",
    "\n",
    "st_model = StackModel(lvl_1_models = level_1_models, lvl_2_models=level_2_model, month_col='date_block_num', \n",
    "                      lvl_1_feats=cols_di['feats'], target_col='target', train_ratio=.65)\n",
    "\n",
    "tree_cv_res = run_cv(df=features_df, months_cv_split=control_tscv, model=st_model, cols_di=cols_di, verbose=2)"
   ]
  },
  {
   "cell_type": "markdown",
   "metadata": {},
   "source": [
    "We see that performance of stacked model and simple averging of predictions perform very similarly and on par but not better than best single models. But because this cross validation is not representative of the kaggle scoring logic it's worth trying to upload predictions yielded by all 3 of these approaches."
   ]
  },
  {
   "cell_type": "markdown",
   "metadata": {},
   "source": [
    "# Recurrent NN"
   ]
  },
  {
   "cell_type": "markdown",
   "metadata": {},
   "source": [
    "Key RNN attributes for the problem at hand:\n",
    "- <b>Token</b>: token is all features for current month, item and shop. Because all features we calculate for current month in fact don't look into the current month, but instead look into the past, no data leak occurs. It may be reasonable to limit the features we use to label lag only\n",
    "- <b>Context</b>: context would be a sequence of tokens for the same item-shop combination but for past months. Context length is reasonable to keep to the length of the longest seasonality cycle we see in the data, i.e. -- 1 year, 12 months, 12 tokens, that is."
   ]
  },
  {
   "cell_type": "markdown",
   "metadata": {},
   "source": [
    "Let's first implement rnn using only target lag features on toy data"
   ]
  },
  {
   "cell_type": "markdown",
   "metadata": {},
   "source": [
    "## Toy data"
   ]
  },
  {
   "cell_type": "code",
   "execution_count": 2,
   "metadata": {},
   "outputs": [
    {
     "data": {
      "text/plain": [
       "['lag_1', 'lag_2', 'lag_3', 'lag_4', 'lag_5', 'lag_6', 'lag_7']"
      ]
     },
     "execution_count": 2,
     "metadata": {},
     "output_type": "execute_result"
    }
   ],
   "source": [
    "fake_df, rnn_feats = construct_fake_df(df_len=1000, lookback_window=7, lags_list=[])\n",
    "rnn_feats"
   ]
  },
  {
   "cell_type": "code",
   "execution_count": 3,
   "metadata": {},
   "outputs": [],
   "source": [
    "rnn_pipe = Pipeline(steps=[\n",
    "    ('scaler', StandardScaler()),\n",
    "    ('rnn', RNNModel(input_size=1, hidden_size=128, batch_size=5000, num_epochs=50, num_layers=1))\n",
    "])"
   ]
  },
  {
   "cell_type": "code",
   "execution_count": 4,
   "metadata": {},
   "outputs": [
    {
     "data": {
      "application/vnd.jupyter.widget-view+json": {
       "model_id": "5d576adca0ff47078f200226750585d4",
       "version_major": 2,
       "version_minor": 0
      },
      "text/plain": [
       "  0%|          | 0/50 [00:00<?, ?it/s]"
      ]
     },
     "metadata": {},
     "output_type": "display_data"
    },
    {
     "data": {
      "application/vnd.jupyter.widget-view+json": {
       "model_id": "dbe01c09507c4767bcc680fb57820e1f",
       "version_major": 2,
       "version_minor": 0
      },
      "text/plain": [
       "  0%|          | 0/1 [00:00<?, ?it/s]"
      ]
     },
     "metadata": {},
     "output_type": "display_data"
    },
    {
     "data": {
      "application/vnd.jupyter.widget-view+json": {
       "model_id": "4ee42f83766d4cd08fdad39ae187cd37",
       "version_major": 2,
       "version_minor": 0
      },
      "text/plain": [
       "  0%|          | 0/1 [00:00<?, ?it/s]"
      ]
     },
     "metadata": {},
     "output_type": "display_data"
    },
    {
     "data": {
      "application/vnd.jupyter.widget-view+json": {
       "model_id": "3f5b5751b4ef41dc90918ad222deddf8",
       "version_major": 2,
       "version_minor": 0
      },
      "text/plain": [
       "  0%|          | 0/1 [00:00<?, ?it/s]"
      ]
     },
     "metadata": {},
     "output_type": "display_data"
    },
    {
     "data": {
      "application/vnd.jupyter.widget-view+json": {
       "model_id": "44fb3a8e341b429e936caf7ed4be7fba",
       "version_major": 2,
       "version_minor": 0
      },
      "text/plain": [
       "  0%|          | 0/1 [00:00<?, ?it/s]"
      ]
     },
     "metadata": {},
     "output_type": "display_data"
    },
    {
     "data": {
      "application/vnd.jupyter.widget-view+json": {
       "model_id": "cb1e7c677b1b4a0c9207063bbc0b6064",
       "version_major": 2,
       "version_minor": 0
      },
      "text/plain": [
       "  0%|          | 0/1 [00:00<?, ?it/s]"
      ]
     },
     "metadata": {},
     "output_type": "display_data"
    },
    {
     "data": {
      "application/vnd.jupyter.widget-view+json": {
       "model_id": "2d42dc24183e414ba28e34c83aed7462",
       "version_major": 2,
       "version_minor": 0
      },
      "text/plain": [
       "  0%|          | 0/1 [00:00<?, ?it/s]"
      ]
     },
     "metadata": {},
     "output_type": "display_data"
    },
    {
     "data": {
      "application/vnd.jupyter.widget-view+json": {
       "model_id": "29cace9fbdc744a58ec331588299e624",
       "version_major": 2,
       "version_minor": 0
      },
      "text/plain": [
       "  0%|          | 0/1 [00:00<?, ?it/s]"
      ]
     },
     "metadata": {},
     "output_type": "display_data"
    },
    {
     "data": {
      "application/vnd.jupyter.widget-view+json": {
       "model_id": "70cce883ed4d417f959ddcbe16568e4f",
       "version_major": 2,
       "version_minor": 0
      },
      "text/plain": [
       "  0%|          | 0/1 [00:00<?, ?it/s]"
      ]
     },
     "metadata": {},
     "output_type": "display_data"
    },
    {
     "data": {
      "application/vnd.jupyter.widget-view+json": {
       "model_id": "7a985cc4195e4c4a97f0d3c67d2d01dd",
       "version_major": 2,
       "version_minor": 0
      },
      "text/plain": [
       "  0%|          | 0/1 [00:00<?, ?it/s]"
      ]
     },
     "metadata": {},
     "output_type": "display_data"
    },
    {
     "data": {
      "application/vnd.jupyter.widget-view+json": {
       "model_id": "d9572e8e3d42480d8bd08b0227603f1d",
       "version_major": 2,
       "version_minor": 0
      },
      "text/plain": [
       "  0%|          | 0/1 [00:00<?, ?it/s]"
      ]
     },
     "metadata": {},
     "output_type": "display_data"
    },
    {
     "data": {
      "application/vnd.jupyter.widget-view+json": {
       "model_id": "e68a0791561d4de3a5721e12ed6fa47f",
       "version_major": 2,
       "version_minor": 0
      },
      "text/plain": [
       "  0%|          | 0/1 [00:00<?, ?it/s]"
      ]
     },
     "metadata": {},
     "output_type": "display_data"
    },
    {
     "data": {
      "application/vnd.jupyter.widget-view+json": {
       "model_id": "799586b01e674f93853c6ba7072a4ce3",
       "version_major": 2,
       "version_minor": 0
      },
      "text/plain": [
       "  0%|          | 0/1 [00:00<?, ?it/s]"
      ]
     },
     "metadata": {},
     "output_type": "display_data"
    },
    {
     "data": {
      "application/vnd.jupyter.widget-view+json": {
       "model_id": "4d253eedb2b846839d507c51f7e424d3",
       "version_major": 2,
       "version_minor": 0
      },
      "text/plain": [
       "  0%|          | 0/1 [00:00<?, ?it/s]"
      ]
     },
     "metadata": {},
     "output_type": "display_data"
    },
    {
     "data": {
      "application/vnd.jupyter.widget-view+json": {
       "model_id": "78c1864d834e4cfd831e8007baa9f40b",
       "version_major": 2,
       "version_minor": 0
      },
      "text/plain": [
       "  0%|          | 0/1 [00:00<?, ?it/s]"
      ]
     },
     "metadata": {},
     "output_type": "display_data"
    },
    {
     "data": {
      "application/vnd.jupyter.widget-view+json": {
       "model_id": "26acca5593a24fb68333a421dbff0a15",
       "version_major": 2,
       "version_minor": 0
      },
      "text/plain": [
       "  0%|          | 0/1 [00:00<?, ?it/s]"
      ]
     },
     "metadata": {},
     "output_type": "display_data"
    },
    {
     "data": {
      "application/vnd.jupyter.widget-view+json": {
       "model_id": "245ec31de1d9496fb697b0355e6a90ff",
       "version_major": 2,
       "version_minor": 0
      },
      "text/plain": [
       "  0%|          | 0/1 [00:00<?, ?it/s]"
      ]
     },
     "metadata": {},
     "output_type": "display_data"
    },
    {
     "data": {
      "application/vnd.jupyter.widget-view+json": {
       "model_id": "5d44cc12ea2e4f32b1070e052789ac0c",
       "version_major": 2,
       "version_minor": 0
      },
      "text/plain": [
       "  0%|          | 0/1 [00:00<?, ?it/s]"
      ]
     },
     "metadata": {},
     "output_type": "display_data"
    },
    {
     "data": {
      "application/vnd.jupyter.widget-view+json": {
       "model_id": "35e24b974024416cb1ef1b3dbf5727ac",
       "version_major": 2,
       "version_minor": 0
      },
      "text/plain": [
       "  0%|          | 0/1 [00:00<?, ?it/s]"
      ]
     },
     "metadata": {},
     "output_type": "display_data"
    },
    {
     "data": {
      "application/vnd.jupyter.widget-view+json": {
       "model_id": "77d1b0322bad410a8a1b5f48f4a3da22",
       "version_major": 2,
       "version_minor": 0
      },
      "text/plain": [
       "  0%|          | 0/1 [00:00<?, ?it/s]"
      ]
     },
     "metadata": {},
     "output_type": "display_data"
    },
    {
     "data": {
      "application/vnd.jupyter.widget-view+json": {
       "model_id": "b19facb0cc3441c3900c02dd7f53a06c",
       "version_major": 2,
       "version_minor": 0
      },
      "text/plain": [
       "  0%|          | 0/1 [00:00<?, ?it/s]"
      ]
     },
     "metadata": {},
     "output_type": "display_data"
    },
    {
     "data": {
      "application/vnd.jupyter.widget-view+json": {
       "model_id": "0445072b345c45238c1b8f1a78acc569",
       "version_major": 2,
       "version_minor": 0
      },
      "text/plain": [
       "  0%|          | 0/1 [00:00<?, ?it/s]"
      ]
     },
     "metadata": {},
     "output_type": "display_data"
    },
    {
     "data": {
      "application/vnd.jupyter.widget-view+json": {
       "model_id": "4822760e20ad4b87b7707840c362f48b",
       "version_major": 2,
       "version_minor": 0
      },
      "text/plain": [
       "  0%|          | 0/1 [00:00<?, ?it/s]"
      ]
     },
     "metadata": {},
     "output_type": "display_data"
    },
    {
     "data": {
      "application/vnd.jupyter.widget-view+json": {
       "model_id": "bb76d91ecffc463d9575b3b51f682061",
       "version_major": 2,
       "version_minor": 0
      },
      "text/plain": [
       "  0%|          | 0/1 [00:00<?, ?it/s]"
      ]
     },
     "metadata": {},
     "output_type": "display_data"
    },
    {
     "data": {
      "application/vnd.jupyter.widget-view+json": {
       "model_id": "ae99a93e7eab4e119c8cae16a244d742",
       "version_major": 2,
       "version_minor": 0
      },
      "text/plain": [
       "  0%|          | 0/1 [00:00<?, ?it/s]"
      ]
     },
     "metadata": {},
     "output_type": "display_data"
    },
    {
     "data": {
      "application/vnd.jupyter.widget-view+json": {
       "model_id": "a3618f97c6c7420083145051b9f11a48",
       "version_major": 2,
       "version_minor": 0
      },
      "text/plain": [
       "  0%|          | 0/1 [00:00<?, ?it/s]"
      ]
     },
     "metadata": {},
     "output_type": "display_data"
    },
    {
     "data": {
      "application/vnd.jupyter.widget-view+json": {
       "model_id": "1102cc1bbdbe45c18b8f6a360ef22f39",
       "version_major": 2,
       "version_minor": 0
      },
      "text/plain": [
       "  0%|          | 0/1 [00:00<?, ?it/s]"
      ]
     },
     "metadata": {},
     "output_type": "display_data"
    },
    {
     "data": {
      "application/vnd.jupyter.widget-view+json": {
       "model_id": "95a9245bf49c4fae9e243615e726df29",
       "version_major": 2,
       "version_minor": 0
      },
      "text/plain": [
       "  0%|          | 0/1 [00:00<?, ?it/s]"
      ]
     },
     "metadata": {},
     "output_type": "display_data"
    },
    {
     "data": {
      "application/vnd.jupyter.widget-view+json": {
       "model_id": "4140af1553174e319e88cea0399b3bb0",
       "version_major": 2,
       "version_minor": 0
      },
      "text/plain": [
       "  0%|          | 0/1 [00:00<?, ?it/s]"
      ]
     },
     "metadata": {},
     "output_type": "display_data"
    },
    {
     "data": {
      "application/vnd.jupyter.widget-view+json": {
       "model_id": "62a66ed12e0848f2862814887b8e5117",
       "version_major": 2,
       "version_minor": 0
      },
      "text/plain": [
       "  0%|          | 0/1 [00:00<?, ?it/s]"
      ]
     },
     "metadata": {},
     "output_type": "display_data"
    },
    {
     "data": {
      "application/vnd.jupyter.widget-view+json": {
       "model_id": "d14c8c6343e249148d64700e992e99a8",
       "version_major": 2,
       "version_minor": 0
      },
      "text/plain": [
       "  0%|          | 0/1 [00:00<?, ?it/s]"
      ]
     },
     "metadata": {},
     "output_type": "display_data"
    },
    {
     "data": {
      "application/vnd.jupyter.widget-view+json": {
       "model_id": "376056a5cbac4d3eabf340d875bee977",
       "version_major": 2,
       "version_minor": 0
      },
      "text/plain": [
       "  0%|          | 0/1 [00:00<?, ?it/s]"
      ]
     },
     "metadata": {},
     "output_type": "display_data"
    },
    {
     "data": {
      "application/vnd.jupyter.widget-view+json": {
       "model_id": "af6eccba1332408380b6ff2103a9ded0",
       "version_major": 2,
       "version_minor": 0
      },
      "text/plain": [
       "  0%|          | 0/1 [00:00<?, ?it/s]"
      ]
     },
     "metadata": {},
     "output_type": "display_data"
    },
    {
     "data": {
      "application/vnd.jupyter.widget-view+json": {
       "model_id": "711aba35c9f04b4ca83b204047401471",
       "version_major": 2,
       "version_minor": 0
      },
      "text/plain": [
       "  0%|          | 0/1 [00:00<?, ?it/s]"
      ]
     },
     "metadata": {},
     "output_type": "display_data"
    },
    {
     "data": {
      "application/vnd.jupyter.widget-view+json": {
       "model_id": "122635c22b6c4b51a266a4faec3dc84e",
       "version_major": 2,
       "version_minor": 0
      },
      "text/plain": [
       "  0%|          | 0/1 [00:00<?, ?it/s]"
      ]
     },
     "metadata": {},
     "output_type": "display_data"
    },
    {
     "data": {
      "application/vnd.jupyter.widget-view+json": {
       "model_id": "f6a49bb6186d44218fbea54f39a1f554",
       "version_major": 2,
       "version_minor": 0
      },
      "text/plain": [
       "  0%|          | 0/1 [00:00<?, ?it/s]"
      ]
     },
     "metadata": {},
     "output_type": "display_data"
    },
    {
     "data": {
      "application/vnd.jupyter.widget-view+json": {
       "model_id": "0c904f9d328b4b63b10e578c425f5f24",
       "version_major": 2,
       "version_minor": 0
      },
      "text/plain": [
       "  0%|          | 0/1 [00:00<?, ?it/s]"
      ]
     },
     "metadata": {},
     "output_type": "display_data"
    },
    {
     "data": {
      "application/vnd.jupyter.widget-view+json": {
       "model_id": "79aab295efd8435db9eb4c776f395ffd",
       "version_major": 2,
       "version_minor": 0
      },
      "text/plain": [
       "  0%|          | 0/1 [00:00<?, ?it/s]"
      ]
     },
     "metadata": {},
     "output_type": "display_data"
    },
    {
     "data": {
      "application/vnd.jupyter.widget-view+json": {
       "model_id": "7aa127e15fee47c588a7ead7fbcdc777",
       "version_major": 2,
       "version_minor": 0
      },
      "text/plain": [
       "  0%|          | 0/1 [00:00<?, ?it/s]"
      ]
     },
     "metadata": {},
     "output_type": "display_data"
    },
    {
     "data": {
      "application/vnd.jupyter.widget-view+json": {
       "model_id": "8df94f8d9feb4c30bc1dd0b09c1aa475",
       "version_major": 2,
       "version_minor": 0
      },
      "text/plain": [
       "  0%|          | 0/1 [00:00<?, ?it/s]"
      ]
     },
     "metadata": {},
     "output_type": "display_data"
    },
    {
     "data": {
      "application/vnd.jupyter.widget-view+json": {
       "model_id": "e5b09cc756254c1fa010320469eeb3d8",
       "version_major": 2,
       "version_minor": 0
      },
      "text/plain": [
       "  0%|          | 0/1 [00:00<?, ?it/s]"
      ]
     },
     "metadata": {},
     "output_type": "display_data"
    },
    {
     "data": {
      "application/vnd.jupyter.widget-view+json": {
       "model_id": "9767f7988b2f4798a8494870a2ec1959",
       "version_major": 2,
       "version_minor": 0
      },
      "text/plain": [
       "  0%|          | 0/1 [00:00<?, ?it/s]"
      ]
     },
     "metadata": {},
     "output_type": "display_data"
    },
    {
     "data": {
      "application/vnd.jupyter.widget-view+json": {
       "model_id": "387539b498d04eb99b686427580548a4",
       "version_major": 2,
       "version_minor": 0
      },
      "text/plain": [
       "  0%|          | 0/1 [00:00<?, ?it/s]"
      ]
     },
     "metadata": {},
     "output_type": "display_data"
    },
    {
     "data": {
      "application/vnd.jupyter.widget-view+json": {
       "model_id": "523237ccd9ec4d1f9bf753db351f82a0",
       "version_major": 2,
       "version_minor": 0
      },
      "text/plain": [
       "  0%|          | 0/1 [00:00<?, ?it/s]"
      ]
     },
     "metadata": {},
     "output_type": "display_data"
    },
    {
     "data": {
      "application/vnd.jupyter.widget-view+json": {
       "model_id": "8849a44fc35f40378657bd691ebc8e8e",
       "version_major": 2,
       "version_minor": 0
      },
      "text/plain": [
       "  0%|          | 0/1 [00:00<?, ?it/s]"
      ]
     },
     "metadata": {},
     "output_type": "display_data"
    },
    {
     "data": {
      "application/vnd.jupyter.widget-view+json": {
       "model_id": "58598358e846463d8d880fc9d59915d0",
       "version_major": 2,
       "version_minor": 0
      },
      "text/plain": [
       "  0%|          | 0/1 [00:00<?, ?it/s]"
      ]
     },
     "metadata": {},
     "output_type": "display_data"
    },
    {
     "data": {
      "application/vnd.jupyter.widget-view+json": {
       "model_id": "6b545afc4c234125a4f2f72508407844",
       "version_major": 2,
       "version_minor": 0
      },
      "text/plain": [
       "  0%|          | 0/1 [00:00<?, ?it/s]"
      ]
     },
     "metadata": {},
     "output_type": "display_data"
    },
    {
     "data": {
      "application/vnd.jupyter.widget-view+json": {
       "model_id": "b76d673d6b9849709dc0528afb30c2a5",
       "version_major": 2,
       "version_minor": 0
      },
      "text/plain": [
       "  0%|          | 0/1 [00:00<?, ?it/s]"
      ]
     },
     "metadata": {},
     "output_type": "display_data"
    },
    {
     "data": {
      "application/vnd.jupyter.widget-view+json": {
       "model_id": "7600cee2f3b940718b0c771b64527ef1",
       "version_major": 2,
       "version_minor": 0
      },
      "text/plain": [
       "  0%|          | 0/1 [00:00<?, ?it/s]"
      ]
     },
     "metadata": {},
     "output_type": "display_data"
    },
    {
     "data": {
      "application/vnd.jupyter.widget-view+json": {
       "model_id": "d71032beacd34d3d8a16043f10d25e6f",
       "version_major": 2,
       "version_minor": 0
      },
      "text/plain": [
       "  0%|          | 0/1 [00:00<?, ?it/s]"
      ]
     },
     "metadata": {},
     "output_type": "display_data"
    },
    {
     "data": {
      "application/vnd.jupyter.widget-view+json": {
       "model_id": "21c65adac7f24d55bdbaba90fb7f26f8",
       "version_major": 2,
       "version_minor": 0
      },
      "text/plain": [
       "  0%|          | 0/1 [00:00<?, ?it/s]"
      ]
     },
     "metadata": {},
     "output_type": "display_data"
    },
    {
     "data": {
      "text/html": [
       "<style>#sk-container-id-1 {color: black;background-color: white;}#sk-container-id-1 pre{padding: 0;}#sk-container-id-1 div.sk-toggleable {background-color: white;}#sk-container-id-1 label.sk-toggleable__label {cursor: pointer;display: block;width: 100%;margin-bottom: 0;padding: 0.3em;box-sizing: border-box;text-align: center;}#sk-container-id-1 label.sk-toggleable__label-arrow:before {content: \"▸\";float: left;margin-right: 0.25em;color: #696969;}#sk-container-id-1 label.sk-toggleable__label-arrow:hover:before {color: black;}#sk-container-id-1 div.sk-estimator:hover label.sk-toggleable__label-arrow:before {color: black;}#sk-container-id-1 div.sk-toggleable__content {max-height: 0;max-width: 0;overflow: hidden;text-align: left;background-color: #f0f8ff;}#sk-container-id-1 div.sk-toggleable__content pre {margin: 0.2em;color: black;border-radius: 0.25em;background-color: #f0f8ff;}#sk-container-id-1 input.sk-toggleable__control:checked~div.sk-toggleable__content {max-height: 200px;max-width: 100%;overflow: auto;}#sk-container-id-1 input.sk-toggleable__control:checked~label.sk-toggleable__label-arrow:before {content: \"▾\";}#sk-container-id-1 div.sk-estimator input.sk-toggleable__control:checked~label.sk-toggleable__label {background-color: #d4ebff;}#sk-container-id-1 div.sk-label input.sk-toggleable__control:checked~label.sk-toggleable__label {background-color: #d4ebff;}#sk-container-id-1 input.sk-hidden--visually {border: 0;clip: rect(1px 1px 1px 1px);clip: rect(1px, 1px, 1px, 1px);height: 1px;margin: -1px;overflow: hidden;padding: 0;position: absolute;width: 1px;}#sk-container-id-1 div.sk-estimator {font-family: monospace;background-color: #f0f8ff;border: 1px dotted black;border-radius: 0.25em;box-sizing: border-box;margin-bottom: 0.5em;}#sk-container-id-1 div.sk-estimator:hover {background-color: #d4ebff;}#sk-container-id-1 div.sk-parallel-item::after {content: \"\";width: 100%;border-bottom: 1px solid gray;flex-grow: 1;}#sk-container-id-1 div.sk-label:hover label.sk-toggleable__label {background-color: #d4ebff;}#sk-container-id-1 div.sk-serial::before {content: \"\";position: absolute;border-left: 1px solid gray;box-sizing: border-box;top: 0;bottom: 0;left: 50%;z-index: 0;}#sk-container-id-1 div.sk-serial {display: flex;flex-direction: column;align-items: center;background-color: white;padding-right: 0.2em;padding-left: 0.2em;position: relative;}#sk-container-id-1 div.sk-item {position: relative;z-index: 1;}#sk-container-id-1 div.sk-parallel {display: flex;align-items: stretch;justify-content: center;background-color: white;position: relative;}#sk-container-id-1 div.sk-item::before, #sk-container-id-1 div.sk-parallel-item::before {content: \"\";position: absolute;border-left: 1px solid gray;box-sizing: border-box;top: 0;bottom: 0;left: 50%;z-index: -1;}#sk-container-id-1 div.sk-parallel-item {display: flex;flex-direction: column;z-index: 1;position: relative;background-color: white;}#sk-container-id-1 div.sk-parallel-item:first-child::after {align-self: flex-end;width: 50%;}#sk-container-id-1 div.sk-parallel-item:last-child::after {align-self: flex-start;width: 50%;}#sk-container-id-1 div.sk-parallel-item:only-child::after {width: 0;}#sk-container-id-1 div.sk-dashed-wrapped {border: 1px dashed gray;margin: 0 0.4em 0.5em 0.4em;box-sizing: border-box;padding-bottom: 0.4em;background-color: white;}#sk-container-id-1 div.sk-label label {font-family: monospace;font-weight: bold;display: inline-block;line-height: 1.2em;}#sk-container-id-1 div.sk-label-container {text-align: center;}#sk-container-id-1 div.sk-container {/* jupyter's `normalize.less` sets `[hidden] { display: none; }` but bootstrap.min.css set `[hidden] { display: none !important; }` so we also need the `!important` here to be able to override the default hidden behavior on the sphinx rendered scikit-learn.org. See: https://github.com/scikit-learn/scikit-learn/issues/21755 */display: inline-block !important;position: relative;}#sk-container-id-1 div.sk-text-repr-fallback {display: none;}</style><div id=\"sk-container-id-1\" class=\"sk-top-container\"><div class=\"sk-text-repr-fallback\"><pre>Pipeline(steps=[(&#x27;scaler&#x27;, StandardScaler()),\n",
       "                (&#x27;rnn&#x27;,\n",
       "                 RNNModel(\n",
       "  (rnn): RNN(1, 128, batch_first=True)\n",
       "  (linear): Linear(in_features=128, out_features=1, bias=True)\n",
       "))])</pre><b>In a Jupyter environment, please rerun this cell to show the HTML representation or trust the notebook. <br />On GitHub, the HTML representation is unable to render, please try loading this page with nbviewer.org.</b></div><div class=\"sk-container\" hidden><div class=\"sk-item sk-dashed-wrapped\"><div class=\"sk-label-container\"><div class=\"sk-label sk-toggleable\"><input class=\"sk-toggleable__control sk-hidden--visually\" id=\"sk-estimator-id-1\" type=\"checkbox\" ><label for=\"sk-estimator-id-1\" class=\"sk-toggleable__label sk-toggleable__label-arrow\">Pipeline</label><div class=\"sk-toggleable__content\"><pre>Pipeline(steps=[(&#x27;scaler&#x27;, StandardScaler()),\n",
       "                (&#x27;rnn&#x27;,\n",
       "                 RNNModel(\n",
       "  (rnn): RNN(1, 128, batch_first=True)\n",
       "  (linear): Linear(in_features=128, out_features=1, bias=True)\n",
       "))])</pre></div></div></div><div class=\"sk-serial\"><div class=\"sk-item\"><div class=\"sk-estimator sk-toggleable\"><input class=\"sk-toggleable__control sk-hidden--visually\" id=\"sk-estimator-id-2\" type=\"checkbox\" ><label for=\"sk-estimator-id-2\" class=\"sk-toggleable__label sk-toggleable__label-arrow\">StandardScaler</label><div class=\"sk-toggleable__content\"><pre>StandardScaler()</pre></div></div></div><div class=\"sk-item\"><div class=\"sk-estimator sk-toggleable\"><input class=\"sk-toggleable__control sk-hidden--visually\" id=\"sk-estimator-id-3\" type=\"checkbox\" ><label for=\"sk-estimator-id-3\" class=\"sk-toggleable__label sk-toggleable__label-arrow\">RNNModel</label><div class=\"sk-toggleable__content\"><pre>RNNModel(\n",
       "  (rnn): RNN(1, 128, batch_first=True)\n",
       "  (linear): Linear(in_features=128, out_features=1, bias=True)\n",
       ")</pre></div></div></div></div></div></div></div>"
      ],
      "text/plain": [
       "Pipeline(steps=[('scaler', StandardScaler()),\n",
       "                ('rnn',\n",
       "                 RNNModel(\n",
       "  (rnn): RNN(1, 128, batch_first=True)\n",
       "  (linear): Linear(in_features=128, out_features=1, bias=True)\n",
       "))])"
      ]
     },
     "execution_count": 4,
     "metadata": {},
     "output_type": "execute_result"
    }
   ],
   "source": [
    "rnn_pipe.fit(fake_df[rnn_feats].values, \n",
    "             fake_df['target'].values.reshape(-1,1))"
   ]
  },
  {
   "cell_type": "code",
   "execution_count": 14,
   "metadata": {},
   "outputs": [
    {
     "data": {
      "text/plain": [
       "<matplotlib.legend.Legend at 0x16380e340>"
      ]
     },
     "execution_count": 14,
     "metadata": {},
     "output_type": "execute_result"
    },
    {
     "data": {
      "image/png": "[encoded data removed]",
      "text/plain": [
       "<Figure size 640x480 with 1 Axes>"
      ]
     },
     "metadata": {},
     "output_type": "display_data"
    }
   ],
   "source": [
    "factor=2\n",
    "loss = rnn_pipe.named_steps['rnn'].losses\n",
    "smoothed_losses = np.array(loss)[:factor*(len(loss)//factor)].reshape(-1,factor).mean(axis=1)\n",
    "plt.plot(smoothed_losses, label='loss')\n",
    "plt.legend()"
   ]
  },
  {
   "cell_type": "code",
   "execution_count": 12,
   "metadata": {},
   "outputs": [
    {
     "data": {
      "text/plain": [
       "<matplotlib.legend.Legend at 0x16370bb20>"
      ]
     },
     "execution_count": 12,
     "metadata": {},
     "output_type": "execute_result"
    },
    {
     "data": {
      "image/png": "[encoded data removed]",
      "text/plain": [
       "<Figure size 640x480 with 1 Axes>"
      ]
     },
     "metadata": {},
     "output_type": "display_data"
    }
   ],
   "source": [
    "lim = 1000\n",
    "pred = rnn_pipe.predict(X=fake_df[rnn_feats].values[:lim]).detach().numpy()\n",
    "\n",
    "plt.plot(pred, color='r', label='pred')\n",
    "plt.plot(fake_df['target'].values[:lim], label='true')\n",
    "plt.legend()"
   ]
  },
  {
   "cell_type": "markdown",
   "metadata": {},
   "source": [
    "## Real data"
   ]
  },
  {
   "cell_type": "code",
   "execution_count": 16,
   "metadata": {},
   "outputs": [],
   "source": [
    "features_df = read_train()"
   ]
  },
  {
   "cell_type": "code",
   "execution_count": 22,
   "metadata": {},
   "outputs": [
    {
     "data": {
      "text/html": [
       "<div>\n",
       "<style scoped>\n",
       "    .dataframe tbody tr th:only-of-type {\n",
       "        vertical-align: middle;\n",
       "    }\n",
       "\n",
       "    .dataframe tbody tr th {\n",
       "        vertical-align: top;\n",
       "    }\n",
       "\n",
       "    .dataframe thead th {\n",
       "        text-align: right;\n",
       "    }\n",
       "</style>\n",
       "<table border=\"1\" class=\"dataframe\">\n",
       "  <thead>\n",
       "    <tr style=\"text-align: right;\">\n",
       "      <th></th>\n",
       "      <th>target_lag_12</th>\n",
       "      <th>target_lag_8</th>\n",
       "      <th>target_lag_3</th>\n",
       "      <th>target_lag_2</th>\n",
       "      <th>target_lag_1</th>\n",
       "      <th>target</th>\n",
       "    </tr>\n",
       "  </thead>\n",
       "  <tbody>\n",
       "    <tr>\n",
       "      <th>0</th>\n",
       "      <td>0.0</td>\n",
       "      <td>0.0</td>\n",
       "      <td>0.0</td>\n",
       "      <td>0.0</td>\n",
       "      <td>0.0</td>\n",
       "      <td>6.0</td>\n",
       "    </tr>\n",
       "    <tr>\n",
       "      <th>1</th>\n",
       "      <td>0.0</td>\n",
       "      <td>0.0</td>\n",
       "      <td>0.0</td>\n",
       "      <td>0.0</td>\n",
       "      <td>0.0</td>\n",
       "      <td>3.0</td>\n",
       "    </tr>\n",
       "    <tr>\n",
       "      <th>2</th>\n",
       "      <td>0.0</td>\n",
       "      <td>0.0</td>\n",
       "      <td>0.0</td>\n",
       "      <td>0.0</td>\n",
       "      <td>0.0</td>\n",
       "      <td>2.0</td>\n",
       "    </tr>\n",
       "    <tr>\n",
       "      <th>3</th>\n",
       "      <td>0.0</td>\n",
       "      <td>0.0</td>\n",
       "      <td>0.0</td>\n",
       "      <td>0.0</td>\n",
       "      <td>0.0</td>\n",
       "      <td>2.0</td>\n",
       "    </tr>\n",
       "    <tr>\n",
       "      <th>4</th>\n",
       "      <td>0.0</td>\n",
       "      <td>0.0</td>\n",
       "      <td>0.0</td>\n",
       "      <td>0.0</td>\n",
       "      <td>0.0</td>\n",
       "      <td>3.0</td>\n",
       "    </tr>\n",
       "  </tbody>\n",
       "</table>\n",
       "</div>"
      ],
      "text/plain": [
       "   target_lag_12  target_lag_8  target_lag_3  target_lag_2  target_lag_1   \n",
       "0            0.0           0.0           0.0           0.0           0.0  \\\n",
       "1            0.0           0.0           0.0           0.0           0.0   \n",
       "2            0.0           0.0           0.0           0.0           0.0   \n",
       "3            0.0           0.0           0.0           0.0           0.0   \n",
       "4            0.0           0.0           0.0           0.0           0.0   \n",
       "\n",
       "   target  \n",
       "0     6.0  \n",
       "1     3.0  \n",
       "2     2.0  \n",
       "3     2.0  \n",
       "4     3.0  "
      ]
     },
     "execution_count": 22,
     "metadata": {},
     "output_type": "execute_result"
    }
   ],
   "source": [
    "rnn_feats = [col for col in features_df if 'target_lag' in col][::-1]\n",
    "rnn_df = features_df[rnn_feats + ['target']]\n",
    "rnn_df = rnn_df[rnn_df['target'] > 0]\n",
    "\n",
    "rnn_df.head()"
   ]
  },
  {
   "cell_type": "code",
   "execution_count": 25,
   "metadata": {},
   "outputs": [],
   "source": [
    "rnn_pipe = Pipeline(steps=[\n",
    "    ('scaler', StandardScaler()),\n",
    "    ('rnn', RNNModel(input_size=1, hidden_size=128, batch_size=50000, num_epochs=50, num_layers=1))\n",
    "])"
   ]
  },
  {
   "cell_type": "code",
   "execution_count": 26,
   "metadata": {},
   "outputs": [
    {
     "data": {
      "application/vnd.jupyter.widget-view+json": {
       "model_id": "3cff755253014718bb2a7ffea0c1b218",
       "version_major": 2,
       "version_minor": 0
      },
      "text/plain": [
       "  0%|          | 0/50 [00:00<?, ?it/s]"
      ]
     },
     "metadata": {},
     "output_type": "display_data"
    },
    {
     "data": {
      "application/vnd.jupyter.widget-view+json": {
       "model_id": "737ea29777eb4ec0bb05371799fa86d4",
       "version_major": 2,
       "version_minor": 0
      },
      "text/plain": [
       "  0%|          | 0/11 [00:00<?, ?it/s]"
      ]
     },
     "metadata": {},
     "output_type": "display_data"
    },
    {
     "data": {
      "application/vnd.jupyter.widget-view+json": {
       "model_id": "a5a9468098974c35993fbfaa22007007",
       "version_major": 2,
       "version_minor": 0
      },
      "text/plain": [
       "  0%|          | 0/11 [00:00<?, ?it/s]"
      ]
     },
     "metadata": {},
     "output_type": "display_data"
    },
    {
     "data": {
      "application/vnd.jupyter.widget-view+json": {
       "model_id": "7ac729678d4a458c85a13c43ccd5ab79",
       "version_major": 2,
       "version_minor": 0
      },
      "text/plain": [
       "  0%|          | 0/11 [00:00<?, ?it/s]"
      ]
     },
     "metadata": {},
     "output_type": "display_data"
    },
    {
     "data": {
      "application/vnd.jupyter.widget-view+json": {
       "model_id": "c4ed3577aec04f0ab808b68509301d01",
       "version_major": 2,
       "version_minor": 0
      },
      "text/plain": [
       "  0%|          | 0/11 [00:00<?, ?it/s]"
      ]
     },
     "metadata": {},
     "output_type": "display_data"
    },
    {
     "data": {
      "application/vnd.jupyter.widget-view+json": {
       "model_id": "030abb5b070149f0ae2c8d48a0e06092",
       "version_major": 2,
       "version_minor": 0
      },
      "text/plain": [
       "  0%|          | 0/11 [00:00<?, ?it/s]"
      ]
     },
     "metadata": {},
     "output_type": "display_data"
    },
    {
     "data": {
      "application/vnd.jupyter.widget-view+json": {
       "model_id": "f16ee388ae5c4fd1a48659052ddb4acf",
       "version_major": 2,
       "version_minor": 0
      },
      "text/plain": [
       "  0%|          | 0/11 [00:00<?, ?it/s]"
      ]
     },
     "metadata": {},
     "output_type": "display_data"
    },
    {
     "data": {
      "application/vnd.jupyter.widget-view+json": {
       "model_id": "05b4a6a54b4948aea54f5c1ed952761b",
       "version_major": 2,
       "version_minor": 0
      },
      "text/plain": [
       "  0%|          | 0/11 [00:00<?, ?it/s]"
      ]
     },
     "metadata": {},
     "output_type": "display_data"
    },
    {
     "data": {
      "application/vnd.jupyter.widget-view+json": {
       "model_id": "a2defa74d1c34ada9f93f10b11c620d9",
       "version_major": 2,
       "version_minor": 0
      },
      "text/plain": [
       "  0%|          | 0/11 [00:00<?, ?it/s]"
      ]
     },
     "metadata": {},
     "output_type": "display_data"
    },
    {
     "data": {
      "application/vnd.jupyter.widget-view+json": {
       "model_id": "b7dcd0db335d4a7381f826074f540b00",
       "version_major": 2,
       "version_minor": 0
      },
      "text/plain": [
       "  0%|          | 0/11 [00:00<?, ?it/s]"
      ]
     },
     "metadata": {},
     "output_type": "display_data"
    },
    {
     "data": {
      "application/vnd.jupyter.widget-view+json": {
       "model_id": "d2dd61f0bec84c079b9aa96f36a6d5bd",
       "version_major": 2,
       "version_minor": 0
      },
      "text/plain": [
       "  0%|          | 0/11 [00:00<?, ?it/s]"
      ]
     },
     "metadata": {},
     "output_type": "display_data"
    },
    {
     "data": {
      "application/vnd.jupyter.widget-view+json": {
       "model_id": "fca5eaf36d8f43a9a0e88a6402bea689",
       "version_major": 2,
       "version_minor": 0
      },
      "text/plain": [
       "  0%|          | 0/11 [00:00<?, ?it/s]"
      ]
     },
     "metadata": {},
     "output_type": "display_data"
    },
    {
     "data": {
      "application/vnd.jupyter.widget-view+json": {
       "model_id": "453bdb5c20a54d57a0c7834e3a2e02a1",
       "version_major": 2,
       "version_minor": 0
      },
      "text/plain": [
       "  0%|          | 0/11 [00:00<?, ?it/s]"
      ]
     },
     "metadata": {},
     "output_type": "display_data"
    },
    {
     "data": {
      "application/vnd.jupyter.widget-view+json": {
       "model_id": "6cdb180794f84a878bd9cf34af945666",
       "version_major": 2,
       "version_minor": 0
      },
      "text/plain": [
       "  0%|          | 0/11 [00:00<?, ?it/s]"
      ]
     },
     "metadata": {},
     "output_type": "display_data"
    },
    {
     "data": {
      "application/vnd.jupyter.widget-view+json": {
       "model_id": "59b9ea2d90244969b1821e1bd1184e30",
       "version_major": 2,
       "version_minor": 0
      },
      "text/plain": [
       "  0%|          | 0/11 [00:00<?, ?it/s]"
      ]
     },
     "metadata": {},
     "output_type": "display_data"
    },
    {
     "data": {
      "application/vnd.jupyter.widget-view+json": {
       "model_id": "2d5a854d1dd140159fd2693cf07ad3be",
       "version_major": 2,
       "version_minor": 0
      },
      "text/plain": [
       "  0%|          | 0/11 [00:00<?, ?it/s]"
      ]
     },
     "metadata": {},
     "output_type": "display_data"
    },
    {
     "data": {
      "application/vnd.jupyter.widget-view+json": {
       "model_id": "66c990f867a5429abfc70db2f3201eea",
       "version_major": 2,
       "version_minor": 0
      },
      "text/plain": [
       "  0%|          | 0/11 [00:00<?, ?it/s]"
      ]
     },
     "metadata": {},
     "output_type": "display_data"
    },
    {
     "data": {
      "application/vnd.jupyter.widget-view+json": {
       "model_id": "1abca7af721f483f8f7709431fed1634",
       "version_major": 2,
       "version_minor": 0
      },
      "text/plain": [
       "  0%|          | 0/11 [00:00<?, ?it/s]"
      ]
     },
     "metadata": {},
     "output_type": "display_data"
    },
    {
     "data": {
      "application/vnd.jupyter.widget-view+json": {
       "model_id": "e624090f3cb04fd5b3c03dfdc9de32d4",
       "version_major": 2,
       "version_minor": 0
      },
      "text/plain": [
       "  0%|          | 0/11 [00:00<?, ?it/s]"
      ]
     },
     "metadata": {},
     "output_type": "display_data"
    },
    {
     "data": {
      "application/vnd.jupyter.widget-view+json": {
       "model_id": "e9675e394fc5435dac894c722d8c19a8",
       "version_major": 2,
       "version_minor": 0
      },
      "text/plain": [
       "  0%|          | 0/11 [00:00<?, ?it/s]"
      ]
     },
     "metadata": {},
     "output_type": "display_data"
    },
    {
     "data": {
      "application/vnd.jupyter.widget-view+json": {
       "model_id": "f7a61ad1ee444c8f9cdd8e1264bb8e8f",
       "version_major": 2,
       "version_minor": 0
      },
      "text/plain": [
       "  0%|          | 0/11 [00:00<?, ?it/s]"
      ]
     },
     "metadata": {},
     "output_type": "display_data"
    },
    {
     "data": {
      "application/vnd.jupyter.widget-view+json": {
       "model_id": "a401d46e4c934be0bcf8313364f80fd6",
       "version_major": 2,
       "version_minor": 0
      },
      "text/plain": [
       "  0%|          | 0/11 [00:00<?, ?it/s]"
      ]
     },
     "metadata": {},
     "output_type": "display_data"
    },
    {
     "data": {
      "application/vnd.jupyter.widget-view+json": {
       "model_id": "012db9f374ad4553bef6c691f4dccaae",
       "version_major": 2,
       "version_minor": 0
      },
      "text/plain": [
       "  0%|          | 0/11 [00:00<?, ?it/s]"
      ]
     },
     "metadata": {},
     "output_type": "display_data"
    },
    {
     "data": {
      "application/vnd.jupyter.widget-view+json": {
       "model_id": "5d605c961f554149960f8f20b590d46a",
       "version_major": 2,
       "version_minor": 0
      },
      "text/plain": [
       "  0%|          | 0/11 [00:00<?, ?it/s]"
      ]
     },
     "metadata": {},
     "output_type": "display_data"
    },
    {
     "data": {
      "application/vnd.jupyter.widget-view+json": {
       "model_id": "11ed604a2f4e47c0b3166c850e3f2240",
       "version_major": 2,
       "version_minor": 0
      },
      "text/plain": [
       "  0%|          | 0/11 [00:00<?, ?it/s]"
      ]
     },
     "metadata": {},
     "output_type": "display_data"
    },
    {
     "data": {
      "application/vnd.jupyter.widget-view+json": {
       "model_id": "2c4be46c63d94d80b6b95e85f440dc2d",
       "version_major": 2,
       "version_minor": 0
      },
      "text/plain": [
       "  0%|          | 0/11 [00:00<?, ?it/s]"
      ]
     },
     "metadata": {},
     "output_type": "display_data"
    },
    {
     "data": {
      "application/vnd.jupyter.widget-view+json": {
       "model_id": "3926a39cf0cf4724966e02c0239fa192",
       "version_major": 2,
       "version_minor": 0
      },
      "text/plain": [
       "  0%|          | 0/11 [00:00<?, ?it/s]"
      ]
     },
     "metadata": {},
     "output_type": "display_data"
    },
    {
     "data": {
      "application/vnd.jupyter.widget-view+json": {
       "model_id": "f952fbd5ec944441a48c6c3b2fe0e9df",
       "version_major": 2,
       "version_minor": 0
      },
      "text/plain": [
       "  0%|          | 0/11 [00:00<?, ?it/s]"
      ]
     },
     "metadata": {},
     "output_type": "display_data"
    },
    {
     "data": {
      "application/vnd.jupyter.widget-view+json": {
       "model_id": "2393bcefae7b4c159cbdf37312053a88",
       "version_major": 2,
       "version_minor": 0
      },
      "text/plain": [
       "  0%|          | 0/11 [00:00<?, ?it/s]"
      ]
     },
     "metadata": {},
     "output_type": "display_data"
    },
    {
     "data": {
      "application/vnd.jupyter.widget-view+json": {
       "model_id": "ea91f92ccc174465b272d290271a63f4",
       "version_major": 2,
       "version_minor": 0
      },
      "text/plain": [
       "  0%|          | 0/11 [00:00<?, ?it/s]"
      ]
     },
     "metadata": {},
     "output_type": "display_data"
    }
   ],
   "source": [
    "rnn_pipe.fit(rnn_df[rnn_feats].values, \n",
    "             rnn_df['target'].values.reshape(-1,1))"
   ]
  },
  {
   "cell_type": "code",
   "execution_count": null,
   "metadata": {},
   "outputs": [],
   "source": [
    "factor=2\n",
    "loss = rnn_pipe.named_steps['rnn'].losses\n",
    "smoothed_losses = np.array(loss)[:factor*(len(loss)//factor)].reshape(-1,factor).mean(axis=1)\n",
    "plt.plot(smoothed_losses, label='loss')\n",
    "plt.legend()"
   ]
  }
 ],
 "metadata": {
  "kernelspec": {
   "display_name": "RL_in_ksp--361CVkw",
   "language": "python",
   "name": "python3"
  },
  "language_info": {
   "codemirror_mode": {
    "name": "ipython",
    "version": 3
   },
   "file_extension": ".py",
   "mimetype": "text/x-python",
   "name": "python",
   "nbconvert_exporter": "python",
   "pygments_lexer": "ipython3",
   "version": "3.9.6"
  },
  "orig_nbformat": 4
 },
 "nbformat": 4,
 "nbformat_minor": 2
}
