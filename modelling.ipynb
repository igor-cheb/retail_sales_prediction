{
 "cells": [
  {
   "cell_type": "markdown",
   "metadata": {},
   "source": [
    "The overall idea is that we will implement linear and tree based models first and try to ansamble them. Further will implement recurrent NN and compare the two models.\n",
    "Data normalisation required for linear or NN models will be done with the help of sklearn pipeline which will include both motel and data transofrmation steps. "
   ]
  },
  {
   "cell_type": "code",
   "execution_count": 11,
   "metadata": {},
   "outputs": [],
   "source": [
    "from sklearn.model_selection import TimeSeriesSplit\n",
    "from sklearn.pipeline import Pipeline, FeatureUnion\n",
    "from sklearn.preprocessing import StandardScaler\n",
    "from sklearn.linear_model import ElasticNet, Lasso, Ridge\n",
    "from xgboost import XGBRegressor\n",
    "from sklearn.ensemble import RandomForestRegressor\n",
    "\n",
    "from src.ToyModel import *\n",
    "from src.TestGenerator import *\n",
    "from src.utilities import run_cv\n",
    "from src.FeatureGenerator import *\n",
    "from src.FeatureGenerator import *"
   ]
  },
  {
   "cell_type": "markdown",
   "metadata": {},
   "source": [
    "# CV data initiation"
   ]
  },
  {
   "cell_type": "code",
   "execution_count": 35,
   "metadata": {},
   "outputs": [],
   "source": [
    "# initiating data generators\n",
    "feat_generator = FeatureGenerator()\n",
    "test_generator = TestGenerator(train=True)\n",
    "\n",
    "# initiating cv splitter\n",
    "tscv = TimeSeriesSplit(test_size = 2, max_train_size=11)\n",
    "\n",
    "# generating all of the data which we will iterate over during CV\n",
    "target_df = test_generator.generate_target_for_month(month_nums=list(range(13, 34)))\n",
    "features_df = test_generator.add_features_to_backbone(test_backbone=target_df, \n",
    "                                                      feat_generator=feat_generator)\n",
    "short_df = features_df[:300000].copy()\n",
    "\n",
    "# creating col lists for training\n",
    "cols_di={\n",
    "    'index': ['shop_id', 'item_id', 'date_block_num'],\n",
    "    'target': ['target'],\n",
    "    'feats': feat_generator.base_feat_cols + feat_generator.lag_cols + feat_generator.roll_cols\n",
    "}"
   ]
  },
  {
   "cell_type": "markdown",
   "metadata": {},
   "source": [
    "# Baseline"
   ]
  },
  {
   "cell_type": "code",
   "execution_count": 41,
   "metadata": {},
   "outputs": [
    {
     "name": "stdout",
     "output_type": "stream",
     "text": [
      "Fold 0:\n",
      "  Train months: [13 14 15 16 17 18 19 20 21 22]\n",
      "  Test months: [23 24]\n",
      "  NRMSE:  1.0\n",
      "  RMSE :  6.3\n",
      "\n",
      "\n",
      "------------------------------\n",
      "Fold 1:\n",
      "  Train months: [15 16 17 18 19 20 21 22 23 24]\n",
      "  Test months: [25 26]\n",
      "  NRMSE:  1.0\n",
      "  RMSE :  6.3\n",
      "\n",
      "\n",
      "------------------------------\n",
      "Fold 2:\n",
      "  Train months: [17 18 19 20 21 22 23 24 25 26]\n",
      "  Test months: [27 28]\n",
      "  NRMSE:  1.0\n",
      "  RMSE :  5.6\n",
      "\n",
      "\n",
      "------------------------------\n",
      "Fold 3:\n",
      "  Train months: [19 20 21 22 23 24 25 26 27 28]\n",
      "  Test months: [29 30]\n",
      "  NRMSE:  1.0\n",
      "  RMSE :  3.7\n",
      "\n",
      "\n",
      "------------------------------\n",
      "Fold 4:\n",
      "  Train months: [21 22 23 24 25 26 27 28 29 30]\n",
      "  Test months: [31 32]\n",
      "  NRMSE:  1.0\n",
      "  RMSE :  1.1e+01\n",
      "\n",
      "\n",
      "------------------------------\n",
      "RMSE mean: 6.6\n",
      "NRMSE mean: 1.0\n"
     ]
    }
   ],
   "source": [
    "# initiating toy model\n",
    "toy_model = ToyModel()\n",
    "\n",
    "# iterating over CV folds\n",
    "cv_res = run_cv(df=features_df, months_cv_split=tscv, model=toy_model, cols_di=cols_di, verbose=2)"
   ]
  },
  {
   "cell_type": "markdown",
   "metadata": {},
   "source": [
    "# Linear model"
   ]
  },
  {
   "cell_type": "code",
   "execution_count": 38,
   "metadata": {},
   "outputs": [],
   "source": [
    "linear_pipe = Pipeline([\n",
    "    (\"scaler\", StandardScaler()),\n",
    "    (\"lin_model\", ElasticNet(tol=1e-3)) #ElasticNet() Lasso(alpha=.005) , \n",
    "])"
   ]
  },
  {
   "cell_type": "code",
   "execution_count": 40,
   "metadata": {},
   "outputs": [
    {
     "name": "stdout",
     "output_type": "stream",
     "text": [
      "Fold 0:\n",
      "  Train months: [13 14 15 16 17 18 19 20 21 22]\n",
      "  Test months: [23 24]\n",
      "  NRMSE:  1.0\n",
      "  RMSE :  6.3\n",
      "\n",
      "\n",
      "------------------------------\n",
      "Fold 1:\n",
      "  Train months: [15 16 17 18 19 20 21 22 23 24]\n",
      "  Test months: [25 26]\n",
      "  NRMSE:  1.0\n",
      "  RMSE :  6.3\n",
      "\n",
      "\n",
      "------------------------------\n",
      "Fold 2:\n",
      "  Train months: [17 18 19 20 21 22 23 24 25 26]\n",
      "  Test months: [27 28]\n",
      "  NRMSE:  1.0\n",
      "  RMSE :  5.6\n",
      "\n",
      "\n",
      "------------------------------\n",
      "Fold 3:\n",
      "  Train months: [19 20 21 22 23 24 25 26 27 28]\n",
      "  Test months: [29 30]\n",
      "  NRMSE:  1.0\n",
      "  RMSE :  3.7\n",
      "\n",
      "\n",
      "------------------------------\n",
      "Fold 4:\n",
      "  Train months: [21 22 23 24 25 26 27 28 29 30]\n",
      "  Test months: [31 32]\n",
      "  NRMSE:  1.0\n",
      "  RMSE :  1.1e+01\n",
      "\n",
      "\n",
      "------------------------------\n",
      "RMSE mean: 6.5\n",
      "NRMSE mean: 1.0\n"
     ]
    }
   ],
   "source": [
    "# initiating lin model\n",
    "lin_model = linear_pipe\n",
    "\n",
    "# iterating over CV folds\n",
    "cv_res = run_cv(df=features_df, months_cv_split=tscv, model=lin_model, cols_di=cols_di, verbose=2)"
   ]
  },
  {
   "cell_type": "markdown",
   "metadata": {},
   "source": [
    "# Tree based"
   ]
  },
  {
   "cell_type": "code",
   "execution_count": 29,
   "metadata": {},
   "outputs": [
    {
     "name": "stdout",
     "output_type": "stream",
     "text": [
      "RMSE mean: 6.5\n",
      "NRMSE mean: 1.0\n"
     ]
    }
   ],
   "source": [
    "# tree_model = RandomForestRegressor(n_estimators=100)\n",
    "tree_model = XGBRegressor()\n",
    "\n",
    "cv_res = run_cv(df=features_df, months_cv_split=tscv, model=tree_model, cols_di=cols_di, verbose=1)"
   ]
  },
  {
   "cell_type": "code",
   "execution_count": 31,
   "metadata": {},
   "outputs": [
    {
     "data": {
      "text/plain": [
       "{'rmse': [6.353303703165361,\n",
       "  6.3084489609241325,\n",
       "  5.522449702002815,\n",
       "  3.66291411755961,\n",
       "  10.852254891927835],\n",
       " 'nrmse': [1.0029327096592144,\n",
       "  0.9956128262359158,\n",
       "  0.9945574782650259,\n",
       "  0.9909913851187914,\n",
       "  1.0008508942502616],\n",
       " 'train_months': [array([13, 14, 15, 16, 17, 18, 19, 20, 21, 22]),\n",
       "  array([14, 15, 16, 17, 18, 19, 20, 21, 22, 23, 24]),\n",
       "  array([16, 17, 18, 19, 20, 21, 22, 23, 24, 25, 26]),\n",
       "  array([18, 19, 20, 21, 22, 23, 24, 25, 26, 27, 28]),\n",
       "  array([20, 21, 22, 23, 24, 25, 26, 27, 28, 29, 30])],\n",
       " 'test_months': [array([23, 24]),\n",
       "  array([25, 26]),\n",
       "  array([27, 28]),\n",
       "  array([29, 30]),\n",
       "  array([31, 32])]}"
      ]
     },
     "execution_count": 31,
     "metadata": {},
     "output_type": "execute_result"
    }
   ],
   "source": [
    "cv_res"
   ]
  },
  {
   "cell_type": "markdown",
   "metadata": {},
   "source": [
    "# Recurrent NN"
   ]
  }
 ],
 "metadata": {
  "kernelspec": {
   "display_name": "rl_in_ksp_new",
   "language": "python",
   "name": "rl_in_ksp_new"
  },
  "language_info": {
   "codemirror_mode": {
    "name": "ipython",
    "version": 3
   },
   "file_extension": ".py",
   "mimetype": "text/x-python",
   "name": "python",
   "nbconvert_exporter": "python",
   "pygments_lexer": "ipython3",
   "version": "3.9.6"
  },
  "orig_nbformat": 4
 },
 "nbformat": 4,
 "nbformat_minor": 2
}
