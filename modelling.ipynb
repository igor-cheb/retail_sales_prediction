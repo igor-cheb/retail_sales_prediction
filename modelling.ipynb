{
 "cells": [
  {
   "cell_type": "markdown",
   "metadata": {},
   "source": [
    "The overall idea is that we will implement linear and tree based models first and try to ansamble them. Further will implement recurrent NN and compare the two models.\n",
    "Data normalisation required for linear or NN models will be done with the help of sklearn pipeline which will include both motel and data transofrmation steps. "
   ]
  },
  {
   "cell_type": "code",
   "execution_count": 1,
   "metadata": {},
   "outputs": [],
   "source": [
    "from sklearn.model_selection import TimeSeriesSplit\n",
    "from sklearn.pipeline import Pipeline\n",
    "from sklearn.preprocessing import StandardScaler\n",
    "from sklearn.linear_model import LinearRegression, ElasticNet, Lasso, Ridge\n",
    "from xgboost import XGBRegressor\n",
    "from sklearn.ensemble import RandomForestRegressor\n",
    "import numpy as np\n",
    "\n",
    "from src.ToyModel import ToyModel\n",
    "from src.utilities import run_cv\n",
    "from src.FeatureGenerator import FeatureGenerator"
   ]
  },
  {
   "cell_type": "markdown",
   "metadata": {},
   "source": [
    "# CV data initiation"
   ]
  },
  {
   "cell_type": "code",
   "execution_count": 2,
   "metadata": {},
   "outputs": [],
   "source": [
    "# initiating data generators\n",
    "feat_generator = FeatureGenerator()\n",
    "\n",
    "# initiating cv splitter\n",
    "tscv = TimeSeriesSplit(test_size = 2, max_train_size=11)\n",
    "\n",
    "# generating all of the data which we will iterate over during CV\n",
    "features_df = feat_generator.generate_features()\n",
    "\n",
    "# creating col lists for training\n",
    "cols_di={\n",
    "    'index': feat_generator.index_cols,\n",
    "    'target': feat_generator.target_col,\n",
    "    'feats': feat_generator.shifted_cols + feat_generator.roll_cols\n",
    "}\n"
   ]
  },
  {
   "cell_type": "markdown",
   "metadata": {},
   "source": [
    "# Baseline"
   ]
  },
  {
   "cell_type": "code",
   "execution_count": 3,
   "metadata": {},
   "outputs": [
    {
     "name": "stdout",
     "output_type": "stream",
     "text": [
      "Fold 0:\n",
      "  Train months: [13 14 15 16 17 18 19 20 21 22 23], size: 731,610\n",
      "  Test months: [24 25],   size: 133,020\n",
      "  NRMSE:  1.0\n",
      "  RMSE :  2.7\n",
      "\n",
      "Fold 1:\n",
      "  Train months: [15 16 17 18 19 20 21 22 23 24 25], size: 731,610\n",
      "  Test months: [26 27],   size: 133,020\n",
      "  NRMSE:  1.0\n",
      "  RMSE :  1.7\n",
      "\n",
      "Fold 2:\n",
      "  Train months: [17 18 19 20 21 22 23 24 25 26 27], size: 731,610\n",
      "  Test months: [28 29],   size: 133,020\n",
      "  NRMSE:  1.0\n",
      "  RMSE :  1.9\n",
      "\n",
      "Fold 3:\n",
      "  Train months: [19 20 21 22 23 24 25 26 27 28 29], size: 731,610\n",
      "  Test months: [30 31],   size: 133,020\n",
      "  NRMSE:  1.0\n",
      "  RMSE :  1.4\n",
      "\n",
      "Fold 4:\n",
      "  Train months: [21 22 23 24 25 26 27 28 29 30 31], size: 731,610\n",
      "  Test months: [32 33],   size: 133,020\n",
      "  NRMSE:  1.0\n",
      "  RMSE :  1.3\n",
      "\n",
      "\n",
      "------------------------------\n",
      "RMSE mean: 1.8\n",
      "NRMSE mean: 1.0\n"
     ]
    }
   ],
   "source": [
    "# initiating toy model\n",
    "toy_model = ToyModel()\n",
    "\n",
    "# iterating over CV folds\n",
    "cv_res = run_cv(df=features_df, months_cv_split=tscv, model=toy_model, cols_di=cols_di, verbose=2)"
   ]
  },
  {
   "cell_type": "markdown",
   "metadata": {},
   "source": [
    "# Linear model"
   ]
  },
  {
   "cell_type": "code",
   "execution_count": 3,
   "metadata": {},
   "outputs": [
    {
     "name": "stdout",
     "output_type": "stream",
     "text": [
      "Fold 0:\n",
      "  Train months: [13 14 15 16 17 18 19 20 21 22 23], size: 731,610\n",
      "  Test months: [24 25],   size: 133,020\n",
      "  NRMSE:  0.7\n",
      "  RMSE :  1.9\n",
      "\n",
      "Fold 1:\n",
      "  Train months: [15 16 17 18 19 20 21 22 23 24 25], size: 731,610\n",
      "  Test months: [26 27],   size: 133,020\n",
      "  NRMSE:  1.0\n",
      "  RMSE :  1.7\n",
      "\n",
      "Fold 2:\n",
      "  Train months: [17 18 19 20 21 22 23 24 25 26 27], size: 731,610\n",
      "  Test months: [28 29],   size: 133,020\n",
      "  NRMSE:  0.72\n",
      "  RMSE :  1.3\n",
      "\n",
      "Fold 3:\n",
      "  Train months: [19 20 21 22 23 24 25 26 27 28 29], size: 731,610\n",
      "  Test months: [30 31],   size: 133,020\n",
      "  NRMSE:  0.64\n",
      "  RMSE :  0.88\n",
      "\n",
      "Fold 4:\n",
      "  Train months: [21 22 23 24 25 26 27 28 29 30 31], size: 731,610\n",
      "  Test months: [32 33],   size: 133,020\n",
      "  NRMSE:  0.81\n",
      "  RMSE :  1.0\n",
      "\n",
      "\n",
      "------------------------------\n",
      "RMSE mean: 1.4\n",
      "NRMSE mean: 0.78\n"
     ]
    }
   ],
   "source": [
    "# initiating lin model\n",
    "lin_model =  Pipeline([\n",
    "    (\"scaler\", StandardScaler()),\n",
    "    (\"lin_model\", LinearRegression()) #ElasticNet() Lasso(alpha=.005) , \n",
    "])\n",
    "\n",
    "# iterating over CV folds\n",
    "lin_cv_res = run_cv(df=features_df, months_cv_split=tscv, model=lin_model, cols_di=cols_di, verbose=2)"
   ]
  },
  {
   "cell_type": "markdown",
   "metadata": {},
   "source": [
    "# Tree based"
   ]
  },
  {
   "cell_type": "code",
   "execution_count": 4,
   "metadata": {},
   "outputs": [
    {
     "name": "stdout",
     "output_type": "stream",
     "text": [
      "Fold 0:\n",
      "  Train months: [13 14 15 16 17 18 19 20 21 22 23], size: 731,610\n",
      "  Test months: [24 25],   size: 133,020\n",
      "  NRMSE:  0.85\n",
      "  RMSE :  2.3\n",
      "\n",
      "Fold 1:\n",
      "  Train months: [15 16 17 18 19 20 21 22 23 24 25], size: 731,610\n",
      "  Test months: [26 27],   size: 133,020\n",
      "  NRMSE:  1.1\n",
      "  RMSE :  1.8\n",
      "\n",
      "Fold 2:\n",
      "  Train months: [17 18 19 20 21 22 23 24 25 26 27], size: 731,610\n",
      "  Test months: [28 29],   size: 133,020\n",
      "  NRMSE:  0.71\n",
      "  RMSE :  1.3\n",
      "\n",
      "Fold 3:\n",
      "  Train months: [19 20 21 22 23 24 25 26 27 28 29], size: 731,610\n",
      "  Test months: [30 31],   size: 133,020\n",
      "  NRMSE:  0.75\n",
      "  RMSE :  1.0\n",
      "\n",
      "Fold 4:\n",
      "  Train months: [21 22 23 24 25 26 27 28 29 30 31], size: 731,610\n",
      "  Test months: [32 33],   size: 133,020\n",
      "  NRMSE:  0.65\n",
      "  RMSE :  0.83\n",
      "\n",
      "\n",
      "------------------------------\n",
      "RMSE mean: 1.5\n",
      "NRMSE mean: 0.8\n"
     ]
    }
   ],
   "source": [
    "# tree_model = RandomForestRegressor(n_estimators=300)\n",
    "tree_model = XGBRegressor()\n",
    "\n",
    "tree_cv_res = run_cv(df=features_df, months_cv_split=tscv, model=tree_model, cols_di=cols_di, verbose=2)"
   ]
  },
  {
   "cell_type": "markdown",
   "metadata": {},
   "source": [
    "# Recurrent NN"
   ]
  }
 ],
 "metadata": {
  "kernelspec": {
   "display_name": "rl_in_ksp_new",
   "language": "python",
   "name": "rl_in_ksp_new"
  },
  "language_info": {
   "codemirror_mode": {
    "name": "ipython",
    "version": 3
   },
   "file_extension": ".py",
   "mimetype": "text/x-python",
   "name": "python",
   "nbconvert_exporter": "python",
   "pygments_lexer": "ipython3",
   "version": "3.9.6"
  },
  "orig_nbformat": 4
 },
 "nbformat": 4,
 "nbformat_minor": 2
}
