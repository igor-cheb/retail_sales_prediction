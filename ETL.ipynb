{
 "cells": [
  {
   "cell_type": "code",
   "execution_count": 2,
   "metadata": {},
   "outputs": [],
   "source": [
    "from src.settings import RAW_PATH, PROCESSED_PATH\n",
    "import pandas as pd"
   ]
  },
  {
   "attachments": {},
   "cell_type": "markdown",
   "metadata": {},
   "source": [
    "# Initial merge of `sales_train` and `items`"
   ]
  },
  {
   "cell_type": "code",
   "execution_count": 2,
   "metadata": {},
   "outputs": [],
   "source": [
    "sales_train = pd.read_csv(RAW_PATH + 'sales_train.csv')\n",
    "items = pd.read_csv(RAW_PATH + 'items.csv')[['item_id', 'item_category_id']]"
   ]
  },
  {
   "cell_type": "code",
   "execution_count": 11,
   "metadata": {},
   "outputs": [
    {
     "data": {
      "text/html": [
       "<div>\n",
       "<style scoped>\n",
       "    .dataframe tbody tr th:only-of-type {\n",
       "        vertical-align: middle;\n",
       "    }\n",
       "\n",
       "    .dataframe tbody tr th {\n",
       "        vertical-align: top;\n",
       "    }\n",
       "\n",
       "    .dataframe thead th {\n",
       "        text-align: right;\n",
       "    }\n",
       "</style>\n",
       "<table border=\"1\" class=\"dataframe\">\n",
       "  <thead>\n",
       "    <tr style=\"text-align: right;\">\n",
       "      <th></th>\n",
       "      <th>date</th>\n",
       "      <th>date_block_num</th>\n",
       "      <th>shop_id</th>\n",
       "      <th>item_id</th>\n",
       "      <th>item_price</th>\n",
       "      <th>item_cnt_day</th>\n",
       "    </tr>\n",
       "  </thead>\n",
       "  <tbody>\n",
       "    <tr>\n",
       "      <th>0</th>\n",
       "      <td>02.01.2013</td>\n",
       "      <td>0</td>\n",
       "      <td>59</td>\n",
       "      <td>22154</td>\n",
       "      <td>999.00</td>\n",
       "      <td>1.0</td>\n",
       "    </tr>\n",
       "    <tr>\n",
       "      <th>1</th>\n",
       "      <td>03.01.2013</td>\n",
       "      <td>0</td>\n",
       "      <td>25</td>\n",
       "      <td>2552</td>\n",
       "      <td>899.00</td>\n",
       "      <td>1.0</td>\n",
       "    </tr>\n",
       "    <tr>\n",
       "      <th>2</th>\n",
       "      <td>05.01.2013</td>\n",
       "      <td>0</td>\n",
       "      <td>25</td>\n",
       "      <td>2552</td>\n",
       "      <td>899.00</td>\n",
       "      <td>-1.0</td>\n",
       "    </tr>\n",
       "    <tr>\n",
       "      <th>3</th>\n",
       "      <td>06.01.2013</td>\n",
       "      <td>0</td>\n",
       "      <td>25</td>\n",
       "      <td>2554</td>\n",
       "      <td>1709.05</td>\n",
       "      <td>1.0</td>\n",
       "    </tr>\n",
       "    <tr>\n",
       "      <th>4</th>\n",
       "      <td>15.01.2013</td>\n",
       "      <td>0</td>\n",
       "      <td>25</td>\n",
       "      <td>2555</td>\n",
       "      <td>1099.00</td>\n",
       "      <td>1.0</td>\n",
       "    </tr>\n",
       "  </tbody>\n",
       "</table>\n",
       "</div>"
      ],
      "text/plain": [
       "         date  date_block_num  shop_id  item_id  item_price  item_cnt_day\n",
       "0  02.01.2013               0       59    22154      999.00           1.0\n",
       "1  03.01.2013               0       25     2552      899.00           1.0\n",
       "2  05.01.2013               0       25     2552      899.00          -1.0\n",
       "3  06.01.2013               0       25     2554     1709.05           1.0\n",
       "4  15.01.2013               0       25     2555     1099.00           1.0"
      ]
     },
     "execution_count": 11,
     "metadata": {},
     "output_type": "execute_result"
    }
   ],
   "source": [
    "sales_train.head()"
   ]
  },
  {
   "cell_type": "code",
   "execution_count": 12,
   "metadata": {},
   "outputs": [
    {
     "data": {
      "text/html": [
       "<div>\n",
       "<style scoped>\n",
       "    .dataframe tbody tr th:only-of-type {\n",
       "        vertical-align: middle;\n",
       "    }\n",
       "\n",
       "    .dataframe tbody tr th {\n",
       "        vertical-align: top;\n",
       "    }\n",
       "\n",
       "    .dataframe thead th {\n",
       "        text-align: right;\n",
       "    }\n",
       "</style>\n",
       "<table border=\"1\" class=\"dataframe\">\n",
       "  <thead>\n",
       "    <tr style=\"text-align: right;\">\n",
       "      <th></th>\n",
       "      <th>item_id</th>\n",
       "      <th>item_category_id</th>\n",
       "    </tr>\n",
       "  </thead>\n",
       "  <tbody>\n",
       "    <tr>\n",
       "      <th>0</th>\n",
       "      <td>0</td>\n",
       "      <td>40</td>\n",
       "    </tr>\n",
       "    <tr>\n",
       "      <th>1</th>\n",
       "      <td>1</td>\n",
       "      <td>76</td>\n",
       "    </tr>\n",
       "    <tr>\n",
       "      <th>2</th>\n",
       "      <td>2</td>\n",
       "      <td>40</td>\n",
       "    </tr>\n",
       "    <tr>\n",
       "      <th>3</th>\n",
       "      <td>3</td>\n",
       "      <td>40</td>\n",
       "    </tr>\n",
       "    <tr>\n",
       "      <th>4</th>\n",
       "      <td>4</td>\n",
       "      <td>40</td>\n",
       "    </tr>\n",
       "  </tbody>\n",
       "</table>\n",
       "</div>"
      ],
      "text/plain": [
       "   item_id  item_category_id\n",
       "0        0                40\n",
       "1        1                76\n",
       "2        2                40\n",
       "3        3                40\n",
       "4        4                40"
      ]
     },
     "execution_count": 12,
     "metadata": {},
     "output_type": "execute_result"
    }
   ],
   "source": [
    "items.head()"
   ]
  },
  {
   "cell_type": "code",
   "execution_count": 4,
   "metadata": {},
   "outputs": [],
   "source": [
    "merged_df = sales_train.merge(items, how='left', on='item_id')"
   ]
  },
  {
   "cell_type": "code",
   "execution_count": 7,
   "metadata": {},
   "outputs": [
    {
     "data": {
      "text/plain": [
       "date                0\n",
       "date_block_num      0\n",
       "shop_id             0\n",
       "item_id             0\n",
       "item_price          0\n",
       "item_cnt_day        0\n",
       "item_category_id    0\n",
       "dtype: int64"
      ]
     },
     "execution_count": 7,
     "metadata": {},
     "output_type": "execute_result"
    }
   ],
   "source": [
    "merged_df.isna().sum()"
   ]
  },
  {
   "cell_type": "code",
   "execution_count": 9,
   "metadata": {},
   "outputs": [],
   "source": [
    "merged_df.to_csv(PROCESSED_PATH + 'merged_train_df.csv', index=False)"
   ]
  },
  {
   "cell_type": "markdown",
   "metadata": {},
   "source": [
    "# Basic dataset transformer"
   ]
  },
  {
   "cell_type": "code",
   "execution_count": 47,
   "metadata": {},
   "outputs": [],
   "source": [
    "merged_df = pd.read_csv(PROCESSED_PATH + 'merged_train_df.csv')\n",
    "merged_df['date'] = pd.to_datetime(merged_df['date'], format=\"%d.%m.%Y\")\n",
    "merged_df = merged_df.sort_values('date')"
   ]
  },
  {
   "cell_type": "code",
   "execution_count": 48,
   "metadata": {},
   "outputs": [
    {
     "data": {
      "text/html": [
       "<div>\n",
       "<style scoped>\n",
       "    .dataframe tbody tr th:only-of-type {\n",
       "        vertical-align: middle;\n",
       "    }\n",
       "\n",
       "    .dataframe tbody tr th {\n",
       "        vertical-align: top;\n",
       "    }\n",
       "\n",
       "    .dataframe thead th {\n",
       "        text-align: right;\n",
       "    }\n",
       "</style>\n",
       "<table border=\"1\" class=\"dataframe\">\n",
       "  <thead>\n",
       "    <tr style=\"text-align: right;\">\n",
       "      <th></th>\n",
       "      <th>date</th>\n",
       "      <th>date_block_num</th>\n",
       "      <th>shop_id</th>\n",
       "      <th>item_id</th>\n",
       "      <th>item_price</th>\n",
       "      <th>item_cnt_day</th>\n",
       "      <th>item_category_id</th>\n",
       "    </tr>\n",
       "  </thead>\n",
       "  <tbody>\n",
       "    <tr>\n",
       "      <th>49800</th>\n",
       "      <td>2013-01-01</td>\n",
       "      <td>0</td>\n",
       "      <td>18</td>\n",
       "      <td>5823</td>\n",
       "      <td>2500.0</td>\n",
       "      <td>1.0</td>\n",
       "      <td>35</td>\n",
       "    </tr>\n",
       "    <tr>\n",
       "      <th>29784</th>\n",
       "      <td>2013-01-01</td>\n",
       "      <td>0</td>\n",
       "      <td>27</td>\n",
       "      <td>5573</td>\n",
       "      <td>849.0</td>\n",
       "      <td>1.0</td>\n",
       "      <td>2</td>\n",
       "    </tr>\n",
       "    <tr>\n",
       "      <th>35476</th>\n",
       "      <td>2013-01-01</td>\n",
       "      <td>0</td>\n",
       "      <td>7</td>\n",
       "      <td>1006</td>\n",
       "      <td>399.0</td>\n",
       "      <td>1.0</td>\n",
       "      <td>67</td>\n",
       "    </tr>\n",
       "    <tr>\n",
       "      <th>8330</th>\n",
       "      <td>2013-01-01</td>\n",
       "      <td>0</td>\n",
       "      <td>19</td>\n",
       "      <td>17707</td>\n",
       "      <td>899.0</td>\n",
       "      <td>1.0</td>\n",
       "      <td>19</td>\n",
       "    </tr>\n",
       "    <tr>\n",
       "      <th>57384</th>\n",
       "      <td>2013-01-01</td>\n",
       "      <td>0</td>\n",
       "      <td>14</td>\n",
       "      <td>19548</td>\n",
       "      <td>149.0</td>\n",
       "      <td>1.0</td>\n",
       "      <td>40</td>\n",
       "    </tr>\n",
       "    <tr>\n",
       "      <th>...</th>\n",
       "      <td>...</td>\n",
       "      <td>...</td>\n",
       "      <td>...</td>\n",
       "      <td>...</td>\n",
       "      <td>...</td>\n",
       "      <td>...</td>\n",
       "      <td>...</td>\n",
       "    </tr>\n",
       "    <tr>\n",
       "      <th>2885098</th>\n",
       "      <td>2015-10-31</td>\n",
       "      <td>33</td>\n",
       "      <td>41</td>\n",
       "      <td>21386</td>\n",
       "      <td>169.0</td>\n",
       "      <td>1.0</td>\n",
       "      <td>40</td>\n",
       "    </tr>\n",
       "    <tr>\n",
       "      <th>2930981</th>\n",
       "      <td>2015-10-31</td>\n",
       "      <td>33</td>\n",
       "      <td>21</td>\n",
       "      <td>988</td>\n",
       "      <td>199.0</td>\n",
       "      <td>1.0</td>\n",
       "      <td>37</td>\n",
       "    </tr>\n",
       "    <tr>\n",
       "      <th>2885097</th>\n",
       "      <td>2015-10-31</td>\n",
       "      <td>33</td>\n",
       "      <td>41</td>\n",
       "      <td>21377</td>\n",
       "      <td>169.0</td>\n",
       "      <td>1.0</td>\n",
       "      <td>40</td>\n",
       "    </tr>\n",
       "    <tr>\n",
       "      <th>2930993</th>\n",
       "      <td>2015-10-31</td>\n",
       "      <td>33</td>\n",
       "      <td>22</td>\n",
       "      <td>10207</td>\n",
       "      <td>1199.0</td>\n",
       "      <td>1.0</td>\n",
       "      <td>30</td>\n",
       "    </tr>\n",
       "    <tr>\n",
       "      <th>2928850</th>\n",
       "      <td>2015-10-31</td>\n",
       "      <td>33</td>\n",
       "      <td>24</td>\n",
       "      <td>3042</td>\n",
       "      <td>3199.0</td>\n",
       "      <td>1.0</td>\n",
       "      <td>20</td>\n",
       "    </tr>\n",
       "  </tbody>\n",
       "</table>\n",
       "<p>2935849 rows × 7 columns</p>\n",
       "</div>"
      ],
      "text/plain": [
       "              date  date_block_num  shop_id  item_id  item_price   \n",
       "49800   2013-01-01               0       18     5823      2500.0  \\\n",
       "29784   2013-01-01               0       27     5573       849.0   \n",
       "35476   2013-01-01               0        7     1006       399.0   \n",
       "8330    2013-01-01               0       19    17707       899.0   \n",
       "57384   2013-01-01               0       14    19548       149.0   \n",
       "...            ...             ...      ...      ...         ...   \n",
       "2885098 2015-10-31              33       41    21386       169.0   \n",
       "2930981 2015-10-31              33       21      988       199.0   \n",
       "2885097 2015-10-31              33       41    21377       169.0   \n",
       "2930993 2015-10-31              33       22    10207      1199.0   \n",
       "2928850 2015-10-31              33       24     3042      3199.0   \n",
       "\n",
       "         item_cnt_day  item_category_id  \n",
       "49800             1.0                35  \n",
       "29784             1.0                 2  \n",
       "35476             1.0                67  \n",
       "8330              1.0                19  \n",
       "57384             1.0                40  \n",
       "...               ...               ...  \n",
       "2885098           1.0                40  \n",
       "2930981           1.0                37  \n",
       "2885097           1.0                40  \n",
       "2930993           1.0                30  \n",
       "2928850           1.0                20  \n",
       "\n",
       "[2935849 rows x 7 columns]"
      ]
     },
     "execution_count": 48,
     "metadata": {},
     "output_type": "execute_result"
    }
   ],
   "source": [
    "merged_df"
   ]
  },
  {
   "cell_type": "markdown",
   "metadata": {},
   "source": [
    "## Constructing target"
   ]
  },
  {
   "cell_type": "markdown",
   "metadata": {},
   "source": [
    "This will be a simpler version of target where instead of rolling window of 30 days we will simply use the month id to sum aggregate number of items sold. We will calculate this for each shop and item, add missing months with 0 sales and shift the aggregate by 1 month."
   ]
  },
  {
   "cell_type": "code",
   "execution_count": 333,
   "metadata": {},
   "outputs": [],
   "source": [
    "grouping_cols = ['shop_id', 'item_id', 'date_block_num']\n",
    "window = merged_df.sort_values(grouping_cols).groupby(grouping_cols)"
   ]
  },
  {
   "cell_type": "code",
   "execution_count": 334,
   "metadata": {},
   "outputs": [],
   "source": [
    "target_df = window.agg({'item_cnt_day': ['sum']})\n",
    "target_df = target_df.sort_index()\n",
    "target_df.columns = ['_'.join(col) for col in target_df.columns.values]\n",
    "target_df = target_df.reset_index()"
   ]
  },
  {
   "cell_type": "code",
   "execution_count": 306,
   "metadata": {},
   "outputs": [],
   "source": [
    "# target_df = target_df[((target_df['item_id']==5822) & (target_df['shop_id'] == 2) & (target_df['date_block_num'] < 6)) | ((target_df['item_id']==100) & (target_df['shop_id'] == 57))]"
   ]
  },
  {
   "cell_type": "code",
   "execution_count": 335,
   "metadata": {},
   "outputs": [],
   "source": [
    "def reindex_group(group: pd.DataFrame) -> pd.DataFrame:\n",
    "    \"\"\"Function tb used in group apply clause. Adds target column to the dataset\"\"\"\n",
    "    group = group.set_index('date_block_num')\n",
    "    new_index = range(group.index.min(), group.index.max() + 2)\n",
    "    group = group.reindex(new_index)\n",
    "    group.shop_id = group.shop_id.ffill()\n",
    "    group.item_id = group.item_id.ffill()\n",
    "    group.item_cnt_day_sum = group.item_cnt_day_sum.fillna(0)\n",
    "    group = group.reset_index()\n",
    "    group['target'] = group['item_cnt_day_sum'].shift(-1)\n",
    "    group = group.dropna()\n",
    "    return group\n",
    "\n",
    "target_df = target_df.groupby(['shop_id', 'item_id']).apply(reindex_group).reset_index(drop=True)"
   ]
  },
  {
   "cell_type": "code",
   "execution_count": 345,
   "metadata": {},
   "outputs": [],
   "source": [
    "target_df.to_csv(PROCESSED_PATH + 'target_df.csv', index=False)"
   ]
  },
  {
   "cell_type": "markdown",
   "metadata": {},
   "source": [
    "## Feature engineering for [`shop_id`, `date_block_num`]"
   ]
  },
  {
   "cell_type": "code",
   "execution_count": 367,
   "metadata": {},
   "outputs": [
    {
     "data": {
      "text/plain": [
       "['date_block_num',\n",
       " 'shop_id',\n",
       " 'item_id',\n",
       " 'item_price',\n",
       " 'item_cnt_day',\n",
       " 'item_category_id']"
      ]
     },
     "execution_count": 367,
     "metadata": {},
     "output_type": "execute_result"
    }
   ],
   "source": [
    "list(merged_df)"
   ]
  },
  {
   "cell_type": "markdown",
   "metadata": {},
   "source": [
    "### Counts of items per month and per shop, lags, rolling aggregates"
   ]
  },
  {
   "cell_type": "code",
   "execution_count": 585,
   "metadata": {},
   "outputs": [],
   "source": [
    "# adding deals count column\n",
    "deals_cnt_df = merged_df[['date_block_num', 'shop_id', 'item_id']].reset_index(drop=True).copy()\n",
    "group_cols = ['shop_id', 'date_block_num']\n",
    "deals_cnt_df = deals_cnt_df.sort_values(group_cols).groupby(group_cols).item_id.count().reset_index().rename(columns={'item_id': 'deals_cnt'})\n",
    "\n",
    "# calculating lags\n",
    "deals_cnt_df = deals_cnt_df.set_index('shop_id')\n",
    "for shift in [1, 3, 7, 12, 20]:\n",
    "    deals_cnt_df[f'deals_cnt_shift_{shift}'] = deals_cnt_df.groupby('shop_id')['deals_cnt'].shift(periods=shift, fill_value=0)\n",
    "deals_cnt_df = deals_cnt_df.reset_index()\n",
    "\n",
    "# calculating rolling window aggregates\n",
    "deals_cnt_df = deals_cnt_df.sort_values(group_cols)\n",
    "roll_funcs = ['sum', 'mean', 'std', 'min', 'max']\n",
    "for func in roll_funcs:\n",
    "    for win_len in [2, 4, 7, 15, 30]:\n",
    "        deals_cnt_df[f'deals_cnt_roll_{func}_{win_len}'] = deals_cnt_df.groupby('shop_id').rolling(win_len, min_periods=1)\\\n",
    "                .agg({'deals_cnt': func}).reset_index(drop=True).fillna(0)"
   ]
  },
  {
   "cell_type": "code",
   "execution_count": 539,
   "metadata": {},
   "outputs": [
    {
     "data": {
      "text/html": [
       "<div>\n",
       "<style scoped>\n",
       "    .dataframe tbody tr th:only-of-type {\n",
       "        vertical-align: middle;\n",
       "    }\n",
       "\n",
       "    .dataframe tbody tr th {\n",
       "        vertical-align: top;\n",
       "    }\n",
       "\n",
       "    .dataframe thead th {\n",
       "        text-align: right;\n",
       "    }\n",
       "</style>\n",
       "<table border=\"1\" class=\"dataframe\">\n",
       "  <thead>\n",
       "    <tr style=\"text-align: right;\">\n",
       "      <th></th>\n",
       "      <th>shop_id</th>\n",
       "      <th>date_block_num</th>\n",
       "      <th>deals_cnt</th>\n",
       "      <th>deals_cnt_shift_1</th>\n",
       "      <th>deals_cnt_shift_3</th>\n",
       "      <th>deals_cnt_shift_7</th>\n",
       "      <th>deals_cnt_shift_12</th>\n",
       "      <th>deals_cnt_shift_20</th>\n",
       "      <th>deals_cnt_sum_3</th>\n",
       "      <th>deals_cnt_sum_6</th>\n",
       "      <th>...</th>\n",
       "      <th>deals_cnt_min_3</th>\n",
       "      <th>deals_cnt_min_6</th>\n",
       "      <th>deals_cnt_min_9</th>\n",
       "      <th>deals_cnt_min_15</th>\n",
       "      <th>deals_cnt_min_20</th>\n",
       "      <th>deals_cnt_max_3</th>\n",
       "      <th>deals_cnt_max_6</th>\n",
       "      <th>deals_cnt_max_9</th>\n",
       "      <th>deals_cnt_max_15</th>\n",
       "      <th>deals_cnt_max_20</th>\n",
       "    </tr>\n",
       "  </thead>\n",
       "  <tbody>\n",
       "    <tr>\n",
       "      <th>1552</th>\n",
       "      <td>59</td>\n",
       "      <td>0</td>\n",
       "      <td>1847</td>\n",
       "      <td>0</td>\n",
       "      <td>0</td>\n",
       "      <td>0</td>\n",
       "      <td>0</td>\n",
       "      <td>0</td>\n",
       "      <td>1847.0</td>\n",
       "      <td>1847.0</td>\n",
       "      <td>...</td>\n",
       "      <td>1847.0</td>\n",
       "      <td>1847.0</td>\n",
       "      <td>1847.0</td>\n",
       "      <td>1847.0</td>\n",
       "      <td>1847.0</td>\n",
       "      <td>1847.0</td>\n",
       "      <td>1847.0</td>\n",
       "      <td>1847.0</td>\n",
       "      <td>1847.0</td>\n",
       "      <td>1847.0</td>\n",
       "    </tr>\n",
       "    <tr>\n",
       "      <th>1553</th>\n",
       "      <td>59</td>\n",
       "      <td>1</td>\n",
       "      <td>1696</td>\n",
       "      <td>1847</td>\n",
       "      <td>0</td>\n",
       "      <td>0</td>\n",
       "      <td>0</td>\n",
       "      <td>0</td>\n",
       "      <td>3543.0</td>\n",
       "      <td>3543.0</td>\n",
       "      <td>...</td>\n",
       "      <td>1696.0</td>\n",
       "      <td>1696.0</td>\n",
       "      <td>1696.0</td>\n",
       "      <td>1696.0</td>\n",
       "      <td>1696.0</td>\n",
       "      <td>1847.0</td>\n",
       "      <td>1847.0</td>\n",
       "      <td>1847.0</td>\n",
       "      <td>1847.0</td>\n",
       "      <td>1847.0</td>\n",
       "    </tr>\n",
       "    <tr>\n",
       "      <th>1554</th>\n",
       "      <td>59</td>\n",
       "      <td>2</td>\n",
       "      <td>1743</td>\n",
       "      <td>1696</td>\n",
       "      <td>0</td>\n",
       "      <td>0</td>\n",
       "      <td>0</td>\n",
       "      <td>0</td>\n",
       "      <td>5286.0</td>\n",
       "      <td>5286.0</td>\n",
       "      <td>...</td>\n",
       "      <td>1696.0</td>\n",
       "      <td>1696.0</td>\n",
       "      <td>1696.0</td>\n",
       "      <td>1696.0</td>\n",
       "      <td>1696.0</td>\n",
       "      <td>1847.0</td>\n",
       "      <td>1847.0</td>\n",
       "      <td>1847.0</td>\n",
       "      <td>1847.0</td>\n",
       "      <td>1847.0</td>\n",
       "    </tr>\n",
       "    <tr>\n",
       "      <th>1555</th>\n",
       "      <td>59</td>\n",
       "      <td>3</td>\n",
       "      <td>1271</td>\n",
       "      <td>1743</td>\n",
       "      <td>1847</td>\n",
       "      <td>0</td>\n",
       "      <td>0</td>\n",
       "      <td>0</td>\n",
       "      <td>4710.0</td>\n",
       "      <td>6557.0</td>\n",
       "      <td>...</td>\n",
       "      <td>1271.0</td>\n",
       "      <td>1271.0</td>\n",
       "      <td>1271.0</td>\n",
       "      <td>1271.0</td>\n",
       "      <td>1271.0</td>\n",
       "      <td>1743.0</td>\n",
       "      <td>1847.0</td>\n",
       "      <td>1847.0</td>\n",
       "      <td>1847.0</td>\n",
       "      <td>1847.0</td>\n",
       "    </tr>\n",
       "    <tr>\n",
       "      <th>1556</th>\n",
       "      <td>59</td>\n",
       "      <td>4</td>\n",
       "      <td>1194</td>\n",
       "      <td>1271</td>\n",
       "      <td>1696</td>\n",
       "      <td>0</td>\n",
       "      <td>0</td>\n",
       "      <td>0</td>\n",
       "      <td>4208.0</td>\n",
       "      <td>7751.0</td>\n",
       "      <td>...</td>\n",
       "      <td>1194.0</td>\n",
       "      <td>1194.0</td>\n",
       "      <td>1194.0</td>\n",
       "      <td>1194.0</td>\n",
       "      <td>1194.0</td>\n",
       "      <td>1743.0</td>\n",
       "      <td>1847.0</td>\n",
       "      <td>1847.0</td>\n",
       "      <td>1847.0</td>\n",
       "      <td>1847.0</td>\n",
       "    </tr>\n",
       "  </tbody>\n",
       "</table>\n",
       "<p>5 rows × 33 columns</p>\n",
       "</div>"
      ],
      "text/plain": [
       "      shop_id  date_block_num  deals_cnt  deals_cnt_shift_1   \n",
       "1552       59               0       1847                  0  \\\n",
       "1553       59               1       1696               1847   \n",
       "1554       59               2       1743               1696   \n",
       "1555       59               3       1271               1743   \n",
       "1556       59               4       1194               1271   \n",
       "\n",
       "      deals_cnt_shift_3  deals_cnt_shift_7  deals_cnt_shift_12   \n",
       "1552                  0                  0                   0  \\\n",
       "1553                  0                  0                   0   \n",
       "1554                  0                  0                   0   \n",
       "1555               1847                  0                   0   \n",
       "1556               1696                  0                   0   \n",
       "\n",
       "      deals_cnt_shift_20  deals_cnt_sum_3  deals_cnt_sum_6  ...   \n",
       "1552                   0           1847.0           1847.0  ...  \\\n",
       "1553                   0           3543.0           3543.0  ...   \n",
       "1554                   0           5286.0           5286.0  ...   \n",
       "1555                   0           4710.0           6557.0  ...   \n",
       "1556                   0           4208.0           7751.0  ...   \n",
       "\n",
       "      deals_cnt_min_3  deals_cnt_min_6  deals_cnt_min_9  deals_cnt_min_15   \n",
       "1552           1847.0           1847.0           1847.0            1847.0  \\\n",
       "1553           1696.0           1696.0           1696.0            1696.0   \n",
       "1554           1696.0           1696.0           1696.0            1696.0   \n",
       "1555           1271.0           1271.0           1271.0            1271.0   \n",
       "1556           1194.0           1194.0           1194.0            1194.0   \n",
       "\n",
       "      deals_cnt_min_20  deals_cnt_max_3  deals_cnt_max_6  deals_cnt_max_9   \n",
       "1552            1847.0           1847.0           1847.0           1847.0  \\\n",
       "1553            1696.0           1847.0           1847.0           1847.0   \n",
       "1554            1696.0           1847.0           1847.0           1847.0   \n",
       "1555            1271.0           1743.0           1847.0           1847.0   \n",
       "1556            1194.0           1743.0           1847.0           1847.0   \n",
       "\n",
       "      deals_cnt_max_15  deals_cnt_max_20  \n",
       "1552            1847.0            1847.0  \n",
       "1553            1847.0            1847.0  \n",
       "1554            1847.0            1847.0  \n",
       "1555            1847.0            1847.0  \n",
       "1556            1847.0            1847.0  \n",
       "\n",
       "[5 rows x 33 columns]"
      ]
     },
     "execution_count": 539,
     "metadata": {},
     "output_type": "execute_result"
    }
   ],
   "source": [
    "deals_cnt_df[deals_cnt_df['shop_id']==59].head()"
   ]
  },
  {
   "cell_type": "code",
   "execution_count": 601,
   "metadata": {},
   "outputs": [
    {
     "data": {
      "text/plain": [
       "(1586, 33)"
      ]
     },
     "execution_count": 601,
     "metadata": {},
     "output_type": "execute_result"
    }
   ],
   "source": [
    "deals_cnt_df.shape"
   ]
  },
  {
   "cell_type": "markdown",
   "metadata": {},
   "source": [
    "### Aggregates over prices per month and per shop, lags, window aggregates"
   ]
  },
  {
   "cell_type": "code",
   "execution_count": 602,
   "metadata": {},
   "outputs": [],
   "source": [
    "# adding simple aggregates of prices over various deals\n",
    "prices_df = merged_df.reset_index()[['shop_id', 'date_block_num', 'item_price']]\n",
    "group_cols = ['shop_id', 'date_block_num']\n",
    "simple_agg_funcs = ['sum', 'min', 'max', 'mean', 'std']\n",
    "prices_df = prices_df.groupby(group_cols).agg({'item_price': simple_agg_funcs}).fillna(0)#.reset_index()\n",
    "prices_df.columns = ['_'.join(col) for col in prices_df.columns]\n",
    "prices_df = prices_df.reset_index()\n",
    "simple_agg_cols = [f'item_price_{agg}' for agg in simple_agg_funcs]\n",
    "\n",
    "# adding lags\n",
    "prices_df = prices_df.sort_values(group_cols).set_index('shop_id')\n",
    "for shift in [1, 3, 7, 12, 20]:\n",
    "    for col in simple_agg_cols:\n",
    "        prices_df[f'{col}_shift_{shift}'] = prices_df.groupby('shop_id')[col].shift(periods=shift, fill_value=0)\n",
    "prices_df = prices_df.reset_index()\n",
    "\n",
    "# adding window aggregates\n",
    "prices_df = prices_df.sort_values(group_cols)\n",
    "roll_funcs = ['sum', 'mean', 'std', 'min', 'max']\n",
    "cols_to_agg = ['item_price_sum', 'item_price_mean']\n",
    "\n",
    "for func in roll_funcs:\n",
    "    for win_len in [2, 4, 7, 15, 30]:\n",
    "        for col in cols_to_agg:\n",
    "            prices_df[f'{col}_roll_{func}_{win_len}'] = prices_df.groupby('shop_id').rolling(win_len, min_periods=1)\\\n",
    "                    .agg({col: func}).reset_index(drop=True).fillna(0)\n"
   ]
  },
  {
   "cell_type": "code",
   "execution_count": 603,
   "metadata": {},
   "outputs": [
    {
     "data": {
      "text/plain": [
       "(1586, 82)"
      ]
     },
     "execution_count": 603,
     "metadata": {},
     "output_type": "execute_result"
    }
   ],
   "source": [
    "prices_df.shape"
   ]
  }
 ],
 "metadata": {
  "kernelspec": {
   "display_name": "rl_in_ksp_new",
   "language": "python",
   "name": "rl_in_ksp_new"
  },
  "language_info": {
   "codemirror_mode": {
    "name": "ipython",
    "version": 3
   },
   "file_extension": ".py",
   "mimetype": "text/x-python",
   "name": "python",
   "nbconvert_exporter": "python",
   "pygments_lexer": "ipython3",
   "version": "3.9.6"
  },
  "orig_nbformat": 4
 },
 "nbformat": 4,
 "nbformat_minor": 2
}
