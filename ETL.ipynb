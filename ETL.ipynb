{
 "cells": [
  {
   "cell_type": "code",
   "execution_count": 4,
   "metadata": {},
   "outputs": [],
   "source": [
    "from sklearn.model_selection import TimeSeriesSplit\n",
    "from sklearn.metrics import mean_squared_error\n",
    "from itertools import product\n",
    "from typing import Any\n",
    "import pandas as pd\n",
    "import numpy as np\n",
    "\n",
    "from src.ToyModel import *\n",
    "from src.TestGenerator import *\n",
    "from src.utilities import run_cv\n",
    "from src.FeatureGenerator import *\n",
    "from src.settings import RAW_PATH, PROCESSED_PATH, WINS_SHIFTS, ROLL_FUNCS, COLS_MIN_MAX"
   ]
  },
  {
   "attachments": {},
   "cell_type": "markdown",
   "metadata": {},
   "source": [
    "# Initial merge of `sales_train` and `items`"
   ]
  },
  {
   "cell_type": "code",
   "execution_count": 23,
   "metadata": {},
   "outputs": [],
   "source": [
    "sales_train = pd.read_csv(RAW_PATH + 'sales_train.csv')\n",
    "items = pd.read_csv(RAW_PATH + 'items.csv')[['item_id', 'item_category_id']]"
   ]
  },
  {
   "cell_type": "code",
   "execution_count": 24,
   "metadata": {},
   "outputs": [
    {
     "data": {
      "text/html": [
       "<div>\n",
       "<style scoped>\n",
       "    .dataframe tbody tr th:only-of-type {\n",
       "        vertical-align: middle;\n",
       "    }\n",
       "\n",
       "    .dataframe tbody tr th {\n",
       "        vertical-align: top;\n",
       "    }\n",
       "\n",
       "    .dataframe thead th {\n",
       "        text-align: right;\n",
       "    }\n",
       "</style>\n",
       "<table border=\"1\" class=\"dataframe\">\n",
       "  <thead>\n",
       "    <tr style=\"text-align: right;\">\n",
       "      <th></th>\n",
       "      <th>date</th>\n",
       "      <th>date_block_num</th>\n",
       "      <th>shop_id</th>\n",
       "      <th>item_id</th>\n",
       "      <th>item_price</th>\n",
       "      <th>item_cnt_day</th>\n",
       "    </tr>\n",
       "  </thead>\n",
       "  <tbody>\n",
       "    <tr>\n",
       "      <th>0</th>\n",
       "      <td>02.01.2013</td>\n",
       "      <td>0</td>\n",
       "      <td>59</td>\n",
       "      <td>22154</td>\n",
       "      <td>999.00</td>\n",
       "      <td>1.0</td>\n",
       "    </tr>\n",
       "    <tr>\n",
       "      <th>1</th>\n",
       "      <td>03.01.2013</td>\n",
       "      <td>0</td>\n",
       "      <td>25</td>\n",
       "      <td>2552</td>\n",
       "      <td>899.00</td>\n",
       "      <td>1.0</td>\n",
       "    </tr>\n",
       "    <tr>\n",
       "      <th>2</th>\n",
       "      <td>05.01.2013</td>\n",
       "      <td>0</td>\n",
       "      <td>25</td>\n",
       "      <td>2552</td>\n",
       "      <td>899.00</td>\n",
       "      <td>-1.0</td>\n",
       "    </tr>\n",
       "    <tr>\n",
       "      <th>3</th>\n",
       "      <td>06.01.2013</td>\n",
       "      <td>0</td>\n",
       "      <td>25</td>\n",
       "      <td>2554</td>\n",
       "      <td>1709.05</td>\n",
       "      <td>1.0</td>\n",
       "    </tr>\n",
       "    <tr>\n",
       "      <th>4</th>\n",
       "      <td>15.01.2013</td>\n",
       "      <td>0</td>\n",
       "      <td>25</td>\n",
       "      <td>2555</td>\n",
       "      <td>1099.00</td>\n",
       "      <td>1.0</td>\n",
       "    </tr>\n",
       "  </tbody>\n",
       "</table>\n",
       "</div>"
      ],
      "text/plain": [
       "         date  date_block_num  shop_id  item_id  item_price  item_cnt_day\n",
       "0  02.01.2013               0       59    22154      999.00           1.0\n",
       "1  03.01.2013               0       25     2552      899.00           1.0\n",
       "2  05.01.2013               0       25     2552      899.00          -1.0\n",
       "3  06.01.2013               0       25     2554     1709.05           1.0\n",
       "4  15.01.2013               0       25     2555     1099.00           1.0"
      ]
     },
     "execution_count": 24,
     "metadata": {},
     "output_type": "execute_result"
    }
   ],
   "source": [
    "sales_train.head()"
   ]
  },
  {
   "cell_type": "code",
   "execution_count": 25,
   "metadata": {},
   "outputs": [
    {
     "data": {
      "text/html": [
       "<div>\n",
       "<style scoped>\n",
       "    .dataframe tbody tr th:only-of-type {\n",
       "        vertical-align: middle;\n",
       "    }\n",
       "\n",
       "    .dataframe tbody tr th {\n",
       "        vertical-align: top;\n",
       "    }\n",
       "\n",
       "    .dataframe thead th {\n",
       "        text-align: right;\n",
       "    }\n",
       "</style>\n",
       "<table border=\"1\" class=\"dataframe\">\n",
       "  <thead>\n",
       "    <tr style=\"text-align: right;\">\n",
       "      <th></th>\n",
       "      <th>item_id</th>\n",
       "      <th>item_category_id</th>\n",
       "    </tr>\n",
       "  </thead>\n",
       "  <tbody>\n",
       "    <tr>\n",
       "      <th>0</th>\n",
       "      <td>0</td>\n",
       "      <td>40</td>\n",
       "    </tr>\n",
       "    <tr>\n",
       "      <th>1</th>\n",
       "      <td>1</td>\n",
       "      <td>76</td>\n",
       "    </tr>\n",
       "    <tr>\n",
       "      <th>2</th>\n",
       "      <td>2</td>\n",
       "      <td>40</td>\n",
       "    </tr>\n",
       "    <tr>\n",
       "      <th>3</th>\n",
       "      <td>3</td>\n",
       "      <td>40</td>\n",
       "    </tr>\n",
       "    <tr>\n",
       "      <th>4</th>\n",
       "      <td>4</td>\n",
       "      <td>40</td>\n",
       "    </tr>\n",
       "  </tbody>\n",
       "</table>\n",
       "</div>"
      ],
      "text/plain": [
       "   item_id  item_category_id\n",
       "0        0                40\n",
       "1        1                76\n",
       "2        2                40\n",
       "3        3                40\n",
       "4        4                40"
      ]
     },
     "execution_count": 25,
     "metadata": {},
     "output_type": "execute_result"
    }
   ],
   "source": [
    "items.head()"
   ]
  },
  {
   "cell_type": "code",
   "execution_count": 26,
   "metadata": {},
   "outputs": [],
   "source": [
    "merged_df = sales_train.merge(items, how='left', on='item_id')"
   ]
  },
  {
   "cell_type": "code",
   "execution_count": 27,
   "metadata": {},
   "outputs": [
    {
     "data": {
      "text/plain": [
       "date                0\n",
       "date_block_num      0\n",
       "shop_id             0\n",
       "item_id             0\n",
       "item_price          0\n",
       "item_cnt_day        0\n",
       "item_category_id    0\n",
       "dtype: int64"
      ]
     },
     "execution_count": 27,
     "metadata": {},
     "output_type": "execute_result"
    }
   ],
   "source": [
    "merged_df.isna().sum()"
   ]
  },
  {
   "cell_type": "code",
   "execution_count": 29,
   "metadata": {},
   "outputs": [],
   "source": [
    "merged_df.to_parquet(PROCESSED_PATH + 'merged_train_df.parquet', index=False)"
   ]
  },
  {
   "cell_type": "markdown",
   "metadata": {},
   "source": [
    "# Constructing target"
   ]
  },
  {
   "cell_type": "markdown",
   "metadata": {},
   "source": [
    "This will be a simpler version of target where instead of rolling window of 30 days we will simply use the month id to sum aggregate number of items sold. We will calculate this for each shop and item, add missing months with 0 sales and shift the aggregate by 1 month."
   ]
  },
  {
   "cell_type": "markdown",
   "metadata": {},
   "source": [
    "This functionality has been moved to src.TestGenerator"
   ]
  },
  {
   "cell_type": "markdown",
   "metadata": {},
   "source": [
    "## Building features"
   ]
  },
  {
   "cell_type": "markdown",
   "metadata": {},
   "source": [
    "## Features describing sales for `shop_id` and `date_block_num`"
   ]
  },
  {
   "cell_type": "markdown",
   "metadata": {},
   "source": [
    "For all feature construction we have to use expanded dataset to preserve the sequence of months. If some months are missing, than shifts and window aggregates would not be correct since we are not working with the datetime column here."
   ]
  },
  {
   "cell_type": "markdown",
   "metadata": {},
   "source": [
    "This functionality has been implemented and moved to src.FeatureGenerator"
   ]
  },
  {
   "cell_type": "markdown",
   "metadata": {},
   "source": [
    "### Counts of deals per month and per shop, lags, rolling aggregates"
   ]
  },
  {
   "cell_type": "markdown",
   "metadata": {},
   "source": [
    "This functionality has been implemented and moved to src.FeatureGenerator"
   ]
  },
  {
   "cell_type": "markdown",
   "metadata": {},
   "source": [
    "### Aggregates over prices per month and per shop, lags, window aggregates"
   ]
  },
  {
   "cell_type": "markdown",
   "metadata": {},
   "source": [
    "This functionality has been implemented and moved to src.FeatureGenerator"
   ]
  },
  {
   "cell_type": "markdown",
   "metadata": {},
   "source": [
    "## Features describing sales for `shop_id`, `category_id` and `date_block_num`"
   ]
  },
  {
   "cell_type": "code",
   "execution_count": 7,
   "metadata": {},
   "outputs": [],
   "source": [
    "# TODO: build"
   ]
  },
  {
   "cell_type": "markdown",
   "metadata": {},
   "source": [
    "## Feature describing sales for `shop_id`, `item_id` and `date_block_num`"
   ]
  },
  {
   "cell_type": "code",
   "execution_count": null,
   "metadata": {},
   "outputs": [],
   "source": [
    "# TODO: build"
   ]
  },
  {
   "cell_type": "markdown",
   "metadata": {},
   "source": [
    "## Autoregression features"
   ]
  },
  {
   "cell_type": "code",
   "execution_count": 8,
   "metadata": {},
   "outputs": [],
   "source": [
    "# TODO: build"
   ]
  },
  {
   "cell_type": "markdown",
   "metadata": {},
   "source": [
    "So we've created a dataset where for every month we have some descriptive features about sales and profits. We also have a target column that contains the number of items sold in the given shop. We can now train a model to predic number of items sold in the following month."
   ]
  },
  {
   "cell_type": "markdown",
   "metadata": {},
   "source": [
    "# Feature generation at inference time"
   ]
  },
  {
   "cell_type": "markdown",
   "metadata": {},
   "source": [
    "Let's verify that we can create feature dataset to predict target for a given test.csv."
   ]
  },
  {
   "cell_type": "markdown",
   "metadata": {},
   "source": [
    "FeatureGenerator and TestGenerator classes have been created and moved to src. We've imported it above and will demonstrate usage for the cases of crossvalidation and inference for a provided test index backbone here."
   ]
  },
  {
   "cell_type": "code",
   "execution_count": 2,
   "metadata": {},
   "outputs": [
    {
     "data": {
      "text/html": [
       "<div>\n",
       "<style scoped>\n",
       "    .dataframe tbody tr th:only-of-type {\n",
       "        vertical-align: middle;\n",
       "    }\n",
       "\n",
       "    .dataframe tbody tr th {\n",
       "        vertical-align: top;\n",
       "    }\n",
       "\n",
       "    .dataframe thead th {\n",
       "        text-align: right;\n",
       "    }\n",
       "</style>\n",
       "<table border=\"1\" class=\"dataframe\">\n",
       "  <thead>\n",
       "    <tr style=\"text-align: right;\">\n",
       "      <th></th>\n",
       "      <th>shop_id</th>\n",
       "      <th>item_id</th>\n",
       "      <th>date_block_num</th>\n",
       "      <th>deals_cnt</th>\n",
       "      <th>deals_cnt_shift_2</th>\n",
       "      <th>deals_cnt_shift_6</th>\n",
       "      <th>deals_cnt_shift_12</th>\n",
       "      <th>deals_cnt_roll_sum_2</th>\n",
       "      <th>deals_cnt_roll_sum_6</th>\n",
       "      <th>deals_cnt_roll_sum_12</th>\n",
       "      <th>...</th>\n",
       "      <th>item_price_sum_roll_min_6</th>\n",
       "      <th>item_price_mean_roll_min_6</th>\n",
       "      <th>item_price_sum_roll_min_12</th>\n",
       "      <th>item_price_mean_roll_min_12</th>\n",
       "      <th>item_price_sum_roll_max_2</th>\n",
       "      <th>item_price_mean_roll_max_2</th>\n",
       "      <th>item_price_sum_roll_max_6</th>\n",
       "      <th>item_price_mean_roll_max_6</th>\n",
       "      <th>item_price_sum_roll_max_12</th>\n",
       "      <th>item_price_mean_roll_max_12</th>\n",
       "    </tr>\n",
       "  </thead>\n",
       "  <tbody>\n",
       "    <tr>\n",
       "      <th>0</th>\n",
       "      <td>7</td>\n",
       "      <td>4070</td>\n",
       "      <td>10</td>\n",
       "      <td>1960.0</td>\n",
       "      <td>2050.0</td>\n",
       "      <td>1539.0</td>\n",
       "      <td>0.0</td>\n",
       "      <td>3831.0</td>\n",
       "      <td>11750.0</td>\n",
       "      <td>21427.0</td>\n",
       "      <td>...</td>\n",
       "      <td>1.208660e+06</td>\n",
       "      <td>653.329888</td>\n",
       "      <td>9.471124e+05</td>\n",
       "      <td>637.356965</td>\n",
       "      <td>1.805427e+06</td>\n",
       "      <td>921.136026</td>\n",
       "      <td>1.805427e+06</td>\n",
       "      <td>921.136026</td>\n",
       "      <td>1.805427e+06</td>\n",
       "      <td>921.136026</td>\n",
       "    </tr>\n",
       "    <tr>\n",
       "      <th>1</th>\n",
       "      <td>4</td>\n",
       "      <td>12143</td>\n",
       "      <td>10</td>\n",
       "      <td>1209.0</td>\n",
       "      <td>1239.0</td>\n",
       "      <td>1113.0</td>\n",
       "      <td>0.0</td>\n",
       "      <td>2450.0</td>\n",
       "      <td>7896.0</td>\n",
       "      <td>14785.0</td>\n",
       "      <td>...</td>\n",
       "      <td>9.357709e+05</td>\n",
       "      <td>688.788252</td>\n",
       "      <td>1.826365e+05</td>\n",
       "      <td>688.788252</td>\n",
       "      <td>1.110282e+06</td>\n",
       "      <td>918.347090</td>\n",
       "      <td>1.110282e+06</td>\n",
       "      <td>918.347090</td>\n",
       "      <td>1.365703e+06</td>\n",
       "      <td>918.347090</td>\n",
       "    </tr>\n",
       "    <tr>\n",
       "      <th>2</th>\n",
       "      <td>18</td>\n",
       "      <td>12077</td>\n",
       "      <td>10</td>\n",
       "      <td>1674.0</td>\n",
       "      <td>1769.0</td>\n",
       "      <td>2470.0</td>\n",
       "      <td>0.0</td>\n",
       "      <td>3229.0</td>\n",
       "      <td>11269.0</td>\n",
       "      <td>24001.0</td>\n",
       "      <td>...</td>\n",
       "      <td>1.310901e+06</td>\n",
       "      <td>877.704487</td>\n",
       "      <td>1.310901e+06</td>\n",
       "      <td>877.704487</td>\n",
       "      <td>2.130369e+06</td>\n",
       "      <td>1272.622116</td>\n",
       "      <td>2.174952e+06</td>\n",
       "      <td>1272.622116</td>\n",
       "      <td>2.513204e+06</td>\n",
       "      <td>1272.622116</td>\n",
       "    </tr>\n",
       "    <tr>\n",
       "      <th>3</th>\n",
       "      <td>48</td>\n",
       "      <td>19324</td>\n",
       "      <td>10</td>\n",
       "      <td>0.0</td>\n",
       "      <td>0.0</td>\n",
       "      <td>0.0</td>\n",
       "      <td>0.0</td>\n",
       "      <td>0.0</td>\n",
       "      <td>0.0</td>\n",
       "      <td>0.0</td>\n",
       "      <td>...</td>\n",
       "      <td>0.000000e+00</td>\n",
       "      <td>0.000000</td>\n",
       "      <td>0.000000e+00</td>\n",
       "      <td>0.000000</td>\n",
       "      <td>0.000000e+00</td>\n",
       "      <td>0.000000</td>\n",
       "      <td>0.000000e+00</td>\n",
       "      <td>0.000000</td>\n",
       "      <td>0.000000e+00</td>\n",
       "      <td>0.000000</td>\n",
       "    </tr>\n",
       "    <tr>\n",
       "      <th>4</th>\n",
       "      <td>23</td>\n",
       "      <td>20094</td>\n",
       "      <td>10</td>\n",
       "      <td>0.0</td>\n",
       "      <td>0.0</td>\n",
       "      <td>0.0</td>\n",
       "      <td>0.0</td>\n",
       "      <td>0.0</td>\n",
       "      <td>0.0</td>\n",
       "      <td>6963.0</td>\n",
       "      <td>...</td>\n",
       "      <td>0.000000e+00</td>\n",
       "      <td>0.000000</td>\n",
       "      <td>0.000000e+00</td>\n",
       "      <td>0.000000</td>\n",
       "      <td>0.000000e+00</td>\n",
       "      <td>0.000000</td>\n",
       "      <td>0.000000e+00</td>\n",
       "      <td>0.000000</td>\n",
       "      <td>1.395718e+06</td>\n",
       "      <td>760.609444</td>\n",
       "    </tr>\n",
       "  </tbody>\n",
       "</table>\n",
       "<p>5 rows × 72 columns</p>\n",
       "</div>"
      ],
      "text/plain": [
       "   shop_id  item_id  date_block_num  deals_cnt  deals_cnt_shift_2   \n",
       "0        7     4070              10     1960.0             2050.0  \\\n",
       "1        4    12143              10     1209.0             1239.0   \n",
       "2       18    12077              10     1674.0             1769.0   \n",
       "3       48    19324              10        0.0                0.0   \n",
       "4       23    20094              10        0.0                0.0   \n",
       "\n",
       "   deals_cnt_shift_6  deals_cnt_shift_12  deals_cnt_roll_sum_2   \n",
       "0             1539.0                 0.0                3831.0  \\\n",
       "1             1113.0                 0.0                2450.0   \n",
       "2             2470.0                 0.0                3229.0   \n",
       "3                0.0                 0.0                   0.0   \n",
       "4                0.0                 0.0                   0.0   \n",
       "\n",
       "   deals_cnt_roll_sum_6  deals_cnt_roll_sum_12  ...   \n",
       "0               11750.0                21427.0  ...  \\\n",
       "1                7896.0                14785.0  ...   \n",
       "2               11269.0                24001.0  ...   \n",
       "3                   0.0                    0.0  ...   \n",
       "4                   0.0                 6963.0  ...   \n",
       "\n",
       "   item_price_sum_roll_min_6  item_price_mean_roll_min_6   \n",
       "0               1.208660e+06                  653.329888  \\\n",
       "1               9.357709e+05                  688.788252   \n",
       "2               1.310901e+06                  877.704487   \n",
       "3               0.000000e+00                    0.000000   \n",
       "4               0.000000e+00                    0.000000   \n",
       "\n",
       "   item_price_sum_roll_min_12  item_price_mean_roll_min_12   \n",
       "0                9.471124e+05                   637.356965  \\\n",
       "1                1.826365e+05                   688.788252   \n",
       "2                1.310901e+06                   877.704487   \n",
       "3                0.000000e+00                     0.000000   \n",
       "4                0.000000e+00                     0.000000   \n",
       "\n",
       "   item_price_sum_roll_max_2  item_price_mean_roll_max_2   \n",
       "0               1.805427e+06                  921.136026  \\\n",
       "1               1.110282e+06                  918.347090   \n",
       "2               2.130369e+06                 1272.622116   \n",
       "3               0.000000e+00                    0.000000   \n",
       "4               0.000000e+00                    0.000000   \n",
       "\n",
       "   item_price_sum_roll_max_6  item_price_mean_roll_max_6   \n",
       "0               1.805427e+06                  921.136026  \\\n",
       "1               1.110282e+06                  918.347090   \n",
       "2               2.174952e+06                 1272.622116   \n",
       "3               0.000000e+00                    0.000000   \n",
       "4               0.000000e+00                    0.000000   \n",
       "\n",
       "   item_price_sum_roll_max_12  item_price_mean_roll_max_12  \n",
       "0                1.805427e+06                   921.136026  \n",
       "1                1.365703e+06                   918.347090  \n",
       "2                2.513204e+06                  1272.622116  \n",
       "3                0.000000e+00                     0.000000  \n",
       "4                1.395718e+06                   760.609444  \n",
       "\n",
       "[5 rows x 72 columns]"
      ]
     },
     "execution_count": 2,
     "metadata": {},
     "output_type": "execute_result"
    }
   ],
   "source": [
    "feat_generator = FeatureGenerator()\n",
    "test_generator = TestGenerator()\n",
    "shop_item_backbone_back = test_generator.generate_shop_item_backbone(test_size=1000)\n",
    "backbone = test_generator.add_month_to_backbone(shop_item_backbone = shop_item_backbone_back, \n",
    "                                  month_num=11)\n",
    "test_features_df = test_generator.add_features_to_backbone(test_backbone=backbone, \n",
    "                                            feat_generator=feat_generator)\n",
    "test_features_df.head()"
   ]
  },
  {
   "cell_type": "markdown",
   "metadata": {},
   "source": [
    "So, features for a generated shop-item backbone and a given month are generated correctly. Let's now use this functionality could be used to generate features for the provided test index backbone."
   ]
  },
  {
   "cell_type": "code",
   "execution_count": 3,
   "metadata": {},
   "outputs": [],
   "source": [
    "# we are told that the test month is November, so following the last one in the train set, so 34-th \n",
    "test_month_num = 34 \n",
    "\n",
    "# test_backbone in this case is the provided test dataset itself\n",
    "test_backbone = pd.read_csv(RAW_PATH + 'test.csv')\n",
    "\n",
    "feat_generator = FeatureGenerator()\n",
    "test_features_df = test_generator.add_features_to_backbone(test_backbone=test_backbone, \n",
    "                                            feat_generator=feat_generator)"
   ]
  },
  {
   "cell_type": "code",
   "execution_count": 4,
   "metadata": {},
   "outputs": [
    {
     "data": {
      "text/html": [
       "<div>\n",
       "<style scoped>\n",
       "    .dataframe tbody tr th:only-of-type {\n",
       "        vertical-align: middle;\n",
       "    }\n",
       "\n",
       "    .dataframe tbody tr th {\n",
       "        vertical-align: top;\n",
       "    }\n",
       "\n",
       "    .dataframe thead th {\n",
       "        text-align: right;\n",
       "    }\n",
       "</style>\n",
       "<table border=\"1\" class=\"dataframe\">\n",
       "  <thead>\n",
       "    <tr style=\"text-align: right;\">\n",
       "      <th></th>\n",
       "      <th>ID</th>\n",
       "      <th>shop_id</th>\n",
       "      <th>item_id</th>\n",
       "      <th>date_block_num</th>\n",
       "      <th>deals_cnt</th>\n",
       "      <th>deals_cnt_shift_2</th>\n",
       "      <th>deals_cnt_shift_6</th>\n",
       "      <th>deals_cnt_shift_12</th>\n",
       "      <th>deals_cnt_roll_sum_2</th>\n",
       "      <th>deals_cnt_roll_sum_6</th>\n",
       "      <th>...</th>\n",
       "      <th>item_price_sum_roll_min_6</th>\n",
       "      <th>item_price_mean_roll_min_6</th>\n",
       "      <th>item_price_sum_roll_min_12</th>\n",
       "      <th>item_price_mean_roll_min_12</th>\n",
       "      <th>item_price_sum_roll_max_2</th>\n",
       "      <th>item_price_mean_roll_max_2</th>\n",
       "      <th>item_price_sum_roll_max_6</th>\n",
       "      <th>item_price_mean_roll_max_6</th>\n",
       "      <th>item_price_sum_roll_max_12</th>\n",
       "      <th>item_price_mean_roll_max_12</th>\n",
       "    </tr>\n",
       "  </thead>\n",
       "  <tbody>\n",
       "    <tr>\n",
       "      <th>0</th>\n",
       "      <td>0</td>\n",
       "      <td>5</td>\n",
       "      <td>5037</td>\n",
       "      <td>0</td>\n",
       "      <td>0.0</td>\n",
       "      <td>0.0</td>\n",
       "      <td>0.0</td>\n",
       "      <td>0.0</td>\n",
       "      <td>0.0</td>\n",
       "      <td>0.0</td>\n",
       "      <td>...</td>\n",
       "      <td>0.0</td>\n",
       "      <td>0.0</td>\n",
       "      <td>0.0</td>\n",
       "      <td>0.0</td>\n",
       "      <td>0.000000</td>\n",
       "      <td>0.000000</td>\n",
       "      <td>0.000000</td>\n",
       "      <td>0.000000</td>\n",
       "      <td>0.000000</td>\n",
       "      <td>0.000000</td>\n",
       "    </tr>\n",
       "    <tr>\n",
       "      <th>1</th>\n",
       "      <td>0</td>\n",
       "      <td>5</td>\n",
       "      <td>5037</td>\n",
       "      <td>1</td>\n",
       "      <td>845.0</td>\n",
       "      <td>0.0</td>\n",
       "      <td>0.0</td>\n",
       "      <td>0.0</td>\n",
       "      <td>845.0</td>\n",
       "      <td>845.0</td>\n",
       "      <td>...</td>\n",
       "      <td>0.0</td>\n",
       "      <td>0.0</td>\n",
       "      <td>0.0</td>\n",
       "      <td>0.0</td>\n",
       "      <td>499735.960000</td>\n",
       "      <td>591.403503</td>\n",
       "      <td>499735.960000</td>\n",
       "      <td>591.403503</td>\n",
       "      <td>499735.960000</td>\n",
       "      <td>591.403503</td>\n",
       "    </tr>\n",
       "    <tr>\n",
       "      <th>2</th>\n",
       "      <td>0</td>\n",
       "      <td>5</td>\n",
       "      <td>5037</td>\n",
       "      <td>2</td>\n",
       "      <td>1262.0</td>\n",
       "      <td>0.0</td>\n",
       "      <td>0.0</td>\n",
       "      <td>0.0</td>\n",
       "      <td>2107.0</td>\n",
       "      <td>2107.0</td>\n",
       "      <td>...</td>\n",
       "      <td>0.0</td>\n",
       "      <td>0.0</td>\n",
       "      <td>0.0</td>\n",
       "      <td>0.0</td>\n",
       "      <td>756773.413333</td>\n",
       "      <td>599.661976</td>\n",
       "      <td>756773.413333</td>\n",
       "      <td>599.661976</td>\n",
       "      <td>756773.413333</td>\n",
       "      <td>599.661976</td>\n",
       "    </tr>\n",
       "    <tr>\n",
       "      <th>3</th>\n",
       "      <td>0</td>\n",
       "      <td>5</td>\n",
       "      <td>5037</td>\n",
       "      <td>3</td>\n",
       "      <td>946.0</td>\n",
       "      <td>845.0</td>\n",
       "      <td>0.0</td>\n",
       "      <td>0.0</td>\n",
       "      <td>2208.0</td>\n",
       "      <td>3053.0</td>\n",
       "      <td>...</td>\n",
       "      <td>0.0</td>\n",
       "      <td>0.0</td>\n",
       "      <td>0.0</td>\n",
       "      <td>0.0</td>\n",
       "      <td>756773.413333</td>\n",
       "      <td>644.232294</td>\n",
       "      <td>756773.413333</td>\n",
       "      <td>644.232294</td>\n",
       "      <td>756773.413333</td>\n",
       "      <td>644.232294</td>\n",
       "    </tr>\n",
       "    <tr>\n",
       "      <th>4</th>\n",
       "      <td>0</td>\n",
       "      <td>5</td>\n",
       "      <td>5037</td>\n",
       "      <td>4</td>\n",
       "      <td>1060.0</td>\n",
       "      <td>1262.0</td>\n",
       "      <td>0.0</td>\n",
       "      <td>0.0</td>\n",
       "      <td>2006.0</td>\n",
       "      <td>4113.0</td>\n",
       "      <td>...</td>\n",
       "      <td>0.0</td>\n",
       "      <td>0.0</td>\n",
       "      <td>0.0</td>\n",
       "      <td>0.0</td>\n",
       "      <td>609443.750000</td>\n",
       "      <td>644.232294</td>\n",
       "      <td>756773.413333</td>\n",
       "      <td>644.232294</td>\n",
       "      <td>756773.413333</td>\n",
       "      <td>644.232294</td>\n",
       "    </tr>\n",
       "  </tbody>\n",
       "</table>\n",
       "<p>5 rows × 73 columns</p>\n",
       "</div>"
      ],
      "text/plain": [
       "   ID  shop_id  item_id  date_block_num  deals_cnt  deals_cnt_shift_2   \n",
       "0   0        5     5037               0        0.0                0.0  \\\n",
       "1   0        5     5037               1      845.0                0.0   \n",
       "2   0        5     5037               2     1262.0                0.0   \n",
       "3   0        5     5037               3      946.0              845.0   \n",
       "4   0        5     5037               4     1060.0             1262.0   \n",
       "\n",
       "   deals_cnt_shift_6  deals_cnt_shift_12  deals_cnt_roll_sum_2   \n",
       "0                0.0                 0.0                   0.0  \\\n",
       "1                0.0                 0.0                 845.0   \n",
       "2                0.0                 0.0                2107.0   \n",
       "3                0.0                 0.0                2208.0   \n",
       "4                0.0                 0.0                2006.0   \n",
       "\n",
       "   deals_cnt_roll_sum_6  ...  item_price_sum_roll_min_6   \n",
       "0                   0.0  ...                        0.0  \\\n",
       "1                 845.0  ...                        0.0   \n",
       "2                2107.0  ...                        0.0   \n",
       "3                3053.0  ...                        0.0   \n",
       "4                4113.0  ...                        0.0   \n",
       "\n",
       "   item_price_mean_roll_min_6  item_price_sum_roll_min_12   \n",
       "0                         0.0                         0.0  \\\n",
       "1                         0.0                         0.0   \n",
       "2                         0.0                         0.0   \n",
       "3                         0.0                         0.0   \n",
       "4                         0.0                         0.0   \n",
       "\n",
       "   item_price_mean_roll_min_12  item_price_sum_roll_max_2   \n",
       "0                          0.0                   0.000000  \\\n",
       "1                          0.0              499735.960000   \n",
       "2                          0.0              756773.413333   \n",
       "3                          0.0              756773.413333   \n",
       "4                          0.0              609443.750000   \n",
       "\n",
       "   item_price_mean_roll_max_2  item_price_sum_roll_max_6   \n",
       "0                    0.000000                   0.000000  \\\n",
       "1                  591.403503              499735.960000   \n",
       "2                  599.661976              756773.413333   \n",
       "3                  644.232294              756773.413333   \n",
       "4                  644.232294              756773.413333   \n",
       "\n",
       "   item_price_mean_roll_max_6  item_price_sum_roll_max_12   \n",
       "0                    0.000000                    0.000000  \\\n",
       "1                  591.403503               499735.960000   \n",
       "2                  599.661976               756773.413333   \n",
       "3                  644.232294               756773.413333   \n",
       "4                  644.232294               756773.413333   \n",
       "\n",
       "   item_price_mean_roll_max_12  \n",
       "0                     0.000000  \n",
       "1                   591.403503  \n",
       "2                   599.661976  \n",
       "3                   644.232294  \n",
       "4                   644.232294  \n",
       "\n",
       "[5 rows x 73 columns]"
      ]
     },
     "execution_count": 4,
     "metadata": {},
     "output_type": "execute_result"
    }
   ],
   "source": [
    "test_features_df.head()"
   ]
  },
  {
   "cell_type": "markdown",
   "metadata": {},
   "source": [
    "# Cross validation pathfinder"
   ]
  },
  {
   "cell_type": "markdown",
   "metadata": {},
   "source": [
    "In here we will check if existing functionality is enough to do a round of crossvalidation.\n",
    "Overall idea:\n",
    "- data for all folds is generated using TestGenerator and FeatureGenerator classes\n",
    "- data is split to train/test by order number of month using sklearn.TimeSeriesSplit"
   ]
  },
  {
   "cell_type": "code",
   "execution_count": 53,
   "metadata": {},
   "outputs": [],
   "source": [
    "# TODO: consider introducing 1-2 months gap between train and test\n",
    "# TODO: it should be possible to use sklearn cross validation functionality: \n",
    "# 1) build df with all features and offload it to data/processed \n",
    "# 2) build custom layer to sample for that dataset using sklearn.TimeSeriesSplit based on months"
   ]
  },
  {
   "cell_type": "code",
   "execution_count": 4,
   "metadata": {},
   "outputs": [
    {
     "name": "stdout",
     "output_type": "stream",
     "text": [
      "all months: [13 14 15 16 17 18 19 20 21 22 23 24 25 26 27 28 29 30 31 32 33]\n",
      " len: 21\n",
      "Fold 0:\n",
      "  Train: index=[ 0  1  2  3  4  5  6  7  8  9 10]\n",
      "  Test:  index=[11 12]\n",
      "Fold 1:\n",
      "  Train: index=[ 2  3  4  5  6  7  8  9 10 11 12]\n",
      "  Test:  index=[13 14]\n",
      "Fold 2:\n",
      "  Train: index=[ 4  5  6  7  8  9 10 11 12 13 14]\n",
      "  Test:  index=[15 16]\n",
      "Fold 3:\n",
      "  Train: index=[ 6  7  8  9 10 11 12 13 14 15 16]\n",
      "  Test:  index=[17 18]\n",
      "Fold 4:\n",
      "  Train: index=[ 8  9 10 11 12 13 14 15 16 17 18]\n",
      "  Test:  index=[19 20]\n"
     ]
    }
   ],
   "source": [
    "merged_df = pd.read_parquet(PROCESSED_PATH + 'merged_train_df.parquet')\n",
    "all_months = merged_df['date_block_num'].unique()\n",
    "all_months = all_months[all_months > max(WINS_SHIFTS)] # leaving enough months for longest shift/window calculation\n",
    "print(f'all months: {all_months}\\n len: {len(all_months)}')\n",
    "\n",
    "tscv = TimeSeriesSplit(test_size = 2, max_train_size=11)\n",
    "for i, (train_index, test_index) in enumerate(tscv.split(all_months)):\n",
    "    print(f\"Fold {i}:\")\n",
    "    print(f\"  Train: index={train_index}\")\n",
    "    print(f\"  Test:  index={test_index}\")"
   ]
  },
  {
   "cell_type": "markdown",
   "metadata": {},
   "source": [
    "We see that functionality built is sufficient for a simple time series cross validation."
   ]
  },
  {
   "cell_type": "code",
   "execution_count": 8,
   "metadata": {},
   "outputs": [
    {
     "name": "stdout",
     "output_type": "stream",
     "text": [
      "Fold 0:\n",
      "  Train: target months=[16 14 15 32 13 17 19 20 22 25]\n",
      "  Test:  target months=[30 24]\n",
      "  NRMSE:  1.0\n",
      "  RMSE :  3.5\n",
      "\n",
      "Fold 1:\n",
      "  Train: target months=[14 15 32 13 17 19 20 22 25 30 24]\n",
      "  Test:  target months=[26 27]\n",
      "  NRMSE:  1.0\n",
      "  RMSE :  7.7\n",
      "\n",
      "Fold 2:\n",
      "  Train: target months=[32 13 17 19 20 22 25 30 24 26 27]\n",
      "  Test:  target months=[29 31]\n",
      "  NRMSE:  1.0\n",
      "  RMSE :  8.8\n",
      "\n",
      "Fold 3:\n",
      "  Train: target months=[17 19 20 22 25 30 24 26 27 29 31]\n",
      "  Test:  target months=[23 18]\n",
      "  NRMSE:  1.0\n",
      "  RMSE :  6.8\n",
      "\n",
      "Fold 4:\n",
      "  Train: target months=[20 22 25 30 24 26 27 29 31 23 18]\n",
      "  Test:  target months=[21 28]\n",
      "  NRMSE:  1.0\n",
      "  RMSE :  6.5\n",
      "\n"
     ]
    }
   ],
   "source": [
    "# initiating data generators\n",
    "feat_generator = FeatureGenerator()\n",
    "test_generator = TestGenerator(train=True)\n",
    "\n",
    "# initiating toy model\n",
    "model = ToyModel()\n",
    "\n",
    "# initiating cv splitter\n",
    "tscv = TimeSeriesSplit(test_size = 2, max_train_size=11)\n",
    "\n",
    "# generating all of the data which we will iterate over during CV\n",
    "target_df = test_generator.generate_target_for_month(list(range(13, 34)))\n",
    "features_df = test_generator.add_features_to_backbone(test_backbone=target_df, \n",
    "                                                      feat_generator=feat_generator)\n",
    "\n",
    "# creating col lists for training\n",
    "cols_di={\n",
    "    'index': ['shop_id', 'item_id', 'date_block_num'],\n",
    "    'target': ['target'],\n",
    "    'feats': feat_generator.base_feat_cols + feat_generator.lag_cols + feat_generator.roll_cols\n",
    "}\n",
    "\n",
    "# iterating over CV folds\n",
    "run_cv(df=features_df, months_cv_split=tscv, model=model, cols_di=cols_di)"
   ]
  },
  {
   "cell_type": "code",
   "execution_count": null,
   "metadata": {},
   "outputs": [],
   "source": []
  },
  {
   "cell_type": "code",
   "execution_count": null,
   "metadata": {},
   "outputs": [],
   "source": []
  },
  {
   "cell_type": "code",
   "execution_count": null,
   "metadata": {},
   "outputs": [],
   "source": [
    "\n",
    "    # num_shops = int(np.sqrt(test_size))\n",
    "    # ideal_num_items = int(test_size / num_shops)\n",
    "    # test_shops = np.random.choice(range(shop_id_min_max[0], \n",
    "    #                                     shop_id_min_max[1]+1), \n",
    "    #                               num_shops, replace=False)\n",
    "    # back = []\n",
    "    # for val in test_shops:\n",
    "    #     num_items_to_pick = np.random.choice(range(int(ideal_num_items * (1-num_items_variety)),\n",
    "    #                                             int(ideal_num_items * (1+num_items_variety))))\n",
    "    #     test_items = np.random.choice(range(item_id_min_max[0], \n",
    "    #                                         item_id_min_max[1]+1), \n",
    "    #                                 num_items_to_pick, replace=False)\n",
    "    #     back.append(pd.DataFrame(product([val], test_items), columns = ['shop_id', 'item_id']))\n",
    "    # back_df = pd.concat(back, ignore_index=True).drop_duplicates()\n",
    "    # return back_df"
   ]
  }
 ],
 "metadata": {
  "kernelspec": {
   "display_name": "rl_in_ksp_new",
   "language": "python",
   "name": "rl_in_ksp_new"
  },
  "language_info": {
   "codemirror_mode": {
    "name": "ipython",
    "version": 3
   },
   "file_extension": ".py",
   "mimetype": "text/x-python",
   "name": "python",
   "nbconvert_exporter": "python",
   "pygments_lexer": "ipython3",
   "version": "3.9.6"
  },
  "orig_nbformat": 4
 },
 "nbformat": 4,
 "nbformat_minor": 2
}
