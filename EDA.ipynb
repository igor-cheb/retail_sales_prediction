{
 "cells": [
  {
   "cell_type": "code",
   "execution_count": 1,
   "metadata": {},
   "outputs": [],
   "source": [
    "import pandas as pd\n",
    "import os\n",
    "\n",
    "from src.settings import RAW_PATH"
   ]
  },
  {
   "cell_type": "code",
   "execution_count": 2,
   "metadata": {},
   "outputs": [
    {
     "data": {
      "text/plain": [
       "['sales_train.csv',\n",
       " 'shops.csv',\n",
       " 'test.csv',\n",
       " 'item_categories.csv',\n",
       " 'items.csv',\n",
       " 'sample_submission.csv']"
      ]
     },
     "execution_count": 2,
     "metadata": {},
     "output_type": "execute_result"
    }
   ],
   "source": [
    "raw_files = os.listdir(RAW_PATH)\n",
    "raw_files"
   ]
  },
  {
   "attachments": {},
   "cell_type": "markdown",
   "metadata": {},
   "source": [
    "Clearly, not all of the files provided are useful for training. In particular, \"test\", \"sample_submission\" are admin, so will remove from the dict."
   ]
  },
  {
   "cell_type": "code",
   "execution_count": 13,
   "metadata": {},
   "outputs": [
    {
     "name": "stdout",
     "output_type": "stream",
     "text": [
      "test.csv not found in list\n",
      "sample_submission.csv not found in list\n"
     ]
    }
   ],
   "source": [
    "for item in ['test.csv', 'sample_submission.csv']:\n",
    "    try:\n",
    "        raw_files.remove(item)\n",
    "    except ValueError:\n",
    "        print(f'{item} not found in list')"
   ]
  },
  {
   "attachments": {},
   "cell_type": "markdown",
   "metadata": {},
   "source": [
    "For convinience let's add all raw files to one dict"
   ]
  },
  {
   "cell_type": "code",
   "execution_count": 42,
   "metadata": {},
   "outputs": [],
   "source": [
    "raw_files_di = {}\n",
    "for f in raw_files:\n",
    "    path = RAW_PATH + f\n",
    "    raw_files_di[f.split('.')[0]] = pd.read_csv(path)\n",
    "    "
   ]
  },
  {
   "cell_type": "code",
   "execution_count": 43,
   "metadata": {},
   "outputs": [
    {
     "name": "stdout",
     "output_type": "stream",
     "text": [
      "sales_train :\n",
      "          date  date_block_num  shop_id  item_id  item_price  item_cnt_day\n",
      "0  02.01.2013               0       59    22154      999.00           1.0\n",
      "1  03.01.2013               0       25     2552      899.00           1.0\n",
      "2  05.01.2013               0       25     2552      899.00          -1.0\n",
      "3  06.01.2013               0       25     2554     1709.05           1.0\n",
      "4  15.01.2013               0       25     2555     1099.00           1.0\n",
      "============================== \n",
      "\n",
      "\n",
      "shops :\n",
      "                         shop_name  shop_id\n",
      "0   !Якутск Орджоникидзе, 56 фран        0\n",
      "1   !Якутск ТЦ \"Центральный\" фран        1\n",
      "2                Адыгея ТЦ \"Мега\"        2\n",
      "3  Балашиха ТРК \"Октябрь-Киномир\"        3\n",
      "4        Волжский ТЦ \"Волга Молл\"        4\n",
      "============================== \n",
      "\n",
      "\n",
      "item_categories :\n",
      "         item_category_name  item_category_id\n",
      "0  PC - Гарнитуры/Наушники                 0\n",
      "1         Аксессуары - PS2                 1\n",
      "2         Аксессуары - PS3                 2\n",
      "3         Аксессуары - PS4                 3\n",
      "4         Аксессуары - PSP                 4\n",
      "============================== \n",
      "\n",
      "\n",
      "items :\n",
      "                                            item_name  item_id   \n",
      "0          ! ВО ВЛАСТИ НАВАЖДЕНИЯ (ПЛАСТ.)         D        0  \\\n",
      "1  !ABBYY FineReader 12 Professional Edition Full...        1   \n",
      "2      ***В ЛУЧАХ СЛАВЫ   (UNV)                    D        2   \n",
      "3    ***ГОЛУБАЯ ВОЛНА  (Univ)                      D        3   \n",
      "4        ***КОРОБКА (СТЕКЛО)                       D        4   \n",
      "\n",
      "   item_category_id  \n",
      "0                40  \n",
      "1                76  \n",
      "2                40  \n",
      "3                40  \n",
      "4                40  \n",
      "============================== \n",
      "\n",
      "\n"
     ]
    }
   ],
   "source": [
    "# reading files and looking at headers\n",
    "for el in raw_files_di:\n",
    "    print(el,':\\n', raw_files_di[el].head())\n",
    "    print('='*30, '\\n\\n')"
   ]
  },
  {
   "attachments": {},
   "cell_type": "markdown",
   "metadata": {},
   "source": [
    "All the columns are clear except for `date_block_num` in the `sales_train` file, let's look at it closer."
   ]
  },
  {
   "cell_type": "code",
   "execution_count": 20,
   "metadata": {},
   "outputs": [
    {
     "data": {
      "text/plain": [
       "date_block_num\n",
       "11    143246\n",
       "23    130786\n",
       "2     121347\n",
       "0     115690\n",
       "1     108613\n",
       "7     104772\n",
       "6     100548\n",
       "5     100403\n",
       "12     99349\n",
       "10     96736\n",
       "8      96137\n",
       "9      94202\n",
       "3      94109\n",
       "14     92733\n",
       "4      91759\n",
       "13     89830\n",
       "24     88522\n",
       "19     86614\n",
       "22     86428\n",
       "17     82408\n",
       "21     79361\n",
       "18     78760\n",
       "16     78529\n",
       "15     77906\n",
       "20     73157\n",
       "25     71808\n",
       "26     69977\n",
       "31     57029\n",
       "27     56274\n",
       "30     55549\n",
       "29     54617\n",
       "28     54548\n",
       "33     53514\n",
       "32     50588\n",
       "Name: count, dtype: int64"
      ]
     },
     "execution_count": 20,
     "metadata": {},
     "output_type": "execute_result"
    }
   ],
   "source": [
    "# looking at the distribution\n",
    "raw_files_di['sales_train']['date_block_num'].value_counts()"
   ]
  },
  {
   "cell_type": "code",
   "execution_count": 24,
   "metadata": {},
   "outputs": [
    {
     "name": "stdout",
     "output_type": "stream",
     "text": [
      "         date  date_block_num  shop_id  item_id  item_price  item_cnt_day\n",
      "0  02.01.2013               0       59    22154      999.00           1.0\n",
      "1  03.01.2013               0       25     2552      899.00           1.0\n",
      "2  05.01.2013               0       25     2552      899.00          -1.0\n",
      "3  06.01.2013               0       25     2554     1709.05           1.0\n",
      "4  15.01.2013               0       25     2555     1099.00           1.0\n",
      "==============================\n",
      "              date  date_block_num  shop_id  item_id  item_price  item_cnt_day\n",
      "115690  21.02.2013               1       50     3880      1499.0           1.0\n",
      "115691  14.02.2013               1       50     3880      1499.0           1.0\n",
      "115692  21.02.2013               1       50     4128       899.0           1.0\n",
      "115693  13.02.2013               1       50     4124       249.0           1.0\n",
      "115694  24.02.2013               1       50     3880      1499.0           1.0\n",
      "==============================\n",
      "              date  date_block_num  shop_id  item_id  item_price  item_cnt_day\n",
      "224303  03.03.2013               2        5    20175       849.0           1.0\n",
      "224304  06.03.2013               2        5    20083       149.0           1.0\n",
      "224305  02.03.2013               2        2       31       698.5           1.0\n",
      "224306  17.03.2013               2       41     2437       699.5           1.0\n",
      "224307  02.03.2013               2       41     2417       349.0           1.0\n",
      "==============================\n",
      "              date  date_block_num  shop_id  item_id  item_price  item_cnt_day\n",
      "345650  16.04.2013               3       25     8092       149.0           1.0\n",
      "345651  27.04.2013               3       25     7850       199.0           1.0\n",
      "345652  29.04.2013               3       25     8051        30.0           1.0\n",
      "345653  28.04.2013               3       25     8088       199.0           1.0\n",
      "345654  06.04.2013               3       25     8089       199.0           1.0\n",
      "==============================\n"
     ]
    }
   ],
   "source": [
    "# iterating through values\n",
    "for val in raw_files_di['sales_train']['date_block_num'].unique()[:4]:\n",
    "    print(raw_files_di['sales_train'][raw_files_di['sales_train']['date_block_num'] == val].head())\n",
    "    print('='*30)"
   ]
  },
  {
   "attachments": {},
   "cell_type": "markdown",
   "metadata": {},
   "source": [
    "Ok, so seems like each `data_block_num` value corresponds to only 1 month value. Let's reconfirm."
   ]
  },
  {
   "cell_type": "code",
   "execution_count": 39,
   "metadata": {},
   "outputs": [],
   "source": [
    "# casting to proper datetime type\n",
    "raw_files_di['sales_train'].loc[:, 'date'] = pd.to_datetime(raw_files_di['sales_train']['date'], format=\"%d.%m.%Y\")"
   ]
  },
  {
   "cell_type": "code",
   "execution_count": 45,
   "metadata": {},
   "outputs": [],
   "source": [
    "raw_files_di['sales_train'].loc[:, 'date'] = pd.to_datetime(raw_files_di['sales_train']['date'], format=\"%d.%m.%Y\")"
   ]
  },
  {
   "cell_type": "code",
   "execution_count": 60,
   "metadata": {},
   "outputs": [
    {
     "data": {
      "text/plain": [
       "Timestamp('2013-01-02 00:00:00')"
      ]
     },
     "execution_count": 60,
     "metadata": {},
     "output_type": "execute_result"
    }
   ],
   "source": [
    "raw_files_di['sales_train'].loc[:, 'date'].unique()[0]"
   ]
  },
  {
   "attachments": {},
   "cell_type": "markdown",
   "metadata": {},
   "source": [
    "Some observations on data structure:\n",
    "\n",
    "- `shops` -- a mapping of shops names to an ordinal categorical feature shop_id\n",
    "- `item_categories` -- list of items' categories\n",
    "- `items` -- unique list of items in stock, already merged with item_categories\n",
    "- `sales_train` -- main table for training with IDs of shops, items and sales date. Additional columns are item price and date_block_num. \n",
    "    - `date_block_num` -- grouping of items by date, i.e. each value marks observations recorded within 1 month only. \n",
    "    - `price` -- column is self explanatory.\n",
    "\n",
    "It makes sense to add the items grouping ti the sales_train tale by joining the items table and explore the data in the merged table afterwards. Let's do that.\n"
   ]
  },
  {
   "attachments": {},
   "cell_type": "markdown",
   "metadata": {},
   "source": []
  }
 ],
 "metadata": {
  "kernelspec": {
   "display_name": "rl_in_ksp_new",
   "language": "python",
   "name": "rl_in_ksp_new"
  },
  "language_info": {
   "codemirror_mode": {
    "name": "ipython",
    "version": 3
   },
   "file_extension": ".py",
   "mimetype": "text/x-python",
   "name": "python",
   "nbconvert_exporter": "python",
   "pygments_lexer": "ipython3",
   "version": "3.9.6"
  },
  "orig_nbformat": 4
 },
 "nbformat": 4,
 "nbformat_minor": 2
}
