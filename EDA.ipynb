{
 "cells": [
  {
   "cell_type": "code",
   "execution_count": 1,
   "metadata": {},
   "outputs": [],
   "source": [
    "import pandas as pd\n",
    "import os\n",
    "\n",
    "from src.settings import RAW_PATH"
   ]
  },
  {
   "cell_type": "code",
   "execution_count": 2,
   "metadata": {},
   "outputs": [
    {
     "data": {
      "text/plain": [
       "['sales_train.csv',\n",
       " 'shops.csv',\n",
       " 'test.csv',\n",
       " 'item_categories.csv',\n",
       " 'items.csv',\n",
       " 'sample_submission.csv']"
      ]
     },
     "execution_count": 2,
     "metadata": {},
     "output_type": "execute_result"
    }
   ],
   "source": [
    "raw_files = os.listdir(RAW_PATH)\n",
    "raw_files"
   ]
  },
  {
   "attachments": {},
   "cell_type": "markdown",
   "metadata": {},
   "source": [
    "Clearly, not all of the files provided are useful for training. In particular, \"test\", \"sample_submission\" are admin, so will remove from the dict."
   ]
  },
  {
   "cell_type": "code",
   "execution_count": 3,
   "metadata": {},
   "outputs": [
    {
     "name": "stdout",
     "output_type": "stream",
     "text": [
      "test.csv not found in list\n",
      "sample_submission.csv not found in list\n"
     ]
    }
   ],
   "source": [
    "for item in ['test.csv', 'sample_submission.csv']:\n",
    "    try:\n",
    "        raw_files.remove(raw_files.index(item))\n",
    "    except ValueError:\n",
    "        print(f\"{item} not found in list\")"
   ]
  },
  {
   "attachments": {},
   "cell_type": "markdown",
   "metadata": {},
   "source": [
    "For convinience let's add all raw files to one dict"
   ]
  },
  {
   "cell_type": "code",
   "execution_count": 6,
   "metadata": {},
   "outputs": [],
   "source": [
    "raw_files_di = {}\n",
    "for f in raw_files:\n",
    "    path = RAW_PATH + f\n",
    "    raw_files_di[f.split('.')[0]] = pd.read_csv(path)\n",
    "    "
   ]
  },
  {
   "cell_type": "code",
   "execution_count": 7,
   "metadata": {},
   "outputs": [
    {
     "name": "stdout",
     "output_type": "stream",
     "text": [
      "sales_train :\n",
      "          date  date_block_num  shop_id  item_id  item_price  item_cnt_day\n",
      "0  02.01.2013               0       59    22154      999.00           1.0\n",
      "1  03.01.2013               0       25     2552      899.00           1.0\n",
      "2  05.01.2013               0       25     2552      899.00          -1.0\n",
      "3  06.01.2013               0       25     2554     1709.05           1.0\n",
      "4  15.01.2013               0       25     2555     1099.00           1.0\n",
      "============================== \n",
      "\n",
      "\n",
      "shops :\n",
      "                         shop_name  shop_id\n",
      "0   !Якутск Орджоникидзе, 56 фран        0\n",
      "1   !Якутск ТЦ \"Центральный\" фран        1\n",
      "2                Адыгея ТЦ \"Мега\"        2\n",
      "3  Балашиха ТРК \"Октябрь-Киномир\"        3\n",
      "4        Волжский ТЦ \"Волга Молл\"        4\n",
      "============================== \n",
      "\n",
      "\n",
      "test :\n",
      "    ID  shop_id  item_id\n",
      "0   0        5     5037\n",
      "1   1        5     5320\n",
      "2   2        5     5233\n",
      "3   3        5     5232\n",
      "4   4        5     5268\n",
      "============================== \n",
      "\n",
      "\n",
      "item_categories :\n",
      "         item_category_name  item_category_id\n",
      "0  PC - Гарнитуры/Наушники                 0\n",
      "1         Аксессуары - PS2                 1\n",
      "2         Аксессуары - PS3                 2\n",
      "3         Аксессуары - PS4                 3\n",
      "4         Аксессуары - PSP                 4\n",
      "============================== \n",
      "\n",
      "\n",
      "items :\n",
      "                                            item_name  item_id   \n",
      "0          ! ВО ВЛАСТИ НАВАЖДЕНИЯ (ПЛАСТ.)         D        0  \\\n",
      "1  !ABBYY FineReader 12 Professional Edition Full...        1   \n",
      "2      ***В ЛУЧАХ СЛАВЫ   (UNV)                    D        2   \n",
      "3    ***ГОЛУБАЯ ВОЛНА  (Univ)                      D        3   \n",
      "4        ***КОРОБКА (СТЕКЛО)                       D        4   \n",
      "\n",
      "   item_category_id  \n",
      "0                40  \n",
      "1                76  \n",
      "2                40  \n",
      "3                40  \n",
      "4                40  \n",
      "============================== \n",
      "\n",
      "\n",
      "sample_submission :\n",
      "    ID  item_cnt_month\n",
      "0   0             0.5\n",
      "1   1             0.5\n",
      "2   2             0.5\n",
      "3   3             0.5\n",
      "4   4             0.5\n",
      "============================== \n",
      "\n",
      "\n"
     ]
    }
   ],
   "source": [
    "# reading files and looking at headers\n",
    "for el in raw_files_di:\n",
    "    print(el,':\\n', raw_files_di[el].head())\n",
    "    print('='*30, '\\n\\n')"
   ]
  },
  {
   "attachments": {},
   "cell_type": "markdown",
   "metadata": {},
   "source": [
    "All the columns are clear except for `date_block_num` in the `sales_train` file, let's look at it closer."
   ]
  },
  {
   "cell_type": "code",
   "execution_count": 65,
   "metadata": {},
   "outputs": [
    {
     "data": {
      "text/plain": [
       "date_block_num\n",
       "11    143246\n",
       "23    130786\n",
       "2     121347\n",
       "0     115690\n",
       "1     108613\n",
       "7     104772\n",
       "6     100548\n",
       "5     100403\n",
       "12     99349\n",
       "10     96736\n",
       "8      96137\n",
       "9      94202\n",
       "3      94109\n",
       "14     92733\n",
       "4      91759\n",
       "13     89830\n",
       "24     88522\n",
       "19     86614\n",
       "22     86428\n",
       "17     82408\n",
       "21     79361\n",
       "18     78760\n",
       "16     78529\n",
       "15     77906\n",
       "20     73157\n",
       "25     71808\n",
       "26     69977\n",
       "31     57029\n",
       "27     56274\n",
       "30     55549\n",
       "29     54617\n",
       "28     54548\n",
       "33     53514\n",
       "32     50588\n",
       "Name: count, dtype: int64"
      ]
     },
     "execution_count": 65,
     "metadata": {},
     "output_type": "execute_result"
    }
   ],
   "source": [
    "raw_files_di['sales_train']['date_block_num'].value_counts()"
   ]
  },
  {
   "cell_type": "code",
   "execution_count": 75,
   "metadata": {},
   "outputs": [
    {
     "data": {
      "text/html": [
       "<div>\n",
       "<style scoped>\n",
       "    .dataframe tbody tr th:only-of-type {\n",
       "        vertical-align: middle;\n",
       "    }\n",
       "\n",
       "    .dataframe tbody tr th {\n",
       "        vertical-align: top;\n",
       "    }\n",
       "\n",
       "    .dataframe thead th {\n",
       "        text-align: right;\n",
       "    }\n",
       "</style>\n",
       "<table border=\"1\" class=\"dataframe\">\n",
       "  <thead>\n",
       "    <tr style=\"text-align: right;\">\n",
       "      <th></th>\n",
       "      <th>date</th>\n",
       "      <th>date_block_num</th>\n",
       "      <th>shop_id</th>\n",
       "      <th>item_id</th>\n",
       "      <th>item_price</th>\n",
       "      <th>item_cnt_day</th>\n",
       "    </tr>\n",
       "  </thead>\n",
       "  <tbody>\n",
       "    <tr>\n",
       "      <th>1027580</th>\n",
       "      <td>06.11.2013</td>\n",
       "      <td>10</td>\n",
       "      <td>43</td>\n",
       "      <td>4420</td>\n",
       "      <td>299.0</td>\n",
       "      <td>1.0</td>\n",
       "    </tr>\n",
       "    <tr>\n",
       "      <th>1027581</th>\n",
       "      <td>16.11.2013</td>\n",
       "      <td>10</td>\n",
       "      <td>28</td>\n",
       "      <td>10033</td>\n",
       "      <td>199.0</td>\n",
       "      <td>1.0</td>\n",
       "    </tr>\n",
       "    <tr>\n",
       "      <th>1027582</th>\n",
       "      <td>14.11.2013</td>\n",
       "      <td>10</td>\n",
       "      <td>28</td>\n",
       "      <td>10051</td>\n",
       "      <td>149.0</td>\n",
       "      <td>1.0</td>\n",
       "    </tr>\n",
       "    <tr>\n",
       "      <th>1027583</th>\n",
       "      <td>22.11.2013</td>\n",
       "      <td>10</td>\n",
       "      <td>28</td>\n",
       "      <td>10051</td>\n",
       "      <td>149.0</td>\n",
       "      <td>1.0</td>\n",
       "    </tr>\n",
       "    <tr>\n",
       "      <th>1027584</th>\n",
       "      <td>30.11.2013</td>\n",
       "      <td>10</td>\n",
       "      <td>28</td>\n",
       "      <td>10051</td>\n",
       "      <td>149.0</td>\n",
       "      <td>1.0</td>\n",
       "    </tr>\n",
       "    <tr>\n",
       "      <th>...</th>\n",
       "      <td>...</td>\n",
       "      <td>...</td>\n",
       "      <td>...</td>\n",
       "      <td>...</td>\n",
       "      <td>...</td>\n",
       "      <td>...</td>\n",
       "    </tr>\n",
       "    <tr>\n",
       "      <th>1124311</th>\n",
       "      <td>27.11.2013</td>\n",
       "      <td>10</td>\n",
       "      <td>50</td>\n",
       "      <td>3734</td>\n",
       "      <td>2599.0</td>\n",
       "      <td>1.0</td>\n",
       "    </tr>\n",
       "    <tr>\n",
       "      <th>1124312</th>\n",
       "      <td>29.11.2013</td>\n",
       "      <td>10</td>\n",
       "      <td>50</td>\n",
       "      <td>3734</td>\n",
       "      <td>2599.0</td>\n",
       "      <td>1.0</td>\n",
       "    </tr>\n",
       "    <tr>\n",
       "      <th>1124313</th>\n",
       "      <td>09.11.2013</td>\n",
       "      <td>10</td>\n",
       "      <td>50</td>\n",
       "      <td>3743</td>\n",
       "      <td>799.0</td>\n",
       "      <td>1.0</td>\n",
       "    </tr>\n",
       "    <tr>\n",
       "      <th>1124314</th>\n",
       "      <td>16.11.2013</td>\n",
       "      <td>10</td>\n",
       "      <td>50</td>\n",
       "      <td>3743</td>\n",
       "      <td>799.0</td>\n",
       "      <td>1.0</td>\n",
       "    </tr>\n",
       "    <tr>\n",
       "      <th>1124315</th>\n",
       "      <td>16.11.2013</td>\n",
       "      <td>10</td>\n",
       "      <td>50</td>\n",
       "      <td>3734</td>\n",
       "      <td>2599.0</td>\n",
       "      <td>2.0</td>\n",
       "    </tr>\n",
       "  </tbody>\n",
       "</table>\n",
       "<p>96736 rows × 6 columns</p>\n",
       "</div>"
      ],
      "text/plain": [
       "               date  date_block_num  shop_id  item_id  item_price   \n",
       "1027580  06.11.2013              10       43     4420       299.0  \\\n",
       "1027581  16.11.2013              10       28    10033       199.0   \n",
       "1027582  14.11.2013              10       28    10051       149.0   \n",
       "1027583  22.11.2013              10       28    10051       149.0   \n",
       "1027584  30.11.2013              10       28    10051       149.0   \n",
       "...             ...             ...      ...      ...         ...   \n",
       "1124311  27.11.2013              10       50     3734      2599.0   \n",
       "1124312  29.11.2013              10       50     3734      2599.0   \n",
       "1124313  09.11.2013              10       50     3743       799.0   \n",
       "1124314  16.11.2013              10       50     3743       799.0   \n",
       "1124315  16.11.2013              10       50     3734      2599.0   \n",
       "\n",
       "         item_cnt_day  \n",
       "1027580           1.0  \n",
       "1027581           1.0  \n",
       "1027582           1.0  \n",
       "1027583           1.0  \n",
       "1027584           1.0  \n",
       "...               ...  \n",
       "1124311           1.0  \n",
       "1124312           1.0  \n",
       "1124313           1.0  \n",
       "1124314           1.0  \n",
       "1124315           2.0  \n",
       "\n",
       "[96736 rows x 6 columns]"
      ]
     },
     "execution_count": 75,
     "metadata": {},
     "output_type": "execute_result"
    }
   ],
   "source": [
    "raw_files_di['sales_train'][raw_files_di['sales_train']['date_block_num'] == 10]"
   ]
  },
  {
   "attachments": {},
   "cell_type": "markdown",
   "metadata": {},
   "source": [
    "Some observations on data structure:\n",
    "\n",
    "- `shops` -- a mapping of shops names to an ordinal categorical feature shop_id\n",
    "- `item_categories` -- list of items' categories\n",
    "- `items` -- unique list of items in stock, already merged with item_categories\n",
    "- `sales_train` -- main table for training with IDs of shops, items and sales date. Additional columns are item price and date_block_num. \n",
    "    - `date_block_num` is grouping by data, i.e. each value marks observations recorded within 1 month only. \n",
    "    - `price` column is self explanatory.\n",
    "\n",
    "So it makes sense to add the items grouping ti the sales_train tale by joining the items table and explore the data in the merged table afterwards. Let's do that.\n"
   ]
  },
  {
   "attachments": {},
   "cell_type": "markdown",
   "metadata": {},
   "source": []
  }
 ],
 "metadata": {
  "kernelspec": {
   "display_name": "rl_in_ksp_new",
   "language": "python",
   "name": "rl_in_ksp_new"
  },
  "language_info": {
   "codemirror_mode": {
    "name": "ipython",
    "version": 3
   },
   "file_extension": ".py",
   "mimetype": "text/x-python",
   "name": "python",
   "nbconvert_exporter": "python",
   "pygments_lexer": "ipython3",
   "version": "3.9.6"
  },
  "orig_nbformat": 4
 },
 "nbformat": 4,
 "nbformat_minor": 2
}
